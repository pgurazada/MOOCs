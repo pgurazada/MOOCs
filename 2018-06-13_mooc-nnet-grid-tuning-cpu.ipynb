{
 "cells": [
  {
   "cell_type": "markdown",
   "metadata": {},
   "source": [
    "## Set global variables"
   ]
  },
  {
   "cell_type": "code",
   "execution_count": null,
   "metadata": {},
   "outputs": [],
   "source": [
    "course_metrics = {'course_name' : [],\n",
    "                  'val_binary_accuracy' : [],\n",
    "                  'test_accuracy' : [],\n",
    "                  'test_f1_score' : [] }"
   ]
  },
  {
   "cell_type": "code",
   "execution_count": 1,
   "metadata": {},
   "outputs": [],
   "source": [
    "import os"
   ]
  },
  {
   "cell_type": "code",
   "execution_count": 2,
   "metadata": {},
   "outputs": [],
   "source": [
    "CONSOLIDATED_DATA_DIR = 'processed/'\n",
    "COURSE_LIST = [d[0][10:] for d in os.walk(CONSOLIDATED_DATA_DIR)][1:]"
   ]
  },
  {
   "cell_type": "code",
   "execution_count": 3,
   "metadata": {},
   "outputs": [
    {
     "data": {
      "text/plain": [
       "['HarvardXCB22x2013_Spring',\n",
       " 'HarvardXCS50x2012',\n",
       " 'HarvardXER22x2013_Spring',\n",
       " 'HarvardXPH207x2012_Fall',\n",
       " 'HarvardXPH278x2013_Spring',\n",
       " 'MITx14.73x2013_Spring',\n",
       " 'MITx2.01x2013_Spring',\n",
       " 'MITx3.091x2012_Fall',\n",
       " 'MITx3.091x2013_Spring',\n",
       " 'MITx6.002x2012_Fall',\n",
       " 'MITx6.002x2013_Spring',\n",
       " 'MITx6.00x2012_Fall',\n",
       " 'MITx6.00x2013_Spring',\n",
       " 'MITx7.00x2013_Spring',\n",
       " 'MITx8.02x2013_Spring',\n",
       " 'MITx8.MReV2013_Summer']"
      ]
     },
     "execution_count": 3,
     "metadata": {},
     "output_type": "execute_result"
    }
   ],
   "source": [
    "COURSE_LIST"
   ]
  },
  {
   "cell_type": "code",
   "execution_count": 4,
   "metadata": {},
   "outputs": [],
   "source": [
    "DATA_DIR = 'processed-final/'"
   ]
  },
  {
   "cell_type": "markdown",
   "metadata": {
    "colab_type": "text",
    "id": "QzGWkLzTFSgb"
   },
   "source": [
    "## Design the feed-forward neural net"
   ]
  },
  {
   "cell_type": "code",
   "execution_count": 5,
   "metadata": {
    "colab": {},
    "colab_type": "code",
    "id": "xeQCD_c4KS3J"
   },
   "outputs": [
    {
     "name": "stderr",
     "output_type": "stream",
     "text": [
      "C:\\ProgramData\\Anaconda3\\lib\\site-packages\\h5py\\__init__.py:34: FutureWarning: Conversion of the second argument of issubdtype from `float` to `np.floating` is deprecated. In future, it will be treated as `np.float64 == np.dtype(float).type`.\n",
      "  from ._conv import register_converters as _register_converters\n"
     ]
    }
   ],
   "source": [
    "import pandas as pd\n",
    "import numpy as np\n",
    "import tensorflow as tf"
   ]
  },
  {
   "cell_type": "code",
   "execution_count": 6,
   "metadata": {},
   "outputs": [],
   "source": [
    "np.random.seed(20130810)\n",
    "tf.set_random_seed(20130810)"
   ]
  },
  {
   "cell_type": "code",
   "execution_count": 7,
   "metadata": {},
   "outputs": [],
   "source": [
    "import matplotlib.pyplot as plt\n",
    "import seaborn as sns"
   ]
  },
  {
   "cell_type": "code",
   "execution_count": 8,
   "metadata": {},
   "outputs": [],
   "source": [
    "%matplotlib inline\n",
    "sns.set_style('ticks', {'grid_color' : '0.9'})\n",
    "sns.set_context('talk', font_scale=1.2)\n",
    "sns.set_palette('gray')"
   ]
  },
  {
   "cell_type": "code",
   "execution_count": 9,
   "metadata": {
    "colab": {},
    "colab_type": "code",
    "id": "0z3e7riPFzwD"
   },
   "outputs": [
    {
     "name": "stderr",
     "output_type": "stream",
     "text": [
      "Using TensorFlow backend.\n"
     ]
    }
   ],
   "source": [
    "from keras.models import Sequential\n",
    "\n",
    "from keras.layers import Dense, Activation, Dropout\n",
    "\n",
    "from keras.losses import binary_crossentropy\n",
    "\n",
    "from keras.optimizers import Adam\n",
    "\n",
    "from keras.metrics import binary_accuracy\n",
    "\n",
    "from keras.callbacks import EarlyStopping, ReduceLROnPlateau\n",
    "\n",
    "from keras import backend as K"
   ]
  },
  {
   "cell_type": "code",
   "execution_count": 10,
   "metadata": {},
   "outputs": [],
   "source": [
    "from hyperopt import Trials, STATUS_OK, tpe\n",
    "from hyperas import optim\n",
    "from hyperas.distributions import choice, uniform"
   ]
  },
  {
   "cell_type": "code",
   "execution_count": null,
   "metadata": {},
   "outputs": [],
   "source": [
    "from keras.wrappers.scikit_learn import KerasClassifier"
   ]
  },
  {
   "cell_type": "code",
   "execution_count": null,
   "metadata": {
    "colab": {},
    "colab_type": "code",
    "id": "06_tmFnhOuzi"
   },
   "outputs": [],
   "source": [
    "from sklearn.metrics import accuracy_score, f1_score\n",
    "from sklearn.model_selection import RandomizedSearchCV"
   ]
  },
  {
   "cell_type": "code",
   "execution_count": null,
   "metadata": {
    "colab": {},
    "colab_type": "code",
    "id": "frNXrx_gHk0T"
   },
   "outputs": [],
   "source": [
    "def build(features_train, labels_train):\n",
    "    \n",
    "    model = Sequential()\n",
    "    \n",
    "    model.add(Dense({{choice([64, 32])}}, input_shape=(features_train.shape[1], )))\n",
    "    model.add(Activation('relu'))\n",
    "    \n",
    "    model.add(Dropout({{uniform(0, 1)}}))\n",
    "    \n",
    "    for nb_units in dense_layer_lst:\n",
    "        model.add(Dense(nb_units))\n",
    "        model.add(Activation('relu'))\n",
    "        model.add(Dropout(dpt_rate))\n",
    "        \n",
    "    model.add(Dense(nb_final_layer))\n",
    "    model.add(Activation('sigmoid'))\n",
    "    \n",
    "    model.compile(optimizer=Adam(lr=learning_rate),\n",
    "                  loss=binary_crossentropy,\n",
    "                  metrics=[binary_accuracy])\n",
    "    \n",
    "    return model"
   ]
  },
  {
   "cell_type": "code",
   "execution_count": null,
   "metadata": {
    "colab": {},
    "colab_type": "code",
    "id": "frNXrx_gHk0T"
   },
   "outputs": [],
   "source": [
    "def build(network_type=Sequential, \n",
    "          nb_initial_layer=64,\n",
    "          dense_layer_lst=[64],\n",
    "          nb_final_layer=1,\n",
    "          dpt_rate=0.2,\n",
    "          learning_rate=1e-4):\n",
    "    \n",
    "    model = network_type()\n",
    "    \n",
    "    model.add(Dense(nb_initial_layer, input_shape=(features_train.shape[1], )))\n",
    "    model.add(Activation('relu'))\n",
    "    \n",
    "    model.add(Dropout(dpt_rate))\n",
    "    \n",
    "    for nb_units in dense_layer_lst:\n",
    "        model.add(Dense(nb_units))\n",
    "        model.add(Activation('relu'))\n",
    "        model.add(Dropout(dpt_rate))\n",
    "        \n",
    "    model.add(Dense(nb_final_layer))\n",
    "    model.add(Activation('sigmoid'))\n",
    "    \n",
    "    model.compile(optimizer=Adam(lr=learning_rate),\n",
    "                  loss=binary_crossentropy,\n",
    "                  metrics=[binary_accuracy])\n",
    "    \n",
    "    return model"
   ]
  },
  {
   "cell_type": "code",
   "execution_count": null,
   "metadata": {},
   "outputs": [],
   "source": [
    "def plot_loss(fit_history, course_name):\n",
    "    epochs = range(1, len(fit_history['binary_accuracy'])+1)\n",
    "    \n",
    "    plt.figure(figsize=(12, 6))\n",
    "    \n",
    "    plt.plot(epochs, fit_history['loss'], '--', label='Training loss')\n",
    "    plt.plot(epochs, fit_history['val_loss'], '-', label='Validation loss')\n",
    "    \n",
    "    plt.title('Training and Validation loss for ' + course_name)\n",
    "    plt.xlabel('Epochs')\n",
    "    plt.ylabel('Loss')\n",
    "    plt.legend()\n",
    "    \n",
    "    plt.show()"
   ]
  },
  {
   "cell_type": "code",
   "execution_count": null,
   "metadata": {},
   "outputs": [],
   "source": [
    "def plot_accuracy(fit_history, course_name):\n",
    "    epochs = range(1, len(fit_history['binary_accuracy'])+1)\n",
    "    \n",
    "    plt.figure(figsize=(12, 6))\n",
    "    \n",
    "    plt.plot(epochs, fit_history['binary_accuracy'], '--', label='Training Accuracy')\n",
    "    plt.plot(epochs, fit_history['val_binary_accuracy'], '-', label='Validation Accuracy')\n",
    "    \n",
    "    plt.title('Training and Validation accuracy for ' + course_name)\n",
    "    plt.xlabel('Epochs')\n",
    "    plt.ylabel('Accuracy')\n",
    "    plt.legend()\n",
    "    \n",
    "    plt.show()"
   ]
  },
  {
   "cell_type": "code",
   "execution_count": null,
   "metadata": {},
   "outputs": [],
   "source": [
    "model = KerasClassifier(build_fn=build, batch_size=128, epochs=10)"
   ]
  },
  {
   "cell_type": "code",
   "execution_count": null,
   "metadata": {},
   "outputs": [],
   "source": [
    "pgrid = {'dpt_rate' : [0, 0.05, 0.1, 0.2],\n",
    "         'learning_rate' : [1e-2, 1e-3, 1e-4, 1e-5],\n",
    "         'batch_size' : [128],\n",
    "         'epochs' : [20, 50]}"
   ]
  },
  {
   "cell_type": "code",
   "execution_count": null,
   "metadata": {},
   "outputs": [],
   "source": [
    "grid = RandomizedSearchCV(estimator=model,\n",
    "                          param_distributions=pgrid, \n",
    "                          cv=2, \n",
    "                          n_iter=1, \n",
    "                          n_jobs=-1,\n",
    "                          verbose=2)"
   ]
  },
  {
   "cell_type": "code",
   "execution_count": null,
   "metadata": {},
   "outputs": [],
   "source": [
    "%%time\n",
    "tuning_results = grid.fit(features_train, labels_train)"
   ]
  },
  {
   "cell_type": "markdown",
   "metadata": {},
   "source": [
    "## Tune the network for each course"
   ]
  },
  {
   "cell_type": "markdown",
   "metadata": {},
   "source": [
    "### 1. CB22x - Ancient Greek Hero"
   ]
  },
  {
   "cell_type": "code",
   "execution_count": null,
   "metadata": {},
   "outputs": [],
   "source": [
    "course_idx = 0\n",
    "print(COURSE_LIST[course_idx])"
   ]
  },
  {
   "cell_type": "code",
   "execution_count": null,
   "metadata": {},
   "outputs": [],
   "source": [
    "course_loc = DATA_DIR + COURSE_LIST[course_idx]\n",
    "print(course_loc)"
   ]
  },
  {
   "cell_type": "code",
   "execution_count": null,
   "metadata": {},
   "outputs": [],
   "source": [
    "features_train = pd.read_feather(course_loc + '_features_train.feather').drop('index', axis=1)\n",
    "features_test = pd.read_feather(course_loc + '_features_test.feather').drop('index', axis=1)\n",
    "\n",
    "labels_train = pd.read_feather(course_loc + '_labels_train.feather').drop('index', axis=1)\n",
    "labels_test = pd.read_feather(course_loc + '_labels_test.feather').drop('index', axis=1)"
   ]
  },
  {
   "cell_type": "code",
   "execution_count": null,
   "metadata": {
    "colab": {},
    "colab_type": "code",
    "id": "9XO-dYsVKXxa"
   },
   "outputs": [],
   "source": [
    "features_train = np.array(features_train)\n",
    "features_test = np.array(features_test)\n",
    "\n",
    "labels_train = np.array(labels_train).ravel()\n",
    "labels_test = np.array(labels_test).ravel()"
   ]
  },
  {
   "cell_type": "code",
   "execution_count": null,
   "metadata": {
    "colab": {},
    "colab_type": "code",
    "id": "1KvXXicOKQs9"
   },
   "outputs": [],
   "source": [
    "features_train.shape"
   ]
  },
  {
   "cell_type": "code",
   "execution_count": null,
   "metadata": {
    "colab": {},
    "colab_type": "code",
    "id": "SDvj7aG0KvX7"
   },
   "outputs": [],
   "source": [
    "labels_train.shape"
   ]
  },
  {
   "cell_type": "code",
   "execution_count": null,
   "metadata": {
    "colab": {},
    "colab_type": "code",
    "id": "lKiJbUhQK7GJ"
   },
   "outputs": [],
   "source": [
    "K.clear_session()"
   ]
  },
  {
   "cell_type": "code",
   "execution_count": null,
   "metadata": {
    "colab": {},
    "colab_type": "code",
    "id": "sKSikRAPLDti"
   },
   "outputs": [],
   "source": [
    "model = build(nb_initial_layer=32, dense_layer_lst=[32, 32, 32], dpt_rate=0.2, learning_rate=1e-5)\n",
    "model.summary()"
   ]
  },
  {
   "cell_type": "code",
   "execution_count": null,
   "metadata": {
    "colab": {},
    "colab_type": "code",
    "id": "ip9GBn1KLGEM"
   },
   "outputs": [],
   "source": [
    "model_output = model.fit(features_train, labels_train,\n",
    "                         batch_size=128,\n",
    "                         epochs=50,\n",
    "                         validation_split=0.2,\n",
    "                         callbacks=[EarlyStopping(patience=4), \n",
    "                                    ReduceLROnPlateau(patience=4, min_lr=1e-6)])"
   ]
  },
  {
   "cell_type": "code",
   "execution_count": null,
   "metadata": {},
   "outputs": [],
   "source": [
    "plot_loss(model_output.history, COURSE_LIST[course_idx])"
   ]
  },
  {
   "cell_type": "code",
   "execution_count": null,
   "metadata": {},
   "outputs": [],
   "source": [
    "plot_accuracy(model_output.history, COURSE_LIST[course_idx])"
   ]
  },
  {
   "cell_type": "code",
   "execution_count": null,
   "metadata": {},
   "outputs": [],
   "source": [
    "course_metrics['course_name'].append(COURSE_LIST[course_idx])\n",
    "course_metrics['val_binary_accuracy'].append(model_output.history['val_binary_accuracy'][-1])\n",
    "course_metrics['test_accuracy'].append(accuracy_score(model.predict_classes(features_test), labels_test))\n",
    "course_metrics['test_f1_score'].append(f1_score(model.predict_classes(features_test), labels_test))"
   ]
  },
  {
   "cell_type": "markdown",
   "metadata": {
    "colab_type": "text",
    "id": "ANt42YvTLVMR"
   },
   "source": [
    "### 2. CS50x - Introduction to Computer Science I"
   ]
  },
  {
   "cell_type": "code",
   "execution_count": null,
   "metadata": {},
   "outputs": [],
   "source": [
    "course_idx = 1\n",
    "print(COURSE_LIST[course_idx])"
   ]
  },
  {
   "cell_type": "code",
   "execution_count": null,
   "metadata": {},
   "outputs": [],
   "source": [
    "course_loc = DATA_DIR + COURSE_LIST[course_idx]\n",
    "print(course_loc)"
   ]
  },
  {
   "cell_type": "code",
   "execution_count": null,
   "metadata": {},
   "outputs": [],
   "source": [
    "features_train = pd.read_feather(course_loc + '_features_train.feather').drop('index', axis=1)\n",
    "features_test = pd.read_feather(course_loc + '_features_test.feather').drop('index', axis=1)\n",
    "\n",
    "labels_train = pd.read_feather(course_loc + '_labels_train.feather').drop('index', axis=1)\n",
    "labels_test = pd.read_feather(course_loc + '_labels_test.feather').drop('index', axis=1)"
   ]
  },
  {
   "cell_type": "code",
   "execution_count": null,
   "metadata": {
    "colab": {},
    "colab_type": "code",
    "id": "9XO-dYsVKXxa"
   },
   "outputs": [],
   "source": [
    "features_train = np.array(features_train)\n",
    "features_test = np.array(features_test)\n",
    "\n",
    "labels_train = np.array(labels_train).ravel()\n",
    "labels_test = np.array(labels_test).ravel()"
   ]
  },
  {
   "cell_type": "code",
   "execution_count": null,
   "metadata": {
    "colab": {},
    "colab_type": "code",
    "id": "1KvXXicOKQs9"
   },
   "outputs": [],
   "source": [
    "features_train.shape"
   ]
  },
  {
   "cell_type": "code",
   "execution_count": null,
   "metadata": {
    "colab": {},
    "colab_type": "code",
    "id": "SDvj7aG0KvX7"
   },
   "outputs": [],
   "source": [
    "labels_train.shape"
   ]
  },
  {
   "cell_type": "code",
   "execution_count": null,
   "metadata": {
    "colab": {},
    "colab_type": "code",
    "id": "lKiJbUhQK7GJ"
   },
   "outputs": [],
   "source": [
    "K.clear_session()"
   ]
  },
  {
   "cell_type": "code",
   "execution_count": null,
   "metadata": {
    "colab": {},
    "colab_type": "code",
    "id": "sKSikRAPLDti"
   },
   "outputs": [],
   "source": [
    "model = build(nb_initial_layer=32, dense_layer_lst=[32, 32, 32], dpt_rate=0, learning_rate=1e-5)\n",
    "model.summary()"
   ]
  },
  {
   "cell_type": "code",
   "execution_count": null,
   "metadata": {
    "colab": {},
    "colab_type": "code",
    "id": "ip9GBn1KLGEM"
   },
   "outputs": [],
   "source": [
    "model_output = model.fit(features_train, labels_train,\n",
    "                         batch_size=128,\n",
    "                         epochs=100,\n",
    "                         validation_split=0.2,\n",
    "                         callbacks=[EarlyStopping(patience=4), \n",
    "                                    ReduceLROnPlateau(patience=4, min_lr=1e-6)])"
   ]
  },
  {
   "cell_type": "code",
   "execution_count": null,
   "metadata": {},
   "outputs": [],
   "source": [
    "course_metrics['course_name'].append(COURSE_LIST[course_idx])\n",
    "course_metrics['val_binary_accuracy'].append(model_output.history['val_binary_accuracy'][-1])\n",
    "course_metrics['test_accuracy'].append(accuracy_score(model.predict_classes(features_test), labels_test))\n",
    "course_metrics['test_f1_score'].append(f1_score(model.predict_classes(features_test), labels_test))"
   ]
  },
  {
   "cell_type": "markdown",
   "metadata": {},
   "source": [
    "### 3. ER22x - Justice"
   ]
  },
  {
   "cell_type": "code",
   "execution_count": null,
   "metadata": {},
   "outputs": [],
   "source": [
    "course_idx = 2\n",
    "print(COURSE_LIST[course_idx])"
   ]
  },
  {
   "cell_type": "code",
   "execution_count": null,
   "metadata": {},
   "outputs": [],
   "source": [
    "course_loc = DATA_DIR + COURSE_LIST[course_idx]\n",
    "print(course_loc)"
   ]
  },
  {
   "cell_type": "code",
   "execution_count": null,
   "metadata": {},
   "outputs": [],
   "source": [
    "features_train = pd.read_feather(course_loc + '_features_train.feather').drop('index', axis=1)\n",
    "features_test = pd.read_feather(course_loc + '_features_test.feather').drop('index', axis=1)\n",
    "\n",
    "labels_train = pd.read_feather(course_loc + '_labels_train.feather').drop('index', axis=1)\n",
    "labels_test = pd.read_feather(course_loc + '_labels_test.feather').drop('index', axis=1)"
   ]
  },
  {
   "cell_type": "code",
   "execution_count": null,
   "metadata": {
    "colab": {},
    "colab_type": "code",
    "id": "9XO-dYsVKXxa"
   },
   "outputs": [],
   "source": [
    "features_train = np.array(features_train)\n",
    "features_test = np.array(features_test)\n",
    "\n",
    "labels_train = np.array(labels_train).ravel()\n",
    "labels_test = np.array(labels_test).ravel()"
   ]
  },
  {
   "cell_type": "code",
   "execution_count": null,
   "metadata": {
    "colab": {},
    "colab_type": "code",
    "id": "1KvXXicOKQs9"
   },
   "outputs": [],
   "source": [
    "features_train.shape"
   ]
  },
  {
   "cell_type": "code",
   "execution_count": null,
   "metadata": {
    "colab": {},
    "colab_type": "code",
    "id": "SDvj7aG0KvX7"
   },
   "outputs": [],
   "source": [
    "labels_train.shape"
   ]
  },
  {
   "cell_type": "code",
   "execution_count": null,
   "metadata": {
    "colab": {},
    "colab_type": "code",
    "id": "lKiJbUhQK7GJ"
   },
   "outputs": [],
   "source": [
    "K.clear_session()"
   ]
  },
  {
   "cell_type": "code",
   "execution_count": null,
   "metadata": {
    "colab": {},
    "colab_type": "code",
    "id": "sKSikRAPLDti"
   },
   "outputs": [],
   "source": [
    "model = build(nb_initial_layer=32, dense_layer_lst=[32, 32, 32], dpt_rate=0.1, learning_rate=1e-5)\n",
    "model.summary()"
   ]
  },
  {
   "cell_type": "code",
   "execution_count": null,
   "metadata": {
    "colab": {},
    "colab_type": "code",
    "id": "ip9GBn1KLGEM"
   },
   "outputs": [],
   "source": [
    "model_output = model.fit(features_train, labels_train,\n",
    "                         batch_size=128,\n",
    "                         epochs=20,\n",
    "                         validation_split=0.2,\n",
    "                         callbacks=[EarlyStopping(patience=4), \n",
    "                                    ReduceLROnPlateau(patience=4, min_lr=1e-6)])"
   ]
  },
  {
   "cell_type": "code",
   "execution_count": null,
   "metadata": {},
   "outputs": [],
   "source": [
    "course_metrics['course_name'].append(COURSE_LIST[course_idx])\n",
    "course_metrics['val_binary_accuracy'].append(model_output.history['val_binary_accuracy'][-1])\n",
    "course_metrics['test_accuracy'].append(accuracy_score(model.predict_classes(features_test), labels_test))\n",
    "course_metrics['test_f1_score'].append(f1_score(model.predict_classes(features_test), labels_test))"
   ]
  },
  {
   "cell_type": "markdown",
   "metadata": {},
   "source": [
    "### 4. PH207x - Health in Numbers: Quantitative Methods in Clinical & Public Health Research"
   ]
  },
  {
   "cell_type": "code",
   "execution_count": null,
   "metadata": {},
   "outputs": [],
   "source": [
    "course_idx = 3\n",
    "print(COURSE_LIST[course_idx])"
   ]
  },
  {
   "cell_type": "code",
   "execution_count": null,
   "metadata": {},
   "outputs": [],
   "source": [
    "course_loc = DATA_DIR + COURSE_LIST[course_idx]\n",
    "print(course_loc)"
   ]
  },
  {
   "cell_type": "code",
   "execution_count": null,
   "metadata": {},
   "outputs": [],
   "source": [
    "features_train = pd.read_feather(course_loc + '_features_train.feather').drop('index', axis=1)\n",
    "features_test = pd.read_feather(course_loc + '_features_test.feather').drop('index', axis=1)\n",
    "\n",
    "labels_train = pd.read_feather(course_loc + '_labels_train.feather').drop('index', axis=1)\n",
    "labels_test = pd.read_feather(course_loc + '_labels_test.feather').drop('index', axis=1)"
   ]
  },
  {
   "cell_type": "code",
   "execution_count": null,
   "metadata": {
    "colab": {},
    "colab_type": "code",
    "id": "9XO-dYsVKXxa"
   },
   "outputs": [],
   "source": [
    "features_train = np.array(features_train)\n",
    "features_test = np.array(features_test)\n",
    "\n",
    "labels_train = np.array(labels_train).ravel()\n",
    "labels_test = np.array(labels_test).ravel()"
   ]
  },
  {
   "cell_type": "code",
   "execution_count": null,
   "metadata": {
    "colab": {},
    "colab_type": "code",
    "id": "1KvXXicOKQs9"
   },
   "outputs": [],
   "source": [
    "features_train.shape"
   ]
  },
  {
   "cell_type": "code",
   "execution_count": null,
   "metadata": {
    "colab": {},
    "colab_type": "code",
    "id": "SDvj7aG0KvX7"
   },
   "outputs": [],
   "source": [
    "labels_train.shape"
   ]
  },
  {
   "cell_type": "code",
   "execution_count": null,
   "metadata": {
    "colab": {},
    "colab_type": "code",
    "id": "lKiJbUhQK7GJ"
   },
   "outputs": [],
   "source": [
    "K.clear_session()"
   ]
  },
  {
   "cell_type": "code",
   "execution_count": null,
   "metadata": {
    "colab": {},
    "colab_type": "code",
    "id": "sKSikRAPLDti"
   },
   "outputs": [],
   "source": [
    "model = build(nb_initial_layer=64, dense_layer_lst=[32, 32, 32], dpt_rate=0.05, learning_rate=1e-2)\n",
    "model.summary()"
   ]
  },
  {
   "cell_type": "code",
   "execution_count": null,
   "metadata": {
    "colab": {},
    "colab_type": "code",
    "id": "ip9GBn1KLGEM"
   },
   "outputs": [],
   "source": [
    "model_output = model.fit(features_train, labels_train,\n",
    "                         batch_size=128,\n",
    "                         epochs=50,\n",
    "                         validation_split=0.2,\n",
    "                         callbacks=[EarlyStopping(patience=4), \n",
    "                                    ReduceLROnPlateau(patience=4, min_lr=1e-6)])"
   ]
  },
  {
   "cell_type": "code",
   "execution_count": null,
   "metadata": {},
   "outputs": [],
   "source": [
    "course_metrics['course_name'].append(COURSE_LIST[course_idx])\n",
    "course_metrics['val_binary_accuracy'].append(model_output.history['val_binary_accuracy'][-1])\n",
    "course_metrics['test_accuracy'].append(accuracy_score(model.predict_classes(features_test), labels_test))\n",
    "course_metrics['test_f1_score'].append(f1_score(model.predict_classes(features_test), labels_test))"
   ]
  },
  {
   "cell_type": "markdown",
   "metadata": {},
   "source": [
    "### 5. PH278x - Human Health and Global Environmental Change"
   ]
  },
  {
   "cell_type": "code",
   "execution_count": null,
   "metadata": {},
   "outputs": [],
   "source": [
    "course_idx = 4\n",
    "print(COURSE_LIST[course_idx])"
   ]
  },
  {
   "cell_type": "code",
   "execution_count": null,
   "metadata": {},
   "outputs": [],
   "source": [
    "course_loc = DATA_DIR + COURSE_LIST[course_idx]\n",
    "print(course_loc)"
   ]
  },
  {
   "cell_type": "code",
   "execution_count": null,
   "metadata": {},
   "outputs": [],
   "source": [
    "features_train = pd.read_feather(course_loc + '_features_train.feather').drop('index', axis=1)\n",
    "features_test = pd.read_feather(course_loc + '_features_test.feather').drop('index', axis=1)\n",
    "\n",
    "labels_train = pd.read_feather(course_loc + '_labels_train.feather').drop('index', axis=1)\n",
    "labels_test = pd.read_feather(course_loc + '_labels_test.feather').drop('index', axis=1)"
   ]
  },
  {
   "cell_type": "code",
   "execution_count": null,
   "metadata": {
    "colab": {},
    "colab_type": "code",
    "id": "9XO-dYsVKXxa"
   },
   "outputs": [],
   "source": [
    "features_train = np.array(features_train)\n",
    "features_test = np.array(features_test)\n",
    "\n",
    "labels_train = np.array(labels_train).ravel()\n",
    "labels_test = np.array(labels_test).ravel()"
   ]
  },
  {
   "cell_type": "code",
   "execution_count": null,
   "metadata": {
    "colab": {},
    "colab_type": "code",
    "id": "1KvXXicOKQs9"
   },
   "outputs": [],
   "source": [
    "features_train.shape"
   ]
  },
  {
   "cell_type": "code",
   "execution_count": null,
   "metadata": {
    "colab": {},
    "colab_type": "code",
    "id": "SDvj7aG0KvX7"
   },
   "outputs": [],
   "source": [
    "labels_train.shape"
   ]
  },
  {
   "cell_type": "code",
   "execution_count": null,
   "metadata": {
    "colab": {},
    "colab_type": "code",
    "id": "lKiJbUhQK7GJ"
   },
   "outputs": [],
   "source": [
    "K.clear_session()"
   ]
  },
  {
   "cell_type": "code",
   "execution_count": null,
   "metadata": {
    "colab": {},
    "colab_type": "code",
    "id": "sKSikRAPLDti"
   },
   "outputs": [],
   "source": [
    "model = build(nb_initial_layer=64, dense_layer_lst=[32, 32, 32], dpt_rate=0.05, learning_rate=1e-2)\n",
    "model.summary()"
   ]
  },
  {
   "cell_type": "code",
   "execution_count": null,
   "metadata": {
    "colab": {},
    "colab_type": "code",
    "id": "ip9GBn1KLGEM"
   },
   "outputs": [],
   "source": [
    "model_output = model.fit(features_train, labels_train,\n",
    "                         batch_size=128,\n",
    "                         epochs=50,\n",
    "                         validation_split=0.2,\n",
    "                         callbacks=[EarlyStopping(patience=4), \n",
    "                                    ReduceLROnPlateau(patience=4, min_lr=1e-6)])"
   ]
  },
  {
   "cell_type": "code",
   "execution_count": null,
   "metadata": {},
   "outputs": [],
   "source": [
    "course_metrics['course_name'].append(COURSE_LIST[course_idx])\n",
    "course_metrics['val_binary_accuracy'].append(model_output.history['val_binary_accuracy'][-1])\n",
    "course_metrics['test_accuracy'].append(accuracy_score(model.predict_classes(features_test), labels_test))\n",
    "course_metrics['test_f1_score'].append(f1_score(model.predict_classes(features_test), labels_test))"
   ]
  },
  {
   "cell_type": "markdown",
   "metadata": {},
   "source": [
    "### 6. MIT 14.73x - The Challenges of Global Poverty "
   ]
  },
  {
   "cell_type": "code",
   "execution_count": null,
   "metadata": {},
   "outputs": [],
   "source": [
    "course_idx = 5\n",
    "print(COURSE_LIST[course_idx])"
   ]
  },
  {
   "cell_type": "code",
   "execution_count": null,
   "metadata": {},
   "outputs": [],
   "source": [
    "course_loc = DATA_DIR + COURSE_LIST[course_idx]\n",
    "print(course_loc)"
   ]
  },
  {
   "cell_type": "code",
   "execution_count": null,
   "metadata": {},
   "outputs": [],
   "source": [
    "features_train = pd.read_feather(course_loc + '_features_train.feather').drop('index', axis=1)\n",
    "features_test = pd.read_feather(course_loc + '_features_test.feather').drop('index', axis=1)\n",
    "\n",
    "labels_train = pd.read_feather(course_loc + '_labels_train.feather').drop('index', axis=1)\n",
    "labels_test = pd.read_feather(course_loc + '_labels_test.feather').drop('index', axis=1)"
   ]
  },
  {
   "cell_type": "code",
   "execution_count": null,
   "metadata": {
    "colab": {},
    "colab_type": "code",
    "id": "9XO-dYsVKXxa"
   },
   "outputs": [],
   "source": [
    "features_train = np.array(features_train)\n",
    "features_test = np.array(features_test)\n",
    "\n",
    "labels_train = np.array(labels_train).ravel()\n",
    "labels_test = np.array(labels_test).ravel()"
   ]
  },
  {
   "cell_type": "code",
   "execution_count": null,
   "metadata": {
    "colab": {},
    "colab_type": "code",
    "id": "1KvXXicOKQs9"
   },
   "outputs": [],
   "source": [
    "features_train.shape"
   ]
  },
  {
   "cell_type": "code",
   "execution_count": null,
   "metadata": {
    "colab": {},
    "colab_type": "code",
    "id": "SDvj7aG0KvX7"
   },
   "outputs": [],
   "source": [
    "labels_train.shape"
   ]
  },
  {
   "cell_type": "code",
   "execution_count": null,
   "metadata": {
    "colab": {},
    "colab_type": "code",
    "id": "lKiJbUhQK7GJ"
   },
   "outputs": [],
   "source": [
    "K.clear_session()"
   ]
  },
  {
   "cell_type": "code",
   "execution_count": null,
   "metadata": {
    "colab": {},
    "colab_type": "code",
    "id": "sKSikRAPLDti"
   },
   "outputs": [],
   "source": [
    "model = build(nb_initial_layer=64, dense_layer_lst=[32, 32, 32], dpt_rate=0.05, learning_rate=1e-2)\n",
    "model.summary()"
   ]
  },
  {
   "cell_type": "code",
   "execution_count": null,
   "metadata": {
    "colab": {},
    "colab_type": "code",
    "id": "ip9GBn1KLGEM"
   },
   "outputs": [],
   "source": [
    "model_output = model.fit(features_train, labels_train,\n",
    "                         batch_size=128,\n",
    "                         epochs=50,\n",
    "                         validation_split=0.2,\n",
    "                         callbacks=[EarlyStopping(patience=4), \n",
    "                                    ReduceLROnPlateau(patience=4, min_lr=1e-6)])"
   ]
  },
  {
   "cell_type": "code",
   "execution_count": null,
   "metadata": {},
   "outputs": [],
   "source": [
    "course_metrics['course_name'].append(COURSE_LIST[course_idx])\n",
    "course_metrics['val_binary_accuracy'].append(model_output.history['val_binary_accuracy'][-1])\n",
    "course_metrics['test_accuracy'].append(accuracy_score(model.predict_classes(features_test), labels_test))\n",
    "course_metrics['test_f1_score'].append(f1_score(model.predict_classes(features_test), labels_test))"
   ]
  },
  {
   "cell_type": "markdown",
   "metadata": {},
   "source": [
    "### 7. MIT 2.01x - Elements of Structures"
   ]
  },
  {
   "cell_type": "code",
   "execution_count": null,
   "metadata": {},
   "outputs": [],
   "source": [
    "course_idx = 6\n",
    "print(COURSE_LIST[course_idx])"
   ]
  },
  {
   "cell_type": "code",
   "execution_count": null,
   "metadata": {},
   "outputs": [],
   "source": [
    "course_loc = DATA_DIR + COURSE_LIST[course_idx]\n",
    "print(course_loc)"
   ]
  },
  {
   "cell_type": "code",
   "execution_count": null,
   "metadata": {},
   "outputs": [],
   "source": [
    "features_train = pd.read_feather(course_loc + '_features_train.feather').drop('index', axis=1)\n",
    "features_test = pd.read_feather(course_loc + '_features_test.feather').drop('index', axis=1)\n",
    "\n",
    "labels_train = pd.read_feather(course_loc + '_labels_train.feather').drop('index', axis=1)\n",
    "labels_test = pd.read_feather(course_loc + '_labels_test.feather').drop('index', axis=1)"
   ]
  },
  {
   "cell_type": "code",
   "execution_count": null,
   "metadata": {
    "colab": {},
    "colab_type": "code",
    "id": "9XO-dYsVKXxa"
   },
   "outputs": [],
   "source": [
    "features_train = np.array(features_train)\n",
    "features_test = np.array(features_test)\n",
    "\n",
    "labels_train = np.array(labels_train).ravel()\n",
    "labels_test = np.array(labels_test).ravel()"
   ]
  },
  {
   "cell_type": "code",
   "execution_count": null,
   "metadata": {
    "colab": {},
    "colab_type": "code",
    "id": "1KvXXicOKQs9"
   },
   "outputs": [],
   "source": [
    "features_train.shape"
   ]
  },
  {
   "cell_type": "code",
   "execution_count": null,
   "metadata": {
    "colab": {},
    "colab_type": "code",
    "id": "SDvj7aG0KvX7"
   },
   "outputs": [],
   "source": [
    "labels_train.shape"
   ]
  },
  {
   "cell_type": "code",
   "execution_count": null,
   "metadata": {
    "colab": {},
    "colab_type": "code",
    "id": "lKiJbUhQK7GJ"
   },
   "outputs": [],
   "source": [
    "K.clear_session()"
   ]
  },
  {
   "cell_type": "code",
   "execution_count": null,
   "metadata": {
    "colab": {},
    "colab_type": "code",
    "id": "sKSikRAPLDti"
   },
   "outputs": [],
   "source": [
    "model = build(nb_initial_layer=64, dense_layer_lst=[32, 32, 32], dpt_rate=0.05, learning_rate=1e-2)\n",
    "model.summary()"
   ]
  },
  {
   "cell_type": "code",
   "execution_count": null,
   "metadata": {
    "colab": {},
    "colab_type": "code",
    "id": "ip9GBn1KLGEM"
   },
   "outputs": [],
   "source": [
    "model_output = model.fit(features_train, labels_train,\n",
    "                         batch_size=128,\n",
    "                         epochs=50,\n",
    "                         validation_split=0.2,\n",
    "                         callbacks=[EarlyStopping(patience=4), \n",
    "                                    ReduceLROnPlateau(patience=4, min_lr=1e-6)])"
   ]
  },
  {
   "cell_type": "code",
   "execution_count": null,
   "metadata": {},
   "outputs": [],
   "source": [
    "course_metrics['course_name'].append(COURSE_LIST[course_idx])\n",
    "course_metrics['val_binary_accuracy'].append(model_output.history['val_binary_accuracy'][-1])\n",
    "course_metrics['test_accuracy'].append(accuracy_score(model.predict_classes(features_test), labels_test))\n",
    "course_metrics['test_f1_score'].append(f1_score(model.predict_classes(features_test), labels_test))"
   ]
  },
  {
   "cell_type": "markdown",
   "metadata": {},
   "source": [
    "### 8. MIT 3.091x (Fall) - Introduction to Solid State Chemistry"
   ]
  },
  {
   "cell_type": "code",
   "execution_count": null,
   "metadata": {},
   "outputs": [],
   "source": [
    "course_idx = 7\n",
    "print(COURSE_LIST[course_idx])"
   ]
  },
  {
   "cell_type": "code",
   "execution_count": null,
   "metadata": {},
   "outputs": [],
   "source": [
    "course_loc = DATA_DIR + COURSE_LIST[course_idx]\n",
    "print(course_loc)"
   ]
  },
  {
   "cell_type": "code",
   "execution_count": null,
   "metadata": {},
   "outputs": [],
   "source": [
    "features_train = pd.read_feather(course_loc + '_features_train.feather').drop('index', axis=1)\n",
    "features_test = pd.read_feather(course_loc + '_features_test.feather').drop('index', axis=1)\n",
    "\n",
    "labels_train = pd.read_feather(course_loc + '_labels_train.feather').drop('index', axis=1)\n",
    "labels_test = pd.read_feather(course_loc + '_labels_test.feather').drop('index', axis=1)"
   ]
  },
  {
   "cell_type": "code",
   "execution_count": null,
   "metadata": {
    "colab": {},
    "colab_type": "code",
    "id": "9XO-dYsVKXxa"
   },
   "outputs": [],
   "source": [
    "features_train = np.array(features_train)\n",
    "features_test = np.array(features_test)\n",
    "\n",
    "labels_train = np.array(labels_train).ravel()\n",
    "labels_test = np.array(labels_test).ravel()"
   ]
  },
  {
   "cell_type": "code",
   "execution_count": null,
   "metadata": {
    "colab": {},
    "colab_type": "code",
    "id": "1KvXXicOKQs9"
   },
   "outputs": [],
   "source": [
    "features_train.shape"
   ]
  },
  {
   "cell_type": "code",
   "execution_count": null,
   "metadata": {
    "colab": {},
    "colab_type": "code",
    "id": "SDvj7aG0KvX7"
   },
   "outputs": [],
   "source": [
    "labels_train.shape"
   ]
  },
  {
   "cell_type": "code",
   "execution_count": null,
   "metadata": {
    "colab": {},
    "colab_type": "code",
    "id": "lKiJbUhQK7GJ"
   },
   "outputs": [],
   "source": [
    "K.clear_session()"
   ]
  },
  {
   "cell_type": "code",
   "execution_count": null,
   "metadata": {
    "colab": {},
    "colab_type": "code",
    "id": "sKSikRAPLDti"
   },
   "outputs": [],
   "source": [
    "model = build(nb_initial_layer=64, dense_layer_lst=[32, 32, 32], dpt_rate=0.05, learning_rate=1e-2)\n",
    "model.summary()"
   ]
  },
  {
   "cell_type": "code",
   "execution_count": null,
   "metadata": {
    "colab": {},
    "colab_type": "code",
    "id": "ip9GBn1KLGEM"
   },
   "outputs": [],
   "source": [
    "model_output = model.fit(features_train, labels_train,\n",
    "                         batch_size=128,\n",
    "                         epochs=50,\n",
    "                         validation_split=0.2,\n",
    "                         callbacks=[EarlyStopping(patience=4), \n",
    "                                    ReduceLROnPlateau(patience=4, min_lr=1e-6)])"
   ]
  },
  {
   "cell_type": "code",
   "execution_count": null,
   "metadata": {},
   "outputs": [],
   "source": [
    "course_metrics['course_name'].append(COURSE_LIST[course_idx])\n",
    "course_metrics['val_binary_accuracy'].append(model_output.history['val_binary_accuracy'][-1])\n",
    "course_metrics['test_accuracy'].append(accuracy_score(model.predict_classes(features_test), labels_test))\n",
    "course_metrics['test_f1_score'].append(f1_score(model.predict_classes(features_test), labels_test))"
   ]
  },
  {
   "cell_type": "markdown",
   "metadata": {},
   "source": [
    "### 9. MIT 3.091x (Spring) - Introduction to Solid State Chemistry "
   ]
  },
  {
   "cell_type": "code",
   "execution_count": null,
   "metadata": {},
   "outputs": [],
   "source": [
    "course_idx = 8\n",
    "print(COURSE_LIST[course_idx])"
   ]
  },
  {
   "cell_type": "code",
   "execution_count": null,
   "metadata": {},
   "outputs": [],
   "source": [
    "course_loc = DATA_DIR + COURSE_LIST[course_idx]\n",
    "print(course_loc)"
   ]
  },
  {
   "cell_type": "code",
   "execution_count": null,
   "metadata": {},
   "outputs": [],
   "source": [
    "features_train = pd.read_feather(course_loc + '_features_train.feather').drop('index', axis=1)\n",
    "features_test = pd.read_feather(course_loc + '_features_test.feather').drop('index', axis=1)\n",
    "\n",
    "labels_train = pd.read_feather(course_loc + '_labels_train.feather').drop('index', axis=1)\n",
    "labels_test = pd.read_feather(course_loc + '_labels_test.feather').drop('index', axis=1)"
   ]
  },
  {
   "cell_type": "code",
   "execution_count": null,
   "metadata": {
    "colab": {},
    "colab_type": "code",
    "id": "9XO-dYsVKXxa"
   },
   "outputs": [],
   "source": [
    "features_train = np.array(features_train)\n",
    "features_test = np.array(features_test)\n",
    "\n",
    "labels_train = np.array(labels_train).ravel()\n",
    "labels_test = np.array(labels_test).ravel()"
   ]
  },
  {
   "cell_type": "code",
   "execution_count": null,
   "metadata": {
    "colab": {},
    "colab_type": "code",
    "id": "1KvXXicOKQs9"
   },
   "outputs": [],
   "source": [
    "features_train.shape"
   ]
  },
  {
   "cell_type": "code",
   "execution_count": null,
   "metadata": {
    "colab": {},
    "colab_type": "code",
    "id": "SDvj7aG0KvX7"
   },
   "outputs": [],
   "source": [
    "labels_train.shape"
   ]
  },
  {
   "cell_type": "code",
   "execution_count": null,
   "metadata": {
    "colab": {},
    "colab_type": "code",
    "id": "lKiJbUhQK7GJ"
   },
   "outputs": [],
   "source": [
    "K.clear_session()"
   ]
  },
  {
   "cell_type": "code",
   "execution_count": null,
   "metadata": {
    "colab": {},
    "colab_type": "code",
    "id": "sKSikRAPLDti"
   },
   "outputs": [],
   "source": [
    "model = build(nb_initial_layer=64, dense_layer_lst=[32, 32, 32], dpt_rate=0.05, learning_rate=1e-2)\n",
    "model.summary()"
   ]
  },
  {
   "cell_type": "code",
   "execution_count": null,
   "metadata": {
    "colab": {},
    "colab_type": "code",
    "id": "ip9GBn1KLGEM"
   },
   "outputs": [],
   "source": [
    "model_output = model.fit(features_train, labels_train,\n",
    "                         batch_size=128,\n",
    "                         epochs=50,\n",
    "                         validation_split=0.2,\n",
    "                         callbacks=[EarlyStopping(patience=4), \n",
    "                                    ReduceLROnPlateau(patience=4, min_lr=1e-6)])"
   ]
  },
  {
   "cell_type": "code",
   "execution_count": null,
   "metadata": {},
   "outputs": [],
   "source": [
    "course_metrics['course_name'].append(COURSE_LIST[course_idx])\n",
    "course_metrics['val_binary_accuracy'].append(model_output.history['val_binary_accuracy'][-1])\n",
    "course_metrics['test_accuracy'].append(accuracy_score(model.predict_classes(features_test), labels_test))\n",
    "course_metrics['test_f1_score'].append(f1_score(model.predict_classes(features_test), labels_test))"
   ]
  },
  {
   "cell_type": "markdown",
   "metadata": {},
   "source": [
    "### 10. MIT 6.002x (Fall) - Circuits and Electronics"
   ]
  },
  {
   "cell_type": "code",
   "execution_count": null,
   "metadata": {},
   "outputs": [],
   "source": [
    "course_idx = 9\n",
    "print(COURSE_LIST[course_idx])"
   ]
  },
  {
   "cell_type": "code",
   "execution_count": null,
   "metadata": {},
   "outputs": [],
   "source": [
    "course_loc = DATA_DIR + COURSE_LIST[course_idx]\n",
    "print(course_loc)"
   ]
  },
  {
   "cell_type": "code",
   "execution_count": null,
   "metadata": {},
   "outputs": [],
   "source": [
    "features_train = pd.read_feather(course_loc + '_features_train.feather').drop('index', axis=1)\n",
    "features_test = pd.read_feather(course_loc + '_features_test.feather').drop('index', axis=1)\n",
    "\n",
    "labels_train = pd.read_feather(course_loc + '_labels_train.feather').drop('index', axis=1)\n",
    "labels_test = pd.read_feather(course_loc + '_labels_test.feather').drop('index', axis=1)"
   ]
  },
  {
   "cell_type": "code",
   "execution_count": null,
   "metadata": {
    "colab": {},
    "colab_type": "code",
    "id": "9XO-dYsVKXxa"
   },
   "outputs": [],
   "source": [
    "features_train = np.array(features_train)\n",
    "features_test = np.array(features_test)\n",
    "\n",
    "labels_train = np.array(labels_train).ravel()\n",
    "labels_test = np.array(labels_test).ravel()"
   ]
  },
  {
   "cell_type": "code",
   "execution_count": null,
   "metadata": {
    "colab": {},
    "colab_type": "code",
    "id": "1KvXXicOKQs9"
   },
   "outputs": [],
   "source": [
    "features_train.shape"
   ]
  },
  {
   "cell_type": "code",
   "execution_count": null,
   "metadata": {
    "colab": {},
    "colab_type": "code",
    "id": "SDvj7aG0KvX7"
   },
   "outputs": [],
   "source": [
    "labels_train.shape"
   ]
  },
  {
   "cell_type": "code",
   "execution_count": null,
   "metadata": {
    "colab": {},
    "colab_type": "code",
    "id": "lKiJbUhQK7GJ"
   },
   "outputs": [],
   "source": [
    "K.clear_session()"
   ]
  },
  {
   "cell_type": "code",
   "execution_count": null,
   "metadata": {
    "colab": {},
    "colab_type": "code",
    "id": "sKSikRAPLDti"
   },
   "outputs": [],
   "source": [
    "model = build(nb_initial_layer=64, dense_layer_lst=[32, 32, 32], dpt_rate=0.05, learning_rate=1e-2)\n",
    "model.summary()"
   ]
  },
  {
   "cell_type": "code",
   "execution_count": null,
   "metadata": {
    "colab": {},
    "colab_type": "code",
    "id": "ip9GBn1KLGEM"
   },
   "outputs": [],
   "source": [
    "model_output = model.fit(features_train, labels_train,\n",
    "                         batch_size=128,\n",
    "                         epochs=50,\n",
    "                         validation_split=0.2,\n",
    "                         callbacks=[EarlyStopping(patience=4), \n",
    "                                    ReduceLROnPlateau(patience=4, min_lr=1e-6)])"
   ]
  },
  {
   "cell_type": "code",
   "execution_count": null,
   "metadata": {},
   "outputs": [],
   "source": [
    "course_metrics['course_name'].append(COURSE_LIST[course_idx])\n",
    "course_metrics['val_binary_accuracy'].append(model_output.history['val_binary_accuracy'][-1])\n",
    "course_metrics['test_accuracy'].append(accuracy_score(model.predict_classes(features_test), labels_test))\n",
    "course_metrics['test_f1_score'].append(f1_score(model.predict_classes(features_test), labels_test))"
   ]
  },
  {
   "cell_type": "markdown",
   "metadata": {},
   "source": [
    "### 11. MIT 6.002x (Spring) - Circuits and Electronics"
   ]
  },
  {
   "cell_type": "code",
   "execution_count": null,
   "metadata": {},
   "outputs": [],
   "source": [
    "course_idx = 10\n",
    "print(COURSE_LIST[course_idx])"
   ]
  },
  {
   "cell_type": "code",
   "execution_count": null,
   "metadata": {},
   "outputs": [],
   "source": [
    "course_loc = DATA_DIR + COURSE_LIST[course_idx]\n",
    "print(course_loc)"
   ]
  },
  {
   "cell_type": "code",
   "execution_count": null,
   "metadata": {},
   "outputs": [],
   "source": [
    "features_train = pd.read_feather(course_loc + '_features_train.feather').drop('index', axis=1)\n",
    "features_test = pd.read_feather(course_loc + '_features_test.feather').drop('index', axis=1)\n",
    "\n",
    "labels_train = pd.read_feather(course_loc + '_labels_train.feather').drop('index', axis=1)\n",
    "labels_test = pd.read_feather(course_loc + '_labels_test.feather').drop('index', axis=1)"
   ]
  },
  {
   "cell_type": "code",
   "execution_count": null,
   "metadata": {
    "colab": {},
    "colab_type": "code",
    "id": "9XO-dYsVKXxa"
   },
   "outputs": [],
   "source": [
    "features_train = np.array(features_train)\n",
    "features_test = np.array(features_test)\n",
    "\n",
    "labels_train = np.array(labels_train).ravel()\n",
    "labels_test = np.array(labels_test).ravel()"
   ]
  },
  {
   "cell_type": "code",
   "execution_count": null,
   "metadata": {
    "colab": {},
    "colab_type": "code",
    "id": "1KvXXicOKQs9"
   },
   "outputs": [],
   "source": [
    "features_train.shape"
   ]
  },
  {
   "cell_type": "code",
   "execution_count": null,
   "metadata": {
    "colab": {},
    "colab_type": "code",
    "id": "SDvj7aG0KvX7"
   },
   "outputs": [],
   "source": [
    "labels_train.shape"
   ]
  },
  {
   "cell_type": "code",
   "execution_count": null,
   "metadata": {
    "colab": {},
    "colab_type": "code",
    "id": "lKiJbUhQK7GJ"
   },
   "outputs": [],
   "source": [
    "K.clear_session()"
   ]
  },
  {
   "cell_type": "code",
   "execution_count": null,
   "metadata": {
    "colab": {},
    "colab_type": "code",
    "id": "sKSikRAPLDti"
   },
   "outputs": [],
   "source": [
    "model = build(nb_initial_layer=64, dense_layer_lst=[32, 32, 32], dpt_rate=0.05, learning_rate=1e-2)\n",
    "model.summary()"
   ]
  },
  {
   "cell_type": "code",
   "execution_count": null,
   "metadata": {
    "colab": {},
    "colab_type": "code",
    "id": "ip9GBn1KLGEM"
   },
   "outputs": [],
   "source": [
    "model_output = model.fit(features_train, labels_train,\n",
    "                         batch_size=128,\n",
    "                         epochs=50,\n",
    "                         validation_split=0.2,\n",
    "                         callbacks=[EarlyStopping(patience=4), \n",
    "                                    ReduceLROnPlateau(patience=4, min_lr=1e-6)])"
   ]
  },
  {
   "cell_type": "code",
   "execution_count": null,
   "metadata": {},
   "outputs": [],
   "source": [
    "course_metrics['course_name'].append(COURSE_LIST[course_idx])\n",
    "course_metrics['val_binary_accuracy'].append(model_output.history['val_binary_accuracy'][-1])\n",
    "course_metrics['test_accuracy'].append(accuracy_score(model.predict_classes(features_test), labels_test))\n",
    "course_metrics['test_f1_score'].append(f1_score(model.predict_classes(features_test), labels_test))"
   ]
  },
  {
   "cell_type": "markdown",
   "metadata": {},
   "source": [
    "### 12. MIT 6.00x (Fall) - Introduction to Computer Science"
   ]
  },
  {
   "cell_type": "code",
   "execution_count": null,
   "metadata": {},
   "outputs": [],
   "source": [
    "course_idx = 11\n",
    "print(COURSE_LIST[course_idx])"
   ]
  },
  {
   "cell_type": "code",
   "execution_count": null,
   "metadata": {},
   "outputs": [],
   "source": [
    "course_loc = DATA_DIR + COURSE_LIST[course_idx]\n",
    "print(course_loc)"
   ]
  },
  {
   "cell_type": "code",
   "execution_count": null,
   "metadata": {},
   "outputs": [],
   "source": [
    "features_train = pd.read_feather(course_loc + '_features_train.feather').drop('index', axis=1)\n",
    "features_test = pd.read_feather(course_loc + '_features_test.feather').drop('index', axis=1)\n",
    "\n",
    "labels_train = pd.read_feather(course_loc + '_labels_train.feather').drop('index', axis=1)\n",
    "labels_test = pd.read_feather(course_loc + '_labels_test.feather').drop('index', axis=1)"
   ]
  },
  {
   "cell_type": "code",
   "execution_count": null,
   "metadata": {
    "colab": {},
    "colab_type": "code",
    "id": "9XO-dYsVKXxa"
   },
   "outputs": [],
   "source": [
    "features_train = np.array(features_train)\n",
    "features_test = np.array(features_test)\n",
    "\n",
    "labels_train = np.array(labels_train).ravel()\n",
    "labels_test = np.array(labels_test).ravel()"
   ]
  },
  {
   "cell_type": "code",
   "execution_count": null,
   "metadata": {
    "colab": {},
    "colab_type": "code",
    "id": "1KvXXicOKQs9"
   },
   "outputs": [],
   "source": [
    "features_train.shape"
   ]
  },
  {
   "cell_type": "code",
   "execution_count": null,
   "metadata": {
    "colab": {},
    "colab_type": "code",
    "id": "SDvj7aG0KvX7"
   },
   "outputs": [],
   "source": [
    "labels_train.shape"
   ]
  },
  {
   "cell_type": "code",
   "execution_count": null,
   "metadata": {
    "colab": {},
    "colab_type": "code",
    "id": "lKiJbUhQK7GJ"
   },
   "outputs": [],
   "source": [
    "K.clear_session()"
   ]
  },
  {
   "cell_type": "code",
   "execution_count": null,
   "metadata": {
    "colab": {},
    "colab_type": "code",
    "id": "sKSikRAPLDti"
   },
   "outputs": [],
   "source": [
    "model = build(nb_initial_layer=64, dense_layer_lst=[32, 32, 32], dpt_rate=0.05, learning_rate=1e-2)\n",
    "model.summary()"
   ]
  },
  {
   "cell_type": "code",
   "execution_count": null,
   "metadata": {
    "colab": {},
    "colab_type": "code",
    "id": "ip9GBn1KLGEM"
   },
   "outputs": [],
   "source": [
    "model_output = model.fit(features_train, labels_train,\n",
    "                         batch_size=128,\n",
    "                         epochs=50,\n",
    "                         validation_split=0.2,\n",
    "                         callbacks=[EarlyStopping(patience=4), \n",
    "                                    ReduceLROnPlateau(patience=4, min_lr=1e-6)])"
   ]
  },
  {
   "cell_type": "code",
   "execution_count": null,
   "metadata": {},
   "outputs": [],
   "source": [
    "course_metrics['course_name'].append(COURSE_LIST[course_idx])\n",
    "course_metrics['val_binary_accuracy'].append(model_output.history['val_binary_accuracy'][-1])\n",
    "course_metrics['test_accuracy'].append(accuracy_score(model.predict_classes(features_test), labels_test))\n",
    "course_metrics['test_f1_score'].append(f1_score(model.predict_classes(features_test), labels_test))"
   ]
  },
  {
   "cell_type": "markdown",
   "metadata": {},
   "source": [
    "### 13. MIT 6.00x (Spring) - Introduction to Computer Science"
   ]
  },
  {
   "cell_type": "code",
   "execution_count": null,
   "metadata": {},
   "outputs": [],
   "source": [
    "course_idx = 12\n",
    "print(COURSE_LIST[course_idx])"
   ]
  },
  {
   "cell_type": "code",
   "execution_count": null,
   "metadata": {},
   "outputs": [],
   "source": [
    "course_loc = DATA_DIR + COURSE_LIST[course_idx]\n",
    "print(course_loc)"
   ]
  },
  {
   "cell_type": "code",
   "execution_count": null,
   "metadata": {},
   "outputs": [],
   "source": [
    "features_train = pd.read_feather(course_loc + '_features_train.feather').drop('index', axis=1)\n",
    "features_test = pd.read_feather(course_loc + '_features_test.feather').drop('index', axis=1)\n",
    "\n",
    "labels_train = pd.read_feather(course_loc + '_labels_train.feather').drop('index', axis=1)\n",
    "labels_test = pd.read_feather(course_loc + '_labels_test.feather').drop('index', axis=1)"
   ]
  },
  {
   "cell_type": "code",
   "execution_count": null,
   "metadata": {
    "colab": {},
    "colab_type": "code",
    "id": "9XO-dYsVKXxa"
   },
   "outputs": [],
   "source": [
    "features_train = np.array(features_train)\n",
    "features_test = np.array(features_test)\n",
    "\n",
    "labels_train = np.array(labels_train).ravel()\n",
    "labels_test = np.array(labels_test).ravel()"
   ]
  },
  {
   "cell_type": "code",
   "execution_count": null,
   "metadata": {
    "colab": {},
    "colab_type": "code",
    "id": "1KvXXicOKQs9"
   },
   "outputs": [],
   "source": [
    "features_train.shape"
   ]
  },
  {
   "cell_type": "code",
   "execution_count": null,
   "metadata": {
    "colab": {},
    "colab_type": "code",
    "id": "SDvj7aG0KvX7"
   },
   "outputs": [],
   "source": [
    "labels_train.shape"
   ]
  },
  {
   "cell_type": "code",
   "execution_count": null,
   "metadata": {
    "colab": {},
    "colab_type": "code",
    "id": "lKiJbUhQK7GJ"
   },
   "outputs": [],
   "source": [
    "K.clear_session()"
   ]
  },
  {
   "cell_type": "code",
   "execution_count": null,
   "metadata": {
    "colab": {},
    "colab_type": "code",
    "id": "sKSikRAPLDti"
   },
   "outputs": [],
   "source": [
    "model = build(nb_initial_layer=64, dense_layer_lst=[32, 32, 32], dpt_rate=0.05, learning_rate=1e-2)\n",
    "model.summary()"
   ]
  },
  {
   "cell_type": "code",
   "execution_count": null,
   "metadata": {
    "colab": {},
    "colab_type": "code",
    "id": "ip9GBn1KLGEM"
   },
   "outputs": [],
   "source": [
    "model_output = model.fit(features_train, labels_train,\n",
    "                         batch_size=128,\n",
    "                         epochs=50,\n",
    "                         validation_split=0.2,\n",
    "                         callbacks=[EarlyStopping(patience=4), \n",
    "                                    ReduceLROnPlateau(patience=4, min_lr=1e-6)])"
   ]
  },
  {
   "cell_type": "code",
   "execution_count": null,
   "metadata": {},
   "outputs": [],
   "source": [
    "course_metrics['course_name'].append(COURSE_LIST[course_idx])\n",
    "course_metrics['val_binary_accuracy'].append(model_output.history['val_binary_accuracy'][-1])\n",
    "course_metrics['test_accuracy'].append(accuracy_score(model.predict_classes(features_test), labels_test))\n",
    "course_metrics['test_f1_score'].append(f1_score(model.predict_classes(features_test), labels_test))"
   ]
  },
  {
   "cell_type": "markdown",
   "metadata": {},
   "source": [
    "### 14. MIT 7.00x - Introduction to Biology - secret of life"
   ]
  },
  {
   "cell_type": "code",
   "execution_count": null,
   "metadata": {},
   "outputs": [],
   "source": [
    "course_idx = 13\n",
    "print(COURSE_LIST[course_idx])"
   ]
  },
  {
   "cell_type": "code",
   "execution_count": null,
   "metadata": {},
   "outputs": [],
   "source": [
    "course_loc = DATA_DIR + COURSE_LIST[course_idx]\n",
    "print(course_loc)"
   ]
  },
  {
   "cell_type": "code",
   "execution_count": null,
   "metadata": {},
   "outputs": [],
   "source": [
    "features_train = pd.read_feather(course_loc + '_features_train.feather').drop('index', axis=1)\n",
    "features_test = pd.read_feather(course_loc + '_features_test.feather').drop('index', axis=1)\n",
    "\n",
    "labels_train = pd.read_feather(course_loc + '_labels_train.feather').drop('index', axis=1)\n",
    "labels_test = pd.read_feather(course_loc + '_labels_test.feather').drop('index', axis=1)"
   ]
  },
  {
   "cell_type": "code",
   "execution_count": null,
   "metadata": {
    "colab": {},
    "colab_type": "code",
    "id": "9XO-dYsVKXxa"
   },
   "outputs": [],
   "source": [
    "features_train = np.array(features_train)\n",
    "features_test = np.array(features_test)\n",
    "\n",
    "labels_train = np.array(labels_train).ravel()\n",
    "labels_test = np.array(labels_test).ravel()"
   ]
  },
  {
   "cell_type": "code",
   "execution_count": null,
   "metadata": {
    "colab": {},
    "colab_type": "code",
    "id": "1KvXXicOKQs9"
   },
   "outputs": [],
   "source": [
    "features_train.shape"
   ]
  },
  {
   "cell_type": "code",
   "execution_count": null,
   "metadata": {
    "colab": {},
    "colab_type": "code",
    "id": "SDvj7aG0KvX7"
   },
   "outputs": [],
   "source": [
    "labels_train.shape"
   ]
  },
  {
   "cell_type": "code",
   "execution_count": null,
   "metadata": {
    "colab": {},
    "colab_type": "code",
    "id": "lKiJbUhQK7GJ"
   },
   "outputs": [],
   "source": [
    "K.clear_session()"
   ]
  },
  {
   "cell_type": "code",
   "execution_count": null,
   "metadata": {
    "colab": {},
    "colab_type": "code",
    "id": "sKSikRAPLDti"
   },
   "outputs": [],
   "source": [
    "model = build(nb_initial_layer=64, dense_layer_lst=[32, 32, 32], dpt_rate=0.05, learning_rate=1e-2)\n",
    "model.summary()"
   ]
  },
  {
   "cell_type": "code",
   "execution_count": null,
   "metadata": {
    "colab": {},
    "colab_type": "code",
    "id": "ip9GBn1KLGEM"
   },
   "outputs": [],
   "source": [
    "model_output = model.fit(features_train, labels_train,\n",
    "                         batch_size=128,\n",
    "                         epochs=50,\n",
    "                         validation_split=0.2,\n",
    "                         callbacks=[EarlyStopping(patience=4), \n",
    "                                    ReduceLROnPlateau(patience=4, min_lr=1e-6)])"
   ]
  },
  {
   "cell_type": "code",
   "execution_count": null,
   "metadata": {},
   "outputs": [],
   "source": [
    "course_metrics['course_name'].append(COURSE_LIST[course_idx])\n",
    "course_metrics['val_binary_accuracy'].append(model_output.history['val_binary_accuracy'][-1])\n",
    "course_metrics['test_accuracy'].append(accuracy_score(model.predict_classes(features_test), labels_test))\n",
    "course_metrics['test_f1_score'].append(f1_score(model.predict_classes(features_test), labels_test))"
   ]
  },
  {
   "cell_type": "markdown",
   "metadata": {},
   "source": [
    "### 15. MIT 8.02x - Electricity and Magnetism"
   ]
  },
  {
   "cell_type": "code",
   "execution_count": null,
   "metadata": {},
   "outputs": [],
   "source": [
    "course_idx = 14\n",
    "print(COURSE_LIST[course_idx])"
   ]
  },
  {
   "cell_type": "code",
   "execution_count": null,
   "metadata": {},
   "outputs": [],
   "source": [
    "course_loc = DATA_DIR + COURSE_LIST[course_idx]\n",
    "print(course_loc)"
   ]
  },
  {
   "cell_type": "code",
   "execution_count": null,
   "metadata": {},
   "outputs": [],
   "source": [
    "features_train = pd.read_feather(course_loc + '_features_train.feather').drop('index', axis=1)\n",
    "features_test = pd.read_feather(course_loc + '_features_test.feather').drop('index', axis=1)\n",
    "\n",
    "labels_train = pd.read_feather(course_loc + '_labels_train.feather').drop('index', axis=1)\n",
    "labels_test = pd.read_feather(course_loc + '_labels_test.feather').drop('index', axis=1)"
   ]
  },
  {
   "cell_type": "code",
   "execution_count": null,
   "metadata": {
    "colab": {},
    "colab_type": "code",
    "id": "9XO-dYsVKXxa"
   },
   "outputs": [],
   "source": [
    "features_train = np.array(features_train)\n",
    "features_test = np.array(features_test)\n",
    "\n",
    "labels_train = np.array(labels_train).ravel()\n",
    "labels_test = np.array(labels_test).ravel()"
   ]
  },
  {
   "cell_type": "code",
   "execution_count": null,
   "metadata": {
    "colab": {},
    "colab_type": "code",
    "id": "1KvXXicOKQs9"
   },
   "outputs": [],
   "source": [
    "features_train.shape"
   ]
  },
  {
   "cell_type": "code",
   "execution_count": null,
   "metadata": {
    "colab": {},
    "colab_type": "code",
    "id": "SDvj7aG0KvX7"
   },
   "outputs": [],
   "source": [
    "labels_train.shape"
   ]
  },
  {
   "cell_type": "code",
   "execution_count": null,
   "metadata": {
    "colab": {},
    "colab_type": "code",
    "id": "lKiJbUhQK7GJ"
   },
   "outputs": [],
   "source": [
    "K.clear_session()"
   ]
  },
  {
   "cell_type": "code",
   "execution_count": null,
   "metadata": {
    "colab": {},
    "colab_type": "code",
    "id": "sKSikRAPLDti"
   },
   "outputs": [],
   "source": [
    "model = build(nb_initial_layer=64, dense_layer_lst=[32, 32, 32], dpt_rate=0.05, learning_rate=1e-2)\n",
    "model.summary()"
   ]
  },
  {
   "cell_type": "code",
   "execution_count": null,
   "metadata": {
    "colab": {},
    "colab_type": "code",
    "id": "ip9GBn1KLGEM"
   },
   "outputs": [],
   "source": [
    "model_output = model.fit(features_train, labels_train,\n",
    "                         batch_size=128,\n",
    "                         epochs=50,\n",
    "                         validation_split=0.2,\n",
    "                         callbacks=[EarlyStopping(patience=4), \n",
    "                                    ReduceLROnPlateau(patience=4, min_lr=1e-6)])"
   ]
  },
  {
   "cell_type": "code",
   "execution_count": null,
   "metadata": {},
   "outputs": [],
   "source": [
    "course_metrics['course_name'].append(COURSE_LIST[course_idx])\n",
    "course_metrics['val_binary_accuracy'].append(model_output.history['val_binary_accuracy'][-1])\n",
    "course_metrics['test_accuracy'].append(accuracy_score(model.predict_classes(features_test), labels_test))\n",
    "course_metrics['test_f1_score'].append(f1_score(model.predict_classes(features_test), labels_test))"
   ]
  },
  {
   "cell_type": "markdown",
   "metadata": {},
   "source": [
    "### 16. MIT 8.MReV - Mechanics Review"
   ]
  },
  {
   "cell_type": "code",
   "execution_count": null,
   "metadata": {},
   "outputs": [],
   "source": [
    "course_idx = 15\n",
    "print(COURSE_LIST[course_idx])"
   ]
  },
  {
   "cell_type": "code",
   "execution_count": null,
   "metadata": {},
   "outputs": [],
   "source": [
    "course_loc = DATA_DIR + COURSE_LIST[course_idx]\n",
    "print(course_loc)"
   ]
  },
  {
   "cell_type": "code",
   "execution_count": null,
   "metadata": {},
   "outputs": [],
   "source": [
    "features_train = pd.read_feather(course_loc + '_features_train.feather').drop('index', axis=1)\n",
    "features_test = pd.read_feather(course_loc + '_features_test.feather').drop('index', axis=1)\n",
    "\n",
    "labels_train = pd.read_feather(course_loc + '_labels_train.feather').drop('index', axis=1)\n",
    "labels_test = pd.read_feather(course_loc + '_labels_test.feather').drop('index', axis=1)"
   ]
  },
  {
   "cell_type": "code",
   "execution_count": null,
   "metadata": {
    "colab": {},
    "colab_type": "code",
    "id": "9XO-dYsVKXxa"
   },
   "outputs": [],
   "source": [
    "features_train = np.array(features_train)\n",
    "features_test = np.array(features_test)\n",
    "\n",
    "labels_train = np.array(labels_train).ravel()\n",
    "labels_test = np.array(labels_test).ravel()"
   ]
  },
  {
   "cell_type": "code",
   "execution_count": null,
   "metadata": {
    "colab": {},
    "colab_type": "code",
    "id": "1KvXXicOKQs9"
   },
   "outputs": [],
   "source": [
    "features_train.shape"
   ]
  },
  {
   "cell_type": "code",
   "execution_count": null,
   "metadata": {
    "colab": {},
    "colab_type": "code",
    "id": "SDvj7aG0KvX7"
   },
   "outputs": [],
   "source": [
    "labels_train.shape"
   ]
  },
  {
   "cell_type": "code",
   "execution_count": null,
   "metadata": {
    "colab": {},
    "colab_type": "code",
    "id": "lKiJbUhQK7GJ"
   },
   "outputs": [],
   "source": [
    "K.clear_session()"
   ]
  },
  {
   "cell_type": "code",
   "execution_count": null,
   "metadata": {
    "colab": {},
    "colab_type": "code",
    "id": "sKSikRAPLDti"
   },
   "outputs": [],
   "source": [
    "model = build(nb_initial_layer=64, dense_layer_lst=[32, 32, 32], dpt_rate=0.05, learning_rate=1e-2)\n",
    "model.summary()"
   ]
  },
  {
   "cell_type": "code",
   "execution_count": null,
   "metadata": {
    "colab": {},
    "colab_type": "code",
    "id": "ip9GBn1KLGEM"
   },
   "outputs": [],
   "source": [
    "model_output = model.fit(features_train, labels_train,\n",
    "                         batch_size=128,\n",
    "                         epochs=50,\n",
    "                         validation_split=0.2,\n",
    "                         callbacks=[EarlyStopping(patience=4), \n",
    "                                    ReduceLROnPlateau(patience=4, min_lr=1e-6)])"
   ]
  },
  {
   "cell_type": "code",
   "execution_count": null,
   "metadata": {},
   "outputs": [],
   "source": [
    "course_metrics['course_name'].append(COURSE_LIST[course_idx])\n",
    "course_metrics['val_binary_accuracy'].append(model_output.history['val_binary_accuracy'][-1])\n",
    "course_metrics['test_accuracy'].append(accuracy_score(model.predict_classes(features_test), labels_test))\n",
    "course_metrics['test_f1_score'].append(f1_score(model.predict_classes(features_test), labels_test))"
   ]
  }
 ],
 "metadata": {
  "accelerator": "GPU",
  "colab": {
   "collapsed_sections": [],
   "name": "2018-06-13_mooc-analysis.ipynb",
   "private_outputs": true,
   "provenance": [],
   "version": "0.3.2"
  },
  "kernelspec": {
   "display_name": "Python 3",
   "language": "python",
   "name": "python3"
  },
  "language_info": {
   "codemirror_mode": {
    "name": "ipython",
    "version": 3
   },
   "file_extension": ".py",
   "mimetype": "text/x-python",
   "name": "python",
   "nbconvert_exporter": "python",
   "pygments_lexer": "ipython3",
   "version": "3.6.5"
  }
 },
 "nbformat": 4,
 "nbformat_minor": 1
}
