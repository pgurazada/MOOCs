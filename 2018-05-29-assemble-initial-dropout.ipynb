{
 "cells": [
  {
   "cell_type": "code",
   "execution_count": 2,
   "metadata": {},
   "outputs": [],
   "source": [
    "import pandas as pd\n",
    "import numpy as np"
   ]
  },
  {
   "cell_type": "code",
   "execution_count": 3,
   "metadata": {},
   "outputs": [],
   "source": [
    "import matplotlib.pyplot as plt \n",
    "import seaborn as sns\n",
    "\n",
    "sns.set_style('ticks')\n",
    "plt.grid(False)"
   ]
  },
  {
   "cell_type": "code",
   "execution_count": 4,
   "metadata": {},
   "outputs": [],
   "source": [
    "mooc_df = pd.read_csv('data/HMXPC13_DI_v2_5-14-14.csv')"
   ]
  },
  {
   "cell_type": "code",
   "execution_count": 5,
   "metadata": {},
   "outputs": [
    {
     "data": {
      "text/plain": [
       "Index(['course_id', 'userid_DI', 'registered', 'viewed', 'explored',\n",
       "       'certified', 'final_cc_cname_DI', 'LoE_DI', 'YoB', 'gender', 'grade',\n",
       "       'start_time_DI', 'last_event_DI', 'nevents', 'ndays_act', 'nplay_video',\n",
       "       'nchapters', 'nforum_posts', 'roles', 'incomplete_flag'],\n",
       "      dtype='object')"
      ]
     },
     "execution_count": 5,
     "metadata": {},
     "output_type": "execute_result"
    }
   ],
   "source": [
    "mooc_df.columns"
   ]
  },
  {
   "cell_type": "code",
   "execution_count": 6,
   "metadata": {},
   "outputs": [
    {
     "data": {
      "text/plain": [
       "(641138, 20)"
      ]
     },
     "execution_count": 6,
     "metadata": {},
     "output_type": "execute_result"
    }
   ],
   "source": [
    "mooc_df.shape"
   ]
  },
  {
   "cell_type": "code",
   "execution_count": 7,
   "metadata": {},
   "outputs": [
    {
     "data": {
      "text/plain": [
       "course_id                 0\n",
       "userid_DI                 0\n",
       "registered                0\n",
       "viewed                    0\n",
       "explored                  0\n",
       "certified                 0\n",
       "final_cc_cname_DI         0\n",
       "LoE_DI               106008\n",
       "YoB                   96605\n",
       "gender                86806\n",
       "grade                 48372\n",
       "start_time_DI             0\n",
       "last_event_DI        178954\n",
       "nevents              199151\n",
       "ndays_act            162743\n",
       "nplay_video          457530\n",
       "nchapters            258753\n",
       "nforum_posts              0\n",
       "roles                641138\n",
       "incomplete_flag      540977\n",
       "dtype: int64"
      ]
     },
     "execution_count": 7,
     "metadata": {},
     "output_type": "execute_result"
    }
   ],
   "source": [
    "mooc_df.isnull().sum()"
   ]
  },
  {
   "cell_type": "code",
   "execution_count": null,
   "metadata": {},
   "outputs": [],
   "source": [
    "course = mooc_df['course_id'] == 'HarvardX/CB22x/2013_Spring'\n",
    "cb22x_df = mooc_df[course]"
   ]
  },
  {
   "cell_type": "markdown",
   "metadata": {},
   "source": [
    "This workbook is concerned with assembling data to analyze initial dropout. So, we define a set of global variables"
   ]
  },
  {
   "cell_type": "code",
   "execution_count": 14,
   "metadata": {},
   "outputs": [],
   "source": [
    "VARS_FOR_ANALYSIS = ['registered', 'viewed', 'explored', 'certified', 'gender', 'LoE_DI', \\\n",
    "                     'YoB', 'final_cc_cname_DI', 'start_time_DI']\n",
    "\n",
    "COURSE_START_DATES = {'HarvardX/CS50x/2012' : pd.to_datetime('2012-10-15'),\n",
    "                      'HarvardX/CB22x/2013_Spring' : pd.to_datetime('2013-03-13'),\n",
    "                      'HarvardX/ER22x/2013_Spring' : pd.to_datetime('2013-03-02'),\n",
    "                      'HarvardX/PH207x/2012_Fall' : pd.to_datetime('2012-10-15'),\n",
    "                      'HarvardX/PH278x/2013_Spring' : pd.to_datetime('2013-05-15'),\n",
    "                      'MITx/14.73x/2013_Spring' : pd.to_datetime('2013-02-12'),\n",
    "                      'MITx/2.01x/2013_Spring' : pd.to_datetime('2013-04-15'),\n",
    "                      'MITx/6.002x/2012_Fall' : pd.to_datetime('2012-09-05'),\n",
    "                      'MITx/6.002x/2013_Spring' : pd.to_datetime('2013-03-03'),\n",
    "                      'MITx/3.091x/2012_Fall' : pd.to_datetime('2012-10-09'),\n",
    "                      'MITx/3.091x/2013_Spring' : pd.to_datetime('2013-02-05'),\n",
    "                      'MITx/6.00x/2012_Fall' : pd.to_datetime('2012-09-06'),\n",
    "                      'MITx/6.00x/2013_Spring' : pd.to_datetime('2013-02-04'),\n",
    "                      'MITx/7.00x/2013_Spring' : pd.to_datetime('2013-03-05'),\n",
    "                      'MITx/8.02x/2013_Spring' : pd.to_datetime('2013-02-18'),\n",
    "                      'MITx/8.MReV/2013_Summer' : pd.to_datetime('2013-06-01')}"
   ]
  },
  {
   "cell_type": "code",
   "execution_count": 15,
   "metadata": {},
   "outputs": [
    {
     "data": {
      "text/plain": [
       "True"
      ]
     },
     "execution_count": 15,
     "metadata": {},
     "output_type": "execute_result"
    }
   ],
   "source": [
    "len(mooc_df.course_id.unique()) == len(COURSE_START_DATES.keys())"
   ]
  },
  {
   "cell_type": "code",
   "execution_count": null,
   "metadata": {},
   "outputs": [],
   "source": [
    "cb22x_df = cb22x_df[VARS_FOR_ANALYSIS]"
   ]
  },
  {
   "cell_type": "code",
   "execution_count": null,
   "metadata": {},
   "outputs": [],
   "source": [
    "cb22x_df.columns"
   ]
  },
  {
   "cell_type": "markdown",
   "metadata": {},
   "source": [
    "Now, we define several helper functions to munge the data into required shape"
   ]
  },
  {
   "cell_type": "code",
   "execution_count": null,
   "metadata": {},
   "outputs": [],
   "source": [
    "def bin_engaged(row):\n",
    "    if row['viewed'] == 1 or row['explored'] == 1 or row['certified'] == 1:\n",
    "        return 1\n",
    "    else:\n",
    "        return 0"
   ]
  },
  {
   "cell_type": "code",
   "execution_count": null,
   "metadata": {},
   "outputs": [],
   "source": [
    "def joined_early_by(join_date_offset):\n",
    "    if join_date_offset < pd.Timedelta(0):\n",
    "        return -join_date_offset.days\n",
    "    else:\n",
    "        return 0"
   ]
  },
  {
   "cell_type": "code",
   "execution_count": null,
   "metadata": {},
   "outputs": [],
   "source": [
    "def joined_late_by(join_date_offset):\n",
    "    if join_date_offset > pd.Timedelta(0):\n",
    "        return join_date_offset.days\n",
    "    else:\n",
    "        return 0"
   ]
  },
  {
   "cell_type": "code",
   "execution_count": null,
   "metadata": {},
   "outputs": [],
   "source": [
    "def bin_country(country_name):\n",
    "    if country_name == \"United States\":\n",
    "        return 'US'\n",
    "    elif country_name in [\"India\", \"Pakistan\", \"Bangladesh\", \"China\", \"Indonesia\", \"Japan\", \"Other East Asia\", \\\n",
    "                          \"Other Middle East/Central Asia\", \"Other South Asia\", \"Philippines\", \"Egypt\"]: \n",
    "        return 'AS'\n",
    "    elif country_name in [\"France\", \"Germany\", \"Greece\", \"Other Europe\", \"Poland\", \"Portugal\", \"Russian Federation\", \\\n",
    "                          \"Spain\", \"Ukraine\", \"United Kingdom\"]:\n",
    "        return 'EU'\n",
    "    elif country_name in [\"Morocco\", \"Nigeria\", \"Other Africa\"]:\n",
    "        return 'AF'\n",
    "    else:\n",
    "        return 'OT'"
   ]
  },
  {
   "cell_type": "code",
   "execution_count": null,
   "metadata": {},
   "outputs": [],
   "source": [
    "def bin_education(LoE_DI):\n",
    "    if LoE_DI == \"Less than Secondary\":\n",
    "        return 'LS'\n",
    "    elif LoE_DI == \"Secondary\":\n",
    "        return 'SE'\n",
    "    elif LoE_DI == \"Bachelor's\":\n",
    "        return 'BA'\n",
    "    elif LoE_DI == \"Master's\":\n",
    "        return 'MA'\n",
    "    else:\n",
    "        return 'DO'"
   ]
  },
  {
   "cell_type": "code",
   "execution_count": null,
   "metadata": {},
   "outputs": [],
   "source": [
    "cb22x_df['join_date_offset'] = cb22x_df.start_time_DI.apply(pd.to_datetime) - \\\n",
    "                               COURSE_START_DATES['HarvardX/CB22x/2013_Spring']"
   ]
  },
  {
   "cell_type": "code",
   "execution_count": null,
   "metadata": {},
   "outputs": [],
   "source": [
    "cb22x_df = cb22x_df.assign(engaged = cb22x_df.apply(bin_engaged, axis=1),\n",
    "                           joined_early_by = cb22x_df.join_date_offset.apply(joined_early_by),\n",
    "                           joined_late_by = cb22x_df.join_date_offset.apply(joined_late_by),\n",
    "                           age = cb22x_df.YoB.apply(lambda x: 2013 - x),\n",
    "                           country = cb22x_df.final_cc_cname_DI.apply(bin_country),\n",
    "                           education = cb22x_df.LoE_DI.apply(bin_education))"
   ]
  },
  {
   "cell_type": "code",
   "execution_count": null,
   "metadata": {},
   "outputs": [],
   "source": [
    "cb22x_df = cb22x_df.drop(['registered', 'viewed', 'explored', 'certified', 'LoE_DI', 'YoB', \\\n",
    "                          'final_cc_cname_DI', 'start_time_DI', 'join_date_offset'], axis=1)"
   ]
  },
  {
   "cell_type": "code",
   "execution_count": null,
   "metadata": {},
   "outputs": [],
   "source": [
    "cb22x_df.head()"
   ]
  },
  {
   "cell_type": "code",
   "execution_count": null,
   "metadata": {},
   "outputs": [],
   "source": [
    "cb22x_df.info()"
   ]
  },
  {
   "cell_type": "code",
   "execution_count": null,
   "metadata": {},
   "outputs": [],
   "source": [
    "cb22x_df_final = pd.get_dummies(cb22x_df, dummy_na=True)"
   ]
  },
  {
   "cell_type": "code",
   "execution_count": null,
   "metadata": {},
   "outputs": [],
   "source": [
    "cb22x_df_final.info()"
   ]
  }
 ],
 "metadata": {
  "kernelspec": {
   "display_name": "Python 3",
   "language": "python",
   "name": "python3"
  },
  "language_info": {
   "codemirror_mode": {
    "name": "ipython",
    "version": 3
   },
   "file_extension": ".py",
   "mimetype": "text/x-python",
   "name": "python",
   "nbconvert_exporter": "python",
   "pygments_lexer": "ipython3",
   "version": "3.6.5"
  }
 },
 "nbformat": 4,
 "nbformat_minor": 2
}
