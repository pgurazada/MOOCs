{
 "cells": [
  {
   "cell_type": "code",
   "execution_count": null,
   "metadata": {},
   "outputs": [],
   "source": [
    "course_metrics = {'course_name' : [],\n",
    "                  'val_binary_accuracy' : [],\n",
    "                  'test_f1_score' : []}"
   ]
  },
  {
   "cell_type": "code",
   "execution_count": null,
   "metadata": {},
   "outputs": [],
   "source": [
    "import os"
   ]
  },
  {
   "cell_type": "code",
   "execution_count": null,
   "metadata": {},
   "outputs": [],
   "source": [
    "CONSOLIDATED_DATA_DIR = 'processed/'\n",
    "COURSE_DIR_LIST = [d[0][10:] for d in os.walk(CONSOLIDATED_DATA_DIR)][1:]"
   ]
  },
  {
   "cell_type": "code",
   "execution_count": null,
   "metadata": {},
   "outputs": [],
   "source": [
    "COURSE_DIR_LIST"
   ]
  },
  {
   "cell_type": "code",
   "execution_count": null,
   "metadata": {},
   "outputs": [],
   "source": [
    "DATA_DIR = 'processed-final/'"
   ]
  },
  {
   "cell_type": "markdown",
   "metadata": {
    "colab_type": "text",
    "id": "QzGWkLzTFSgb"
   },
   "source": [
    "### Design the feed-forward neural net"
   ]
  },
  {
   "cell_type": "code",
   "execution_count": null,
   "metadata": {
    "colab": {},
    "colab_type": "code",
    "id": "xeQCD_c4KS3J"
   },
   "outputs": [],
   "source": [
    "import pandas as pd\n",
    "import numpy as np"
   ]
  },
  {
   "cell_type": "code",
   "execution_count": null,
   "metadata": {
    "colab": {},
    "colab_type": "code",
    "id": "0z3e7riPFzwD"
   },
   "outputs": [],
   "source": [
    "from keras.models import Sequential\n",
    "\n",
    "from keras.layers import Dense, Activation, Dropout\n",
    "\n",
    "from keras.losses import binary_crossentropy\n",
    "\n",
    "from keras.optimizers import RMSprop\n",
    "\n",
    "from keras.metrics import binary_accuracy\n",
    "\n",
    "from keras.callbacks import EarlyStopping, ReduceLROnPlateau\n",
    "\n",
    "from keras import backend as K"
   ]
  },
  {
   "cell_type": "code",
   "execution_count": null,
   "metadata": {
    "colab": {},
    "colab_type": "code",
    "id": "06_tmFnhOuzi"
   },
   "outputs": [],
   "source": [
    "from sklearn.metrics import f1_score"
   ]
  },
  {
   "cell_type": "code",
   "execution_count": null,
   "metadata": {
    "colab": {},
    "colab_type": "code",
    "id": "frNXrx_gHk0T"
   },
   "outputs": [],
   "source": [
    "def build(network_type=Sequential, \n",
    "          nb_initial_layer=64,\n",
    "          dense_layer_lst=[64],\n",
    "          nb_final_layer=1,\n",
    "          dpt_rate=0.2,\n",
    "          learning_rate=1e-4):\n",
    "    \n",
    "    model = network_type()\n",
    "    \n",
    "    model.add(Dense(nb_initial_layer, input_shape=(features_train.shape[1], )))\n",
    "    model.add(Activation('relu'))\n",
    "    \n",
    "    model.add(Dropout(dpt_rate))\n",
    "    \n",
    "    for nb_units in dense_layer_lst:\n",
    "        model.add(Dense(nb_units))\n",
    "        model.add(Activation('relu'))\n",
    "        model.add(Dropout(dpt_rate))\n",
    "        \n",
    "    model.add(Dense(nb_final_layer))\n",
    "    model.add(Activation('sigmoid'))\n",
    "    \n",
    "    model.compile(optimizer=RMSprop(lr=learning_rate),\n",
    "                  loss=binary_crossentropy,\n",
    "                  metrics=[binary_accuracy])\n",
    "    \n",
    "    return model"
   ]
  },
  {
   "cell_type": "markdown",
   "metadata": {},
   "source": [
    "### 1. CB22x - Ancient Greek Hero"
   ]
  },
  {
   "cell_type": "code",
   "execution_count": null,
   "metadata": {},
   "outputs": [],
   "source": [
    "cb22x_features_train = pd.read_feather('processed-final/HarvardXCB22x2013_Spring_features_train.feather')\n",
    "cb22x_features_test = pd.read_feather('processed-final/HarvardXCB22x2013_Spring_features_test.feather')\n",
    "cb22x_labels_train = pd.read_feather('processed-final/HarvardXCB22x2013_Spring_labels_train.feather')\n",
    "cb22x_labels_test = pd.read_feather('processed-final/HarvardXCB22x2013_Spring_labels_test.feather')"
   ]
  },
  {
   "cell_type": "code",
   "execution_count": null,
   "metadata": {
    "colab": {},
    "colab_type": "code",
    "id": "9XO-dYsVKXxa"
   },
   "outputs": [],
   "source": [
    "features_train, features_test = cb22x_features_train.drop('index', axis=1), cb22x_features_test.drop('index', axis=1)\n",
    "labels_train, labels_test = cb22x_labels_train.drop('index', axis=1), cb22x_labels_test.drop('index', axis=1)"
   ]
  },
  {
   "cell_type": "code",
   "execution_count": null,
   "metadata": {
    "colab": {},
    "colab_type": "code",
    "id": "9XO-dYsVKXxa"
   },
   "outputs": [],
   "source": [
    "features_train = np.array(features_train)\n",
    "features_test = np.array(features_test)\n",
    "\n",
    "labels_train = np.array(labels_train).ravel()\n",
    "labels_test = np.array(labels_test).ravel()"
   ]
  },
  {
   "cell_type": "code",
   "execution_count": null,
   "metadata": {
    "colab": {},
    "colab_type": "code",
    "id": "1KvXXicOKQs9"
   },
   "outputs": [],
   "source": [
    "features_train.shape"
   ]
  },
  {
   "cell_type": "code",
   "execution_count": null,
   "metadata": {
    "colab": {},
    "colab_type": "code",
    "id": "SDvj7aG0KvX7"
   },
   "outputs": [],
   "source": [
    "labels_train.shape"
   ]
  },
  {
   "cell_type": "code",
   "execution_count": null,
   "metadata": {
    "colab": {},
    "colab_type": "code",
    "id": "lKiJbUhQK7GJ"
   },
   "outputs": [],
   "source": [
    "K.clear_session()"
   ]
  },
  {
   "cell_type": "code",
   "execution_count": null,
   "metadata": {
    "colab": {},
    "colab_type": "code",
    "id": "sKSikRAPLDti"
   },
   "outputs": [],
   "source": [
    "model = build(nb_initial_layer=32, dense_layer_lst=[32, 32, 32], dpt_rate=0.2, learning_rate=1e-5)\n",
    "model.summary()"
   ]
  },
  {
   "cell_type": "code",
   "execution_count": null,
   "metadata": {
    "colab": {},
    "colab_type": "code",
    "id": "ip9GBn1KLGEM"
   },
   "outputs": [],
   "source": [
    "model_output = model.fit(features_train, labels_train,\n",
    "                         batch_size=128,\n",
    "                         epochs=20,\n",
    "                         validation_split=0.2,\n",
    "                         callbacks=[EarlyStopping(patience=4), \n",
    "                                    ReduceLROnPlateau(patience=4, min_lr=1e-6)])"
   ]
  },
  {
   "cell_type": "code",
   "execution_count": null,
   "metadata": {},
   "outputs": [],
   "source": [
    "course_metrics['course_name'].append('HarvardCB22x_2013_Spring')\n",
    "course_metrics['val_binary_accuracy'].append(model_output.history['val_binary_accuracy'][-1])\n",
    "course_metrics['test_f1_score'].append(f1_score(model.predict_classes(features_test), labels_test))"
   ]
  },
  {
   "cell_type": "markdown",
   "metadata": {
    "colab_type": "text",
    "id": "ANt42YvTLVMR"
   },
   "source": [
    "### 2. CS50x - Introduction to Computer Science I"
   ]
  },
  {
   "cell_type": "code",
   "execution_count": null,
   "metadata": {
    "colab": {},
    "colab_type": "code",
    "id": "LZqXXYgUKGvn"
   },
   "outputs": [],
   "source": [
    "cs50x_features_train = pd.read_feather('processed-final/HarvardXCS50x2012_features_train.feather')\n",
    "cs50x_features_test = pd.read_feather('processed-final//HarvardXCS50x2012_features_test.feather')\n",
    "cs50x_labels_train = pd.read_feather('processed-final//HarvardXCS50x2012_labels_train.feather')\n",
    "cs50x_labels_test = pd.read_feather('processed-final//HarvardXCS50x2012_labels_test.feather')"
   ]
  },
  {
   "cell_type": "code",
   "execution_count": null,
   "metadata": {
    "colab": {},
    "colab_type": "code",
    "id": "9XO-dYsVKXxa"
   },
   "outputs": [],
   "source": [
    "features_train, features_test = cs50x_features_train.drop('index', axis=1), cs50x_features_test.drop('index', axis=1)\n",
    "labels_train, labels_test = cs50x_labels_train.drop('index', axis=1), cs50x_labels_test.drop('index', axis=1)\n",
    "\n",
    "features_train = np.array(features_train)\n",
    "features_test = np.array(features_test)\n",
    "\n",
    "labels_train = np.array(labels_train).ravel()\n",
    "labels_test = np.array(labels_test).ravel()"
   ]
  },
  {
   "cell_type": "code",
   "execution_count": null,
   "metadata": {
    "colab": {},
    "colab_type": "code",
    "id": "1KvXXicOKQs9"
   },
   "outputs": [],
   "source": [
    "features_train.shape"
   ]
  },
  {
   "cell_type": "code",
   "execution_count": null,
   "metadata": {
    "colab": {},
    "colab_type": "code",
    "id": "SDvj7aG0KvX7"
   },
   "outputs": [],
   "source": [
    "labels_train.shape"
   ]
  },
  {
   "cell_type": "code",
   "execution_count": null,
   "metadata": {
    "colab": {},
    "colab_type": "code",
    "id": "lKiJbUhQK7GJ"
   },
   "outputs": [],
   "source": [
    "K.clear_session()"
   ]
  },
  {
   "cell_type": "code",
   "execution_count": null,
   "metadata": {
    "colab": {},
    "colab_type": "code",
    "id": "sKSikRAPLDti"
   },
   "outputs": [],
   "source": [
    "model = build(nb_initial_layer=32, dense_layer_lst=[32, 32, 32], dpt_rate=0, learning_rate=1e-5)\n",
    "model.summary()"
   ]
  },
  {
   "cell_type": "code",
   "execution_count": null,
   "metadata": {
    "colab": {},
    "colab_type": "code",
    "id": "ip9GBn1KLGEM"
   },
   "outputs": [],
   "source": [
    "model_output = model.fit(features_train, labels_train,\n",
    "                         batch_size=128,\n",
    "                         epochs=100,\n",
    "                         validation_split=0.2,\n",
    "                         callbacks=[EarlyStopping(patience=4), \n",
    "                                    ReduceLROnPlateau(patience=4, min_lr=1e-6)])"
   ]
  },
  {
   "cell_type": "code",
   "execution_count": null,
   "metadata": {},
   "outputs": [],
   "source": [
    "course_metrics['course_name'].append('HarvardCB50x_2012')\n",
    "course_metrics['val_binary_accuracy'].append(model_output.history['val_binary_accuracy'][-1])\n",
    "course_metrics['test_f1_score'].append(f1_score(model.predict_classes(features_test), labels_test))"
   ]
  },
  {
   "cell_type": "markdown",
   "metadata": {},
   "source": [
    "### 3. ER22x - Justice"
   ]
  },
  {
   "cell_type": "code",
   "execution_count": null,
   "metadata": {},
   "outputs": [],
   "source": [
    "er22x_features_train = pd.read_feather('processed-final/HarvardXER22x2013_Spring_features_train.feather')\n",
    "er22x_features_test = pd.read_feather('processed-final/HarvardXER22x2013_Spring_features_test.feather')\n",
    "er22x_labels_train = pd.read_feather('processed-final/HarvardXER22x2013_Spring_labels_train.feather')\n",
    "er22x_labels_test = pd.read_feather('processed-final/HarvardXER22x2013_Spring_labels_test.feather')"
   ]
  },
  {
   "cell_type": "code",
   "execution_count": null,
   "metadata": {},
   "outputs": [],
   "source": [
    "features_train, features_test = er22x_features_train.drop('index', axis=1), er22x_features_test.drop('index', axis=1)\n",
    "labels_train, labels_test = er22x_labels_train.drop('index', axis=1), er22x_labels_test.drop('index', axis=1)"
   ]
  },
  {
   "cell_type": "code",
   "execution_count": null,
   "metadata": {},
   "outputs": [],
   "source": [
    "features_train = np.array(features_train)\n",
    "features_test = np.array(features_test)\n",
    "\n",
    "labels_train = np.array(labels_train).ravel()\n",
    "labels_test = np.array(labels_test).ravel()"
   ]
  },
  {
   "cell_type": "code",
   "execution_count": null,
   "metadata": {
    "colab": {},
    "colab_type": "code",
    "id": "1KvXXicOKQs9"
   },
   "outputs": [],
   "source": [
    "features_train.shape"
   ]
  },
  {
   "cell_type": "code",
   "execution_count": null,
   "metadata": {
    "colab": {},
    "colab_type": "code",
    "id": "SDvj7aG0KvX7"
   },
   "outputs": [],
   "source": [
    "labels_train.shape"
   ]
  },
  {
   "cell_type": "code",
   "execution_count": null,
   "metadata": {
    "colab": {},
    "colab_type": "code",
    "id": "lKiJbUhQK7GJ"
   },
   "outputs": [],
   "source": [
    "K.clear_session()"
   ]
  },
  {
   "cell_type": "code",
   "execution_count": null,
   "metadata": {
    "colab": {},
    "colab_type": "code",
    "id": "sKSikRAPLDti"
   },
   "outputs": [],
   "source": [
    "model = build(nb_initial_layer=32, dense_layer_lst=[32, 32, 32], dpt_rate=0.1, learning_rate=1e-5)\n",
    "model.summary()"
   ]
  },
  {
   "cell_type": "code",
   "execution_count": null,
   "metadata": {
    "colab": {},
    "colab_type": "code",
    "id": "ip9GBn1KLGEM"
   },
   "outputs": [],
   "source": [
    "model_output = model.fit(features_train, labels_train,\n",
    "                         batch_size=128,\n",
    "                         epochs=20,\n",
    "                         validation_split=0.2,\n",
    "                         callbacks=[EarlyStopping(patience=4), \n",
    "                                    ReduceLROnPlateau(patience=4, min_lr=1e-6)])"
   ]
  },
  {
   "cell_type": "code",
   "execution_count": null,
   "metadata": {},
   "outputs": [],
   "source": [
    "course_metrics['course_name'].append('HarvardXER22x2013_Spring')\n",
    "course_metrics['val_binary_accuracy'].append(model_output.history['val_binary_accuracy'][-1])\n",
    "course_metrics['test_f1_score'].append(f1_score(model.predict_classes(features_test), labels_test))"
   ]
  },
  {
   "cell_type": "markdown",
   "metadata": {},
   "source": [
    "### 4. PH207x - Health in Numbers: Quantitative Methods in Clinical & Public Health Research"
   ]
  },
  {
   "cell_type": "code",
   "execution_count": null,
   "metadata": {},
   "outputs": [],
   "source": [
    "ph207x_features_train = pd.read_feather('processed-final/HarvardXPH207x2012_Fall_features_train.feather')\n",
    "ph207x_features_test = pd.read_feather('processed-final/HarvardXPH207x2012_Fall_features_test.feather')\n",
    "ph207x_labels_train = pd.read_feather('processed-final/HarvardXPH207x2012_Fall_labels_train.feather')\n",
    "ph207x_labels_test = pd.read_feather('processed-final/HarvardXPH207x2012_Fall_labels_test.feather')"
   ]
  },
  {
   "cell_type": "code",
   "execution_count": null,
   "metadata": {},
   "outputs": [],
   "source": [
    "features_train, features_test = ph207x_features_train.drop('index', axis=1), ph207x_features_test.drop('index', axis=1)\n",
    "labels_train, labels_test = ph207x_labels_train.drop('index', axis=1), ph207x_labels_test.drop('index', axis=1)"
   ]
  },
  {
   "cell_type": "code",
   "execution_count": null,
   "metadata": {},
   "outputs": [],
   "source": [
    "features_train = np.array(features_train)\n",
    "features_test = np.array(features_test)\n",
    "\n",
    "labels_train = np.array(labels_train).ravel()\n",
    "labels_test = np.array(labels_test).ravel()"
   ]
  },
  {
   "cell_type": "code",
   "execution_count": null,
   "metadata": {
    "colab": {},
    "colab_type": "code",
    "id": "1KvXXicOKQs9"
   },
   "outputs": [],
   "source": [
    "features_train.shape"
   ]
  },
  {
   "cell_type": "code",
   "execution_count": null,
   "metadata": {
    "colab": {},
    "colab_type": "code",
    "id": "SDvj7aG0KvX7"
   },
   "outputs": [],
   "source": [
    "labels_train.shape"
   ]
  },
  {
   "cell_type": "code",
   "execution_count": null,
   "metadata": {
    "colab": {},
    "colab_type": "code",
    "id": "lKiJbUhQK7GJ"
   },
   "outputs": [],
   "source": [
    "K.clear_session()"
   ]
  },
  {
   "cell_type": "code",
   "execution_count": null,
   "metadata": {
    "colab": {},
    "colab_type": "code",
    "id": "sKSikRAPLDti"
   },
   "outputs": [],
   "source": [
    "model = build(nb_initial_layer=64, dense_layer_lst=[32, 32, 32], dpt_rate=0.05, learning_rate=1e-2)\n",
    "model.summary()"
   ]
  },
  {
   "cell_type": "code",
   "execution_count": null,
   "metadata": {
    "colab": {},
    "colab_type": "code",
    "id": "ip9GBn1KLGEM"
   },
   "outputs": [],
   "source": [
    "model_output = model.fit(features_train, labels_train,\n",
    "                         batch_size=128,\n",
    "                         epochs=50,\n",
    "                         validation_split=0.2,\n",
    "                         callbacks=[EarlyStopping(patience=4), \n",
    "                                    ReduceLROnPlateau(patience=4, min_lr=1e-6)])"
   ]
  },
  {
   "cell_type": "code",
   "execution_count": null,
   "metadata": {},
   "outputs": [],
   "source": [
    "course_metrics['course_name'].append('HarvardXER22x2013_Spring')\n",
    "course_metrics['val_binary_accuracy'].append(model_output.history['val_binary_accuracy'][-1])\n",
    "course_metrics['test_f1_score'].append(f1_score(model.predict_classes(features_test), labels_test))"
   ]
  },
  {
   "cell_type": "markdown",
   "metadata": {},
   "source": [
    "### 5. PH278x - Human Health and Global Environmental Change"
   ]
  },
  {
   "cell_type": "code",
   "execution_count": null,
   "metadata": {},
   "outputs": [],
   "source": [
    "course_id = 4"
   ]
  },
  {
   "cell_type": "code",
   "execution_count": null,
   "metadata": {},
   "outputs": [],
   "source": [
    "features_train = pd.read_feather(SPLIT_DATA_DIR + COURSE_DIR_LIST[course_id] + '_features_train.feather')"
   ]
  },
  {
   "cell_type": "code",
   "execution_count": null,
   "metadata": {},
   "outputs": [],
   "source": [
    "features_train.shape"
   ]
  },
  {
   "cell_type": "code",
   "execution_count": null,
   "metadata": {},
   "outputs": [],
   "source": [
    "ph207x_features_train = pd.read_feather('processed-final/HarvardXPH207x2012_Fall_features_train.feather')\n",
    "ph207x_features_test = pd.read_feather('processed-final/HarvardXPH207x2012_Fall_features_test.feather')\n",
    "ph207x_labels_train = pd.read_feather('processed-final/HarvardXPH207x2012_Fall_labels_train.feather')\n",
    "ph207x_labels_test = pd.read_feather('processed-final/HarvardXPH207x2012_Fall_labels_test.feather')"
   ]
  },
  {
   "cell_type": "code",
   "execution_count": null,
   "metadata": {},
   "outputs": [],
   "source": [
    "features_train, features_test = ph207x_features_train.drop('index', axis=1), ph207x_features_test.drop('index', axis=1)\n",
    "labels_train, labels_test = ph207x_labels_train.drop('index', axis=1), ph207x_labels_test.drop('index', axis=1)"
   ]
  },
  {
   "cell_type": "code",
   "execution_count": null,
   "metadata": {},
   "outputs": [],
   "source": [
    "features_train = np.array(features_train)\n",
    "features_test = np.array(features_test)\n",
    "\n",
    "labels_train = np.array(labels_train).ravel()\n",
    "labels_test = np.array(labels_test).ravel()"
   ]
  },
  {
   "cell_type": "code",
   "execution_count": null,
   "metadata": {
    "colab": {},
    "colab_type": "code",
    "id": "1KvXXicOKQs9"
   },
   "outputs": [],
   "source": [
    "features_train.shape"
   ]
  },
  {
   "cell_type": "code",
   "execution_count": null,
   "metadata": {
    "colab": {},
    "colab_type": "code",
    "id": "SDvj7aG0KvX7"
   },
   "outputs": [],
   "source": [
    "labels_train.shape"
   ]
  },
  {
   "cell_type": "code",
   "execution_count": null,
   "metadata": {},
   "outputs": [],
   "source": []
  }
 ],
 "metadata": {
  "accelerator": "GPU",
  "colab": {
   "collapsed_sections": [],
   "name": "2018-06-13_mooc-analysis.ipynb",
   "private_outputs": true,
   "provenance": [],
   "version": "0.3.2"
  },
  "kernelspec": {
   "display_name": "Python 3",
   "language": "python",
   "name": "python3"
  },
  "language_info": {
   "codemirror_mode": {
    "name": "ipython",
    "version": 3
   },
   "file_extension": ".py",
   "mimetype": "text/x-python",
   "name": "python",
   "nbconvert_exporter": "python",
   "pygments_lexer": "ipython3",
   "version": "3.6.5"
  }
 },
 "nbformat": 4,
 "nbformat_minor": 1
}
