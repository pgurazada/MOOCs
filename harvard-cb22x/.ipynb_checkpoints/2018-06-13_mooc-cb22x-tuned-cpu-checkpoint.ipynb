{
 "cells": [
  {
   "cell_type": "markdown",
   "metadata": {},
   "source": [
    "# 1. CB22x - Ancient Greek Hero"
   ]
  },
  {
   "cell_type": "markdown",
   "metadata": {},
   "source": [
    "## Set global variables"
   ]
  },
  {
   "cell_type": "code",
   "execution_count": 1,
   "metadata": {},
   "outputs": [],
   "source": [
    "import os"
   ]
  },
  {
   "cell_type": "code",
   "execution_count": 6,
   "metadata": {},
   "outputs": [],
   "source": [
    "CONSOLIDATED_DATA_DIR = '../processed/'\n",
    "COURSE_LIST = [d[0][13:] for d in os.walk(CONSOLIDATED_DATA_DIR)][1:]"
   ]
  },
  {
   "cell_type": "code",
   "execution_count": 7,
   "metadata": {},
   "outputs": [
    {
     "data": {
      "text/plain": [
       "['HarvardXCB22x2013_Spring',\n",
       " 'HarvardXCS50x2012',\n",
       " 'HarvardXER22x2013_Spring',\n",
       " 'HarvardXPH207x2012_Fall',\n",
       " 'HarvardXPH278x2013_Spring',\n",
       " 'MITx14.73x2013_Spring',\n",
       " 'MITx2.01x2013_Spring',\n",
       " 'MITx3.091x2012_Fall',\n",
       " 'MITx3.091x2013_Spring',\n",
       " 'MITx6.002x2012_Fall',\n",
       " 'MITx6.002x2013_Spring',\n",
       " 'MITx6.00x2012_Fall',\n",
       " 'MITx6.00x2013_Spring',\n",
       " 'MITx7.00x2013_Spring',\n",
       " 'MITx8.02x2013_Spring',\n",
       " 'MITx8.MReV2013_Summer']"
      ]
     },
     "execution_count": 7,
     "metadata": {},
     "output_type": "execute_result"
    }
   ],
   "source": [
    "COURSE_LIST"
   ]
  },
  {
   "cell_type": "code",
   "execution_count": 8,
   "metadata": {},
   "outputs": [],
   "source": [
    "DATA_DIR = '../processed-final/'"
   ]
  },
  {
   "cell_type": "markdown",
   "metadata": {
    "colab_type": "text",
    "id": "QzGWkLzTFSgb"
   },
   "source": [
    "## Design the feed-forward neural net"
   ]
  },
  {
   "cell_type": "code",
   "execution_count": 9,
   "metadata": {
    "colab": {},
    "colab_type": "code",
    "id": "xeQCD_c4KS3J"
   },
   "outputs": [
    {
     "name": "stderr",
     "output_type": "stream",
     "text": [
      "C:\\ProgramData\\Anaconda3\\lib\\site-packages\\h5py\\__init__.py:34: FutureWarning: Conversion of the second argument of issubdtype from `float` to `np.floating` is deprecated. In future, it will be treated as `np.float64 == np.dtype(float).type`.\n",
      "  from ._conv import register_converters as _register_converters\n"
     ]
    }
   ],
   "source": [
    "import pandas as pd\n",
    "import numpy as np\n",
    "import tensorflow as tf"
   ]
  },
  {
   "cell_type": "code",
   "execution_count": 10,
   "metadata": {},
   "outputs": [],
   "source": [
    "np.random.seed(20130810)\n",
    "tf.set_random_seed(20130810)"
   ]
  },
  {
   "cell_type": "code",
   "execution_count": 11,
   "metadata": {},
   "outputs": [],
   "source": [
    "import matplotlib.pyplot as plt\n",
    "import seaborn as sns"
   ]
  },
  {
   "cell_type": "code",
   "execution_count": 12,
   "metadata": {},
   "outputs": [],
   "source": [
    "%matplotlib inline\n",
    "\n",
    "sns.set_context('talk', font_scale=1.2)\n",
    "sns.set_palette('gray')\n",
    "sns.set_style('ticks', {'grid_color' : 0.6})"
   ]
  },
  {
   "cell_type": "code",
   "execution_count": 24,
   "metadata": {
    "colab": {},
    "colab_type": "code",
    "id": "0z3e7riPFzwD"
   },
   "outputs": [
    {
     "name": "stderr",
     "output_type": "stream",
     "text": [
      "Using TensorFlow backend.\n"
     ]
    }
   ],
   "source": [
    "from keras.models import Sequential, load_model\n",
    "\n",
    "from keras.layers import Dense, Activation, Dropout, BatchNormalization\n",
    "\n",
    "from keras.regularizers import l2\n",
    "\n",
    "from keras.losses import binary_crossentropy\n",
    "\n",
    "from keras.optimizers import RMSprop, Adam\n",
    "\n",
    "from keras.metrics import binary_accuracy\n",
    "\n",
    "from keras.callbacks import EarlyStopping, ReduceLROnPlateau, ModelCheckpoint\n",
    "\n",
    "from keras import backend as K"
   ]
  },
  {
   "cell_type": "code",
   "execution_count": 19,
   "metadata": {
    "colab": {},
    "colab_type": "code",
    "id": "06_tmFnhOuzi"
   },
   "outputs": [],
   "source": [
    "from sklearn.model_selection import train_test_split\n",
    "from sklearn.metrics import accuracy_score, f1_score"
   ]
  },
  {
   "cell_type": "code",
   "execution_count": null,
   "metadata": {
    "colab": {},
    "colab_type": "code",
    "id": "frNXrx_gHk0T"
   },
   "outputs": [],
   "source": [
    "def build(network_type=Sequential, \n",
    "          nb_initial_layer=64,\n",
    "          dense_layer_lst=[64],\n",
    "          nb_final_layer=1,\n",
    "          l2_penalty=0.001,\n",
    "          dpt_strength=0.5,\n",
    "          learning_rate=1e-4):\n",
    "    \n",
    "    model = network_type()\n",
    "    \n",
    "    model.add(Dense(nb_initial_layer, \n",
    "                    input_shape=(features_train.shape[1],),\n",
    "                    kernel_initializer='he_normal',\n",
    "                    kernel_regularizer=l2(l2_penalty)))\n",
    "    model.add(BatchNormalization())\n",
    "    model.add(Activation('relu'))\n",
    "    model.add(Dropout(dpt_strength))\n",
    "    \n",
    "    for nb_units in dense_layer_lst:\n",
    "        model.add(Dense(nb_units,\n",
    "                        kernel_initializer='he_normal',\n",
    "                        kernel_regularizer=l2(l2_penalty)))\n",
    "        model.add(BatchNormalization())\n",
    "        model.add(Activation('relu'))\n",
    "        model.add(Dropout(dpt_strength))\n",
    "        \n",
    "    model.add(Dense(nb_final_layer,\n",
    "                    kernel_initializer='he_normal',\n",
    "                    kernel_regularizer=l2(l2_penalty)))\n",
    "    model.add(BatchNormalization())\n",
    "    model.add(Activation('sigmoid'))\n",
    "    \n",
    "    model.compile(optimizer=Adam(lr=learning_rate),\n",
    "                  loss=binary_crossentropy,\n",
    "                  metrics=[binary_accuracy])\n",
    "    \n",
    "    return model"
   ]
  },
  {
   "cell_type": "code",
   "execution_count": null,
   "metadata": {},
   "outputs": [],
   "source": [
    "def plot_loss(fit_history, course_name):\n",
    "    epochs = range(1, len(fit_history['binary_accuracy'])+1)\n",
    "    \n",
    "    plt.figure(figsize=(12, 6))\n",
    "    \n",
    "    plt.plot(epochs, fit_history['loss'], '--', label='Training loss')\n",
    "    plt.plot(epochs, fit_history['val_loss'], '-', label='Validation loss')\n",
    "    \n",
    "    plt.title('Training and Validation loss for ' + course_name)\n",
    "    plt.xlabel('Epochs')\n",
    "    plt.ylabel('Loss')\n",
    "    plt.legend()\n",
    "    \n",
    "    plt.show()"
   ]
  },
  {
   "cell_type": "code",
   "execution_count": null,
   "metadata": {},
   "outputs": [],
   "source": [
    "def plot_accuracy(fit_history, course_name):\n",
    "    epochs = range(1, len(fit_history['binary_accuracy'])+1)\n",
    "    \n",
    "    plt.figure(figsize=(12, 6))\n",
    "    \n",
    "    plt.plot(epochs, fit_history['binary_accuracy'], '--', label='Training Accuracy')\n",
    "    plt.plot(epochs, fit_history['val_binary_accuracy'], '-', label='Validation Accuracy')\n",
    "    \n",
    "    plt.title('Training and Validation accuracy for ' + course_name)\n",
    "    plt.xlabel('Epochs')\n",
    "    plt.ylabel('Accuracy')\n",
    "    plt.legend()\n",
    "    \n",
    "    plt.show()"
   ]
  },
  {
   "cell_type": "markdown",
   "metadata": {},
   "source": [
    "## Tune the network"
   ]
  },
  {
   "cell_type": "code",
   "execution_count": 13,
   "metadata": {},
   "outputs": [
    {
     "name": "stdout",
     "output_type": "stream",
     "text": [
      "HarvardXCB22x2013_Spring\n"
     ]
    }
   ],
   "source": [
    "course_idx = 0\n",
    "print(COURSE_LIST[course_idx])"
   ]
  },
  {
   "cell_type": "code",
   "execution_count": 14,
   "metadata": {},
   "outputs": [
    {
     "name": "stdout",
     "output_type": "stream",
     "text": [
      "../processed-final/HarvardXCB22x2013_Spring\n"
     ]
    }
   ],
   "source": [
    "course_loc = DATA_DIR + COURSE_LIST[course_idx]\n",
    "print(course_loc)"
   ]
  },
  {
   "cell_type": "code",
   "execution_count": 15,
   "metadata": {},
   "outputs": [],
   "source": [
    "features_train = pd.read_feather(course_loc + '_features_train.feather').drop('index', axis=1)\n",
    "features_test = pd.read_feather(course_loc + '_features_test.feather').drop('index', axis=1)\n",
    "\n",
    "labels_train = pd.read_feather(course_loc + '_labels_train.feather').drop('index', axis=1)\n",
    "labels_test = pd.read_feather(course_loc + '_labels_test.feather').drop('index', axis=1)"
   ]
  },
  {
   "cell_type": "code",
   "execution_count": 16,
   "metadata": {
    "colab": {},
    "colab_type": "code",
    "id": "9XO-dYsVKXxa"
   },
   "outputs": [],
   "source": [
    "features_train = np.array(features_train)\n",
    "features_test = np.array(features_test)\n",
    "\n",
    "labels_train = np.array(labels_train).ravel()\n",
    "labels_test = np.array(labels_test).ravel()"
   ]
  },
  {
   "cell_type": "code",
   "execution_count": 17,
   "metadata": {
    "colab": {},
    "colab_type": "code",
    "id": "1KvXXicOKQs9"
   },
   "outputs": [
    {
     "data": {
      "text/plain": [
       "(24001, 18)"
      ]
     },
     "execution_count": 17,
     "metadata": {},
     "output_type": "execute_result"
    }
   ],
   "source": [
    "features_train.shape"
   ]
  },
  {
   "cell_type": "code",
   "execution_count": 18,
   "metadata": {
    "colab": {},
    "colab_type": "code",
    "id": "SDvj7aG0KvX7"
   },
   "outputs": [
    {
     "data": {
      "text/plain": [
       "(24001,)"
      ]
     },
     "execution_count": 18,
     "metadata": {},
     "output_type": "execute_result"
    }
   ],
   "source": [
    "labels_train.shape"
   ]
  },
  {
   "cell_type": "code",
   "execution_count": 20,
   "metadata": {},
   "outputs": [],
   "source": [
    "features_train, features_validation, labels_train, labels_validation = train_test_split(features_train, labels_train, \n",
    "                                                                                        test_size=0.2, \n",
    "                                                                                        random_state=20130810)"
   ]
  },
  {
   "cell_type": "code",
   "execution_count": 21,
   "metadata": {},
   "outputs": [
    {
     "data": {
      "text/plain": [
       "((19200, 18), (4801, 18))"
      ]
     },
     "execution_count": 21,
     "metadata": {},
     "output_type": "execute_result"
    }
   ],
   "source": [
    "features_train.shape, features_validation.shape"
   ]
  },
  {
   "cell_type": "code",
   "execution_count": 22,
   "metadata": {},
   "outputs": [
    {
     "data": {
      "text/plain": [
       "((19200,), (4801,))"
      ]
     },
     "execution_count": 22,
     "metadata": {},
     "output_type": "execute_result"
    }
   ],
   "source": [
    "labels_train.shape, labels_validation.shape"
   ]
  },
  {
   "cell_type": "code",
   "execution_count": null,
   "metadata": {
    "colab": {},
    "colab_type": "code",
    "id": "lKiJbUhQK7GJ"
   },
   "outputs": [],
   "source": [
    "K.clear_session()"
   ]
  },
  {
   "cell_type": "code",
   "execution_count": null,
   "metadata": {
    "colab": {},
    "colab_type": "code",
    "id": "sKSikRAPLDti"
   },
   "outputs": [],
   "source": [
    "model = build(nb_initial_layer=32, \n",
    "              dense_layer_lst=[32, 32, 32],\n",
    "              l2_penalty=0.001,\n",
    "              dpt_strength=0.5,\n",
    "              learning_rate=1e-3)\n",
    "model.summary()"
   ]
  },
  {
   "cell_type": "code",
   "execution_count": null,
   "metadata": {},
   "outputs": [],
   "source": [
    "# We wish to save multiple best models.\n",
    "# Main purpose is to make it easier to choose the final model as we hand tune. We delete excess saved models at the end to \n",
    "# get to the best model\n",
    "# This strategy would be useful if we are going to use an ensemble\n",
    "\n",
    "out_file_path='best-keras-runs/' + \\\n",
    "               COURSE_LIST[course_idx] + \\\n",
    "              '-8-{epoch:02d}-{val_binary_accuracy:.2f}.hdf5'"
   ]
  },
  {
   "cell_type": "code",
   "execution_count": null,
   "metadata": {},
   "outputs": [],
   "source": [
    "# In case you wish to save only the best model\n",
    "#out_file_path='best-keras-runs/' + \\\n",
    "#               COURSE_LIST[course_idx] + \\\n",
    "#              '-best-model.hdf5'"
   ]
  },
  {
   "cell_type": "code",
   "execution_count": null,
   "metadata": {
    "colab": {},
    "colab_type": "code",
    "id": "ip9GBn1KLGEM"
   },
   "outputs": [],
   "source": [
    "model_output = model.fit(features_train, labels_train,\n",
    "                         batch_size=128,\n",
    "                         epochs=50,\n",
    "                         validation_data=[features_validation, labels_validation],\n",
    "                         callbacks=[EarlyStopping(patience=4), \n",
    "                                    ReduceLROnPlateau(patience=4, min_lr=1e-6),\n",
    "                                    ModelCheckpoint(out_file_path, \n",
    "                                                    monitor='val_binary_accuracy',\n",
    "                                                    mode='max',\n",
    "                                                    verbose=1, \n",
    "                                                    save_best_only=True, \n",
    "                                                    save_weights_only=False)])"
   ]
  },
  {
   "cell_type": "code",
   "execution_count": null,
   "metadata": {},
   "outputs": [],
   "source": [
    "plot_loss(model_output.history, COURSE_LIST[course_idx])"
   ]
  },
  {
   "cell_type": "code",
   "execution_count": null,
   "metadata": {},
   "outputs": [],
   "source": [
    "plot_accuracy(model_output.history, COURSE_LIST[course_idx])"
   ]
  },
  {
   "cell_type": "markdown",
   "metadata": {},
   "source": [
    "### Load the best model and compute metrics"
   ]
  },
  {
   "cell_type": "code",
   "execution_count": 25,
   "metadata": {},
   "outputs": [],
   "source": [
    "best_model = load_model('HarvardXCB22x2013_Spring-2-37-0.66.hdf5')"
   ]
  },
  {
   "cell_type": "code",
   "execution_count": 26,
   "metadata": {},
   "outputs": [
    {
     "name": "stdout",
     "output_type": "stream",
     "text": [
      "19200/19200 [==============================] - 0s 19us/step\n"
     ]
    },
    {
     "data": {
      "text/plain": [
       "[0.6424851973851522, 0.64625]"
      ]
     },
     "execution_count": 26,
     "metadata": {},
     "output_type": "execute_result"
    }
   ],
   "source": [
    "best_model.evaluate(features_train, labels_train, batch_size=128)"
   ]
  },
  {
   "cell_type": "code",
   "execution_count": 27,
   "metadata": {},
   "outputs": [],
   "source": [
    "pred_probs = best_model.predict_proba(features_train)"
   ]
  },
  {
   "cell_type": "code",
   "execution_count": 28,
   "metadata": {},
   "outputs": [
    {
     "data": {
      "text/plain": [
       "0.5547545"
      ]
     },
     "execution_count": 28,
     "metadata": {},
     "output_type": "execute_result"
    }
   ],
   "source": [
    "pred_probs.mean()"
   ]
  },
  {
   "cell_type": "code",
   "execution_count": 29,
   "metadata": {},
   "outputs": [
    {
     "data": {
      "text/plain": [
       "0.54484375"
      ]
     },
     "execution_count": 29,
     "metadata": {},
     "output_type": "execute_result"
    }
   ],
   "source": [
    "labels_train.mean()"
   ]
  },
  {
   "cell_type": "code",
   "execution_count": 30,
   "metadata": {},
   "outputs": [
    {
     "data": {
      "image/png": "[encoded data removed]",
      "text/plain": [
       "<matplotlib.figure.Figure at 0x1f2992f39e8>"
      ]
     },
     "metadata": {},
     "output_type": "display_data"
    }
   ],
   "source": [
    "plt.figure(figsize=(12,6))\n",
    "plt.hist(pred_probs)\n",
    "plt.xlabel('Predicted probability')\n",
    "plt.ylabel('Count')\n",
    "plt.title('Distribution of predicted probabilities on the training data')\n",
    "plt.show()"
   ]
  },
  {
   "cell_type": "code",
   "execution_count": null,
   "metadata": {},
   "outputs": [],
   "source": [
    "## DO NOT RUN THIS CELL TILL IT IS TIME TO REPORT RESULTS ON TEST DATA\n",
    "\n",
    "# accuracy_score(best_model.predict_classes(features_test), labels_test)\n",
    "# f1_score(best_model.predict_classes(features_test), labels_test)"
   ]
  }
 ],
 "metadata": {
  "accelerator": "GPU",
  "colab": {
   "collapsed_sections": [],
   "name": "2018-06-13_mooc-analysis.ipynb",
   "private_outputs": true,
   "provenance": [],
   "version": "0.3.2"
  },
  "kernelspec": {
   "display_name": "Python 3",
   "language": "python",
   "name": "python3"
  },
  "language_info": {
   "codemirror_mode": {
    "name": "ipython",
    "version": 3
   },
   "file_extension": ".py",
   "mimetype": "text/x-python",
   "name": "python",
   "nbconvert_exporter": "python",
   "pygments_lexer": "ipython3",
   "version": "3.6.5"
  }
 },
 "nbformat": 4,
 "nbformat_minor": 1
}
