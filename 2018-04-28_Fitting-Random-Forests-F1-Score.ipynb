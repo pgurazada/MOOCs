{
 "cells": [
  {
   "cell_type": "markdown",
   "metadata": {},
   "source": [
    "Based on preliminary analysis of the data, we conclude that using random forest classifiers is the best way to classify drop-out. Given the imbalance in classes and the importance of misclassification of drop-outs, we use the F1 score as  the benchmark to train the model."
   ]
  },
  {
   "cell_type": "code",
   "execution_count": 1,
   "metadata": {},
   "outputs": [],
   "source": [
    "import pandas as pd\n",
    "import numpy as np\n",
    "import os"
   ]
  },
  {
   "cell_type": "code",
   "execution_count": 2,
   "metadata": {},
   "outputs": [],
   "source": [
    "# Algorithm\n",
    "\n",
    "from sklearn.ensemble import RandomForestClassifier"
   ]
  },
  {
   "cell_type": "code",
   "execution_count": 3,
   "metadata": {},
   "outputs": [],
   "source": [
    "# Model selection metrics\n",
    "\n",
    "from sklearn.model_selection import train_test_split, RandomizedSearchCV\n",
    "from sklearn.metrics import f1_score"
   ]
  },
  {
   "cell_type": "code",
   "execution_count": 4,
   "metadata": {},
   "outputs": [],
   "source": [
    "# Tools to save the best models to disk\n",
    "\n",
    "from sklearn.externals import joblib"
   ]
  },
  {
   "cell_type": "code",
   "execution_count": 5,
   "metadata": {},
   "outputs": [],
   "source": [
    "DATA_DIR = 'processed/'\n",
    "COURSE_DIR_LIST = [d[0] for d in os.walk(DATA_DIR)][1:]"
   ]
  },
  {
   "cell_type": "code",
   "execution_count": 6,
   "metadata": {},
   "outputs": [],
   "source": [
    "course_metrics = {'course_name': [], \n",
    "                  'F1_train_mean': [],\n",
    "                  'F1_train_min' : [],\n",
    "                  'F1_train_max' : [],\n",
    "                  'F1_test': []}"
   ]
  },
  {
   "cell_type": "code",
   "execution_count": 7,
   "metadata": {},
   "outputs": [],
   "source": [
    "# A general parameter space that will be run across all the data sets for tuning\n",
    "\n",
    "pgrid = {'min_samples_leaf' : np.arange(20, 200, 25),\n",
    "         'min_samples_split' : np.arange(20, 200, 25),\n",
    "         'max_depth' : np.arange(25, 200, 50),\n",
    "         'n_estimators' : np.arange(100, 2000, 200)}"
   ]
  },
  {
   "cell_type": "markdown",
   "metadata": {},
   "source": [
    "We then define the random forest classifier object and the grid search object that will be fit to the data"
   ]
  },
  {
   "cell_type": "code",
   "execution_count": 8,
   "metadata": {},
   "outputs": [],
   "source": [
    "rf_classif = RandomForestClassifier(max_features='auto',\n",
    "                                    random_state=20130810,\n",
    "                                    n_jobs=-1)"
   ]
  },
  {
   "cell_type": "code",
   "execution_count": 9,
   "metadata": {},
   "outputs": [],
   "source": [
    "grid_cv = RandomizedSearchCV(estimator=rf_classif,\n",
    "                             param_distributions=pgrid,\n",
    "                             scoring={'F1' : 'f1',\n",
    "                                      'Precision' : 'precision',\n",
    "                                      'Recall' : 'recall'},\n",
    "                             refit='F1',\n",
    "                             n_iter=10,\n",
    "                             cv=5,\n",
    "                             random_state=20130810,\n",
    "                             n_jobs=-1)"
   ]
  },
  {
   "cell_type": "code",
   "execution_count": 10,
   "metadata": {},
   "outputs": [],
   "source": [
    "def features_from_data(course_dir):\n",
    "    '''\n",
    "    This function takes a string of the directory where the features and labels data of a course lies, and converts\n",
    "    them into the feature matrix and the output vector.\n",
    "    \n",
    "    It returns the train and test data\n",
    "    '''\n",
    "    features_train = pd.read_feather(course_dir + '/features_train.feather').drop('index', axis=1).as_matrix()\n",
    "    features_test = pd.read_feather(course_dir + '/features_test.feather').drop('index', axis=1).as_matrix()\n",
    "    \n",
    "    labels_train = pd.read_feather(course_dir + '/labels_train.feather').drop('index', axis=1).values.ravel()\n",
    "    labels_test = pd.read_feather(course_dir + '/labels_test.feather').drop('index', axis=1).values.ravel()\n",
    "    \n",
    "    return features_train, features_test, labels_train, labels_test    "
   ]
  },
  {
   "cell_type": "code",
   "execution_count": 11,
   "metadata": {},
   "outputs": [
    {
     "name": "stdout",
     "output_type": "stream",
     "text": [
      "Optimizing hyperparameters for processed/HarvardXCB22x2013_Spring\n",
      "Wall time: 4min 22s\n",
      "Pickling processed/HarvardXCB22x2013_Spring\n",
      "Optimizing hyperparameters for processed/HarvardXCS50x2012\n",
      "Wall time: 37min 25s\n",
      "Pickling processed/HarvardXCS50x2012\n",
      "Optimizing hyperparameters for processed/HarvardXER22x2013_Spring\n",
      "Wall time: 9min 16s\n",
      "Pickling processed/HarvardXER22x2013_Spring\n",
      "Optimizing hyperparameters for processed/HarvardXPH207x2012_Fall\n",
      "Wall time: 6min 16s\n",
      "Pickling processed/HarvardXPH207x2012_Fall\n",
      "Optimizing hyperparameters for processed/HarvardXPH278x2013_Spring\n",
      "Wall time: 5min 53s\n",
      "Pickling processed/HarvardXPH278x2013_Spring\n",
      "Optimizing hyperparameters for processed/MITx14.73x2013_Spring\n",
      "Wall time: 3min 59s\n",
      "Pickling processed/MITx14.73x2013_Spring\n",
      "Optimizing hyperparameters for processed/MITx2.01x2013_Spring\n",
      "Wall time: 1min 14s\n",
      "Pickling processed/MITx2.01x2013_Spring\n",
      "Optimizing hyperparameters for processed/MITx3.091x2012_Fall\n",
      "Wall time: 2min 6s\n",
      "Pickling processed/MITx3.091x2012_Fall\n",
      "Optimizing hyperparameters for processed/MITx3.091x2013_Spring\n",
      "Wall time: 1min 15s\n",
      "Pickling processed/MITx3.091x2013_Spring\n",
      "Optimizing hyperparameters for processed/MITx6.002x2012_Fall\n",
      "Wall time: 5min 50s\n",
      "Pickling processed/MITx6.002x2012_Fall\n",
      "Optimizing hyperparameters for processed/MITx6.002x2013_Spring\n",
      "Wall time: 3min 1s\n",
      "Pickling processed/MITx6.002x2013_Spring\n",
      "Optimizing hyperparameters for processed/MITx6.00x2012_Fall\n",
      "Wall time: 10min 38s\n",
      "Pickling processed/MITx6.00x2012_Fall\n",
      "Optimizing hyperparameters for processed/MITx6.00x2013_Spring\n",
      "Wall time: 6min 20s\n",
      "Pickling processed/MITx6.00x2013_Spring\n",
      "Optimizing hyperparameters for processed/MITx7.00x2013_Spring\n",
      "Wall time: 2min 58s\n",
      "Pickling processed/MITx7.00x2013_Spring\n",
      "Optimizing hyperparameters for processed/MITx8.02x2013_Spring\n",
      "Wall time: 4min 21s\n",
      "Pickling processed/MITx8.02x2013_Spring\n",
      "Optimizing hyperparameters for processed/MITx8.MReV2013_Summer\n",
      "Wall time: 1min 39s\n",
      "Pickling processed/MITx8.MReV2013_Summer\n"
     ]
    }
   ],
   "source": [
    "for course_dir in COURSE_DIR_LIST:\n",
    "    features_train, features_test, labels_train, labels_test = features_from_data(course_dir)\n",
    "    \n",
    "    print('Optimizing hyperparameters for {}'.format(course_dir))\n",
    "    \n",
    "    %time grid_cv.fit(features_train, labels_train)\n",
    "    \n",
    "    F1_test_score = f1_score(grid_cv.best_estimator_.predict(features_test), labels_test)\n",
    "    \n",
    "    course_metrics['course_name'].append(course_dir[10:]) # drop parent folder name\n",
    "    course_metrics['F1_train_mean'].append(grid_cv.cv_results_['mean_test_F1'].mean())\n",
    "    course_metrics['F1_train_min'].append(grid_cv.cv_results_['mean_test_F1'].min())\n",
    "    course_metrics['F1_train_max'].append(grid_cv.cv_results_['mean_test_F1'].max())\n",
    "    course_metrics['F1_test'].append(F1_test_score)\n",
    "    \n",
    "    print('Pickling {}'.format(course_dir))\n",
    "    \n",
    "    joblib.dump(grid_cv.best_estimator_, course_dir[10:] + '.pkl')"
   ]
  },
  {
   "cell_type": "code",
   "execution_count": 16,
   "metadata": {},
   "outputs": [],
   "source": [
    "pd.DataFrame(course_metrics).reset_index().to_csv('course_metrics.csv')"
   ]
  }
 ],
 "metadata": {
  "kernelspec": {
   "display_name": "Python 3",
   "language": "python",
   "name": "python3"
  },
  "language_info": {
   "codemirror_mode": {
    "name": "ipython",
    "version": 3
   },
   "file_extension": ".py",
   "mimetype": "text/x-python",
   "name": "python",
   "nbconvert_exporter": "python",
   "pygments_lexer": "ipython3",
   "version": "3.6.5"
  }
 },
 "nbformat": 4,
 "nbformat_minor": 2
}
