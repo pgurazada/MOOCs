{
 "cells": [
  {
   "cell_type": "code",
   "execution_count": 1,
   "metadata": {
    "collapsed": true
   },
   "outputs": [],
   "source": [
    "import pandas as pd\n",
    "import numpy as np"
   ]
  },
  {
   "cell_type": "code",
   "execution_count": 2,
   "metadata": {},
   "outputs": [],
   "source": [
    "from sklearn.linear_model import LogisticRegressionCV\n",
    "from sklearn.model_selection import train_test_split, RepeatedKFold\n",
    "from sklearn.metrics import cohen_kappa_score, make_scorer\n",
    "\n",
    "from imblearn.over_sampling import SMOTE"
   ]
  },
  {
   "cell_type": "code",
   "execution_count": 3,
   "metadata": {
    "collapsed": true
   },
   "outputs": [],
   "source": [
    "def compute_kappa(course_df):\n",
    "    data_clean = pd.get_dummies(course_df)\n",
    "        \n",
    "    labels = np.array(data_clean.engaged)\n",
    "    features = np.array(data_clean.drop('engaged', axis = 1))\n",
    "        \n",
    "    features_train, features_test, labels_train, labels_test = train_test_split(features, labels, \n",
    "                                                                                train_size = 0.8, \n",
    "                                                                                random_state = 20130810)\n",
    "    \n",
    "    sm = SMOTE(random_state = 20130810)\n",
    "    features_train_smote, labels_train_smote = sm.fit_sample(features_train, labels_train) \n",
    "        \n",
    "    logit = LogisticRegressionCV(cv = RepeatedKFold(n_splits = 10, \n",
    "                                                    n_repeats = 3, \n",
    "                                                    random_state=20130810), \n",
    "                                 solver = \"lbfgs\", \n",
    "                                 scoring = make_scorer(cohen_kappa_score),\n",
    "                                 n_jobs = 3, \n",
    "                                 random_state = 20130810)\n",
    "        \n",
    "    logit.fit(features_train_smote, labels_train_smote)\n",
    "    \n",
    "    scores = np.array(list(logit.scores_.values()))\n",
    "     \n",
    "    return scores.mean(), scores.min(), scores.max(), cohen_kappa_score(logit.predict(features_test), labels_test)"
   ]
  },
  {
   "cell_type": "code",
   "execution_count": 4,
   "metadata": {
    "collapsed": true
   },
   "outputs": [],
   "source": [
    "course_metrics = {\"course_name\": [], \n",
    "                  \"kappa_train\": [], \n",
    "                  \"min_kappa_train\": [],\n",
    "                  \"max_kappa_train\": [],\n",
    "                  \"kappa_test\": []}"
   ]
  },
  {
   "cell_type": "markdown",
   "metadata": {},
   "source": [
    "### 1. CB22x - The Ancient Greek Hero"
   ]
  },
  {
   "cell_type": "code",
   "execution_count": 5,
   "metadata": {},
   "outputs": [],
   "source": [
    "cb22x = pd.read_feather(\"data/HarvardX_CB22x_2013_Spring.feather\")"
   ]
  },
  {
   "cell_type": "code",
   "execution_count": 6,
   "metadata": {},
   "outputs": [
    {
     "name": "stderr",
     "output_type": "stream",
     "text": [
      "C:\\Users\\kimmcodxb\\Anaconda3\\lib\\site-packages\\sklearn\\model_selection\\_split.py:2026: FutureWarning: From version 0.21, test_size will always complement train_size unless both are specified.\n",
      "  FutureWarning)\n"
     ]
    },
    {
     "name": "stdout",
     "output_type": "stream",
     "text": [
      "Wall time: 12.8 s\n"
     ]
    }
   ],
   "source": [
    "%%time\n",
    "best_k_train, min_k_train, max_k_train, k_test = compute_kappa(cb22x)"
   ]
  },
  {
   "cell_type": "code",
   "execution_count": 7,
   "metadata": {
    "collapsed": true
   },
   "outputs": [],
   "source": [
    "course_metrics[\"course_name\"].append('HarvardCB22x')\n",
    "course_metrics[\"kappa_train\"].append(best_k_train)\n",
    "course_metrics[\"min_kappa_train\"].append(min_k_train)\n",
    "course_metrics[\"max_kappa_train\"].append(max_k_train)\n",
    "course_metrics[\"kappa_test\"].append(k_test)"
   ]
  },
  {
   "cell_type": "markdown",
   "metadata": {},
   "source": [
    "### 2. CS50x - Introduction to Computer Science I"
   ]
  },
  {
   "cell_type": "code",
   "execution_count": 50,
   "metadata": {
    "collapsed": true
   },
   "outputs": [],
   "source": [
    "cs50x = pd.read_feather(\"data/HarvardX_CS50x_2012.feather\")"
   ]
  },
  {
   "cell_type": "code",
   "execution_count": 51,
   "metadata": {},
   "outputs": [
    {
     "name": "stderr",
     "output_type": "stream",
     "text": [
      "C:\\Users\\kimmcodxb\\Anaconda3\\lib\\site-packages\\sklearn\\model_selection\\_split.py:2026: FutureWarning: From version 0.21, test_size will always complement train_size unless both are specified.\n",
      "  FutureWarning)\n"
     ]
    },
    {
     "name": "stdout",
     "output_type": "stream",
     "text": [
      "Wall time: 1min 38s\n"
     ]
    }
   ],
   "source": [
    "%%time\n",
    "best_k_train, min_k_train, max_k_train, k_test = compute_kappa(cs50x)"
   ]
  },
  {
   "cell_type": "code",
   "execution_count": 52,
   "metadata": {
    "collapsed": true
   },
   "outputs": [],
   "source": [
    "course_metrics[\"course_name\"].append('HarvardCS50x')\n",
    "course_metrics[\"kappa_train\"].append(best_k_train)\n",
    "course_metrics[\"min_kappa_train\"].append(min_k_train)\n",
    "course_metrics[\"max_kappa_train\"].append(max_k_train)\n",
    "course_metrics[\"kappa_test\"].append(k_test)"
   ]
  },
  {
   "cell_type": "markdown",
   "metadata": {},
   "source": [
    "### 3. ER22x - Justice"
   ]
  },
  {
   "cell_type": "code",
   "execution_count": 8,
   "metadata": {
    "collapsed": true
   },
   "outputs": [],
   "source": [
    "er22x = pd.read_feather(\"data/HarvardX_ER22x_2013_Spring.feather\")"
   ]
  },
  {
   "cell_type": "code",
   "execution_count": 9,
   "metadata": {},
   "outputs": [
    {
     "name": "stderr",
     "output_type": "stream",
     "text": [
      "C:\\Users\\kimmcodxb\\Anaconda3\\lib\\site-packages\\sklearn\\model_selection\\_split.py:2026: FutureWarning: From version 0.21, test_size will always complement train_size unless both are specified.\n",
      "  FutureWarning)\n"
     ]
    },
    {
     "name": "stdout",
     "output_type": "stream",
     "text": [
      "Wall time: 19.6 s\n"
     ]
    }
   ],
   "source": [
    "%%time\n",
    "best_k_train, min_k_train, max_k_train, k_test = compute_kappa(er22x)"
   ]
  },
  {
   "cell_type": "code",
   "execution_count": 10,
   "metadata": {
    "collapsed": true
   },
   "outputs": [],
   "source": [
    "course_metrics[\"course_name\"].append('HarvardER22x')\n",
    "course_metrics[\"kappa_train\"].append(best_k_train)\n",
    "course_metrics[\"min_kappa_train\"].append(min_k_train)\n",
    "course_metrics[\"max_kappa_train\"].append(max_k_train)\n",
    "course_metrics[\"kappa_test\"].append(k_test)"
   ]
  },
  {
   "cell_type": "markdown",
   "metadata": {},
   "source": [
    "### 4. PH207x - Health in Numbers: Quantitative Methods in Clinical & Public Health Research"
   ]
  },
  {
   "cell_type": "code",
   "execution_count": 11,
   "metadata": {
    "collapsed": true
   },
   "outputs": [],
   "source": [
    "ph207x = pd.read_feather(\"data/HarvardX_PH207x_2012_Fall.feather\")"
   ]
  },
  {
   "cell_type": "code",
   "execution_count": 12,
   "metadata": {},
   "outputs": [
    {
     "name": "stderr",
     "output_type": "stream",
     "text": [
      "C:\\Users\\kimmcodxb\\Anaconda3\\lib\\site-packages\\sklearn\\model_selection\\_split.py:2026: FutureWarning: From version 0.21, test_size will always complement train_size unless both are specified.\n",
      "  FutureWarning)\n"
     ]
    },
    {
     "name": "stdout",
     "output_type": "stream",
     "text": [
      "Wall time: 19.6 s\n"
     ]
    }
   ],
   "source": [
    "%%time\n",
    "best_k_train, min_k_train, max_k_train, k_test = compute_kappa(ph207x)"
   ]
  },
  {
   "cell_type": "code",
   "execution_count": 13,
   "metadata": {
    "collapsed": true
   },
   "outputs": [],
   "source": [
    "course_metrics[\"course_name\"].append('HarvardPH207x')\n",
    "course_metrics[\"kappa_train\"].append(best_k_train)\n",
    "course_metrics[\"min_kappa_train\"].append(min_k_train)\n",
    "course_metrics[\"max_kappa_train\"].append(max_k_train)\n",
    "course_metrics[\"kappa_test\"].append(k_test)"
   ]
  },
  {
   "cell_type": "markdown",
   "metadata": {},
   "source": [
    "### 5. PH278x - Human Health and Global Environmental Change"
   ]
  },
  {
   "cell_type": "code",
   "execution_count": 14,
   "metadata": {
    "collapsed": true
   },
   "outputs": [],
   "source": [
    "ph278x = pd.read_feather(\"data/HarvardX_PH278x_2013_Spring.feather\")"
   ]
  },
  {
   "cell_type": "code",
   "execution_count": 15,
   "metadata": {},
   "outputs": [
    {
     "name": "stderr",
     "output_type": "stream",
     "text": [
      "C:\\Users\\kimmcodxb\\Anaconda3\\lib\\site-packages\\sklearn\\model_selection\\_split.py:2026: FutureWarning: From version 0.21, test_size will always complement train_size unless both are specified.\n",
      "  FutureWarning)\n"
     ]
    },
    {
     "name": "stdout",
     "output_type": "stream",
     "text": [
      "Wall time: 17.2 s\n"
     ]
    }
   ],
   "source": [
    "%%time\n",
    "best_k_train, min_k_train, max_k_train, k_test = compute_kappa(ph278x)"
   ]
  },
  {
   "cell_type": "code",
   "execution_count": 16,
   "metadata": {
    "collapsed": true
   },
   "outputs": [],
   "source": [
    "course_metrics[\"course_name\"].append('HarvardPH278x')\n",
    "course_metrics[\"kappa_train\"].append(best_k_train)\n",
    "course_metrics[\"min_kappa_train\"].append(min_k_train)\n",
    "course_metrics[\"max_kappa_train\"].append(max_k_train)\n",
    "course_metrics[\"kappa_test\"].append(k_test)"
   ]
  },
  {
   "cell_type": "markdown",
   "metadata": {},
   "source": [
    "### 6. 6.002x (Fall) - Circuits and Electronics"
   ]
  },
  {
   "cell_type": "code",
   "execution_count": 17,
   "metadata": {
    "collapsed": true
   },
   "outputs": [],
   "source": [
    "mit6002x = pd.read_feather(\"data/MITx_6_002x_2012_Fall.feather\")"
   ]
  },
  {
   "cell_type": "code",
   "execution_count": 18,
   "metadata": {},
   "outputs": [
    {
     "name": "stderr",
     "output_type": "stream",
     "text": [
      "C:\\Users\\kimmcodxb\\Anaconda3\\lib\\site-packages\\sklearn\\model_selection\\_split.py:2026: FutureWarning: From version 0.21, test_size will always complement train_size unless both are specified.\n",
      "  FutureWarning)\n"
     ]
    },
    {
     "name": "stdout",
     "output_type": "stream",
     "text": [
      "Wall time: 16.3 s\n"
     ]
    }
   ],
   "source": [
    "%%time\n",
    "best_k_train, min_k_train, max_k_train, k_test = compute_kappa(mit6002x)"
   ]
  },
  {
   "cell_type": "code",
   "execution_count": 19,
   "metadata": {
    "collapsed": true
   },
   "outputs": [],
   "source": [
    "course_metrics[\"course_name\"].append('MIT6002x_Fall')\n",
    "course_metrics[\"kappa_train\"].append(best_k_train)\n",
    "course_metrics[\"min_kappa_train\"].append(min_k_train)\n",
    "course_metrics[\"max_kappa_train\"].append(max_k_train)\n",
    "course_metrics[\"kappa_test\"].append(k_test)"
   ]
  },
  {
   "cell_type": "markdown",
   "metadata": {},
   "source": [
    "### 7. 6.002x (Spring) - Circuits and Electronics"
   ]
  },
  {
   "cell_type": "code",
   "execution_count": 20,
   "metadata": {
    "collapsed": true
   },
   "outputs": [],
   "source": [
    "mit6002x = pd.read_feather(\"data/MITx_6_002x_2013_Spring.feather\")"
   ]
  },
  {
   "cell_type": "code",
   "execution_count": 21,
   "metadata": {},
   "outputs": [
    {
     "name": "stderr",
     "output_type": "stream",
     "text": [
      "C:\\Users\\kimmcodxb\\Anaconda3\\lib\\site-packages\\sklearn\\model_selection\\_split.py:2026: FutureWarning: From version 0.21, test_size will always complement train_size unless both are specified.\n",
      "  FutureWarning)\n"
     ]
    },
    {
     "name": "stdout",
     "output_type": "stream",
     "text": [
      "Wall time: 11.2 s\n"
     ]
    }
   ],
   "source": [
    "%%time\n",
    "best_k_train, min_k_train, max_k_train, k_test = compute_kappa(mit6002x)"
   ]
  },
  {
   "cell_type": "code",
   "execution_count": 22,
   "metadata": {
    "collapsed": true
   },
   "outputs": [],
   "source": [
    "course_metrics[\"course_name\"].append('MIT6002x_Spring')\n",
    "course_metrics[\"kappa_train\"].append(best_k_train)\n",
    "course_metrics[\"min_kappa_train\"].append(min_k_train)\n",
    "course_metrics[\"max_kappa_train\"].append(max_k_train)\n",
    "course_metrics[\"kappa_test\"].append(k_test)"
   ]
  },
  {
   "cell_type": "markdown",
   "metadata": {},
   "source": [
    "### 8. 14.73x - The Challenges of Global Poverty"
   ]
  },
  {
   "cell_type": "code",
   "execution_count": 23,
   "metadata": {
    "collapsed": true
   },
   "outputs": [],
   "source": [
    "mit1473x = pd.read_feather(\"data/MITx_14_73x_2013_Spring.feather\")"
   ]
  },
  {
   "cell_type": "code",
   "execution_count": 24,
   "metadata": {},
   "outputs": [
    {
     "name": "stderr",
     "output_type": "stream",
     "text": [
      "C:\\Users\\kimmcodxb\\Anaconda3\\lib\\site-packages\\sklearn\\model_selection\\_split.py:2026: FutureWarning: From version 0.21, test_size will always complement train_size unless both are specified.\n",
      "  FutureWarning)\n"
     ]
    },
    {
     "name": "stdout",
     "output_type": "stream",
     "text": [
      "Wall time: 16.2 s\n"
     ]
    }
   ],
   "source": [
    "%%time\n",
    "best_k_train, min_k_train, max_k_train, k_test = compute_kappa(mit1473x)"
   ]
  },
  {
   "cell_type": "code",
   "execution_count": 25,
   "metadata": {
    "collapsed": true
   },
   "outputs": [],
   "source": [
    "course_metrics[\"course_name\"].append('MIT1473x')\n",
    "course_metrics[\"kappa_train\"].append(best_k_train)\n",
    "course_metrics[\"min_kappa_train\"].append(min_k_train)\n",
    "course_metrics[\"max_kappa_train\"].append(max_k_train)\n",
    "course_metrics[\"kappa_test\"].append(k_test)"
   ]
  },
  {
   "cell_type": "markdown",
   "metadata": {},
   "source": [
    "### 9. 2.01x - Elements of Structures"
   ]
  },
  {
   "cell_type": "code",
   "execution_count": 26,
   "metadata": {
    "collapsed": true
   },
   "outputs": [],
   "source": [
    "mit201x = pd.read_feather(\"data/MITx_2_01x_2013_Spring.feather\")"
   ]
  },
  {
   "cell_type": "code",
   "execution_count": 27,
   "metadata": {},
   "outputs": [
    {
     "name": "stderr",
     "output_type": "stream",
     "text": [
      "C:\\Users\\kimmcodxb\\Anaconda3\\lib\\site-packages\\sklearn\\model_selection\\_split.py:2026: FutureWarning: From version 0.21, test_size will always complement train_size unless both are specified.\n",
      "  FutureWarning)\n"
     ]
    },
    {
     "name": "stdout",
     "output_type": "stream",
     "text": [
      "Wall time: 7.42 s\n"
     ]
    }
   ],
   "source": [
    "%%time\n",
    "best_k_train, min_k_train, max_k_train, k_test = compute_kappa(mit201x)"
   ]
  },
  {
   "cell_type": "code",
   "execution_count": 28,
   "metadata": {
    "collapsed": true
   },
   "outputs": [],
   "source": [
    "course_metrics[\"course_name\"].append('MIT201x')\n",
    "course_metrics[\"kappa_train\"].append(best_k_train)\n",
    "course_metrics[\"min_kappa_train\"].append(min_k_train)\n",
    "course_metrics[\"max_kappa_train\"].append(max_k_train)\n",
    "course_metrics[\"kappa_test\"].append(k_test)"
   ]
  },
  {
   "cell_type": "markdown",
   "metadata": {},
   "source": [
    "### 10. 3.091x(Fall) - Introduction to Solid State Chemistry"
   ]
  },
  {
   "cell_type": "code",
   "execution_count": 29,
   "metadata": {},
   "outputs": [],
   "source": [
    "mit3091x = pd.read_feather(\"data/MITx_3_091x_2012_Fall.feather\")"
   ]
  },
  {
   "cell_type": "code",
   "execution_count": 30,
   "metadata": {},
   "outputs": [
    {
     "name": "stderr",
     "output_type": "stream",
     "text": [
      "C:\\Users\\kimmcodxb\\Anaconda3\\lib\\site-packages\\sklearn\\model_selection\\_split.py:2026: FutureWarning: From version 0.21, test_size will always complement train_size unless both are specified.\n",
      "  FutureWarning)\n"
     ]
    },
    {
     "name": "stdout",
     "output_type": "stream",
     "text": [
      "Wall time: 9.94 s\n"
     ]
    }
   ],
   "source": [
    "%%time\n",
    "best_k_train, min_k_train, max_k_train, k_test = compute_kappa(mit3091x)"
   ]
  },
  {
   "cell_type": "code",
   "execution_count": 31,
   "metadata": {
    "collapsed": true
   },
   "outputs": [],
   "source": [
    "course_metrics[\"course_name\"].append('MIT3091x_Fall')\n",
    "course_metrics[\"kappa_train\"].append(best_k_train)\n",
    "course_metrics[\"min_kappa_train\"].append(min_k_train)\n",
    "course_metrics[\"max_kappa_train\"].append(max_k_train)\n",
    "course_metrics[\"kappa_test\"].append(k_test)"
   ]
  },
  {
   "cell_type": "markdown",
   "metadata": {},
   "source": [
    "### 11. 3.091x (Spring) - Introduction to Solid State Chemistry"
   ]
  },
  {
   "cell_type": "code",
   "execution_count": 32,
   "metadata": {
    "collapsed": true
   },
   "outputs": [],
   "source": [
    "mit3091x = pd.read_feather(\"data/MITx_3_091x_2013_Spring.feather\")"
   ]
  },
  {
   "cell_type": "code",
   "execution_count": 33,
   "metadata": {},
   "outputs": [
    {
     "name": "stderr",
     "output_type": "stream",
     "text": [
      "C:\\Users\\kimmcodxb\\Anaconda3\\lib\\site-packages\\sklearn\\model_selection\\_split.py:2026: FutureWarning: From version 0.21, test_size will always complement train_size unless both are specified.\n",
      "  FutureWarning)\n"
     ]
    },
    {
     "name": "stdout",
     "output_type": "stream",
     "text": [
      "Wall time: 9.1 s\n"
     ]
    }
   ],
   "source": [
    "%%time\n",
    "best_k_train, min_k_train, max_k_train, k_test = compute_kappa(mit3091x)"
   ]
  },
  {
   "cell_type": "code",
   "execution_count": 34,
   "metadata": {
    "collapsed": true
   },
   "outputs": [],
   "source": [
    "course_metrics[\"course_name\"].append('MIT3091x_Spring')\n",
    "course_metrics[\"kappa_train\"].append(best_k_train)\n",
    "course_metrics[\"min_kappa_train\"].append(min_k_train)\n",
    "course_metrics[\"max_kappa_train\"].append(max_k_train)\n",
    "course_metrics[\"kappa_test\"].append(k_test)"
   ]
  },
  {
   "cell_type": "markdown",
   "metadata": {},
   "source": [
    "### 12. 6.00x (Fall) - Introduction to Computer Science and Programming"
   ]
  },
  {
   "cell_type": "code",
   "execution_count": 35,
   "metadata": {
    "collapsed": true
   },
   "outputs": [],
   "source": [
    "mit600x = pd.read_feather(\"data/MITx_6_00x_2012_Fall.feather\")"
   ]
  },
  {
   "cell_type": "code",
   "execution_count": 36,
   "metadata": {},
   "outputs": [
    {
     "name": "stderr",
     "output_type": "stream",
     "text": [
      "C:\\Users\\kimmcodxb\\Anaconda3\\lib\\site-packages\\sklearn\\model_selection\\_split.py:2026: FutureWarning: From version 0.21, test_size will always complement train_size unless both are specified.\n",
      "  FutureWarning)\n"
     ]
    },
    {
     "name": "stdout",
     "output_type": "stream",
     "text": [
      "Wall time: 26.1 s\n"
     ]
    }
   ],
   "source": [
    "%%time\n",
    "best_k_train, min_k_train, max_k_train, k_test = compute_kappa(mit600x)"
   ]
  },
  {
   "cell_type": "code",
   "execution_count": 37,
   "metadata": {
    "collapsed": true
   },
   "outputs": [],
   "source": [
    "course_metrics[\"course_name\"].append('MIT600x_Fall')\n",
    "course_metrics[\"kappa_train\"].append(best_k_train)\n",
    "course_metrics[\"min_kappa_train\"].append(min_k_train)\n",
    "course_metrics[\"max_kappa_train\"].append(max_k_train)\n",
    "course_metrics[\"kappa_test\"].append(k_test)"
   ]
  },
  {
   "cell_type": "markdown",
   "metadata": {},
   "source": [
    "### 13. 6.00x (Spring) - Introduction to Computer Science and Programming"
   ]
  },
  {
   "cell_type": "code",
   "execution_count": 38,
   "metadata": {
    "collapsed": true
   },
   "outputs": [],
   "source": [
    "mit600x = pd.read_feather(\"data/MITx_6_00x_2013_Spring.feather\")"
   ]
  },
  {
   "cell_type": "code",
   "execution_count": 39,
   "metadata": {},
   "outputs": [
    {
     "name": "stderr",
     "output_type": "stream",
     "text": [
      "C:\\Users\\kimmcodxb\\Anaconda3\\lib\\site-packages\\sklearn\\model_selection\\_split.py:2026: FutureWarning: From version 0.21, test_size will always complement train_size unless both are specified.\n",
      "  FutureWarning)\n"
     ]
    },
    {
     "name": "stdout",
     "output_type": "stream",
     "text": [
      "Wall time: 31.4 s\n"
     ]
    }
   ],
   "source": [
    "%%time\n",
    "best_k_train, min_k_train, max_k_train, k_test = compute_kappa(mit600x)"
   ]
  },
  {
   "cell_type": "code",
   "execution_count": 40,
   "metadata": {
    "collapsed": true
   },
   "outputs": [],
   "source": [
    "course_metrics[\"course_name\"].append('MIT600x_Spring')\n",
    "course_metrics[\"kappa_train\"].append(best_k_train)\n",
    "course_metrics[\"min_kappa_train\"].append(min_k_train)\n",
    "course_metrics[\"max_kappa_train\"].append(max_k_train)\n",
    "course_metrics[\"kappa_test\"].append(k_test)"
   ]
  },
  {
   "cell_type": "markdown",
   "metadata": {},
   "source": [
    "### 14. 8.02x - Electricity and Magnetism"
   ]
  },
  {
   "cell_type": "code",
   "execution_count": 41,
   "metadata": {
    "collapsed": true
   },
   "outputs": [],
   "source": [
    "mit802x = pd.read_feather(\"data/MITx_8_02x_2013_Spring.feather\")"
   ]
  },
  {
   "cell_type": "code",
   "execution_count": 42,
   "metadata": {},
   "outputs": [
    {
     "name": "stderr",
     "output_type": "stream",
     "text": [
      "C:\\Users\\kimmcodxb\\Anaconda3\\lib\\site-packages\\sklearn\\model_selection\\_split.py:2026: FutureWarning: From version 0.21, test_size will always complement train_size unless both are specified.\n",
      "  FutureWarning)\n"
     ]
    },
    {
     "name": "stdout",
     "output_type": "stream",
     "text": [
      "Wall time: 12.5 s\n"
     ]
    }
   ],
   "source": [
    "%%time\n",
    "best_k_train, min_k_train, max_k_train, k_test = compute_kappa(mit802x)"
   ]
  },
  {
   "cell_type": "code",
   "execution_count": 43,
   "metadata": {
    "collapsed": true
   },
   "outputs": [],
   "source": [
    "course_metrics[\"course_name\"].append('MIT802x')\n",
    "course_metrics[\"kappa_train\"].append(best_k_train)\n",
    "course_metrics[\"min_kappa_train\"].append(min_k_train)\n",
    "course_metrics[\"max_kappa_train\"].append(max_k_train)\n",
    "course_metrics[\"kappa_test\"].append(k_test)"
   ]
  },
  {
   "cell_type": "markdown",
   "metadata": {},
   "source": [
    "### 15. 7.00x - Introduction to Biology - The Secret of Life"
   ]
  },
  {
   "cell_type": "code",
   "execution_count": 44,
   "metadata": {
    "collapsed": true
   },
   "outputs": [],
   "source": [
    "mit700x = pd.read_feather(\"data/MITx_7_00x_2013_Spring.feather\")"
   ]
  },
  {
   "cell_type": "code",
   "execution_count": 45,
   "metadata": {},
   "outputs": [
    {
     "name": "stderr",
     "output_type": "stream",
     "text": [
      "C:\\Users\\kimmcodxb\\Anaconda3\\lib\\site-packages\\sklearn\\model_selection\\_split.py:2026: FutureWarning: From version 0.21, test_size will always complement train_size unless both are specified.\n",
      "  FutureWarning)\n"
     ]
    },
    {
     "name": "stdout",
     "output_type": "stream",
     "text": [
      "Wall time: 10.6 s\n"
     ]
    }
   ],
   "source": [
    "%%time\n",
    "best_k_train, min_k_train, max_k_train, k_test = compute_kappa(mit700x)"
   ]
  },
  {
   "cell_type": "code",
   "execution_count": 46,
   "metadata": {
    "collapsed": true
   },
   "outputs": [],
   "source": [
    "course_metrics[\"course_name\"].append('MIT700x')\n",
    "course_metrics[\"kappa_train\"].append(best_k_train)\n",
    "course_metrics[\"min_kappa_train\"].append(min_k_train)\n",
    "course_metrics[\"max_kappa_train\"].append(max_k_train)\n",
    "course_metrics[\"kappa_test\"].append(k_test)"
   ]
  },
  {
   "cell_type": "markdown",
   "metadata": {},
   "source": [
    "### 16. 8.MReVx - Mechanics ReView"
   ]
  },
  {
   "cell_type": "code",
   "execution_count": 47,
   "metadata": {
    "collapsed": true
   },
   "outputs": [],
   "source": [
    "mit8mrevx = pd.read_feather(\"data/MITx_8_MReV_2013_Summer.feather\")"
   ]
  },
  {
   "cell_type": "code",
   "execution_count": 48,
   "metadata": {},
   "outputs": [
    {
     "name": "stderr",
     "output_type": "stream",
     "text": [
      "C:\\Users\\kimmcodxb\\Anaconda3\\lib\\site-packages\\sklearn\\model_selection\\_split.py:2026: FutureWarning: From version 0.21, test_size will always complement train_size unless both are specified.\n",
      "  FutureWarning)\n"
     ]
    },
    {
     "name": "stdout",
     "output_type": "stream",
     "text": [
      "Wall time: 8.83 s\n"
     ]
    }
   ],
   "source": [
    "%%time\n",
    "best_k_train, min_k_train, max_k_train, k_test = compute_kappa(mit8mrevx)"
   ]
  },
  {
   "cell_type": "code",
   "execution_count": 49,
   "metadata": {
    "collapsed": true
   },
   "outputs": [],
   "source": [
    "course_metrics[\"course_name\"].append('MIT8MReVx')\n",
    "course_metrics[\"kappa_train\"].append(best_k_train)\n",
    "course_metrics[\"min_kappa_train\"].append(min_k_train)\n",
    "course_metrics[\"max_kappa_train\"].append(max_k_train)\n",
    "course_metrics[\"kappa_test\"].append(k_test)"
   ]
  },
  {
   "cell_type": "code",
   "execution_count": 53,
   "metadata": {
    "collapsed": true
   },
   "outputs": [],
   "source": [
    "course_kappa = pd.DataFrame(course_metrics)"
   ]
  },
  {
   "cell_type": "code",
   "execution_count": 54,
   "metadata": {},
   "outputs": [
    {
     "data": {
      "text/html": [
       "<div>\n",
       "<style scoped>\n",
       "    .dataframe tbody tr th:only-of-type {\n",
       "        vertical-align: middle;\n",
       "    }\n",
       "\n",
       "    .dataframe tbody tr th {\n",
       "        vertical-align: top;\n",
       "    }\n",
       "\n",
       "    .dataframe thead th {\n",
       "        text-align: right;\n",
       "    }\n",
       "</style>\n",
       "<table border=\"1\" class=\"dataframe\">\n",
       "  <thead>\n",
       "    <tr style=\"text-align: right;\">\n",
       "      <th></th>\n",
       "      <th>course_name</th>\n",
       "      <th>kappa_test</th>\n",
       "      <th>kappa_train</th>\n",
       "      <th>max_kappa_train</th>\n",
       "      <th>min_kappa_train</th>\n",
       "    </tr>\n",
       "  </thead>\n",
       "  <tbody>\n",
       "    <tr>\n",
       "      <th>0</th>\n",
       "      <td>HarvardCB22x</td>\n",
       "      <td>0.247319</td>\n",
       "      <td>0.266218</td>\n",
       "      <td>0.303618</td>\n",
       "      <td>0.225833</td>\n",
       "    </tr>\n",
       "    <tr>\n",
       "      <th>1</th>\n",
       "      <td>HarvardER22x</td>\n",
       "      <td>0.333764</td>\n",
       "      <td>0.299750</td>\n",
       "      <td>0.339236</td>\n",
       "      <td>0.262693</td>\n",
       "    </tr>\n",
       "    <tr>\n",
       "      <th>2</th>\n",
       "      <td>HarvardPH207x</td>\n",
       "      <td>0.258221</td>\n",
       "      <td>0.255883</td>\n",
       "      <td>0.301488</td>\n",
       "      <td>0.218846</td>\n",
       "    </tr>\n",
       "    <tr>\n",
       "      <th>3</th>\n",
       "      <td>HarvardPH278x</td>\n",
       "      <td>0.316544</td>\n",
       "      <td>0.308415</td>\n",
       "      <td>0.350407</td>\n",
       "      <td>0.268030</td>\n",
       "    </tr>\n",
       "    <tr>\n",
       "      <th>4</th>\n",
       "      <td>MIT6002x_Fall</td>\n",
       "      <td>0.152924</td>\n",
       "      <td>0.176815</td>\n",
       "      <td>0.214076</td>\n",
       "      <td>0.133857</td>\n",
       "    </tr>\n",
       "    <tr>\n",
       "      <th>5</th>\n",
       "      <td>MIT6002x_Spring</td>\n",
       "      <td>0.291395</td>\n",
       "      <td>0.261856</td>\n",
       "      <td>0.316901</td>\n",
       "      <td>0.197402</td>\n",
       "    </tr>\n",
       "    <tr>\n",
       "      <th>6</th>\n",
       "      <td>MIT1473x</td>\n",
       "      <td>0.204762</td>\n",
       "      <td>0.197428</td>\n",
       "      <td>0.242079</td>\n",
       "      <td>0.153263</td>\n",
       "    </tr>\n",
       "    <tr>\n",
       "      <th>7</th>\n",
       "      <td>MIT201x</td>\n",
       "      <td>0.202658</td>\n",
       "      <td>0.238913</td>\n",
       "      <td>0.340479</td>\n",
       "      <td>0.134789</td>\n",
       "    </tr>\n",
       "    <tr>\n",
       "      <th>8</th>\n",
       "      <td>MIT3091x_Fall</td>\n",
       "      <td>0.282511</td>\n",
       "      <td>0.237547</td>\n",
       "      <td>0.291945</td>\n",
       "      <td>0.176380</td>\n",
       "    </tr>\n",
       "    <tr>\n",
       "      <th>9</th>\n",
       "      <td>MIT3091x_Spring</td>\n",
       "      <td>0.452515</td>\n",
       "      <td>0.918208</td>\n",
       "      <td>0.958165</td>\n",
       "      <td>0.881573</td>\n",
       "    </tr>\n",
       "    <tr>\n",
       "      <th>10</th>\n",
       "      <td>MIT600x_Fall</td>\n",
       "      <td>0.307231</td>\n",
       "      <td>0.306530</td>\n",
       "      <td>0.334915</td>\n",
       "      <td>0.276583</td>\n",
       "    </tr>\n",
       "    <tr>\n",
       "      <th>11</th>\n",
       "      <td>MIT600x_Spring</td>\n",
       "      <td>0.595688</td>\n",
       "      <td>0.926092</td>\n",
       "      <td>0.934946</td>\n",
       "      <td>0.915901</td>\n",
       "    </tr>\n",
       "    <tr>\n",
       "      <th>12</th>\n",
       "      <td>MIT802x</td>\n",
       "      <td>0.164219</td>\n",
       "      <td>0.181248</td>\n",
       "      <td>0.231008</td>\n",
       "      <td>0.121676</td>\n",
       "    </tr>\n",
       "    <tr>\n",
       "      <th>13</th>\n",
       "      <td>MIT700x</td>\n",
       "      <td>0.228752</td>\n",
       "      <td>0.219430</td>\n",
       "      <td>0.278767</td>\n",
       "      <td>0.167607</td>\n",
       "    </tr>\n",
       "    <tr>\n",
       "      <th>14</th>\n",
       "      <td>MIT8MReVx</td>\n",
       "      <td>0.207887</td>\n",
       "      <td>0.262416</td>\n",
       "      <td>0.331774</td>\n",
       "      <td>0.155491</td>\n",
       "    </tr>\n",
       "    <tr>\n",
       "      <th>15</th>\n",
       "      <td>HarvardCS50x</td>\n",
       "      <td>0.287261</td>\n",
       "      <td>0.300252</td>\n",
       "      <td>0.315176</td>\n",
       "      <td>0.275942</td>\n",
       "    </tr>\n",
       "  </tbody>\n",
       "</table>\n",
       "</div>"
      ],
      "text/plain": [
       "        course_name  kappa_test  kappa_train  max_kappa_train  min_kappa_train\n",
       "0      HarvardCB22x    0.247319     0.266218         0.303618         0.225833\n",
       "1      HarvardER22x    0.333764     0.299750         0.339236         0.262693\n",
       "2     HarvardPH207x    0.258221     0.255883         0.301488         0.218846\n",
       "3     HarvardPH278x    0.316544     0.308415         0.350407         0.268030\n",
       "4     MIT6002x_Fall    0.152924     0.176815         0.214076         0.133857\n",
       "5   MIT6002x_Spring    0.291395     0.261856         0.316901         0.197402\n",
       "6          MIT1473x    0.204762     0.197428         0.242079         0.153263\n",
       "7           MIT201x    0.202658     0.238913         0.340479         0.134789\n",
       "8     MIT3091x_Fall    0.282511     0.237547         0.291945         0.176380\n",
       "9   MIT3091x_Spring    0.452515     0.918208         0.958165         0.881573\n",
       "10     MIT600x_Fall    0.307231     0.306530         0.334915         0.276583\n",
       "11   MIT600x_Spring    0.595688     0.926092         0.934946         0.915901\n",
       "12          MIT802x    0.164219     0.181248         0.231008         0.121676\n",
       "13          MIT700x    0.228752     0.219430         0.278767         0.167607\n",
       "14        MIT8MReVx    0.207887     0.262416         0.331774         0.155491\n",
       "15     HarvardCS50x    0.287261     0.300252         0.315176         0.275942"
      ]
     },
     "execution_count": 54,
     "metadata": {},
     "output_type": "execute_result"
    }
   ],
   "source": [
    "course_kappa"
   ]
  },
  {
   "cell_type": "code",
   "execution_count": 55,
   "metadata": {
    "collapsed": true
   },
   "outputs": [],
   "source": [
    "course_kappa.to_feather(\"data/course_logit_kappa.feather\")"
   ]
  }
 ],
 "metadata": {
  "kernelspec": {
   "display_name": "Python 3",
   "language": "python",
   "name": "python3"
  },
  "language_info": {
   "codemirror_mode": {
    "name": "ipython",
    "version": 3
   },
   "file_extension": ".py",
   "mimetype": "text/x-python",
   "name": "python",
   "nbconvert_exporter": "python",
   "pygments_lexer": "ipython3",
   "version": "3.6.3"
  }
 },
 "nbformat": 4,
 "nbformat_minor": 2
}
