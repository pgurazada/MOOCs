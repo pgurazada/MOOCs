{
 "cells": [
  {
   "cell_type": "code",
   "execution_count": 9,
   "metadata": {},
   "outputs": [],
   "source": [
    "library(tidyverse)\n",
    "\n",
    "theme_set(theme_bw())"
   ]
  },
  {
   "cell_type": "code",
   "execution_count": 30,
   "metadata": {},
   "outputs": [],
   "source": [
    "options(repr.plot.width=9, repr.plot.height=5)"
   ]
  },
  {
   "cell_type": "code",
   "execution_count": 24,
   "metadata": {},
   "outputs": [
    {
     "name": "stderr",
     "output_type": "stream",
     "text": [
      "Warning message:\n",
      "\"Missing column names filled in: 'X1' [1]\"Parsed with column specification:\n",
      "cols(\n",
      "  X1 = col_integer(),\n",
      "  index = col_integer(),\n",
      "  F1_test = col_double(),\n",
      "  F1_train_max = col_double(),\n",
      "  F1_train_mean = col_double(),\n",
      "  F1_train_min = col_double(),\n",
      "  course_name = col_character()\n",
      ")\n"
     ]
    }
   ],
   "source": [
    "course_metrics = read_csv('course_metrics.csv')"
   ]
  },
  {
   "cell_type": "code",
   "execution_count": 25,
   "metadata": {},
   "outputs": [],
   "source": [
    "course_metrics %>% arrange(desc(F1_test)) %>% select(course_name, everything(), -X1, -index) -> course_metrics"
   ]
  },
  {
   "cell_type": "code",
   "execution_count": 26,
   "metadata": {},
   "outputs": [
    {
     "data": {
      "text/html": [
       "<table>\n",
       "<thead><tr><th scope=col>course_name</th><th scope=col>F1_test</th><th scope=col>F1_train_max</th><th scope=col>F1_train_mean</th><th scope=col>F1_train_min</th></tr></thead>\n",
       "<tbody>\n",
       "\t<tr><td>MITx3.091x2013_Spring    </td><td>0.9753859                </td><td>0.9812260                </td><td>0.9812260                </td><td>0.9812260                </td></tr>\n",
       "\t<tr><td>MITx6.00x2013_Spring     </td><td>0.9751346                </td><td>0.9732832                </td><td>0.9726885                </td><td>0.9720391                </td></tr>\n",
       "\t<tr><td>MITx8.MReV2013_Summer    </td><td>0.8357384                </td><td>0.8279221                </td><td>0.8278654                </td><td>0.8275637                </td></tr>\n",
       "\t<tr><td>MITx2.01x2013_Spring     </td><td>0.8271222                </td><td>0.8073178                </td><td>0.8072221                </td><td>0.8072115                </td></tr>\n",
       "\t<tr><td>MITx8.02x2013_Spring     </td><td>0.8042607                </td><td>0.8012897                </td><td>0.8011750                </td><td>0.8007148                </td></tr>\n",
       "\t<tr><td>MITx7.00x2013_Spring     </td><td>0.7695992                </td><td>0.7700450                </td><td>0.7677496                </td><td>0.7649842                </td></tr>\n",
       "\t<tr><td>MITx6.002x2012_Fall      </td><td>0.7680404                </td><td>0.7748539                </td><td>0.7742887                </td><td>0.7739223                </td></tr>\n",
       "\t<tr><td>HarvardXCS50x2012        </td><td>0.7666133                </td><td>0.7668476                </td><td>0.7667022                </td><td>0.7665251                </td></tr>\n",
       "\t<tr><td>MITx6.00x2012_Fall       </td><td>0.7547084                </td><td>0.7580777                </td><td>0.7574572                </td><td>0.7568864                </td></tr>\n",
       "\t<tr><td>HarvardXER22x2013_Spring </td><td>0.7351105                </td><td>0.7363516                </td><td>0.7352096                </td><td>0.7343067                </td></tr>\n",
       "\t<tr><td>HarvardXPH207x2012_Fall  </td><td>0.7321908                </td><td>0.7326502                </td><td>0.7322496                </td><td>0.7313491                </td></tr>\n",
       "\t<tr><td>HarvardXCB22x2013_Spring </td><td>0.7188178                </td><td>0.7139382                </td><td>0.7133656                </td><td>0.7122226                </td></tr>\n",
       "\t<tr><td>MITx14.73x2013_Spring    </td><td>0.7172230                </td><td>0.7164954                </td><td>0.7146907                </td><td>0.7111411                </td></tr>\n",
       "\t<tr><td>MITx6.002x2013_Spring    </td><td>0.6249396                </td><td>0.6240368                </td><td>0.6229783                </td><td>0.6220832                </td></tr>\n",
       "\t<tr><td>MITx3.091x2012_Fall      </td><td>0.6045066                </td><td>0.6035637                </td><td>0.5975359                </td><td>0.5941458                </td></tr>\n",
       "\t<tr><td>HarvardXPH278x2013_Spring</td><td>0.5072034                </td><td>0.5182961                </td><td>0.5148648                </td><td>0.5120010                </td></tr>\n",
       "</tbody>\n",
       "</table>\n"
      ],
      "text/latex": [
       "\\begin{tabular}{r|lllll}\n",
       " course\\_name & F1\\_test & F1\\_train\\_max & F1\\_train\\_mean & F1\\_train\\_min\\\\\n",
       "\\hline\n",
       "\t MITx3.091x2013\\_Spring     & 0.9753859                   & 0.9812260                   & 0.9812260                   & 0.9812260                  \\\\\n",
       "\t MITx6.00x2013\\_Spring      & 0.9751346                   & 0.9732832                   & 0.9726885                   & 0.9720391                  \\\\\n",
       "\t MITx8.MReV2013\\_Summer     & 0.8357384                   & 0.8279221                   & 0.8278654                   & 0.8275637                  \\\\\n",
       "\t MITx2.01x2013\\_Spring      & 0.8271222                   & 0.8073178                   & 0.8072221                   & 0.8072115                  \\\\\n",
       "\t MITx8.02x2013\\_Spring      & 0.8042607                   & 0.8012897                   & 0.8011750                   & 0.8007148                  \\\\\n",
       "\t MITx7.00x2013\\_Spring      & 0.7695992                   & 0.7700450                   & 0.7677496                   & 0.7649842                  \\\\\n",
       "\t MITx6.002x2012\\_Fall       & 0.7680404                   & 0.7748539                   & 0.7742887                   & 0.7739223                  \\\\\n",
       "\t HarvardXCS50x2012         & 0.7666133                 & 0.7668476                 & 0.7667022                 & 0.7665251                \\\\\n",
       "\t MITx6.00x2012\\_Fall        & 0.7547084                   & 0.7580777                   & 0.7574572                   & 0.7568864                  \\\\\n",
       "\t HarvardXER22x2013\\_Spring  & 0.7351105                   & 0.7363516                   & 0.7352096                   & 0.7343067                  \\\\\n",
       "\t HarvardXPH207x2012\\_Fall   & 0.7321908                   & 0.7326502                   & 0.7322496                   & 0.7313491                  \\\\\n",
       "\t HarvardXCB22x2013\\_Spring  & 0.7188178                   & 0.7139382                   & 0.7133656                   & 0.7122226                  \\\\\n",
       "\t MITx14.73x2013\\_Spring     & 0.7172230                   & 0.7164954                   & 0.7146907                   & 0.7111411                  \\\\\n",
       "\t MITx6.002x2013\\_Spring     & 0.6249396                   & 0.6240368                   & 0.6229783                   & 0.6220832                  \\\\\n",
       "\t MITx3.091x2012\\_Fall       & 0.6045066                   & 0.6035637                   & 0.5975359                   & 0.5941458                  \\\\\n",
       "\t HarvardXPH278x2013\\_Spring & 0.5072034                   & 0.5182961                   & 0.5148648                   & 0.5120010                  \\\\\n",
       "\\end{tabular}\n"
      ],
      "text/markdown": [
       "\n",
       "course_name | F1_test | F1_train_max | F1_train_mean | F1_train_min | \n",
       "|---|---|---|---|---|---|---|---|---|---|---|---|---|---|---|---|\n",
       "| MITx3.091x2013_Spring     | 0.9753859                 | 0.9812260                 | 0.9812260                 | 0.9812260                 | \n",
       "| MITx6.00x2013_Spring      | 0.9751346                 | 0.9732832                 | 0.9726885                 | 0.9720391                 | \n",
       "| MITx8.MReV2013_Summer     | 0.8357384                 | 0.8279221                 | 0.8278654                 | 0.8275637                 | \n",
       "| MITx2.01x2013_Spring      | 0.8271222                 | 0.8073178                 | 0.8072221                 | 0.8072115                 | \n",
       "| MITx8.02x2013_Spring      | 0.8042607                 | 0.8012897                 | 0.8011750                 | 0.8007148                 | \n",
       "| MITx7.00x2013_Spring      | 0.7695992                 | 0.7700450                 | 0.7677496                 | 0.7649842                 | \n",
       "| MITx6.002x2012_Fall       | 0.7680404                 | 0.7748539                 | 0.7742887                 | 0.7739223                 | \n",
       "| HarvardXCS50x2012         | 0.7666133                 | 0.7668476                 | 0.7667022                 | 0.7665251                 | \n",
       "| MITx6.00x2012_Fall        | 0.7547084                 | 0.7580777                 | 0.7574572                 | 0.7568864                 | \n",
       "| HarvardXER22x2013_Spring  | 0.7351105                 | 0.7363516                 | 0.7352096                 | 0.7343067                 | \n",
       "| HarvardXPH207x2012_Fall   | 0.7321908                 | 0.7326502                 | 0.7322496                 | 0.7313491                 | \n",
       "| HarvardXCB22x2013_Spring  | 0.7188178                 | 0.7139382                 | 0.7133656                 | 0.7122226                 | \n",
       "| MITx14.73x2013_Spring     | 0.7172230                 | 0.7164954                 | 0.7146907                 | 0.7111411                 | \n",
       "| MITx6.002x2013_Spring     | 0.6249396                 | 0.6240368                 | 0.6229783                 | 0.6220832                 | \n",
       "| MITx3.091x2012_Fall       | 0.6045066                 | 0.6035637                 | 0.5975359                 | 0.5941458                 | \n",
       "| HarvardXPH278x2013_Spring | 0.5072034                 | 0.5182961                 | 0.5148648                 | 0.5120010                 | \n",
       "\n",
       "\n"
      ],
      "text/plain": [
       "   course_name               F1_test   F1_train_max F1_train_mean F1_train_min\n",
       "1  MITx3.091x2013_Spring     0.9753859 0.9812260    0.9812260     0.9812260   \n",
       "2  MITx6.00x2013_Spring      0.9751346 0.9732832    0.9726885     0.9720391   \n",
       "3  MITx8.MReV2013_Summer     0.8357384 0.8279221    0.8278654     0.8275637   \n",
       "4  MITx2.01x2013_Spring      0.8271222 0.8073178    0.8072221     0.8072115   \n",
       "5  MITx8.02x2013_Spring      0.8042607 0.8012897    0.8011750     0.8007148   \n",
       "6  MITx7.00x2013_Spring      0.7695992 0.7700450    0.7677496     0.7649842   \n",
       "7  MITx6.002x2012_Fall       0.7680404 0.7748539    0.7742887     0.7739223   \n",
       "8  HarvardXCS50x2012         0.7666133 0.7668476    0.7667022     0.7665251   \n",
       "9  MITx6.00x2012_Fall        0.7547084 0.7580777    0.7574572     0.7568864   \n",
       "10 HarvardXER22x2013_Spring  0.7351105 0.7363516    0.7352096     0.7343067   \n",
       "11 HarvardXPH207x2012_Fall   0.7321908 0.7326502    0.7322496     0.7313491   \n",
       "12 HarvardXCB22x2013_Spring  0.7188178 0.7139382    0.7133656     0.7122226   \n",
       "13 MITx14.73x2013_Spring     0.7172230 0.7164954    0.7146907     0.7111411   \n",
       "14 MITx6.002x2013_Spring     0.6249396 0.6240368    0.6229783     0.6220832   \n",
       "15 MITx3.091x2012_Fall       0.6045066 0.6035637    0.5975359     0.5941458   \n",
       "16 HarvardXPH278x2013_Spring 0.5072034 0.5182961    0.5148648     0.5120010   "
      ]
     },
     "metadata": {},
     "output_type": "display_data"
    }
   ],
   "source": [
    "course_metrics"
   ]
  },
  {
   "cell_type": "code",
   "execution_count": 38,
   "metadata": {},
   "outputs": [],
   "source": [
    "ggplot(course_metrics) +\n",
    "geom_pointrange(aes(x = course_name, y = F1_test, ymin = F1_train_min, ymax = F1_train_max)) +\n",
    "labs(x = 'Course',\n",
    "     y = 'F1 score',\n",
    "     title= 'Estimated F1 score from Random Forests on the test set',\n",
    "     subtitle = '(error bars indicate variance among training scores)') + \n",
    "coord_flip() -> f1_plot"
   ]
  },
  {
   "cell_type": "code",
   "execution_count": 39,
   "metadata": {},
   "outputs": [],
   "source": [
    "ggsave('2018-05-30_f1-score-plot.png', width = 10, height = 7)"
   ]
  }
 ],
 "metadata": {
  "kernelspec": {
   "display_name": "R",
   "language": "R",
   "name": "ir"
  },
  "language_info": {
   "codemirror_mode": "r",
   "file_extension": ".r",
   "mimetype": "text/x-r-source",
   "name": "R",
   "pygments_lexer": "r",
   "version": "3.3.2"
  }
 },
 "nbformat": 4,
 "nbformat_minor": 2
}
