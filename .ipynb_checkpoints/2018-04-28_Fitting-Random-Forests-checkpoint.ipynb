{
 "cells": [
  {
   "cell_type": "markdown",
   "metadata": {},
   "source": [
    "Based on preliminary analysis of the data, we conclude that using random forest classifiers is the best way to classify drop-out. Given the imbalance in classes and the importance of misclassification of drop-outs, we use the Kappa estimator as  the benchmark to train the model."
   ]
  },
  {
   "cell_type": "code",
   "execution_count": 1,
   "metadata": {},
   "outputs": [],
   "source": [
    "import pandas as pd\n",
    "import numpy as np"
   ]
  },
  {
   "cell_type": "code",
   "execution_count": null,
   "metadata": {},
   "outputs": [],
   "source": [
    "from sklearn.ensemble import RandomForestClassifier\n",
    "from sklearn.model_selection import train_test_split, RepeatedKFold, GridSearchCV\n",
    "from sklearn.metrics import cohen_kappa_score, make_scorer\n",
    "\n",
    "from imblearn.over_sampling import SMOTE"
   ]
  },
  {
   "cell_type": "code",
   "execution_count": null,
   "metadata": {},
   "outputs": [],
   "source": [
    "def compute_kappa(course_df):\n",
    "    data_clean = pd.get_dummies(course_df)\n",
    "        \n",
    "    labels = np.array(data_clean.engaged)\n",
    "    features = np.array(data_clean.drop('engaged', axis = 1))\n",
    "        \n",
    "    features_train, features_test, labels_train, labels_test = train_test_split(features, labels, \n",
    "                                                                                train_size = 0.8, \n",
    "                                                                                random_state = 20130810)\n",
    "    \n",
    "    sm = SMOTE(random_state = 20130810)\n",
    "    features_train_smote, labels_train_smote = sm.fit_sample(features_train, labels_train) \n",
    "        \n",
    "    grid_search = GridSearchCV(RandomForestClassifier(n_jobs = 3, \n",
    "                                                      n_estimators = 500,\n",
    "                                                      warm_start = True,\n",
    "                                                      random_state = 20130810),\n",
    "                               param_grid = {'max_features': [6, 8, 10, 12]},\n",
    "                               cv = RepeatedKFold(n_splits = 10, \n",
    "                                                  n_repeats = 3, \n",
    "                                                  random_state=20130810),\n",
    "                               scoring = make_scorer(cohen_kappa_score))\n",
    "        \n",
    "    grid_search.fit(features_train_smote, labels_train_smote)\n",
    "        \n",
    "    kappa_train = max(grid_search.cv_results_['mean_test_score'])\n",
    "        \n",
    "    kappa_test = cohen_kappa_score(grid_search.best_estimator_.predict(features_test), labels_test)\n",
    "    \n",
    "    cv_result = grid_search.cv_results_\n",
    "    \n",
    "    all_splits_result = [max(cv_result[k]) for k in cv_result.keys() if 'split' in k and 'test_score' in k]\n",
    "    \n",
    "    return kappa_train, min(all_splits_result), max(all_splits_result), kappa_test"
   ]
  },
  {
   "cell_type": "code",
   "execution_count": null,
   "metadata": {},
   "outputs": [],
   "source": [
    "course_metrics = {\"course_name\": [], \n",
    "                  \"kappa_train\": [], \n",
    "                  \"min_kappa_train\": [],\n",
    "                  \"max_kappa_train\": [],\n",
    "                  \"kappa_test\": []}"
   ]
  },
  {
   "cell_type": "markdown",
   "metadata": {},
   "source": [
    "### 1. CB22x - The Ancient Greek Hero"
   ]
  },
  {
   "cell_type": "code",
   "execution_count": null,
   "metadata": {},
   "outputs": [],
   "source": [
    "cb22x = pd.read_feather(\"data/HarvardX_CB22x_2013_Spring.feather\")"
   ]
  },
  {
   "cell_type": "code",
   "execution_count": null,
   "metadata": {},
   "outputs": [],
   "source": [
    "%%time\n",
    "best_k_train, min_k_train, max_k_train, k_test = compute_kappa(cb22x)"
   ]
  },
  {
   "cell_type": "code",
   "execution_count": null,
   "metadata": {},
   "outputs": [],
   "source": [
    "course_metrics[\"course_name\"].append('HarvardCB22x')\n",
    "course_metrics[\"kappa_train\"].append(best_k_train)\n",
    "course_metrics[\"min_kappa_train\"].append(min_k_train)\n",
    "course_metrics[\"max_kappa_train\"].append(max_k_train)\n",
    "course_metrics[\"kappa_test\"].append(k_test)"
   ]
  },
  {
   "cell_type": "markdown",
   "metadata": {},
   "source": [
    "### 2. CS50x - Introduction to Computer Science I"
   ]
  },
  {
   "cell_type": "code",
   "execution_count": null,
   "metadata": {},
   "outputs": [],
   "source": [
    "cs50x = pd.read_feather(\"data/HarvardX_CS50x_2012.feather\")"
   ]
  },
  {
   "cell_type": "code",
   "execution_count": null,
   "metadata": {},
   "outputs": [],
   "source": [
    "%%time\n",
    "best_k_train, min_k_train, max_k_train, k_test = compute_kappa(cs50x)"
   ]
  },
  {
   "cell_type": "code",
   "execution_count": null,
   "metadata": {},
   "outputs": [],
   "source": [
    "course_metrics[\"course_name\"].append('HarvardCS50x')\n",
    "course_metrics[\"kappa_train\"].append(best_k_train)\n",
    "course_metrics[\"min_kappa_train\"].append(min_k_train)\n",
    "course_metrics[\"max_kappa_train\"].append(max_k_train)\n",
    "course_metrics[\"kappa_test\"].append(k_test)"
   ]
  },
  {
   "cell_type": "markdown",
   "metadata": {},
   "source": [
    "### 3. ER22x - Justice"
   ]
  },
  {
   "cell_type": "code",
   "execution_count": null,
   "metadata": {},
   "outputs": [],
   "source": [
    "er22x = pd.read_feather(\"data/HarvardX_ER22x_2013_Spring.feather\")"
   ]
  },
  {
   "cell_type": "code",
   "execution_count": null,
   "metadata": {},
   "outputs": [],
   "source": [
    "%%time\n",
    "best_k_train, min_k_train, max_k_train, k_test = compute_kappa(er22x)"
   ]
  },
  {
   "cell_type": "code",
   "execution_count": null,
   "metadata": {},
   "outputs": [],
   "source": [
    "course_metrics[\"course_name\"].append('HarvardER22x')\n",
    "course_metrics[\"kappa_train\"].append(best_k_train)\n",
    "course_metrics[\"min_kappa_train\"].append(min_k_train)\n",
    "course_metrics[\"max_kappa_train\"].append(max_k_train)\n",
    "course_metrics[\"kappa_test\"].append(k_test)"
   ]
  },
  {
   "cell_type": "markdown",
   "metadata": {},
   "source": [
    "### 4. PH207x - Health in Numbers: Quantitative Methods in Clinical & Public Health Research"
   ]
  },
  {
   "cell_type": "code",
   "execution_count": null,
   "metadata": {},
   "outputs": [],
   "source": [
    "ph207x = pd.read_feather(\"data/HarvardX_PH207x_2012_Fall.feather\")"
   ]
  },
  {
   "cell_type": "code",
   "execution_count": null,
   "metadata": {},
   "outputs": [],
   "source": [
    "%%time\n",
    "best_k_train, min_k_train, max_k_train, k_test = compute_kappa(ph207x)"
   ]
  },
  {
   "cell_type": "code",
   "execution_count": null,
   "metadata": {},
   "outputs": [],
   "source": [
    "course_metrics[\"course_name\"].append('HarvardPH207x')\n",
    "course_metrics[\"kappa_train\"].append(best_k_train)\n",
    "course_metrics[\"min_kappa_train\"].append(min_k_train)\n",
    "course_metrics[\"max_kappa_train\"].append(max_k_train)\n",
    "course_metrics[\"kappa_test\"].append(k_test)"
   ]
  },
  {
   "cell_type": "markdown",
   "metadata": {},
   "source": [
    "### 5. PH278x - Human Health and Global Environmental Change"
   ]
  },
  {
   "cell_type": "code",
   "execution_count": null,
   "metadata": {},
   "outputs": [],
   "source": [
    "ph278x = pd.read_feather(\"data/HarvardX_PH278x_2013_Spring.feather\")"
   ]
  },
  {
   "cell_type": "code",
   "execution_count": null,
   "metadata": {},
   "outputs": [],
   "source": [
    "%%time\n",
    "best_k_train, min_k_train, max_k_train, k_test = compute_kappa(ph278x)"
   ]
  },
  {
   "cell_type": "code",
   "execution_count": null,
   "metadata": {},
   "outputs": [],
   "source": [
    "course_metrics[\"course_name\"].append('HarvardPH278x')\n",
    "course_metrics[\"kappa_train\"].append(best_k_train)\n",
    "course_metrics[\"min_kappa_train\"].append(min_k_train)\n",
    "course_metrics[\"max_kappa_train\"].append(max_k_train)\n",
    "course_metrics[\"kappa_test\"].append(k_test)"
   ]
  },
  {
   "cell_type": "markdown",
   "metadata": {},
   "source": [
    "### 6. 6.002x (Fall) - Circuits and Electronics"
   ]
  },
  {
   "cell_type": "code",
   "execution_count": null,
   "metadata": {},
   "outputs": [],
   "source": [
    "mit6002x = pd.read_feather(\"data/MITx_6_002x_2012_Fall.feather\")"
   ]
  },
  {
   "cell_type": "code",
   "execution_count": null,
   "metadata": {},
   "outputs": [],
   "source": [
    "%%time\n",
    "best_k_train, min_k_train, max_k_train, k_test = compute_kappa(mit6002x)"
   ]
  },
  {
   "cell_type": "code",
   "execution_count": null,
   "metadata": {},
   "outputs": [],
   "source": [
    "course_metrics[\"course_name\"].append('MIT6002x_Fall')\n",
    "course_metrics[\"kappa_train\"].append(best_k_train)\n",
    "course_metrics[\"min_kappa_train\"].append(min_k_train)\n",
    "course_metrics[\"max_kappa_train\"].append(max_k_train)\n",
    "course_metrics[\"kappa_test\"].append(k_test)"
   ]
  },
  {
   "cell_type": "markdown",
   "metadata": {},
   "source": [
    "### 7. 6.002x (Spring) - Circuits and Electronics"
   ]
  },
  {
   "cell_type": "code",
   "execution_count": null,
   "metadata": {},
   "outputs": [],
   "source": [
    "mit6002x = pd.read_feather(\"data/MITx_6_002x_2013_Spring.feather\")"
   ]
  },
  {
   "cell_type": "code",
   "execution_count": null,
   "metadata": {},
   "outputs": [],
   "source": [
    "%%time\n",
    "best_k_train, min_k_train, max_k_train, k_test = compute_kappa(mit6002x)"
   ]
  },
  {
   "cell_type": "code",
   "execution_count": null,
   "metadata": {},
   "outputs": [],
   "source": [
    "course_metrics[\"course_name\"].append('MIT6002x_Spring')\n",
    "course_metrics[\"kappa_train\"].append(best_k_train)\n",
    "course_metrics[\"min_kappa_train\"].append(min_k_train)\n",
    "course_metrics[\"max_kappa_train\"].append(max_k_train)\n",
    "course_metrics[\"kappa_test\"].append(k_test)"
   ]
  },
  {
   "cell_type": "markdown",
   "metadata": {},
   "source": [
    "### 8. 14.73x - The Challenges of Global Poverty"
   ]
  },
  {
   "cell_type": "code",
   "execution_count": null,
   "metadata": {},
   "outputs": [],
   "source": [
    "mit1473x = pd.read_feather(\"data/MITx_14_73x_2013_Spring.feather\")"
   ]
  },
  {
   "cell_type": "code",
   "execution_count": null,
   "metadata": {},
   "outputs": [],
   "source": [
    "%%time\n",
    "best_k_train, min_k_train, max_k_train, k_test = compute_kappa(mit1473x)"
   ]
  },
  {
   "cell_type": "code",
   "execution_count": null,
   "metadata": {},
   "outputs": [],
   "source": [
    "course_metrics[\"course_name\"].append('MIT1473x')\n",
    "course_metrics[\"kappa_train\"].append(best_k_train)\n",
    "course_metrics[\"min_kappa_train\"].append(min_k_train)\n",
    "course_metrics[\"max_kappa_train\"].append(max_k_train)\n",
    "course_metrics[\"kappa_test\"].append(k_test)"
   ]
  },
  {
   "cell_type": "markdown",
   "metadata": {},
   "source": [
    "### 9. 2.01x - Elements of Structures"
   ]
  },
  {
   "cell_type": "code",
   "execution_count": null,
   "metadata": {},
   "outputs": [],
   "source": [
    "mit201x = pd.read_feather(\"data/MITx_2_01x_2013_Spring.feather\")"
   ]
  },
  {
   "cell_type": "code",
   "execution_count": null,
   "metadata": {},
   "outputs": [],
   "source": [
    "%%time\n",
    "best_k_train, min_k_train, max_k_train, k_test = compute_kappa(mit201x)"
   ]
  },
  {
   "cell_type": "code",
   "execution_count": null,
   "metadata": {},
   "outputs": [],
   "source": [
    "course_metrics[\"course_name\"].append('MIT201x')\n",
    "course_metrics[\"kappa_train\"].append(best_k_train)\n",
    "course_metrics[\"min_kappa_train\"].append(min_k_train)\n",
    "course_metrics[\"max_kappa_train\"].append(max_k_train)\n",
    "course_metrics[\"kappa_test\"].append(k_test)"
   ]
  },
  {
   "cell_type": "markdown",
   "metadata": {},
   "source": [
    "### 10. 3.091x(Fall) - Introduction to Solid State Chemistry"
   ]
  },
  {
   "cell_type": "code",
   "execution_count": null,
   "metadata": {},
   "outputs": [],
   "source": [
    "mit3091x = pd.read_feather(\"data/MITx_3_091x_2012_Fall.feather\")"
   ]
  },
  {
   "cell_type": "code",
   "execution_count": null,
   "metadata": {},
   "outputs": [],
   "source": [
    "%%time\n",
    "best_k_train, min_k_train, max_k_train, k_test = compute_kappa(mit3091x)"
   ]
  },
  {
   "cell_type": "code",
   "execution_count": null,
   "metadata": {},
   "outputs": [],
   "source": [
    "course_metrics[\"course_name\"].append('MIT3091x_Fall')\n",
    "course_metrics[\"kappa_train\"].append(best_k_train)\n",
    "course_metrics[\"min_kappa_train\"].append(min_k_train)\n",
    "course_metrics[\"max_kappa_train\"].append(max_k_train)\n",
    "course_metrics[\"kappa_test\"].append(k_test)"
   ]
  },
  {
   "cell_type": "markdown",
   "metadata": {},
   "source": [
    "### 11. 3.091x (Spring) - Introduction to Solid State Chemistry"
   ]
  },
  {
   "cell_type": "code",
   "execution_count": null,
   "metadata": {},
   "outputs": [],
   "source": [
    "mit3091x = pd.read_feather(\"data/MITx_3_091x_2013_Spring.feather\")"
   ]
  },
  {
   "cell_type": "code",
   "execution_count": null,
   "metadata": {},
   "outputs": [],
   "source": [
    "%%time\n",
    "best_k_train, min_k_train, max_k_train, k_test = compute_kappa(mit3091x)"
   ]
  },
  {
   "cell_type": "code",
   "execution_count": null,
   "metadata": {},
   "outputs": [],
   "source": [
    "course_metrics[\"course_name\"].append('MIT3091x_Spring')\n",
    "course_metrics[\"kappa_train\"].append(best_k_train)\n",
    "course_metrics[\"min_kappa_train\"].append(min_k_train)\n",
    "course_metrics[\"max_kappa_train\"].append(max_k_train)\n",
    "course_metrics[\"kappa_test\"].append(k_test)"
   ]
  },
  {
   "cell_type": "markdown",
   "metadata": {},
   "source": [
    "### 12. 6.00x (Fall) - Introduction to Computer Science and Programming"
   ]
  },
  {
   "cell_type": "code",
   "execution_count": null,
   "metadata": {},
   "outputs": [],
   "source": [
    "mit600x = pd.read_feather(\"data/MITx_6_00x_2012_Fall.feather\")"
   ]
  },
  {
   "cell_type": "code",
   "execution_count": null,
   "metadata": {},
   "outputs": [],
   "source": [
    "%%time\n",
    "best_k_train, min_k_train, max_k_train, k_test = compute_kappa(mit600x)"
   ]
  },
  {
   "cell_type": "code",
   "execution_count": null,
   "metadata": {},
   "outputs": [],
   "source": [
    "course_metrics[\"course_name\"].append('MIT600x_Fall')\n",
    "course_metrics[\"kappa_train\"].append(best_k_train)\n",
    "course_metrics[\"min_kappa_train\"].append(min_k_train)\n",
    "course_metrics[\"max_kappa_train\"].append(max_k_train)\n",
    "course_metrics[\"kappa_test\"].append(k_test)"
   ]
  },
  {
   "cell_type": "markdown",
   "metadata": {},
   "source": [
    "### 13. 6.00x (Spring) - Introduction to Computer Science and Programming"
   ]
  },
  {
   "cell_type": "code",
   "execution_count": null,
   "metadata": {},
   "outputs": [],
   "source": [
    "mit600x = pd.read_feather(\"data/MITx_6_00x_2013_Spring.feather\")"
   ]
  },
  {
   "cell_type": "code",
   "execution_count": null,
   "metadata": {},
   "outputs": [],
   "source": [
    "%%time\n",
    "best_k_train, min_k_train, max_k_train, k_test = compute_kappa(mit600x)"
   ]
  },
  {
   "cell_type": "code",
   "execution_count": null,
   "metadata": {},
   "outputs": [],
   "source": [
    "course_metrics[\"course_name\"].append('MIT600x_Spring')\n",
    "course_metrics[\"kappa_train\"].append(best_k_train)\n",
    "course_metrics[\"min_kappa_train\"].append(min_k_train)\n",
    "course_metrics[\"max_kappa_train\"].append(max_k_train)\n",
    "course_metrics[\"kappa_test\"].append(k_test)"
   ]
  },
  {
   "cell_type": "markdown",
   "metadata": {},
   "source": [
    "### 14. 8.02x - Electricity and Magnetism"
   ]
  },
  {
   "cell_type": "code",
   "execution_count": null,
   "metadata": {},
   "outputs": [],
   "source": [
    "mit802x = pd.read_feather(\"data/MITx_8_02x_2013_Spring.feather\")"
   ]
  },
  {
   "cell_type": "code",
   "execution_count": null,
   "metadata": {},
   "outputs": [],
   "source": [
    "%%time\n",
    "best_k_train, min_k_train, max_k_train, k_test = compute_kappa(mit802x)"
   ]
  },
  {
   "cell_type": "code",
   "execution_count": null,
   "metadata": {},
   "outputs": [],
   "source": [
    "course_metrics[\"course_name\"].append('MIT802x')\n",
    "course_metrics[\"kappa_train\"].append(best_k_train)\n",
    "course_metrics[\"min_kappa_train\"].append(min_k_train)\n",
    "course_metrics[\"max_kappa_train\"].append(max_k_train)\n",
    "course_metrics[\"kappa_test\"].append(k_test)"
   ]
  },
  {
   "cell_type": "markdown",
   "metadata": {},
   "source": [
    "### 15. 7.00x - Introduction to Biology - The Secret of Life"
   ]
  },
  {
   "cell_type": "code",
   "execution_count": null,
   "metadata": {},
   "outputs": [],
   "source": [
    "mit700x = pd.read_feather(\"data/MITx_7_00x_2013_Spring.feather\")"
   ]
  },
  {
   "cell_type": "code",
   "execution_count": null,
   "metadata": {},
   "outputs": [],
   "source": [
    "%%time\n",
    "best_k_train, min_k_train, max_k_train, k_test = compute_kappa(mit700x)"
   ]
  },
  {
   "cell_type": "code",
   "execution_count": null,
   "metadata": {},
   "outputs": [],
   "source": [
    "course_metrics[\"course_name\"].append('MIT700x')\n",
    "course_metrics[\"kappa_train\"].append(best_k_train)\n",
    "course_metrics[\"min_kappa_train\"].append(min_k_train)\n",
    "course_metrics[\"max_kappa_train\"].append(max_k_train)\n",
    "course_metrics[\"kappa_test\"].append(k_test)"
   ]
  },
  {
   "cell_type": "markdown",
   "metadata": {},
   "source": [
    "### 16. 8.MReVx - Mechanics ReView"
   ]
  },
  {
   "cell_type": "code",
   "execution_count": null,
   "metadata": {},
   "outputs": [],
   "source": [
    "mit8mrevx = pd.read_feather(\"data/MITx_8_MReV_2013_Summer.feather\")"
   ]
  },
  {
   "cell_type": "code",
   "execution_count": null,
   "metadata": {},
   "outputs": [],
   "source": [
    "%%time\n",
    "best_k_train, min_k_train, max_k_train, k_test = compute_kappa(mit8mrevx)"
   ]
  },
  {
   "cell_type": "code",
   "execution_count": null,
   "metadata": {},
   "outputs": [],
   "source": [
    "course_metrics[\"course_name\"].append('MIT8MReVx')\n",
    "course_metrics[\"kappa_train\"].append(best_k_train)\n",
    "course_metrics[\"min_kappa_train\"].append(min_k_train)\n",
    "course_metrics[\"max_kappa_train\"].append(max_k_train)\n",
    "course_metrics[\"kappa_test\"].append(k_test)"
   ]
  },
  {
   "cell_type": "code",
   "execution_count": null,
   "metadata": {},
   "outputs": [],
   "source": [
    "course_kappa = pd.DataFrame(course_metrics)"
   ]
  },
  {
   "cell_type": "code",
   "execution_count": null,
   "metadata": {},
   "outputs": [],
   "source": [
    "course_kappa.to_feather(\"data/course_kappa.feather\")"
   ]
  },
  {
   "cell_type": "code",
   "execution_count": null,
   "metadata": {},
   "outputs": [],
   "source": []
  }
 ],
 "metadata": {
  "kernelspec": {
   "display_name": "Python 3",
   "language": "python",
   "name": "python3"
  },
  "language_info": {
   "codemirror_mode": {
    "name": "ipython",
    "version": 3
   },
   "file_extension": ".py",
   "mimetype": "text/x-python",
   "name": "python",
   "nbconvert_exporter": "python",
   "pygments_lexer": "ipython3",
   "version": "3.6.5"
  }
 },
 "nbformat": 4,
 "nbformat_minor": 2
}
