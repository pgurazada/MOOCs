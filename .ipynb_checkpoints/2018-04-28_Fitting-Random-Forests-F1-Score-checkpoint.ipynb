{
 "cells": [
  {
   "cell_type": "markdown",
   "metadata": {},
   "source": [
    "Based on preliminary analysis of the data, we conclude that using random forest classifiers is the best way to classify drop-out. Given the imbalance in classes and the importance of misclassification of drop-outs, we use the Kappa estimator as  the benchmark to train the model."
   ]
  },
  {
   "cell_type": "code",
   "execution_count": 1,
   "metadata": {},
   "outputs": [],
   "source": [
    "import pandas as pd\n",
    "import numpy as np"
   ]
  },
  {
   "cell_type": "code",
   "execution_count": 2,
   "metadata": {},
   "outputs": [],
   "source": [
    "# Algorithm\n",
    "\n",
    "from sklearn.ensemble import RandomForestClassifier"
   ]
  },
  {
   "cell_type": "code",
   "execution_count": 49,
   "metadata": {},
   "outputs": [],
   "source": [
    "# Model selection metrics\n",
    "\n",
    "from sklearn.model_selection import train_test_split, RandomizedSearchCV\n",
    "from sklearn.metrics import f1_score"
   ]
  },
  {
   "cell_type": "code",
   "execution_count": 55,
   "metadata": {},
   "outputs": [],
   "source": [
    "course_metrics = {'course_name': [], \n",
    "                  'F1_train_mean': [],\n",
    "                  'F1_train_sd' : [],\n",
    "                  'F1_test': []}"
   ]
  },
  {
   "cell_type": "markdown",
   "metadata": {},
   "source": [
    "### 1. CB22x - The Ancient Greek Hero"
   ]
  },
  {
   "cell_type": "code",
   "execution_count": 5,
   "metadata": {},
   "outputs": [],
   "source": [
    "cb22x_features_train = pd.read_feather('processed-final/HarvardXCB22x2013_Spring_features_train.feather')\n",
    "cb22x_features_test = pd.read_feather('processed-final/HarvardXCB22x2013_Spring_features_test.feather')\n",
    "cb22x_labels_train = pd.read_feather('processed-final/HarvardXCB22x2013_Spring_labels_train.feather')\n",
    "cb22x_labels_test = pd.read_feather('processed-final/HarvardXCB22x2013_Spring_labels_test.feather')"
   ]
  },
  {
   "cell_type": "code",
   "execution_count": 34,
   "metadata": {},
   "outputs": [],
   "source": [
    "features_train, features_test = cb22x_features_train.drop('index', axis=1), cb22x_features_test.drop('index', axis=1)\n",
    "labels_train, labels_test = cb22x_labels_train.drop('index', axis=1), cb22x_labels_test.drop('index', axis=1)\n",
    "\n",
    "features_train = np.array(features_train)\n",
    "features_test = np.array(features_test)\n",
    "\n",
    "labels_train = np.array(labels_train).ravel()\n",
    "labels_test = np.array(labels_test).ravel()"
   ]
  },
  {
   "cell_type": "code",
   "execution_count": 36,
   "metadata": {},
   "outputs": [],
   "source": [
    "pgrid = {'min_samples_leaf' : [20, 50, 100],\n",
    "         'min_samples_split' : [20, 30, 100],\n",
    "         'max_depth' : [25, 100, 200],\n",
    "         'n_estimators' : [500, 1000]}"
   ]
  },
  {
   "cell_type": "code",
   "execution_count": 37,
   "metadata": {},
   "outputs": [],
   "source": [
    "rf_classif = RandomForestClassifier(max_features='auto',\n",
    "                                    random_state=20130810,\n",
    "                                    n_jobs=-1)"
   ]
  },
  {
   "cell_type": "code",
   "execution_count": 38,
   "metadata": {},
   "outputs": [],
   "source": [
    "grid_cv = RandomizedSearchCV(estimator=rf_classif,\n",
    "                             param_distributions=pgrid,\n",
    "                             scoring={'F1' : 'f1',\n",
    "                                      'Precision' : 'precision',\n",
    "                                      'Recall' : 'recall'},\n",
    "                             refit='F1',\n",
    "                             n_iter=10,\n",
    "                             cv=5,\n",
    "                             random_state=20130810,\n",
    "                             n_jobs=-1)"
   ]
  },
  {
   "cell_type": "code",
   "execution_count": 39,
   "metadata": {},
   "outputs": [
    {
     "name": "stdout",
     "output_type": "stream",
     "text": [
      "Wall time: 4min 1s\n"
     ]
    },
    {
     "data": {
      "text/plain": [
       "RandomizedSearchCV(cv=5, error_score='raise',\n",
       "          estimator=RandomForestClassifier(bootstrap=True, class_weight=None, criterion='gini',\n",
       "            max_depth=None, max_features='auto', max_leaf_nodes=None,\n",
       "            min_impurity_decrease=0.0, min_impurity_split=None,\n",
       "            min_samples_leaf=1, min_samples_split=2,\n",
       "            min_weight_fraction_leaf=0.0, n_estimators=10, n_jobs=-1,\n",
       "            oob_score=False, random_state=20130810, verbose=0,\n",
       "            warm_start=False),\n",
       "          fit_params=None, iid=True, n_iter=10, n_jobs=-1,\n",
       "          param_distributions={'min_samples_leaf': [20, 50, 100], 'min_samples_split': [20, 30, 100], 'max_depth': [25, 100, 200], 'n_estimators': [500, 1000]},\n",
       "          pre_dispatch='2*n_jobs', random_state=20130810, refit='F1',\n",
       "          return_train_score=True,\n",
       "          scoring={'F1': 'f1', 'Precision': 'precision', 'Recall': 'recall'},\n",
       "          verbose=0)"
      ]
     },
     "execution_count": 39,
     "metadata": {},
     "output_type": "execute_result"
    }
   ],
   "source": [
    "%%time\n",
    "grid_cv.fit(features_train, labels_train)"
   ]
  },
  {
   "cell_type": "code",
   "execution_count": 40,
   "metadata": {},
   "outputs": [
    {
     "data": {
      "text/plain": [
       "RandomForestClassifier(bootstrap=True, class_weight=None, criterion='gini',\n",
       "            max_depth=25, max_features='auto', max_leaf_nodes=None,\n",
       "            min_impurity_decrease=0.0, min_impurity_split=None,\n",
       "            min_samples_leaf=50, min_samples_split=20,\n",
       "            min_weight_fraction_leaf=0.0, n_estimators=500, n_jobs=-1,\n",
       "            oob_score=False, random_state=20130810, verbose=0,\n",
       "            warm_start=False)"
      ]
     },
     "execution_count": 40,
     "metadata": {},
     "output_type": "execute_result"
    }
   ],
   "source": [
    "grid_cv.best_estimator_"
   ]
  },
  {
   "cell_type": "code",
   "execution_count": 41,
   "metadata": {},
   "outputs": [
    {
     "data": {
      "text/plain": [
       "0.7138532213501075"
      ]
     },
     "execution_count": 41,
     "metadata": {},
     "output_type": "execute_result"
    }
   ],
   "source": [
    "grid_cv.best_score_"
   ]
  },
  {
   "cell_type": "code",
   "execution_count": 52,
   "metadata": {},
   "outputs": [],
   "source": [
    "F1_test_score = f1_score(grid_cv.best_estimator_.predict(features_test), labels_test)"
   ]
  },
  {
   "cell_type": "code",
   "execution_count": 56,
   "metadata": {},
   "outputs": [],
   "source": [
    "course_metrics['course_name'].append('HarvardCB22x_2013_Spring')\n",
    "course_metrics['F1_train_mean'].append(grid_cv.cv_results_['mean_test_F1'].mean())\n",
    "course_metrics['F1_train_sd'].append(grid_cv.cv_results_['mean_test_F1'].std())\n",
    "course_metrics['F1_test'].append(F1_test_score)"
   ]
  },
  {
   "cell_type": "markdown",
   "metadata": {},
   "source": [
    "### 2. CS50x - Introduction to Computer Science I"
   ]
  },
  {
   "cell_type": "code",
   "execution_count": 58,
   "metadata": {},
   "outputs": [],
   "source": [
    "cs50x_features_train = pd.read_feather('processed-final/HarvardXCS50x2012_features_train.feather')\n",
    "cs50x_features_test = pd.read_feather('processed-final/HarvardXCS50x2012_features_test.feather')\n",
    "cs50x_labels_train = pd.read_feather('processed-final/HarvardXCS50x2012_labels_train.feather')\n",
    "cs50x_labels_test = pd.read_feather('processed-final/HarvardXCS50x2012_labels_test.feather')"
   ]
  },
  {
   "cell_type": "code",
   "execution_count": 59,
   "metadata": {},
   "outputs": [],
   "source": [
    "features_train, features_test = cs50x_features_train.drop('index', axis=1), cs50x_features_test.drop('index', axis=1)\n",
    "labels_train, labels_test = cs50x_labels_train.drop('index', axis=1), cs50x_labels_test.drop('index', axis=1)\n",
    "\n",
    "features_train = np.array(features_train)\n",
    "features_test = np.array(features_test)\n",
    "\n",
    "labels_train = np.array(labels_train).ravel()\n",
    "labels_test = np.array(labels_test).ravel()"
   ]
  },
  {
   "cell_type": "code",
   "execution_count": null,
   "metadata": {},
   "outputs": [],
   "source": [
    "pgrid = {'min_samples_leaf' : [20, 50, 100],\n",
    "         'min_samples_split' : [20, 30, 100],\n",
    "         'max_depth' : [25, 100, 200],\n",
    "         'n_estimators' : [500, 1000]}"
   ]
  },
  {
   "cell_type": "code",
   "execution_count": null,
   "metadata": {},
   "outputs": [],
   "source": [
    "rf_classif = RandomForestClassifier(max_features='auto',\n",
    "                                    random_state=20130810,\n",
    "                                    n_jobs=-1)"
   ]
  },
  {
   "cell_type": "code",
   "execution_count": null,
   "metadata": {},
   "outputs": [],
   "source": [
    "grid_cv = RandomizedSearchCV(estimator=rf_classif,\n",
    "                             param_distributions=pgrid,\n",
    "                             scoring={'F1' : 'f1',\n",
    "                                      'Precision' : 'precision',\n",
    "                                      'Recall' : 'recall'},\n",
    "                             refit='F1',\n",
    "                             n_iter=10,\n",
    "                             cv=5,\n",
    "                             random_state=20130810,\n",
    "                             n_jobs=-1)"
   ]
  },
  {
   "cell_type": "code",
   "execution_count": null,
   "metadata": {},
   "outputs": [],
   "source": [
    "%%time\n",
    "grid_cv.fit(features_train, labels_train)"
   ]
  },
  {
   "cell_type": "code",
   "execution_count": null,
   "metadata": {},
   "outputs": [],
   "source": [
    "grid_cv.best_estimator_"
   ]
  },
  {
   "cell_type": "code",
   "execution_count": 41,
   "metadata": {},
   "outputs": [
    {
     "data": {
      "text/plain": [
       "0.7138532213501075"
      ]
     },
     "execution_count": 41,
     "metadata": {},
     "output_type": "execute_result"
    }
   ],
   "source": [
    "grid_cv.best_score_"
   ]
  },
  {
   "cell_type": "code",
   "execution_count": 52,
   "metadata": {},
   "outputs": [],
   "source": [
    "F1_test_score = f1_score(grid_cv.best_estimator_.predict(features_test), labels_test)"
   ]
  },
  {
   "cell_type": "code",
   "execution_count": null,
   "metadata": {},
   "outputs": [],
   "source": [
    "cs50x = pd.read_feather(\"data/HarvardX_CS50x_2012.feather\")"
   ]
  },
  {
   "cell_type": "code",
   "execution_count": null,
   "metadata": {},
   "outputs": [],
   "source": [
    "%%time\n",
    "best_k_train, min_k_train, max_k_train, k_test = compute_kappa(cs50x)"
   ]
  },
  {
   "cell_type": "code",
   "execution_count": null,
   "metadata": {},
   "outputs": [],
   "source": [
    "course_metrics[\"course_name\"].append('HarvardCS50x')\n",
    "course_metrics[\"kappa_train\"].append(best_k_train)\n",
    "course_metrics[\"min_kappa_train\"].append(min_k_train)\n",
    "course_metrics[\"max_kappa_train\"].append(max_k_train)\n",
    "course_metrics[\"kappa_test\"].append(k_test)"
   ]
  },
  {
   "cell_type": "markdown",
   "metadata": {},
   "source": [
    "### 3. ER22x - Justice"
   ]
  },
  {
   "cell_type": "code",
   "execution_count": 62,
   "metadata": {},
   "outputs": [],
   "source": [
    "er22x_features_train = pd.read_feather('processed-final/HarvardXER22x2013_Spring_features_train.feather')\n",
    "er22x_features_test = pd.read_feather('processed-final/HarvardXER22x2013_Spring_features_test.feather')\n",
    "er22x_labels_train = pd.read_feather('processed-final/HarvardXER22x2013_Spring_labels_train.feather')\n",
    "er22x_labels_test = pd.read_feather('processed-final/HarvardXER22x2013_Spring_labels_test.feather')"
   ]
  },
  {
   "cell_type": "code",
   "execution_count": 63,
   "metadata": {},
   "outputs": [],
   "source": [
    "features_train, features_test = er22x_features_train.drop('index', axis=1), er22x_features_test.drop('index', axis=1)\n",
    "labels_train, labels_test = er22x_labels_train.drop('index', axis=1), er22x_labels_test.drop('index', axis=1)\n",
    "\n",
    "features_train = np.array(features_train)\n",
    "features_test = np.array(features_test)\n",
    "\n",
    "labels_train = np.array(labels_train).ravel()\n",
    "labels_test = np.array(labels_test).ravel()"
   ]
  },
  {
   "cell_type": "code",
   "execution_count": 65,
   "metadata": {},
   "outputs": [],
   "source": [
    "pgrid = {'min_samples_leaf' : [20, 50, 100],\n",
    "         'min_samples_split' : [20, 30, 100],\n",
    "         'max_depth' : [25, 100, 200],\n",
    "         'n_estimators' : [500, 1000]}"
   ]
  },
  {
   "cell_type": "code",
   "execution_count": 66,
   "metadata": {},
   "outputs": [],
   "source": [
    "rf_classif = RandomForestClassifier(max_features='auto',\n",
    "                                    random_state=20130810,\n",
    "                                    n_jobs=-1)"
   ]
  },
  {
   "cell_type": "code",
   "execution_count": 67,
   "metadata": {},
   "outputs": [],
   "source": [
    "grid_cv = RandomizedSearchCV(estimator=rf_classif,\n",
    "                             param_distributions=pgrid,\n",
    "                             scoring={'F1' : 'f1',\n",
    "                                      'Precision' : 'precision',\n",
    "                                      'Recall' : 'recall'},\n",
    "                             refit='F1',\n",
    "                             n_iter=10,\n",
    "                             cv=5,\n",
    "                             random_state=20130810,\n",
    "                             n_jobs=-1)"
   ]
  },
  {
   "cell_type": "code",
   "execution_count": 68,
   "metadata": {},
   "outputs": [
    {
     "name": "stdout",
     "output_type": "stream",
     "text": [
      "Wall time: 8min 31s\n"
     ]
    },
    {
     "data": {
      "text/plain": [
       "RandomizedSearchCV(cv=5, error_score='raise',\n",
       "          estimator=RandomForestClassifier(bootstrap=True, class_weight=None, criterion='gini',\n",
       "            max_depth=None, max_features='auto', max_leaf_nodes=None,\n",
       "            min_impurity_decrease=0.0, min_impurity_split=None,\n",
       "            min_samples_leaf=1, min_samples_split=2,\n",
       "            min_weight_fraction_leaf=0.0, n_estimators=10, n_jobs=-1,\n",
       "            oob_score=False, random_state=20130810, verbose=0,\n",
       "            warm_start=False),\n",
       "          fit_params=None, iid=True, n_iter=10, n_jobs=-1,\n",
       "          param_distributions={'min_samples_leaf': [20, 50, 100], 'min_samples_split': [20, 30, 100], 'max_depth': [25, 100, 200], 'n_estimators': [500, 1000]},\n",
       "          pre_dispatch='2*n_jobs', random_state=20130810, refit='F1',\n",
       "          return_train_score=True,\n",
       "          scoring={'F1': 'f1', 'Precision': 'precision', 'Recall': 'recall'},\n",
       "          verbose=0)"
      ]
     },
     "execution_count": 68,
     "metadata": {},
     "output_type": "execute_result"
    }
   ],
   "source": [
    "%%time\n",
    "grid_cv.fit(features_train, labels_train)"
   ]
  },
  {
   "cell_type": "code",
   "execution_count": 69,
   "metadata": {},
   "outputs": [
    {
     "data": {
      "text/plain": [
       "RandomForestClassifier(bootstrap=True, class_weight=None, criterion='gini',\n",
       "            max_depth=25, max_features='auto', max_leaf_nodes=None,\n",
       "            min_impurity_decrease=0.0, min_impurity_split=None,\n",
       "            min_samples_leaf=50, min_samples_split=20,\n",
       "            min_weight_fraction_leaf=0.0, n_estimators=500, n_jobs=-1,\n",
       "            oob_score=False, random_state=20130810, verbose=0,\n",
       "            warm_start=False)"
      ]
     },
     "execution_count": 69,
     "metadata": {},
     "output_type": "execute_result"
    }
   ],
   "source": [
    "grid_cv.best_estimator_"
   ]
  },
  {
   "cell_type": "code",
   "execution_count": 70,
   "metadata": {},
   "outputs": [
    {
     "data": {
      "text/plain": [
       "0.7363808326907595"
      ]
     },
     "execution_count": 70,
     "metadata": {},
     "output_type": "execute_result"
    }
   ],
   "source": [
    "grid_cv.best_score_"
   ]
  },
  {
   "cell_type": "code",
   "execution_count": 71,
   "metadata": {},
   "outputs": [],
   "source": [
    "F1_test_score = f1_score(grid_cv.best_estimator_.predict(features_test), labels_test)"
   ]
  },
  {
   "cell_type": "code",
   "execution_count": 73,
   "metadata": {},
   "outputs": [],
   "source": [
    "course_metrics['course_name'].append('HarvardER22x_2013_Spring')\n",
    "course_metrics['F1_train_mean'].append(grid_cv.cv_results_['mean_test_F1'].mean())\n",
    "course_metrics['F1_train_sd'].append(grid_cv.cv_results_['mean_test_F1'].std())\n",
    "course_metrics['F1_test'].append(F1_test_score)"
   ]
  },
  {
   "cell_type": "markdown",
   "metadata": {},
   "source": [
    "### 4. PH207x - Health in Numbers: Quantitative Methods in Clinical & Public Health Research"
   ]
  },
  {
   "cell_type": "code",
   "execution_count": 74,
   "metadata": {},
   "outputs": [],
   "source": [
    "ph207x_features_train = pd.read_feather('processed-final/HarvardXPH207x2012_Fall_features_train.feather')\n",
    "ph207x_features_test = pd.read_feather('processed-final/HarvardXPH207x2012_Fall_features_test.feather')\n",
    "ph207x_labels_train = pd.read_feather('processed-final/HarvardXPH207x2012_Fall_labels_train.feather')\n",
    "ph207x_labels_test = pd.read_feather('processed-final/HarvardXPH207x2012_Fall_labels_test.feather')"
   ]
  },
  {
   "cell_type": "code",
   "execution_count": 75,
   "metadata": {},
   "outputs": [],
   "source": [
    "features_train, features_test = ph207x_features_train.drop('index', axis=1), ph207x_features_test.drop('index', axis=1)\n",
    "labels_train, labels_test = ph207x_labels_train.drop('index', axis=1), ph207x_labels_test.drop('index', axis=1)\n",
    "\n",
    "features_train = np.array(features_train)\n",
    "features_test = np.array(features_test)\n",
    "\n",
    "labels_train = np.array(labels_train).ravel()\n",
    "labels_test = np.array(labels_test).ravel()"
   ]
  },
  {
   "cell_type": "code",
   "execution_count": 81,
   "metadata": {},
   "outputs": [],
   "source": [
    "pgrid = {'min_samples_leaf' : [50, 100, 200],\n",
    "         'min_samples_split' : [20, 30, 100],\n",
    "         'max_depth' : [25, 100, 200],\n",
    "         'n_estimators' : [500, 1000]}"
   ]
  },
  {
   "cell_type": "code",
   "execution_count": 82,
   "metadata": {},
   "outputs": [],
   "source": [
    "rf_classif = RandomForestClassifier(max_features='auto',\n",
    "                                    random_state=20130810,\n",
    "                                    n_jobs=-1)"
   ]
  },
  {
   "cell_type": "code",
   "execution_count": 83,
   "metadata": {},
   "outputs": [],
   "source": [
    "grid_cv = RandomizedSearchCV(estimator=rf_classif,\n",
    "                             param_distributions=pgrid,\n",
    "                             scoring={'F1' : 'f1',\n",
    "                                      'Precision' : 'precision',\n",
    "                                      'Recall' : 'recall'},\n",
    "                             refit='F1',\n",
    "                             n_iter=10,\n",
    "                             cv=5,\n",
    "                             random_state=20130810,\n",
    "                             n_jobs=-1)"
   ]
  },
  {
   "cell_type": "code",
   "execution_count": 84,
   "metadata": {},
   "outputs": [
    {
     "name": "stdout",
     "output_type": "stream",
     "text": [
      "Wall time: 5min 24s\n"
     ]
    },
    {
     "data": {
      "text/plain": [
       "RandomizedSearchCV(cv=5, error_score='raise',\n",
       "          estimator=RandomForestClassifier(bootstrap=True, class_weight=None, criterion='gini',\n",
       "            max_depth=None, max_features='auto', max_leaf_nodes=None,\n",
       "            min_impurity_decrease=0.0, min_impurity_split=None,\n",
       "            min_samples_leaf=1, min_samples_split=2,\n",
       "            min_weight_fraction_leaf=0.0, n_estimators=10, n_jobs=-1,\n",
       "            oob_score=False, random_state=20130810, verbose=0,\n",
       "            warm_start=False),\n",
       "          fit_params=None, iid=True, n_iter=10, n_jobs=-1,\n",
       "          param_distributions={'min_samples_leaf': [50, 100, 200], 'min_samples_split': [20, 30, 100], 'max_depth': [25, 100, 200], 'n_estimators': [500, 1000]},\n",
       "          pre_dispatch='2*n_jobs', random_state=20130810, refit='F1',\n",
       "          return_train_score=True,\n",
       "          scoring={'F1': 'f1', 'Precision': 'precision', 'Recall': 'recall'},\n",
       "          verbose=0)"
      ]
     },
     "execution_count": 84,
     "metadata": {},
     "output_type": "execute_result"
    }
   ],
   "source": [
    "%%time\n",
    "grid_cv.fit(features_train, labels_train)"
   ]
  },
  {
   "cell_type": "code",
   "execution_count": 85,
   "metadata": {},
   "outputs": [
    {
     "data": {
      "text/plain": [
       "RandomForestClassifier(bootstrap=True, class_weight=None, criterion='gini',\n",
       "            max_depth=25, max_features='auto', max_leaf_nodes=None,\n",
       "            min_impurity_decrease=0.0, min_impurity_split=None,\n",
       "            min_samples_leaf=100, min_samples_split=20,\n",
       "            min_weight_fraction_leaf=0.0, n_estimators=500, n_jobs=-1,\n",
       "            oob_score=False, random_state=20130810, verbose=0,\n",
       "            warm_start=False)"
      ]
     },
     "execution_count": 85,
     "metadata": {},
     "output_type": "execute_result"
    }
   ],
   "source": [
    "grid_cv.best_estimator_"
   ]
  },
  {
   "cell_type": "code",
   "execution_count": 86,
   "metadata": {},
   "outputs": [
    {
     "data": {
      "text/plain": [
       "0.7321466372739763"
      ]
     },
     "execution_count": 86,
     "metadata": {},
     "output_type": "execute_result"
    }
   ],
   "source": [
    "grid_cv.best_score_"
   ]
  },
  {
   "cell_type": "code",
   "execution_count": 87,
   "metadata": {},
   "outputs": [],
   "source": [
    "F1_test_score = f1_score(grid_cv.best_estimator_.predict(features_test), labels_test)"
   ]
  },
  {
   "cell_type": "code",
   "execution_count": 89,
   "metadata": {},
   "outputs": [],
   "source": [
    "course_metrics['course_name'].append('HarvardPH207x_2012_Fall')\n",
    "course_metrics['F1_train_mean'].append(grid_cv.cv_results_['mean_test_F1'].mean())\n",
    "course_metrics['F1_train_sd'].append(grid_cv.cv_results_['mean_test_F1'].std())\n",
    "course_metrics['F1_test'].append(F1_test_score)"
   ]
  },
  {
   "cell_type": "markdown",
   "metadata": {},
   "source": [
    "### 5. PH278x - Human Health and Global Environmental Change"
   ]
  },
  {
   "cell_type": "code",
   "execution_count": 91,
   "metadata": {},
   "outputs": [],
   "source": [
    "ph278x_features_train = pd.read_feather('processed-final/HarvardXPH278x2013_Spring_features_train.feather')\n",
    "ph278x_features_test = pd.read_feather('processed-final/HarvardXPH278x2013_Spring_features_test.feather')\n",
    "ph278x_labels_train = pd.read_feather('processed-final/HarvardXPH278x2013_Spring_labels_train.feather')\n",
    "ph278x_labels_test = pd.read_feather('processed-final/HarvardXPH278x2013_Spring_labels_test.feather')"
   ]
  },
  {
   "cell_type": "code",
   "execution_count": 92,
   "metadata": {},
   "outputs": [],
   "source": [
    "features_train, features_test = ph278x_features_train.drop('index', axis=1), ph278x_features_test.drop('index', axis=1)\n",
    "labels_train, labels_test = ph278x_labels_train.drop('index', axis=1), ph278x_labels_test.drop('index', axis=1)\n",
    "\n",
    "features_train = np.array(features_train)\n",
    "features_test = np.array(features_test)\n",
    "\n",
    "labels_train = np.array(labels_train).ravel()\n",
    "labels_test = np.array(labels_test).ravel()"
   ]
  },
  {
   "cell_type": "code",
   "execution_count": 104,
   "metadata": {},
   "outputs": [],
   "source": [
    "pgrid = {'min_samples_leaf' : [50, 100],\n",
    "         'min_samples_split' : [20, 30, 100, 200],\n",
    "         'max_depth' : [25, 100, 200, 300],\n",
    "         'n_estimators' : [500, 1000, 1500]}"
   ]
  },
  {
   "cell_type": "code",
   "execution_count": 105,
   "metadata": {},
   "outputs": [],
   "source": [
    "rf_classif = RandomForestClassifier(max_features='auto',\n",
    "                                    random_state=20130810,\n",
    "                                    n_jobs=-1)"
   ]
  },
  {
   "cell_type": "code",
   "execution_count": 106,
   "metadata": {},
   "outputs": [],
   "source": [
    "grid_cv = RandomizedSearchCV(estimator=rf_classif,\n",
    "                             param_distributions=pgrid,\n",
    "                             scoring={'F1' : 'f1',\n",
    "                                      'Precision' : 'precision',\n",
    "                                      'Recall' : 'recall'},\n",
    "                             refit='F1',\n",
    "                             n_iter=10,\n",
    "                             cv=5,\n",
    "                             random_state=20130810,\n",
    "                             n_jobs=-1)"
   ]
  },
  {
   "cell_type": "code",
   "execution_count": 107,
   "metadata": {},
   "outputs": [
    {
     "name": "stdout",
     "output_type": "stream",
     "text": [
      "Wall time: 7min 22s\n"
     ]
    },
    {
     "data": {
      "text/plain": [
       "RandomizedSearchCV(cv=5, error_score='raise',\n",
       "          estimator=RandomForestClassifier(bootstrap=True, class_weight=None, criterion='gini',\n",
       "            max_depth=None, max_features='auto', max_leaf_nodes=None,\n",
       "            min_impurity_decrease=0.0, min_impurity_split=None,\n",
       "            min_samples_leaf=1, min_samples_split=2,\n",
       "            min_weight_fraction_leaf=0.0, n_estimators=10, n_jobs=-1,\n",
       "            oob_score=False, random_state=20130810, verbose=0,\n",
       "            warm_start=False),\n",
       "          fit_params=None, iid=True, n_iter=10, n_jobs=-1,\n",
       "          param_distributions={'min_samples_leaf': [50, 100], 'min_samples_split': [20, 30, 100, 200], 'max_depth': [25, 100, 200, 300], 'n_estimators': [500, 1000, 1500]},\n",
       "          pre_dispatch='2*n_jobs', random_state=20130810, refit='F1',\n",
       "          return_train_score=True,\n",
       "          scoring={'F1': 'f1', 'Precision': 'precision', 'Recall': 'recall'},\n",
       "          verbose=0)"
      ]
     },
     "execution_count": 107,
     "metadata": {},
     "output_type": "execute_result"
    }
   ],
   "source": [
    "%%time\n",
    "grid_cv.fit(features_train, labels_train)"
   ]
  },
  {
   "cell_type": "code",
   "execution_count": 108,
   "metadata": {},
   "outputs": [
    {
     "data": {
      "text/plain": [
       "RandomForestClassifier(bootstrap=True, class_weight=None, criterion='gini',\n",
       "            max_depth=300, max_features='auto', max_leaf_nodes=None,\n",
       "            min_impurity_decrease=0.0, min_impurity_split=None,\n",
       "            min_samples_leaf=50, min_samples_split=200,\n",
       "            min_weight_fraction_leaf=0.0, n_estimators=1500, n_jobs=-1,\n",
       "            oob_score=False, random_state=20130810, verbose=0,\n",
       "            warm_start=False)"
      ]
     },
     "execution_count": 108,
     "metadata": {},
     "output_type": "execute_result"
    }
   ],
   "source": [
    "grid_cv.best_estimator_"
   ]
  },
  {
   "cell_type": "code",
   "execution_count": 109,
   "metadata": {},
   "outputs": [
    {
     "data": {
      "text/plain": [
       "0.5198081179733048"
      ]
     },
     "execution_count": 109,
     "metadata": {},
     "output_type": "execute_result"
    }
   ],
   "source": [
    "grid_cv.best_score_"
   ]
  },
  {
   "cell_type": "code",
   "execution_count": 110,
   "metadata": {},
   "outputs": [],
   "source": [
    "F1_test_score = f1_score(grid_cv.best_estimator_.predict(features_test), labels_test)"
   ]
  },
  {
   "cell_type": "code",
   "execution_count": 112,
   "metadata": {},
   "outputs": [],
   "source": [
    "course_metrics['course_name'].append('HarvardPH278x_2013_Spring')\n",
    "course_metrics['F1_train_mean'].append(grid_cv.cv_results_['mean_test_F1'].mean())\n",
    "course_metrics['F1_train_sd'].append(grid_cv.cv_results_['mean_test_F1'].std())\n",
    "course_metrics['F1_test'].append(F1_test_score)"
   ]
  },
  {
   "cell_type": "markdown",
   "metadata": {},
   "source": [
    "### 6. 6.002x (Fall) - Circuits and Electronics"
   ]
  },
  {
   "cell_type": "code",
   "execution_count": 114,
   "metadata": {},
   "outputs": [],
   "source": [
    "mit6002x_features_train = pd.read_feather('processed-final/MITx6.002x2012_Fall_features_train.feather')\n",
    "mit6002x_features_test = pd.read_feather('processed-final/MITx6.002x2012_Fall_features_test.feather')\n",
    "mit6002x_labels_train = pd.read_feather('processed-final/MITx6.002x2012_Fall_labels_train.feather')\n",
    "mit6002x_labels_test = pd.read_feather('processed-final/MITx6.002x2012_Fall_labels_test.feather')"
   ]
  },
  {
   "cell_type": "code",
   "execution_count": 115,
   "metadata": {},
   "outputs": [],
   "source": [
    "features_train, features_test = mit6002x_features_train.drop('index', axis=1), mit6002x_features_test.drop('index', axis=1)\n",
    "labels_train, labels_test = mit6002x_labels_train.drop('index', axis=1), mit6002x_labels_test.drop('index', axis=1)\n",
    "\n",
    "features_train = np.array(features_train)\n",
    "features_test = np.array(features_test)\n",
    "\n",
    "labels_train = np.array(labels_train).ravel()\n",
    "labels_test = np.array(labels_test).ravel()"
   ]
  },
  {
   "cell_type": "code",
   "execution_count": 117,
   "metadata": {},
   "outputs": [],
   "source": [
    "pgrid = {'min_samples_leaf' : [50, 100],\n",
    "         'min_samples_split' : [20, 30, 100, 200],\n",
    "         'max_depth' : [25, 100, 200, 300],\n",
    "         'n_estimators' : [500, 1000, 1500]}"
   ]
  },
  {
   "cell_type": "code",
   "execution_count": 118,
   "metadata": {},
   "outputs": [],
   "source": [
    "rf_classif = RandomForestClassifier(max_features='auto',\n",
    "                                    random_state=20130810,\n",
    "                                    n_jobs=-1)"
   ]
  },
  {
   "cell_type": "code",
   "execution_count": 119,
   "metadata": {},
   "outputs": [],
   "source": [
    "grid_cv = RandomizedSearchCV(estimator=rf_classif,\n",
    "                             param_distributions=pgrid,\n",
    "                             scoring={'F1' : 'f1',\n",
    "                                      'Precision' : 'precision',\n",
    "                                      'Recall' : 'recall'},\n",
    "                             refit='F1',\n",
    "                             n_iter=10,\n",
    "                             cv=5,\n",
    "                             random_state=20130810,\n",
    "                             n_jobs=-1)"
   ]
  },
  {
   "cell_type": "code",
   "execution_count": 120,
   "metadata": {},
   "outputs": [
    {
     "name": "stdout",
     "output_type": "stream",
     "text": [
      "Wall time: 7min 6s\n"
     ]
    },
    {
     "data": {
      "text/plain": [
       "RandomizedSearchCV(cv=5, error_score='raise',\n",
       "          estimator=RandomForestClassifier(bootstrap=True, class_weight=None, criterion='gini',\n",
       "            max_depth=None, max_features='auto', max_leaf_nodes=None,\n",
       "            min_impurity_decrease=0.0, min_impurity_split=None,\n",
       "            min_samples_leaf=1, min_samples_split=2,\n",
       "            min_weight_fraction_leaf=0.0, n_estimators=10, n_jobs=-1,\n",
       "            oob_score=False, random_state=20130810, verbose=0,\n",
       "            warm_start=False),\n",
       "          fit_params=None, iid=True, n_iter=10, n_jobs=-1,\n",
       "          param_distributions={'min_samples_leaf': [50, 100], 'min_samples_split': [20, 30, 100, 200], 'max_depth': [25, 100, 200, 300], 'n_estimators': [500, 1000, 1500]},\n",
       "          pre_dispatch='2*n_jobs', random_state=20130810, refit='F1',\n",
       "          return_train_score=True,\n",
       "          scoring={'F1': 'f1', 'Precision': 'precision', 'Recall': 'recall'},\n",
       "          verbose=0)"
      ]
     },
     "execution_count": 120,
     "metadata": {},
     "output_type": "execute_result"
    }
   ],
   "source": [
    "%%time\n",
    "grid_cv.fit(features_train, labels_train)"
   ]
  },
  {
   "cell_type": "code",
   "execution_count": 121,
   "metadata": {},
   "outputs": [
    {
     "data": {
      "text/plain": [
       "RandomForestClassifier(bootstrap=True, class_weight=None, criterion='gini',\n",
       "            max_depth=200, max_features='auto', max_leaf_nodes=None,\n",
       "            min_impurity_decrease=0.0, min_impurity_split=None,\n",
       "            min_samples_leaf=100, min_samples_split=30,\n",
       "            min_weight_fraction_leaf=0.0, n_estimators=500, n_jobs=-1,\n",
       "            oob_score=False, random_state=20130810, verbose=0,\n",
       "            warm_start=False)"
      ]
     },
     "execution_count": 121,
     "metadata": {},
     "output_type": "execute_result"
    }
   ],
   "source": [
    "grid_cv.best_estimator_"
   ]
  },
  {
   "cell_type": "code",
   "execution_count": 122,
   "metadata": {},
   "outputs": [
    {
     "data": {
      "text/plain": [
       "0.7741659697045262"
      ]
     },
     "execution_count": 122,
     "metadata": {},
     "output_type": "execute_result"
    }
   ],
   "source": [
    "grid_cv.best_score_"
   ]
  },
  {
   "cell_type": "code",
   "execution_count": 123,
   "metadata": {},
   "outputs": [],
   "source": [
    "F1_test_score = f1_score(grid_cv.best_estimator_.predict(features_test), labels_test)"
   ]
  },
  {
   "cell_type": "code",
   "execution_count": 125,
   "metadata": {},
   "outputs": [],
   "source": [
    "course_metrics['course_name'].append('MIT6002x_2012_Fall')\n",
    "course_metrics['F1_train_mean'].append(grid_cv.cv_results_['mean_test_F1'].mean())\n",
    "course_metrics['F1_train_sd'].append(grid_cv.cv_results_['mean_test_F1'].std())\n",
    "course_metrics['F1_test'].append(F1_test_score)"
   ]
  },
  {
   "cell_type": "markdown",
   "metadata": {},
   "source": [
    "### 7. 6.002x (Spring) - Circuits and Electronics"
   ]
  },
  {
   "cell_type": "code",
   "execution_count": 127,
   "metadata": {},
   "outputs": [],
   "source": [
    "mit6002x_features_train = pd.read_feather('processed-final/MITx6.002x2013_Spring_features_train.feather')\n",
    "mit6002x_features_test = pd.read_feather('processed-final/MITx6.002x2013_Spring_features_test.feather')\n",
    "mit6002x_labels_train = pd.read_feather('processed-final/MITx6.002x2013_Spring_labels_train.feather')\n",
    "mit6002x_labels_test = pd.read_feather('processed-final/MITx6.002x2013_Spring_labels_test.feather')"
   ]
  },
  {
   "cell_type": "code",
   "execution_count": 128,
   "metadata": {},
   "outputs": [],
   "source": [
    "features_train, features_test = mit6002x_features_train.drop('index', axis=1), mit6002x_features_test.drop('index', axis=1)\n",
    "labels_train, labels_test = mit6002x_labels_train.drop('index', axis=1), mit6002x_labels_test.drop('index', axis=1)\n",
    "\n",
    "features_train = np.array(features_train)\n",
    "features_test = np.array(features_test)\n",
    "\n",
    "labels_train = np.array(labels_train).ravel()\n",
    "labels_test = np.array(labels_test).ravel()"
   ]
  },
  {
   "cell_type": "code",
   "execution_count": 129,
   "metadata": {},
   "outputs": [],
   "source": [
    "pgrid = {'min_samples_leaf' : [50, 100],\n",
    "         'min_samples_split' : [20, 30, 100, 200],\n",
    "         'max_depth' : [25, 100, 200, 300],\n",
    "         'n_estimators' : [500, 1000, 1500]}"
   ]
  },
  {
   "cell_type": "code",
   "execution_count": 130,
   "metadata": {},
   "outputs": [],
   "source": [
    "rf_classif = RandomForestClassifier(max_features='auto',\n",
    "                                    random_state=20130810,\n",
    "                                    n_jobs=-1)"
   ]
  },
  {
   "cell_type": "code",
   "execution_count": 131,
   "metadata": {},
   "outputs": [],
   "source": [
    "grid_cv = RandomizedSearchCV(estimator=rf_classif,\n",
    "                             param_distributions=pgrid,\n",
    "                             scoring={'F1' : 'f1',\n",
    "                                      'Precision' : 'precision',\n",
    "                                      'Recall' : 'recall'},\n",
    "                             refit='F1',\n",
    "                             n_iter=10,\n",
    "                             cv=5,\n",
    "                             random_state=20130810,\n",
    "                             n_jobs=-1)"
   ]
  },
  {
   "cell_type": "code",
   "execution_count": 132,
   "metadata": {},
   "outputs": [
    {
     "name": "stdout",
     "output_type": "stream",
     "text": [
      "Wall time: 3min 48s\n"
     ]
    },
    {
     "data": {
      "text/plain": [
       "RandomizedSearchCV(cv=5, error_score='raise',\n",
       "          estimator=RandomForestClassifier(bootstrap=True, class_weight=None, criterion='gini',\n",
       "            max_depth=None, max_features='auto', max_leaf_nodes=None,\n",
       "            min_impurity_decrease=0.0, min_impurity_split=None,\n",
       "            min_samples_leaf=1, min_samples_split=2,\n",
       "            min_weight_fraction_leaf=0.0, n_estimators=10, n_jobs=-1,\n",
       "            oob_score=False, random_state=20130810, verbose=0,\n",
       "            warm_start=False),\n",
       "          fit_params=None, iid=True, n_iter=10, n_jobs=-1,\n",
       "          param_distributions={'min_samples_leaf': [50, 100], 'min_samples_split': [20, 30, 100, 200], 'max_depth': [25, 100, 200, 300], 'n_estimators': [500, 1000, 1500]},\n",
       "          pre_dispatch='2*n_jobs', random_state=20130810, refit='F1',\n",
       "          return_train_score=True,\n",
       "          scoring={'F1': 'f1', 'Precision': 'precision', 'Recall': 'recall'},\n",
       "          verbose=0)"
      ]
     },
     "execution_count": 132,
     "metadata": {},
     "output_type": "execute_result"
    }
   ],
   "source": [
    "%%time\n",
    "grid_cv.fit(features_train, labels_train)"
   ]
  },
  {
   "cell_type": "code",
   "execution_count": 133,
   "metadata": {},
   "outputs": [
    {
     "data": {
      "text/plain": [
       "RandomForestClassifier(bootstrap=True, class_weight=None, criterion='gini',\n",
       "            max_depth=25, max_features='auto', max_leaf_nodes=None,\n",
       "            min_impurity_decrease=0.0, min_impurity_split=None,\n",
       "            min_samples_leaf=100, min_samples_split=200,\n",
       "            min_weight_fraction_leaf=0.0, n_estimators=1000, n_jobs=-1,\n",
       "            oob_score=False, random_state=20130810, verbose=0,\n",
       "            warm_start=False)"
      ]
     },
     "execution_count": 133,
     "metadata": {},
     "output_type": "execute_result"
    }
   ],
   "source": [
    "grid_cv.best_estimator_"
   ]
  },
  {
   "cell_type": "code",
   "execution_count": 134,
   "metadata": {},
   "outputs": [
    {
     "data": {
      "text/plain": [
       "0.6223754441854225"
      ]
     },
     "execution_count": 134,
     "metadata": {},
     "output_type": "execute_result"
    }
   ],
   "source": [
    "grid_cv.best_score_"
   ]
  },
  {
   "cell_type": "code",
   "execution_count": 135,
   "metadata": {},
   "outputs": [],
   "source": [
    "F1_test_score = f1_score(grid_cv.best_estimator_.predict(features_test), labels_test)"
   ]
  },
  {
   "cell_type": "code",
   "execution_count": 137,
   "metadata": {},
   "outputs": [],
   "source": [
    "course_metrics['course_name'].append('MIT6002x_2013_Spring')\n",
    "course_metrics['F1_train_mean'].append(grid_cv.cv_results_['mean_test_F1'].mean())\n",
    "course_metrics['F1_train_sd'].append(grid_cv.cv_results_['mean_test_F1'].std())\n",
    "course_metrics['F1_test'].append(F1_test_score)"
   ]
  },
  {
   "cell_type": "markdown",
   "metadata": {},
   "source": [
    "### 8. 14.73x - The Challenges of Global Poverty"
   ]
  },
  {
   "cell_type": "code",
   "execution_count": 139,
   "metadata": {},
   "outputs": [],
   "source": [
    "mit1473x_features_train = pd.read_feather('processed-final/MITx14.73x2013_Spring_features_train.feather')\n",
    "mit1473x_features_test = pd.read_feather('processed-final/MITx14.73x2013_Spring_features_test.feather')\n",
    "mit1473x_labels_train = pd.read_feather('processed-final/MITx14.73x2013_Spring_labels_train.feather')\n",
    "mit1473x_labels_test = pd.read_feather('processed-final/MITx14.73x2013_Spring_labels_test.feather')"
   ]
  },
  {
   "cell_type": "code",
   "execution_count": 140,
   "metadata": {},
   "outputs": [],
   "source": [
    "features_train, features_test = mit1473x_features_train.drop('index', axis=1), mit1473x_features_test.drop('index', axis=1)\n",
    "labels_train, labels_test = mit1473x_labels_train.drop('index', axis=1), mit1473x_labels_test.drop('index', axis=1)\n",
    "\n",
    "features_train = np.array(features_train)\n",
    "features_test = np.array(features_test)\n",
    "\n",
    "labels_train = np.array(labels_train).ravel()\n",
    "labels_test = np.array(labels_test).ravel()"
   ]
  },
  {
   "cell_type": "code",
   "execution_count": 141,
   "metadata": {},
   "outputs": [],
   "source": [
    "pgrid = {'min_samples_leaf' : [50, 100],\n",
    "         'min_samples_split' : [20, 30, 100, 200],\n",
    "         'max_depth' : [25, 100, 200, 300],\n",
    "         'n_estimators' : [500, 1000, 1500]}"
   ]
  },
  {
   "cell_type": "code",
   "execution_count": 142,
   "metadata": {},
   "outputs": [],
   "source": [
    "rf_classif = RandomForestClassifier(max_features='auto',\n",
    "                                    random_state=20130810,\n",
    "                                    n_jobs=-1)"
   ]
  },
  {
   "cell_type": "code",
   "execution_count": 143,
   "metadata": {},
   "outputs": [],
   "source": [
    "grid_cv = RandomizedSearchCV(estimator=rf_classif,\n",
    "                             param_distributions=pgrid,\n",
    "                             scoring={'F1' : 'f1',\n",
    "                                      'Precision' : 'precision',\n",
    "                                      'Recall' : 'recall'},\n",
    "                             refit='F1',\n",
    "                             n_iter=10,\n",
    "                             cv=5,\n",
    "                             random_state=20130810,\n",
    "                             n_jobs=-1)"
   ]
  },
  {
   "cell_type": "code",
   "execution_count": 145,
   "metadata": {},
   "outputs": [
    {
     "name": "stdout",
     "output_type": "stream",
     "text": [
      "Wall time: 4min 51s\n"
     ]
    },
    {
     "data": {
      "text/plain": [
       "RandomizedSearchCV(cv=5, error_score='raise',\n",
       "          estimator=RandomForestClassifier(bootstrap=True, class_weight=None, criterion='gini',\n",
       "            max_depth=None, max_features='auto', max_leaf_nodes=None,\n",
       "            min_impurity_decrease=0.0, min_impurity_split=None,\n",
       "            min_samples_leaf=1, min_samples_split=2,\n",
       "            min_weight_fraction_leaf=0.0, n_estimators=10, n_jobs=-1,\n",
       "            oob_score=False, random_state=20130810, verbose=0,\n",
       "            warm_start=False),\n",
       "          fit_params=None, iid=True, n_iter=10, n_jobs=-1,\n",
       "          param_distributions={'min_samples_leaf': [50, 100], 'min_samples_split': [20, 30, 100, 200], 'max_depth': [25, 100, 200, 300], 'n_estimators': [500, 1000, 1500]},\n",
       "          pre_dispatch='2*n_jobs', random_state=20130810, refit='F1',\n",
       "          return_train_score=True,\n",
       "          scoring={'F1': 'f1', 'Precision': 'precision', 'Recall': 'recall'},\n",
       "          verbose=0)"
      ]
     },
     "execution_count": 145,
     "metadata": {},
     "output_type": "execute_result"
    }
   ],
   "source": [
    "%%time\n",
    "grid_cv.fit(features_train, labels_train)"
   ]
  },
  {
   "cell_type": "code",
   "execution_count": 148,
   "metadata": {},
   "outputs": [
    {
     "data": {
      "text/plain": [
       "{'max_depth': 200,\n",
       " 'min_samples_leaf': 100,\n",
       " 'min_samples_split': 30,\n",
       " 'n_estimators': 500}"
      ]
     },
     "execution_count": 148,
     "metadata": {},
     "output_type": "execute_result"
    }
   ],
   "source": [
    "grid_cv.best_params_"
   ]
  },
  {
   "cell_type": "code",
   "execution_count": 149,
   "metadata": {},
   "outputs": [
    {
     "data": {
      "text/plain": [
       "0.7141003493114455"
      ]
     },
     "execution_count": 149,
     "metadata": {},
     "output_type": "execute_result"
    }
   ],
   "source": [
    "grid_cv.best_score_"
   ]
  },
  {
   "cell_type": "code",
   "execution_count": 150,
   "metadata": {},
   "outputs": [],
   "source": [
    "F1_test_score = f1_score(grid_cv.best_estimator_.predict(features_test), labels_test)"
   ]
  },
  {
   "cell_type": "code",
   "execution_count": 152,
   "metadata": {},
   "outputs": [],
   "source": [
    "course_metrics['course_name'].append('MIT1473x_2013_Spring')\n",
    "course_metrics['F1_train_mean'].append(grid_cv.cv_results_['mean_test_F1'].mean())\n",
    "course_metrics['F1_train_sd'].append(grid_cv.cv_results_['mean_test_F1'].std())\n",
    "course_metrics['F1_test'].append(F1_test_score)"
   ]
  },
  {
   "cell_type": "markdown",
   "metadata": {},
   "source": [
    "### 9. 2.01x - Elements of Structures"
   ]
  },
  {
   "cell_type": "code",
   "execution_count": 154,
   "metadata": {},
   "outputs": [],
   "source": [
    "mit201x_features_train = pd.read_feather('processed-final/MITx2.01x2013_Spring_features_train.feather')\n",
    "mit201x_features_test = pd.read_feather('processed-final/MITx2.01x2013_Spring_features_test.feather')\n",
    "mit201x_labels_train = pd.read_feather('processed-final/MITx2.01x2013_Spring_labels_train.feather')\n",
    "mit201x_labels_test = pd.read_feather('processed-final/MITx2.01x2013_Spring_labels_test.feather')"
   ]
  },
  {
   "cell_type": "code",
   "execution_count": 155,
   "metadata": {},
   "outputs": [],
   "source": [
    "features_train, features_test = mit201x_features_train.drop('index', axis=1), mit201x_features_test.drop('index', axis=1)\n",
    "labels_train, labels_test = mit201x_labels_train.drop('index', axis=1), mit201x_labels_test.drop('index', axis=1)\n",
    "\n",
    "features_train = np.array(features_train)\n",
    "features_test = np.array(features_test)\n",
    "\n",
    "labels_train = np.array(labels_train).ravel()\n",
    "labels_test = np.array(labels_test).ravel()"
   ]
  },
  {
   "cell_type": "code",
   "execution_count": 169,
   "metadata": {},
   "outputs": [],
   "source": [
    "pgrid = {'min_samples_leaf' : [100, 200, 300],\n",
    "         'min_samples_split' : [100, 200, 300, 500],\n",
    "         'max_depth' : [200, 300, 500],\n",
    "         'n_estimators' : [1500, 2000, 2500]}"
   ]
  },
  {
   "cell_type": "code",
   "execution_count": 170,
   "metadata": {},
   "outputs": [],
   "source": [
    "rf_classif = RandomForestClassifier(max_features='auto',\n",
    "                                    random_state=20130810,\n",
    "                                    n_jobs=-1)"
   ]
  },
  {
   "cell_type": "code",
   "execution_count": 171,
   "metadata": {},
   "outputs": [],
   "source": [
    "grid_cv = RandomizedSearchCV(estimator=rf_classif,\n",
    "                             param_distributions=pgrid,\n",
    "                             scoring={'F1' : 'f1',\n",
    "                                      'Precision' : 'precision',\n",
    "                                      'Recall' : 'recall'},\n",
    "                             refit='F1',\n",
    "                             n_iter=10,\n",
    "                             cv=5,\n",
    "                             random_state=20130810,\n",
    "                             n_jobs=-1)"
   ]
  },
  {
   "cell_type": "code",
   "execution_count": 172,
   "metadata": {},
   "outputs": [
    {
     "name": "stdout",
     "output_type": "stream",
     "text": [
      "Wall time: 3min 1s\n"
     ]
    },
    {
     "data": {
      "text/plain": [
       "RandomizedSearchCV(cv=5, error_score='raise',\n",
       "          estimator=RandomForestClassifier(bootstrap=True, class_weight=None, criterion='gini',\n",
       "            max_depth=None, max_features='auto', max_leaf_nodes=None,\n",
       "            min_impurity_decrease=0.0, min_impurity_split=None,\n",
       "            min_samples_leaf=1, min_samples_split=2,\n",
       "            min_weight_fraction_leaf=0.0, n_estimators=10, n_jobs=-1,\n",
       "            oob_score=False, random_state=20130810, verbose=0,\n",
       "            warm_start=False),\n",
       "          fit_params=None, iid=True, n_iter=10, n_jobs=-1,\n",
       "          param_distributions={'min_samples_leaf': [100, 200, 300], 'min_samples_split': [100, 200, 300, 500], 'max_depth': [200, 300, 500], 'n_estimators': [1500, 2000, 2500]},\n",
       "          pre_dispatch='2*n_jobs', random_state=20130810, refit='F1',\n",
       "          return_train_score=True,\n",
       "          scoring={'F1': 'f1', 'Precision': 'precision', 'Recall': 'recall'},\n",
       "          verbose=0)"
      ]
     },
     "execution_count": 172,
     "metadata": {},
     "output_type": "execute_result"
    }
   ],
   "source": [
    "%%time\n",
    "grid_cv.fit(features_train, labels_train)"
   ]
  },
  {
   "cell_type": "code",
   "execution_count": 173,
   "metadata": {},
   "outputs": [
    {
     "data": {
      "text/plain": [
       "{'max_depth': 300,\n",
       " 'min_samples_leaf': 300,\n",
       " 'min_samples_split': 300,\n",
       " 'n_estimators': 2000}"
      ]
     },
     "execution_count": 173,
     "metadata": {},
     "output_type": "execute_result"
    }
   ],
   "source": [
    "grid_cv.best_params_"
   ]
  },
  {
   "cell_type": "code",
   "execution_count": 174,
   "metadata": {},
   "outputs": [
    {
     "data": {
      "text/plain": [
       "0.807211462246687"
      ]
     },
     "execution_count": 174,
     "metadata": {},
     "output_type": "execute_result"
    }
   ],
   "source": [
    "grid_cv.best_score_"
   ]
  },
  {
   "cell_type": "code",
   "execution_count": 150,
   "metadata": {},
   "outputs": [],
   "source": [
    "F1_test_score = f1_score(grid_cv.best_estimator_.predict(features_test), labels_test)"
   ]
  },
  {
   "cell_type": "code",
   "execution_count": 152,
   "metadata": {},
   "outputs": [],
   "source": [
    "course_metrics['course_name'].append('MIT201x_2013_Spring')\n",
    "course_metrics['F1_train_mean'].append(grid_cv.cv_results_['mean_test_F1'].mean())\n",
    "course_metrics['F1_train_sd'].append(grid_cv.cv_results_['mean_test_F1'].std())\n",
    "course_metrics['F1_test'].append(F1_test_score)"
   ]
  },
  {
   "cell_type": "markdown",
   "metadata": {},
   "source": [
    "### 10. 3.091x(Fall) - Introduction to Solid State Chemistry"
   ]
  },
  {
   "cell_type": "code",
   "execution_count": 175,
   "metadata": {},
   "outputs": [],
   "source": [
    "mit3091x_features_train = pd.read_feather('processed-final/MITx3.091x2012_Fall_features_train.feather')\n",
    "mit3091x_features_test = pd.read_feather('processed-final/MITx3.091x2012_Fall_features_test.feather')\n",
    "mit3091x_labels_train = pd.read_feather('processed-final/MITx3.091x2012_Fall_labels_train.feather')\n",
    "mit3091x_labels_test = pd.read_feather('processed-final/MITx3.091x2012_Fall_labels_test.feather')"
   ]
  },
  {
   "cell_type": "code",
   "execution_count": 176,
   "metadata": {},
   "outputs": [],
   "source": [
    "features_train, features_test = mit3091x_features_train.drop('index', axis=1), mit3091x_features_test.drop('index', axis=1)\n",
    "labels_train, labels_test = mit3091x_labels_train.drop('index', axis=1), mit3091x_labels_test.drop('index', axis=1)\n",
    "\n",
    "features_train = np.array(features_train)\n",
    "features_test = np.array(features_test)\n",
    "\n",
    "labels_train = np.array(labels_train).ravel()\n",
    "labels_test = np.array(labels_test).ravel()"
   ]
  },
  {
   "cell_type": "code",
   "execution_count": 177,
   "metadata": {},
   "outputs": [],
   "source": [
    "pgrid = {'min_samples_leaf' : [50, 100],\n",
    "         'min_samples_split' : [20, 30, 100, 200],\n",
    "         'max_depth' : [25, 100, 200, 300],\n",
    "         'n_estimators' : [500, 1000, 1500]}"
   ]
  },
  {
   "cell_type": "code",
   "execution_count": 179,
   "metadata": {},
   "outputs": [],
   "source": [
    "rf_classif = RandomForestClassifier(max_features='auto',\n",
    "                                    random_state=20130810,\n",
    "                                    n_jobs=-1)"
   ]
  },
  {
   "cell_type": "code",
   "execution_count": 180,
   "metadata": {},
   "outputs": [],
   "source": [
    "grid_cv = RandomizedSearchCV(estimator=rf_classif,\n",
    "                             param_distributions=pgrid,\n",
    "                             scoring={'F1' : 'f1',\n",
    "                                      'Precision' : 'precision',\n",
    "                                      'Recall' : 'recall'},\n",
    "                             refit='F1',\n",
    "                             n_iter=10,\n",
    "                             cv=5,\n",
    "                             random_state=20130810,\n",
    "                             n_jobs=-1)"
   ]
  },
  {
   "cell_type": "code",
   "execution_count": 181,
   "metadata": {},
   "outputs": [
    {
     "name": "stdout",
     "output_type": "stream",
     "text": [
      "Wall time: 2min 38s\n"
     ]
    },
    {
     "data": {
      "text/plain": [
       "RandomizedSearchCV(cv=5, error_score='raise',\n",
       "          estimator=RandomForestClassifier(bootstrap=True, class_weight=None, criterion='gini',\n",
       "            max_depth=None, max_features='auto', max_leaf_nodes=None,\n",
       "            min_impurity_decrease=0.0, min_impurity_split=None,\n",
       "            min_samples_leaf=1, min_samples_split=2,\n",
       "            min_weight_fraction_leaf=0.0, n_estimators=10, n_jobs=-1,\n",
       "            oob_score=False, random_state=20130810, verbose=0,\n",
       "            warm_start=False),\n",
       "          fit_params=None, iid=True, n_iter=10, n_jobs=-1,\n",
       "          param_distributions={'min_samples_leaf': [50, 100], 'min_samples_split': [20, 30, 100, 200], 'max_depth': [25, 100, 200, 300], 'n_estimators': [500, 1000, 1500]},\n",
       "          pre_dispatch='2*n_jobs', random_state=20130810, refit='F1',\n",
       "          return_train_score=True,\n",
       "          scoring={'F1': 'f1', 'Precision': 'precision', 'Recall': 'recall'},\n",
       "          verbose=0)"
      ]
     },
     "execution_count": 181,
     "metadata": {},
     "output_type": "execute_result"
    }
   ],
   "source": [
    "%%time\n",
    "grid_cv.fit(features_train, labels_train)"
   ]
  },
  {
   "cell_type": "code",
   "execution_count": 182,
   "metadata": {},
   "outputs": [
    {
     "data": {
      "text/plain": [
       "{'max_depth': 25,\n",
       " 'min_samples_leaf': 50,\n",
       " 'min_samples_split': 20,\n",
       " 'n_estimators': 500}"
      ]
     },
     "execution_count": 182,
     "metadata": {},
     "output_type": "execute_result"
    }
   ],
   "source": [
    "grid_cv.best_params_"
   ]
  },
  {
   "cell_type": "code",
   "execution_count": 183,
   "metadata": {},
   "outputs": [
    {
     "data": {
      "text/plain": [
       "0.603401685953049"
      ]
     },
     "execution_count": 183,
     "metadata": {},
     "output_type": "execute_result"
    }
   ],
   "source": [
    "grid_cv.best_score_"
   ]
  },
  {
   "cell_type": "code",
   "execution_count": 184,
   "metadata": {},
   "outputs": [],
   "source": [
    "F1_test_score = f1_score(grid_cv.best_estimator_.predict(features_test), labels_test)"
   ]
  },
  {
   "cell_type": "code",
   "execution_count": 186,
   "metadata": {},
   "outputs": [],
   "source": [
    "course_metrics['course_name'].append('MIT3091x_2012_Fall')\n",
    "course_metrics['F1_train_mean'].append(grid_cv.cv_results_['mean_test_F1'].mean())\n",
    "course_metrics['F1_train_sd'].append(grid_cv.cv_results_['mean_test_F1'].std())\n",
    "course_metrics['F1_test'].append(F1_test_score)"
   ]
  },
  {
   "cell_type": "markdown",
   "metadata": {},
   "source": [
    "### 11. 3.091x (Spring) - Introduction to Solid State Chemistry"
   ]
  },
  {
   "cell_type": "code",
   "execution_count": 188,
   "metadata": {},
   "outputs": [],
   "source": [
    "mit3091x_features_train = pd.read_feather('processed-final/MITx3.091x2013_Spring_features_train.feather')\n",
    "mit3091x_features_test = pd.read_feather('processed-final/MITx3.091x2013_Spring_features_test.feather')\n",
    "mit3091x_labels_train = pd.read_feather('processed-final/MITx3.091x2013_Spring_labels_train.feather')\n",
    "mit3091x_labels_test = pd.read_feather('processed-final/MITx3.091x2013_Spring_labels_test.feather')"
   ]
  },
  {
   "cell_type": "code",
   "execution_count": 189,
   "metadata": {},
   "outputs": [],
   "source": [
    "features_train, features_test = mit3091x_features_train.drop('index', axis=1), mit3091x_features_test.drop('index', axis=1)\n",
    "labels_train, labels_test = mit3091x_labels_train.drop('index', axis=1), mit3091x_labels_test.drop('index', axis=1)\n",
    "\n",
    "features_train = np.array(features_train)\n",
    "features_test = np.array(features_test)\n",
    "\n",
    "labels_train = np.array(labels_train).ravel()\n",
    "labels_test = np.array(labels_test).ravel()"
   ]
  },
  {
   "cell_type": "code",
   "execution_count": 196,
   "metadata": {},
   "outputs": [],
   "source": [
    "pgrid = {'min_samples_leaf' : [100, 200, 300],\n",
    "         'min_samples_split' : [100, 200, 300],\n",
    "         'max_depth' : [200, 300, 500],\n",
    "         'n_estimators' : [1000, 1500, 2000]}"
   ]
  },
  {
   "cell_type": "code",
   "execution_count": 197,
   "metadata": {},
   "outputs": [],
   "source": [
    "rf_classif = RandomForestClassifier(max_features='auto',\n",
    "                                    random_state=20130810,\n",
    "                                    n_jobs=-1)"
   ]
  },
  {
   "cell_type": "code",
   "execution_count": 198,
   "metadata": {},
   "outputs": [],
   "source": [
    "grid_cv = RandomizedSearchCV(estimator=rf_classif,\n",
    "                             param_distributions=pgrid,\n",
    "                             scoring={'F1' : 'f1',\n",
    "                                      'Precision' : 'precision',\n",
    "                                      'Recall' : 'recall'},\n",
    "                             refit='F1',\n",
    "                             n_iter=10,\n",
    "                             cv=5,\n",
    "                             random_state=20130810,\n",
    "                             n_jobs=-1)"
   ]
  },
  {
   "cell_type": "code",
   "execution_count": 199,
   "metadata": {},
   "outputs": [
    {
     "name": "stdout",
     "output_type": "stream",
     "text": [
      "Wall time: 2min 21s\n"
     ]
    },
    {
     "data": {
      "text/plain": [
       "RandomizedSearchCV(cv=5, error_score='raise',\n",
       "          estimator=RandomForestClassifier(bootstrap=True, class_weight=None, criterion='gini',\n",
       "            max_depth=None, max_features='auto', max_leaf_nodes=None,\n",
       "            min_impurity_decrease=0.0, min_impurity_split=None,\n",
       "            min_samples_leaf=1, min_samples_split=2,\n",
       "            min_weight_fraction_leaf=0.0, n_estimators=10, n_jobs=-1,\n",
       "            oob_score=False, random_state=20130810, verbose=0,\n",
       "            warm_start=False),\n",
       "          fit_params=None, iid=True, n_iter=10, n_jobs=-1,\n",
       "          param_distributions={'min_samples_leaf': [100, 200, 300], 'min_samples_split': [100, 200, 300], 'max_depth': [200, 300, 500], 'n_estimators': [1000, 1500, 2000]},\n",
       "          pre_dispatch='2*n_jobs', random_state=20130810, refit='F1',\n",
       "          return_train_score=True,\n",
       "          scoring={'F1': 'f1', 'Precision': 'precision', 'Recall': 'recall'},\n",
       "          verbose=0)"
      ]
     },
     "execution_count": 199,
     "metadata": {},
     "output_type": "execute_result"
    }
   ],
   "source": [
    "%%time\n",
    "grid_cv.fit(features_train, labels_train)"
   ]
  },
  {
   "cell_type": "code",
   "execution_count": 200,
   "metadata": {},
   "outputs": [
    {
     "data": {
      "text/plain": [
       "{'max_depth': 500,\n",
       " 'min_samples_leaf': 100,\n",
       " 'min_samples_split': 100,\n",
       " 'n_estimators': 1000}"
      ]
     },
     "execution_count": 200,
     "metadata": {},
     "output_type": "execute_result"
    }
   ],
   "source": [
    "grid_cv.best_params_"
   ]
  },
  {
   "cell_type": "code",
   "execution_count": 201,
   "metadata": {},
   "outputs": [
    {
     "data": {
      "text/plain": [
       "0.9812259732414436"
      ]
     },
     "execution_count": 201,
     "metadata": {},
     "output_type": "execute_result"
    }
   ],
   "source": [
    "grid_cv.best_score_"
   ]
  },
  {
   "cell_type": "code",
   "execution_count": 202,
   "metadata": {},
   "outputs": [],
   "source": [
    "F1_test_score = f1_score(grid_cv.best_estimator_.predict(features_test), labels_test)"
   ]
  },
  {
   "cell_type": "code",
   "execution_count": 203,
   "metadata": {},
   "outputs": [],
   "source": [
    "course_metrics['course_name'].append('MIT3091x_2013_Spring')\n",
    "course_metrics['F1_train_mean'].append(grid_cv.cv_results_['mean_test_F1'].mean())\n",
    "course_metrics['F1_train_sd'].append(grid_cv.cv_results_['mean_test_F1'].std())\n",
    "course_metrics['F1_test'].append(F1_test_score)"
   ]
  },
  {
   "cell_type": "markdown",
   "metadata": {},
   "source": [
    "### 12. 6.00x (Fall) - Introduction to Computer Science and Programming"
   ]
  },
  {
   "cell_type": "code",
   "execution_count": 204,
   "metadata": {},
   "outputs": [],
   "source": [
    "mit600x_features_train = pd.read_feather('processed-final/MITx6.00x2012_Fall_features_train.feather')\n",
    "mit600x_features_test = pd.read_feather('processed-final/MITx6.00x2012_Fall_features_test.feather')\n",
    "mit600x_labels_train = pd.read_feather('processed-final/MITx6.00x2012_Fall_labels_train.feather')\n",
    "mit600x_labels_test = pd.read_feather('processed-final/MITx6.00x2012_Fall_labels_test.feather')"
   ]
  },
  {
   "cell_type": "code",
   "execution_count": 205,
   "metadata": {},
   "outputs": [],
   "source": [
    "features_train, features_test = mit600x_features_train.drop('index', axis=1), mit600x_features_test.drop('index', axis=1)\n",
    "labels_train, labels_test = mit600x_labels_train.drop('index', axis=1), mit600x_labels_test.drop('index', axis=1)\n",
    "\n",
    "features_train = np.array(features_train)\n",
    "features_test = np.array(features_test)\n",
    "\n",
    "labels_train = np.array(labels_train).ravel()\n",
    "labels_test = np.array(labels_test).ravel()"
   ]
  },
  {
   "cell_type": "code",
   "execution_count": 210,
   "metadata": {},
   "outputs": [],
   "source": [
    "pgrid = {'min_samples_leaf' : [50, 100, 200],\n",
    "         'min_samples_split' : [50, 100, 200],\n",
    "         'max_depth' : [100, 200, 300],\n",
    "         'n_estimators' : [500, 1000, 1500] }"
   ]
  },
  {
   "cell_type": "code",
   "execution_count": 211,
   "metadata": {},
   "outputs": [],
   "source": [
    "rf_classif = RandomForestClassifier(max_features='auto',\n",
    "                                    random_state=20130810,\n",
    "                                    n_jobs=-1)"
   ]
  },
  {
   "cell_type": "code",
   "execution_count": 212,
   "metadata": {},
   "outputs": [],
   "source": [
    "grid_cv = RandomizedSearchCV(estimator=rf_classif,\n",
    "                             param_distributions=pgrid,\n",
    "                             scoring={'F1' : 'f1',\n",
    "                                      'Precision' : 'precision',\n",
    "                                      'Recall' : 'recall'},\n",
    "                             refit='F1',\n",
    "                             n_iter=10,\n",
    "                             cv=5,\n",
    "                             random_state=20130810,\n",
    "                             n_jobs=-1)"
   ]
  },
  {
   "cell_type": "code",
   "execution_count": 213,
   "metadata": {},
   "outputs": [
    {
     "name": "stdout",
     "output_type": "stream",
     "text": [
      "Wall time: 14min 32s\n"
     ]
    },
    {
     "data": {
      "text/plain": [
       "RandomizedSearchCV(cv=5, error_score='raise',\n",
       "          estimator=RandomForestClassifier(bootstrap=True, class_weight=None, criterion='gini',\n",
       "            max_depth=None, max_features='auto', max_leaf_nodes=None,\n",
       "            min_impurity_decrease=0.0, min_impurity_split=None,\n",
       "            min_samples_leaf=1, min_samples_split=2,\n",
       "            min_weight_fraction_leaf=0.0, n_estimators=10, n_jobs=-1,\n",
       "            oob_score=False, random_state=20130810, verbose=0,\n",
       "            warm_start=False),\n",
       "          fit_params=None, iid=True, n_iter=10, n_jobs=-1,\n",
       "          param_distributions={'min_samples_leaf': [50, 100, 200], 'min_samples_split': [50, 100, 200], 'max_depth': [100, 200, 300], 'n_estimators': [500, 1000, 1500]},\n",
       "          pre_dispatch='2*n_jobs', random_state=20130810, refit='F1',\n",
       "          return_train_score=True,\n",
       "          scoring={'F1': 'f1', 'Precision': 'precision', 'Recall': 'recall'},\n",
       "          verbose=0)"
      ]
     },
     "execution_count": 213,
     "metadata": {},
     "output_type": "execute_result"
    }
   ],
   "source": [
    "%%time\n",
    "grid_cv.fit(features_train, labels_train)"
   ]
  },
  {
   "cell_type": "code",
   "execution_count": 214,
   "metadata": {},
   "outputs": [
    {
     "data": {
      "text/plain": [
       "{'max_depth': 100,\n",
       " 'min_samples_leaf': 200,\n",
       " 'min_samples_split': 100,\n",
       " 'n_estimators': 1000}"
      ]
     },
     "execution_count": 214,
     "metadata": {},
     "output_type": "execute_result"
    }
   ],
   "source": [
    "grid_cv.best_params_"
   ]
  },
  {
   "cell_type": "code",
   "execution_count": 215,
   "metadata": {},
   "outputs": [
    {
     "data": {
      "text/plain": [
       "0.7577562604480225"
      ]
     },
     "execution_count": 215,
     "metadata": {},
     "output_type": "execute_result"
    }
   ],
   "source": [
    "grid_cv.best_score_"
   ]
  },
  {
   "cell_type": "code",
   "execution_count": 216,
   "metadata": {},
   "outputs": [],
   "source": [
    "F1_test_score = f1_score(grid_cv.best_estimator_.predict(features_test), labels_test)"
   ]
  },
  {
   "cell_type": "code",
   "execution_count": 218,
   "metadata": {},
   "outputs": [],
   "source": [
    "course_metrics['course_name'].append('MIT600x_2012_Fall')\n",
    "course_metrics['F1_train_mean'].append(grid_cv.cv_results_['mean_test_F1'].mean())\n",
    "course_metrics['F1_train_sd'].append(grid_cv.cv_results_['mean_test_F1'].std())\n",
    "course_metrics['F1_test'].append(F1_test_score)"
   ]
  },
  {
   "cell_type": "markdown",
   "metadata": {},
   "source": [
    "### 13. 6.00x (Spring) - Introduction to Computer Science and Programming"
   ]
  },
  {
   "cell_type": "code",
   "execution_count": null,
   "metadata": {},
   "outputs": [],
   "source": [
    "mit600x = pd.read_feather(\"data/MITx_6_00x_2013_Spring.feather\")"
   ]
  },
  {
   "cell_type": "code",
   "execution_count": null,
   "metadata": {},
   "outputs": [],
   "source": [
    "%%time\n",
    "best_k_train, min_k_train, max_k_train, k_test = compute_kappa(mit600x)"
   ]
  },
  {
   "cell_type": "code",
   "execution_count": null,
   "metadata": {},
   "outputs": [],
   "source": [
    "course_metrics[\"course_name\"].append('MIT600x_Spring')\n",
    "course_metrics[\"kappa_train\"].append(best_k_train)\n",
    "course_metrics[\"min_kappa_train\"].append(min_k_train)\n",
    "course_metrics[\"max_kappa_train\"].append(max_k_train)\n",
    "course_metrics[\"kappa_test\"].append(k_test)"
   ]
  },
  {
   "cell_type": "markdown",
   "metadata": {},
   "source": [
    "### 14. 8.02x - Electricity and Magnetism"
   ]
  },
  {
   "cell_type": "code",
   "execution_count": null,
   "metadata": {},
   "outputs": [],
   "source": [
    "mit802x = pd.read_feather(\"data/MITx_8_02x_2013_Spring.feather\")"
   ]
  },
  {
   "cell_type": "code",
   "execution_count": null,
   "metadata": {},
   "outputs": [],
   "source": [
    "%%time\n",
    "best_k_train, min_k_train, max_k_train, k_test = compute_kappa(mit802x)"
   ]
  },
  {
   "cell_type": "code",
   "execution_count": null,
   "metadata": {},
   "outputs": [],
   "source": [
    "course_metrics[\"course_name\"].append('MIT802x')\n",
    "course_metrics[\"kappa_train\"].append(best_k_train)\n",
    "course_metrics[\"min_kappa_train\"].append(min_k_train)\n",
    "course_metrics[\"max_kappa_train\"].append(max_k_train)\n",
    "course_metrics[\"kappa_test\"].append(k_test)"
   ]
  },
  {
   "cell_type": "markdown",
   "metadata": {},
   "source": [
    "### 15. 7.00x - Introduction to Biology - The Secret of Life"
   ]
  },
  {
   "cell_type": "code",
   "execution_count": null,
   "metadata": {},
   "outputs": [],
   "source": [
    "mit700x = pd.read_feather(\"data/MITx_7_00x_2013_Spring.feather\")"
   ]
  },
  {
   "cell_type": "code",
   "execution_count": null,
   "metadata": {},
   "outputs": [],
   "source": [
    "%%time\n",
    "best_k_train, min_k_train, max_k_train, k_test = compute_kappa(mit700x)"
   ]
  },
  {
   "cell_type": "code",
   "execution_count": null,
   "metadata": {},
   "outputs": [],
   "source": [
    "course_metrics[\"course_name\"].append('MIT700x')\n",
    "course_metrics[\"kappa_train\"].append(best_k_train)\n",
    "course_metrics[\"min_kappa_train\"].append(min_k_train)\n",
    "course_metrics[\"max_kappa_train\"].append(max_k_train)\n",
    "course_metrics[\"kappa_test\"].append(k_test)"
   ]
  },
  {
   "cell_type": "markdown",
   "metadata": {},
   "source": [
    "### 16. 8.MReVx - Mechanics ReView"
   ]
  },
  {
   "cell_type": "code",
   "execution_count": null,
   "metadata": {},
   "outputs": [],
   "source": [
    "mit8mrevx = pd.read_feather(\"data/MITx_8_MReV_2013_Summer.feather\")"
   ]
  },
  {
   "cell_type": "code",
   "execution_count": null,
   "metadata": {},
   "outputs": [],
   "source": [
    "%%time\n",
    "best_k_train, min_k_train, max_k_train, k_test = compute_kappa(mit8mrevx)"
   ]
  },
  {
   "cell_type": "code",
   "execution_count": null,
   "metadata": {},
   "outputs": [],
   "source": [
    "course_metrics[\"course_name\"].append('MIT8MReVx')\n",
    "course_metrics[\"kappa_train\"].append(best_k_train)\n",
    "course_metrics[\"min_kappa_train\"].append(min_k_train)\n",
    "course_metrics[\"max_kappa_train\"].append(max_k_train)\n",
    "course_metrics[\"kappa_test\"].append(k_test)"
   ]
  },
  {
   "cell_type": "code",
   "execution_count": null,
   "metadata": {},
   "outputs": [],
   "source": [
    "course_kappa = pd.DataFrame(course_metrics)"
   ]
  },
  {
   "cell_type": "code",
   "execution_count": null,
   "metadata": {},
   "outputs": [],
   "source": [
    "course_kappa.to_feather(\"data/course_kappa.feather\")"
   ]
  },
  {
   "cell_type": "code",
   "execution_count": null,
   "metadata": {},
   "outputs": [],
   "source": []
  }
 ],
 "metadata": {
  "kernelspec": {
   "display_name": "Python 3",
   "language": "python",
   "name": "python3"
  },
  "language_info": {
   "codemirror_mode": {
    "name": "ipython",
    "version": 3
   },
   "file_extension": ".py",
   "mimetype": "text/x-python",
   "name": "python",
   "nbconvert_exporter": "python",
   "pygments_lexer": "ipython3",
   "version": "3.6.5"
  }
 },
 "nbformat": 4,
 "nbformat_minor": 2
}
