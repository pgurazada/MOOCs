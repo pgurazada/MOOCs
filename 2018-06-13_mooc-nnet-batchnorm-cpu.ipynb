{
 "cells": [
  {
   "cell_type": "markdown",
   "metadata": {},
   "source": [
    "## Set global variables"
   ]
  },
  {
   "cell_type": "code",
   "execution_count": 1,
   "metadata": {},
   "outputs": [],
   "source": [
    "course_metrics = {'course_name' : [],\n",
    "                  'val_binary_accuracy' : [],\n",
    "                  'test_accuracy' : [],\n",
    "                  'test_f1_score' : [] }"
   ]
  },
  {
   "cell_type": "code",
   "execution_count": 2,
   "metadata": {},
   "outputs": [],
   "source": [
    "import os"
   ]
  },
  {
   "cell_type": "code",
   "execution_count": 3,
   "metadata": {},
   "outputs": [],
   "source": [
    "CONSOLIDATED_DATA_DIR = 'processed/'\n",
    "COURSE_LIST = [d[0][10:] for d in os.walk(CONSOLIDATED_DATA_DIR)][1:]"
   ]
  },
  {
   "cell_type": "code",
   "execution_count": 4,
   "metadata": {},
   "outputs": [
    {
     "data": {
      "text/plain": [
       "['HarvardXCB22x2013_Spring',\n",
       " 'HarvardXCS50x2012',\n",
       " 'HarvardXER22x2013_Spring',\n",
       " 'HarvardXPH207x2012_Fall',\n",
       " 'HarvardXPH278x2013_Spring',\n",
       " 'MITx14.73x2013_Spring',\n",
       " 'MITx2.01x2013_Spring',\n",
       " 'MITx3.091x2012_Fall',\n",
       " 'MITx3.091x2013_Spring',\n",
       " 'MITx6.002x2012_Fall',\n",
       " 'MITx6.002x2013_Spring',\n",
       " 'MITx6.00x2012_Fall',\n",
       " 'MITx6.00x2013_Spring',\n",
       " 'MITx7.00x2013_Spring',\n",
       " 'MITx8.02x2013_Spring',\n",
       " 'MITx8.MReV2013_Summer']"
      ]
     },
     "execution_count": 4,
     "metadata": {},
     "output_type": "execute_result"
    }
   ],
   "source": [
    "COURSE_LIST"
   ]
  },
  {
   "cell_type": "code",
   "execution_count": 5,
   "metadata": {},
   "outputs": [],
   "source": [
    "DATA_DIR = 'processed-final/'"
   ]
  },
  {
   "cell_type": "markdown",
   "metadata": {
    "colab_type": "text",
    "id": "QzGWkLzTFSgb"
   },
   "source": [
    "## Design the feed-forward neural net"
   ]
  },
  {
   "cell_type": "code",
   "execution_count": 6,
   "metadata": {
    "colab": {},
    "colab_type": "code",
    "id": "xeQCD_c4KS3J"
   },
   "outputs": [
    {
     "name": "stderr",
     "output_type": "stream",
     "text": [
      "C:\\Users\\kimmcodxb\\Anaconda3\\lib\\site-packages\\h5py\\__init__.py:36: FutureWarning: Conversion of the second argument of issubdtype from `float` to `np.floating` is deprecated. In future, it will be treated as `np.float64 == np.dtype(float).type`.\n",
      "  from ._conv import register_converters as _register_converters\n"
     ]
    }
   ],
   "source": [
    "import pandas as pd\n",
    "import numpy as np\n",
    "import tensorflow as tf"
   ]
  },
  {
   "cell_type": "code",
   "execution_count": 7,
   "metadata": {},
   "outputs": [],
   "source": [
    "np.random.seed(20130810)\n",
    "tf.set_random_seed(20130810)"
   ]
  },
  {
   "cell_type": "code",
   "execution_count": 8,
   "metadata": {},
   "outputs": [],
   "source": [
    "import matplotlib.pyplot as plt\n",
    "import seaborn as sns"
   ]
  },
  {
   "cell_type": "code",
   "execution_count": 9,
   "metadata": {},
   "outputs": [],
   "source": [
    "%matplotlib inline\n",
    "sns.set_style('ticks', {'grid_color' : '0.9'})\n",
    "sns.set_context('talk', font_scale=1.2)\n",
    "sns.set_palette('gray')"
   ]
  },
  {
   "cell_type": "code",
   "execution_count": 10,
   "metadata": {
    "colab": {},
    "colab_type": "code",
    "id": "0z3e7riPFzwD"
   },
   "outputs": [],
   "source": [
    "from keras.models import Sequential, load_model\n",
    "\n",
    "from keras.layers import Dense, Activation, Dropout, BatchNormalization\n",
    "\n",
    "from keras.losses import binary_crossentropy\n",
    "\n",
    "from keras.optimizers import RMSprop, Adam\n",
    "\n",
    "from keras.metrics import binary_accuracy\n",
    "\n",
    "from keras.callbacks import EarlyStopping, ReduceLROnPlateau, ModelCheckpoint\n",
    "\n",
    "from keras import backend as K"
   ]
  },
  {
   "cell_type": "code",
   "execution_count": 11,
   "metadata": {
    "colab": {},
    "colab_type": "code",
    "id": "06_tmFnhOuzi"
   },
   "outputs": [],
   "source": [
    "from sklearn.model_selection import train_test_split\n",
    "from sklearn.metrics import accuracy_score, f1_score"
   ]
  },
  {
   "cell_type": "code",
   "execution_count": 12,
   "metadata": {
    "colab": {},
    "colab_type": "code",
    "id": "frNXrx_gHk0T"
   },
   "outputs": [],
   "source": [
    "def build(network_type=Sequential, \n",
    "          nb_initial_layer=64,\n",
    "          dense_layer_lst=[64],\n",
    "          nb_final_layer=1,\n",
    "          learning_rate=1e-4):\n",
    "    \n",
    "    model = network_type()\n",
    "    \n",
    "    model.add(Dense(nb_initial_layer, input_shape=(features_train.shape[1], )))\n",
    "    model.add(Activation('relu'))\n",
    "    \n",
    "    model.add(BatchNormalization())\n",
    "    \n",
    "    for nb_units in dense_layer_lst:\n",
    "        model.add(Dense(nb_units))\n",
    "        model.add(Activation('relu'))\n",
    "        model.add(BatchNormalization())\n",
    "        \n",
    "    model.add(Dense(nb_final_layer))\n",
    "    model.add(Activation('sigmoid'))\n",
    "    \n",
    "    model.compile(optimizer=Adam(lr=learning_rate),\n",
    "                  loss=binary_crossentropy,\n",
    "                  metrics=[binary_accuracy])\n",
    "    \n",
    "    return model"
   ]
  },
  {
   "cell_type": "code",
   "execution_count": 13,
   "metadata": {},
   "outputs": [],
   "source": [
    "def plot_loss(fit_history, course_name):\n",
    "    epochs = range(1, len(fit_history['binary_accuracy'])+1)\n",
    "    \n",
    "    plt.figure(figsize=(12, 6))\n",
    "    \n",
    "    plt.plot(epochs, fit_history['loss'], '--', label='Training loss')\n",
    "    plt.plot(epochs, fit_history['val_loss'], '-', label='Validation loss')\n",
    "    \n",
    "    plt.title('Training and Validation loss for ' + course_name)\n",
    "    plt.xlabel('Epochs')\n",
    "    plt.ylabel('Loss')\n",
    "    plt.legend()\n",
    "    \n",
    "    plt.show()"
   ]
  },
  {
   "cell_type": "code",
   "execution_count": 14,
   "metadata": {},
   "outputs": [],
   "source": [
    "def plot_accuracy(fit_history, course_name):\n",
    "    epochs = range(1, len(fit_history['binary_accuracy'])+1)\n",
    "    \n",
    "    plt.figure(figsize=(12, 6))\n",
    "    \n",
    "    plt.plot(epochs, fit_history['binary_accuracy'], '--', label='Training Accuracy')\n",
    "    plt.plot(epochs, fit_history['val_binary_accuracy'], '-', label='Validation Accuracy')\n",
    "    \n",
    "    plt.title('Training and Validation accuracy for ' + course_name)\n",
    "    plt.xlabel('Epochs')\n",
    "    plt.ylabel('Accuracy')\n",
    "    plt.legend()\n",
    "    \n",
    "    plt.show()"
   ]
  },
  {
   "cell_type": "markdown",
   "metadata": {},
   "source": [
    "## Tune the network for each course"
   ]
  },
  {
   "cell_type": "markdown",
   "metadata": {},
   "source": [
    "### 1. CB22x - Ancient Greek Hero"
   ]
  },
  {
   "cell_type": "code",
   "execution_count": 15,
   "metadata": {},
   "outputs": [
    {
     "name": "stdout",
     "output_type": "stream",
     "text": [
      "HarvardXCB22x2013_Spring\n"
     ]
    }
   ],
   "source": [
    "course_idx = 0\n",
    "print(COURSE_LIST[course_idx])"
   ]
  },
  {
   "cell_type": "code",
   "execution_count": 16,
   "metadata": {},
   "outputs": [
    {
     "name": "stdout",
     "output_type": "stream",
     "text": [
      "processed-final/HarvardXCB22x2013_Spring\n"
     ]
    }
   ],
   "source": [
    "course_loc = DATA_DIR + COURSE_LIST[course_idx]\n",
    "print(course_loc)"
   ]
  },
  {
   "cell_type": "code",
   "execution_count": 17,
   "metadata": {},
   "outputs": [],
   "source": [
    "features_train = pd.read_feather(course_loc + '_features_train.feather').drop('index', axis=1)\n",
    "features_test = pd.read_feather(course_loc + '_features_test.feather').drop('index', axis=1)\n",
    "\n",
    "labels_train = pd.read_feather(course_loc + '_labels_train.feather').drop('index', axis=1)\n",
    "labels_test = pd.read_feather(course_loc + '_labels_test.feather').drop('index', axis=1)"
   ]
  },
  {
   "cell_type": "code",
   "execution_count": 18,
   "metadata": {
    "colab": {},
    "colab_type": "code",
    "id": "9XO-dYsVKXxa"
   },
   "outputs": [],
   "source": [
    "features_train = np.array(features_train)\n",
    "features_test = np.array(features_test)\n",
    "\n",
    "labels_train = np.array(labels_train).ravel()\n",
    "labels_test = np.array(labels_test).ravel()"
   ]
  },
  {
   "cell_type": "code",
   "execution_count": 19,
   "metadata": {
    "colab": {},
    "colab_type": "code",
    "id": "1KvXXicOKQs9"
   },
   "outputs": [
    {
     "data": {
      "text/plain": [
       "(24001, 18)"
      ]
     },
     "execution_count": 19,
     "metadata": {},
     "output_type": "execute_result"
    }
   ],
   "source": [
    "features_train.shape"
   ]
  },
  {
   "cell_type": "code",
   "execution_count": 20,
   "metadata": {
    "colab": {},
    "colab_type": "code",
    "id": "SDvj7aG0KvX7"
   },
   "outputs": [
    {
     "data": {
      "text/plain": [
       "(24001,)"
      ]
     },
     "execution_count": 20,
     "metadata": {},
     "output_type": "execute_result"
    }
   ],
   "source": [
    "labels_train.shape"
   ]
  },
  {
   "cell_type": "code",
   "execution_count": 21,
   "metadata": {},
   "outputs": [],
   "source": [
    "features_train, features_validation, labels_train, labels_validation = train_test_split(features_train, labels_train, \n",
    "                                                                                        test_size=0.2, \n",
    "                                                                                        random_state=20130810)"
   ]
  },
  {
   "cell_type": "code",
   "execution_count": 22,
   "metadata": {},
   "outputs": [
    {
     "data": {
      "text/plain": [
       "((19200, 18), (4801, 18))"
      ]
     },
     "execution_count": 22,
     "metadata": {},
     "output_type": "execute_result"
    }
   ],
   "source": [
    "features_train.shape, features_validation.shape"
   ]
  },
  {
   "cell_type": "code",
   "execution_count": 23,
   "metadata": {},
   "outputs": [
    {
     "data": {
      "text/plain": [
       "((19200,), (4801,))"
      ]
     },
     "execution_count": 23,
     "metadata": {},
     "output_type": "execute_result"
    }
   ],
   "source": [
    "labels_train.shape, labels_validation.shape"
   ]
  },
  {
   "cell_type": "code",
   "execution_count": 29,
   "metadata": {
    "colab": {},
    "colab_type": "code",
    "id": "lKiJbUhQK7GJ"
   },
   "outputs": [],
   "source": [
    "K.clear_session()"
   ]
  },
  {
   "cell_type": "code",
   "execution_count": 30,
   "metadata": {
    "colab": {},
    "colab_type": "code",
    "id": "sKSikRAPLDti"
   },
   "outputs": [
    {
     "name": "stdout",
     "output_type": "stream",
     "text": [
      "_________________________________________________________________\n",
      "Layer (type)                 Output Shape              Param #   \n",
      "=================================================================\n",
      "dense_1 (Dense)              (None, 32)                608       \n",
      "_________________________________________________________________\n",
      "activation_1 (Activation)    (None, 32)                0         \n",
      "_________________________________________________________________\n",
      "batch_normalization_1 (Batch (None, 32)                128       \n",
      "_________________________________________________________________\n",
      "dense_2 (Dense)              (None, 32)                1056      \n",
      "_________________________________________________________________\n",
      "activation_2 (Activation)    (None, 32)                0         \n",
      "_________________________________________________________________\n",
      "batch_normalization_2 (Batch (None, 32)                128       \n",
      "_________________________________________________________________\n",
      "dense_3 (Dense)              (None, 32)                1056      \n",
      "_________________________________________________________________\n",
      "activation_3 (Activation)    (None, 32)                0         \n",
      "_________________________________________________________________\n",
      "batch_normalization_3 (Batch (None, 32)                128       \n",
      "_________________________________________________________________\n",
      "dense_4 (Dense)              (None, 32)                1056      \n",
      "_________________________________________________________________\n",
      "activation_4 (Activation)    (None, 32)                0         \n",
      "_________________________________________________________________\n",
      "batch_normalization_4 (Batch (None, 32)                128       \n",
      "_________________________________________________________________\n",
      "dense_5 (Dense)              (None, 1)                 33        \n",
      "_________________________________________________________________\n",
      "activation_5 (Activation)    (None, 1)                 0         \n",
      "=================================================================\n",
      "Total params: 4,321\n",
      "Trainable params: 4,065\n",
      "Non-trainable params: 256\n",
      "_________________________________________________________________\n"
     ]
    }
   ],
   "source": [
    "model = build(nb_initial_layer=32, dense_layer_lst=[32, 32, 32], learning_rate=1e-4)\n",
    "model.summary()"
   ]
  },
  {
   "cell_type": "code",
   "execution_count": 31,
   "metadata": {},
   "outputs": [],
   "source": [
    "# We wish to save multiple best models.\n",
    "# Main purpose is to make it easier to choose the final model as we hand tune. We delete excess saved models at the end to \n",
    "# get to the best model\n",
    "# This strategy would be useful if we are going to use an ensemble\n",
    "\n",
    "out_file_path='best-keras-runs/' + \\\n",
    "               COURSE_LIST[course_idx] + \\\n",
    "              '-2-{epoch:02d}-{val_binary_accuracy:.2f}.hdf5'"
   ]
  },
  {
   "cell_type": "code",
   "execution_count": 32,
   "metadata": {},
   "outputs": [],
   "source": [
    "# In case you wish to save only the best model\n",
    "#out_file_path='best-keras-runs/' + \\\n",
    "#               COURSE_LIST[course_idx] + \\\n",
    "#              '-best-model.hdf5'"
   ]
  },
  {
   "cell_type": "code",
   "execution_count": 33,
   "metadata": {
    "colab": {},
    "colab_type": "code",
    "id": "ip9GBn1KLGEM"
   },
   "outputs": [
    {
     "name": "stdout",
     "output_type": "stream",
     "text": [
      "Train on 19200 samples, validate on 4801 samples\n",
      "Epoch 1/50\n",
      "19200/19200 [==============================] - 2s 84us/step - loss: 0.7334 - binary_accuracy: 0.5676 - val_loss: 0.6695 - val_binary_accuracy: 0.6155\n",
      "\n",
      "Epoch 00001: val_binary_accuracy improved from -inf to 0.61550, saving model to best-keras-runs/HarvardXCB22x2013_Spring-2-01-0.62.hdf5\n",
      "Epoch 2/50\n",
      "19200/19200 [==============================] - 0s 25us/step - loss: 0.6672 - binary_accuracy: 0.6188 - val_loss: 0.6548 - val_binary_accuracy: 0.6376\n",
      "\n",
      "Epoch 00002: val_binary_accuracy improved from 0.61550 to 0.63758, saving model to best-keras-runs/HarvardXCB22x2013_Spring-2-02-0.64.hdf5\n",
      "Epoch 3/50\n",
      "19200/19200 [==============================] - 1s 27us/step - loss: 0.6572 - binary_accuracy: 0.6260 - val_loss: 0.6491 - val_binary_accuracy: 0.6407\n",
      "\n",
      "Epoch 00003: val_binary_accuracy improved from 0.63758 to 0.64070, saving model to best-keras-runs/HarvardXCB22x2013_Spring-2-03-0.64.hdf5\n",
      "Epoch 4/50\n",
      "19200/19200 [==============================] - 0s 26us/step - loss: 0.6545 - binary_accuracy: 0.6273 - val_loss: 0.6475 - val_binary_accuracy: 0.6432\n",
      "\n",
      "Epoch 00004: val_binary_accuracy improved from 0.64070 to 0.64320, saving model to best-keras-runs/HarvardXCB22x2013_Spring-2-04-0.64.hdf5\n",
      "Epoch 5/50\n",
      "19200/19200 [==============================] - 0s 25us/step - loss: 0.6512 - binary_accuracy: 0.6301 - val_loss: 0.6463 - val_binary_accuracy: 0.6382\n",
      "\n",
      "Epoch 00005: val_binary_accuracy did not improve from 0.64320\n",
      "Epoch 6/50\n",
      "19200/19200 [==============================] - 0s 24us/step - loss: 0.6480 - binary_accuracy: 0.6316 - val_loss: 0.6466 - val_binary_accuracy: 0.6401\n",
      "\n",
      "Epoch 00006: val_binary_accuracy did not improve from 0.64320\n",
      "Epoch 7/50\n",
      "19200/19200 [==============================] - 0s 24us/step - loss: 0.6455 - binary_accuracy: 0.6341 - val_loss: 0.6448 - val_binary_accuracy: 0.6428\n",
      "\n",
      "Epoch 00007: val_binary_accuracy did not improve from 0.64320\n",
      "Epoch 8/50\n",
      "19200/19200 [==============================] - 0s 25us/step - loss: 0.6419 - binary_accuracy: 0.6365 - val_loss: 0.6423 - val_binary_accuracy: 0.6390\n",
      "\n",
      "Epoch 00008: val_binary_accuracy did not improve from 0.64320\n",
      "Epoch 9/50\n",
      "19200/19200 [==============================] - 0s 24us/step - loss: 0.6414 - binary_accuracy: 0.6371 - val_loss: 0.6432 - val_binary_accuracy: 0.6382\n",
      "\n",
      "Epoch 00009: val_binary_accuracy did not improve from 0.64320\n",
      "Epoch 10/50\n",
      "19200/19200 [==============================] - 0s 25us/step - loss: 0.6381 - binary_accuracy: 0.6412 - val_loss: 0.6378 - val_binary_accuracy: 0.6432\n",
      "\n",
      "Epoch 00010: val_binary_accuracy did not improve from 0.64320\n",
      "Epoch 11/50\n",
      "19200/19200 [==============================] - 1s 27us/step - loss: 0.6369 - binary_accuracy: 0.6423 - val_loss: 0.6360 - val_binary_accuracy: 0.6459\n",
      "\n",
      "Epoch 00011: val_binary_accuracy improved from 0.64320 to 0.64591, saving model to best-keras-runs/HarvardXCB22x2013_Spring-2-11-0.65.hdf5\n",
      "Epoch 12/50\n",
      "19200/19200 [==============================] - 0s 25us/step - loss: 0.6371 - binary_accuracy: 0.6403 - val_loss: 0.6347 - val_binary_accuracy: 0.6469\n",
      "\n",
      "Epoch 00012: val_binary_accuracy improved from 0.64591 to 0.64695, saving model to best-keras-runs/HarvardXCB22x2013_Spring-2-12-0.65.hdf5\n",
      "Epoch 13/50\n",
      "19200/19200 [==============================] - 1s 26us/step - loss: 0.6346 - binary_accuracy: 0.6470 - val_loss: 0.6359 - val_binary_accuracy: 0.6430\n",
      "\n",
      "Epoch 00013: val_binary_accuracy did not improve from 0.64695\n",
      "Epoch 14/50\n",
      "19200/19200 [==============================] - 0s 25us/step - loss: 0.6342 - binary_accuracy: 0.6418 - val_loss: 0.6327 - val_binary_accuracy: 0.6501\n",
      "\n",
      "Epoch 00014: val_binary_accuracy improved from 0.64695 to 0.65007, saving model to best-keras-runs/HarvardXCB22x2013_Spring-2-14-0.65.hdf5\n",
      "Epoch 15/50\n",
      "19200/19200 [==============================] - 0s 25us/step - loss: 0.6339 - binary_accuracy: 0.6452 - val_loss: 0.6339 - val_binary_accuracy: 0.6497\n",
      "\n",
      "Epoch 00015: val_binary_accuracy did not improve from 0.65007\n",
      "Epoch 16/50\n",
      "19200/19200 [==============================] - 0s 24us/step - loss: 0.6328 - binary_accuracy: 0.6426 - val_loss: 0.6327 - val_binary_accuracy: 0.6478\n",
      "\n",
      "Epoch 00016: val_binary_accuracy did not improve from 0.65007\n",
      "Epoch 17/50\n",
      "19200/19200 [==============================] - 0s 26us/step - loss: 0.6335 - binary_accuracy: 0.6444 - val_loss: 0.6334 - val_binary_accuracy: 0.6465\n",
      "\n",
      "Epoch 00017: val_binary_accuracy did not improve from 0.65007\n",
      "Epoch 18/50\n",
      "19200/19200 [==============================] - 0s 24us/step - loss: 0.6316 - binary_accuracy: 0.6424 - val_loss: 0.6319 - val_binary_accuracy: 0.6499\n",
      "\n",
      "Epoch 00018: val_binary_accuracy did not improve from 0.65007\n",
      "Epoch 19/50\n",
      "19200/19200 [==============================] - 0s 24us/step - loss: 0.6308 - binary_accuracy: 0.6458 - val_loss: 0.6316 - val_binary_accuracy: 0.6478\n",
      "\n",
      "Epoch 00019: val_binary_accuracy did not improve from 0.65007\n",
      "Epoch 20/50\n",
      "19200/19200 [==============================] - 1s 28us/step - loss: 0.6307 - binary_accuracy: 0.6456 - val_loss: 0.6347 - val_binary_accuracy: 0.6424\n",
      "\n",
      "Epoch 00020: val_binary_accuracy did not improve from 0.65007\n",
      "Epoch 21/50\n",
      "19200/19200 [==============================] - 0s 25us/step - loss: 0.6308 - binary_accuracy: 0.6472 - val_loss: 0.6327 - val_binary_accuracy: 0.6447\n",
      "\n",
      "Epoch 00021: val_binary_accuracy did not improve from 0.65007\n",
      "Epoch 22/50\n",
      "19200/19200 [==============================] - 0s 26us/step - loss: 0.6308 - binary_accuracy: 0.6430 - val_loss: 0.6317 - val_binary_accuracy: 0.6467\n",
      "\n",
      "Epoch 00022: val_binary_accuracy did not improve from 0.65007\n",
      "Epoch 23/50\n",
      "19200/19200 [==============================] - 0s 25us/step - loss: 0.6303 - binary_accuracy: 0.6444 - val_loss: 0.6312 - val_binary_accuracy: 0.6499\n",
      "\n",
      "Epoch 00023: val_binary_accuracy did not improve from 0.65007\n",
      "Epoch 24/50\n",
      "19200/19200 [==============================] - 0s 25us/step - loss: 0.6304 - binary_accuracy: 0.6427 - val_loss: 0.6320 - val_binary_accuracy: 0.6457\n",
      "\n",
      "Epoch 00024: val_binary_accuracy did not improve from 0.65007\n",
      "Epoch 25/50\n",
      "19200/19200 [==============================] - 0s 26us/step - loss: 0.6294 - binary_accuracy: 0.6486 - val_loss: 0.6315 - val_binary_accuracy: 0.6497\n",
      "\n",
      "Epoch 00025: val_binary_accuracy did not improve from 0.65007\n",
      "Epoch 26/50\n",
      "19200/19200 [==============================] - 1s 26us/step - loss: 0.6301 - binary_accuracy: 0.6468 - val_loss: 0.6321 - val_binary_accuracy: 0.6476\n",
      "\n",
      "Epoch 00026: val_binary_accuracy did not improve from 0.65007\n",
      "Epoch 27/50\n",
      "19200/19200 [==============================] - 1s 27us/step - loss: 0.6289 - binary_accuracy: 0.6483 - val_loss: 0.6323 - val_binary_accuracy: 0.6459\n",
      "\n",
      "Epoch 00027: val_binary_accuracy did not improve from 0.65007\n"
     ]
    }
   ],
   "source": [
    "model_output = model.fit(features_train, labels_train,\n",
    "                         batch_size=128,\n",
    "                         epochs=50,\n",
    "                         validation_data=[features_validation, labels_validation],\n",
    "                         callbacks=[EarlyStopping(patience=4), \n",
    "                                    ReduceLROnPlateau(patience=4, min_lr=1e-6),\n",
    "                                    ModelCheckpoint(out_file_path, \n",
    "                                                    monitor='val_binary_accuracy',\n",
    "                                                    mode='max',\n",
    "                                                    verbose=1, \n",
    "                                                    save_best_only=True, \n",
    "                                                    save_weights_only=False)])"
   ]
  },
  {
   "cell_type": "code",
   "execution_count": 34,
   "metadata": {},
   "outputs": [
    {
     "data": {
      "image/png": "[encoded data removed]",
      "text/plain": [
       "<matplotlib.figure.Figure at 0x1d6130bf6a0>"
      ]
     },
     "metadata": {},
     "output_type": "display_data"
    }
   ],
   "source": [
    "plot_loss(model_output.history, COURSE_LIST[course_idx])"
   ]
  },
  {
   "cell_type": "code",
   "execution_count": 35,
   "metadata": {},
   "outputs": [
    {
     "data": {
      "image/png": "[encoded data removed]",
      "text/plain": [
       "<matplotlib.figure.Figure at 0x1d613b9b240>"
      ]
     },
     "metadata": {},
     "output_type": "display_data"
    }
   ],
   "source": [
    "plot_accuracy(model_output.history, COURSE_LIST[course_idx])"
   ]
  },
  {
   "cell_type": "markdown",
   "metadata": {},
   "source": [
    "##### Load the best model and compute metrics"
   ]
  },
  {
   "cell_type": "code",
   "execution_count": null,
   "metadata": {},
   "outputs": [],
   "source": [
    "best_model = load_model('best-keras-runs/HarvardXCB22x2013_Spring-24-0.65.hdf5')"
   ]
  },
  {
   "cell_type": "code",
   "execution_count": null,
   "metadata": {},
   "outputs": [],
   "source": [
    "best_model.evaluate(features_train, labels_train, batch_size=128)"
   ]
  },
  {
   "cell_type": "code",
   "execution_count": null,
   "metadata": {},
   "outputs": [],
   "source": [
    "course_metrics['course_name'].append(COURSE_LIST[course_idx])\n",
    "course_metrics['val_binary_accuracy'].append(best_model.evaluate(features_train, labels_train, batch_size=128)[-1])\n",
    "\n",
    "course_metrics['test_accuracy'].append(accuracy_score(best_model.predict_classes(features_test), labels_test))\n",
    "course_metrics['test_f1_score'].append(f1_score(best_model.predict_classes(features_test), labels_test))"
   ]
  },
  {
   "cell_type": "markdown",
   "metadata": {
    "colab_type": "text",
    "id": "ANt42YvTLVMR"
   },
   "source": [
    "### 2. CS50x - Introduction to Computer Science I"
   ]
  },
  {
   "cell_type": "code",
   "execution_count": null,
   "metadata": {},
   "outputs": [],
   "source": [
    "course_idx = 1\n",
    "print(COURSE_LIST[course_idx])"
   ]
  },
  {
   "cell_type": "code",
   "execution_count": null,
   "metadata": {},
   "outputs": [],
   "source": [
    "course_loc = DATA_DIR + COURSE_LIST[course_idx]\n",
    "print(course_loc)"
   ]
  },
  {
   "cell_type": "code",
   "execution_count": null,
   "metadata": {},
   "outputs": [],
   "source": [
    "features_train = pd.read_feather(course_loc + '_features_train.feather').drop('index', axis=1)\n",
    "features_test = pd.read_feather(course_loc + '_features_test.feather').drop('index', axis=1)\n",
    "\n",
    "labels_train = pd.read_feather(course_loc + '_labels_train.feather').drop('index', axis=1)\n",
    "labels_test = pd.read_feather(course_loc + '_labels_test.feather').drop('index', axis=1)"
   ]
  },
  {
   "cell_type": "code",
   "execution_count": null,
   "metadata": {
    "colab": {},
    "colab_type": "code",
    "id": "9XO-dYsVKXxa"
   },
   "outputs": [],
   "source": [
    "features_train = np.array(features_train)\n",
    "features_test = np.array(features_test)\n",
    "\n",
    "labels_train = np.array(labels_train).ravel()\n",
    "labels_test = np.array(labels_test).ravel()"
   ]
  },
  {
   "cell_type": "code",
   "execution_count": null,
   "metadata": {
    "colab": {},
    "colab_type": "code",
    "id": "1KvXXicOKQs9"
   },
   "outputs": [],
   "source": [
    "features_train.shape"
   ]
  },
  {
   "cell_type": "code",
   "execution_count": null,
   "metadata": {
    "colab": {},
    "colab_type": "code",
    "id": "SDvj7aG0KvX7"
   },
   "outputs": [],
   "source": [
    "labels_train.shape"
   ]
  },
  {
   "cell_type": "code",
   "execution_count": null,
   "metadata": {},
   "outputs": [],
   "source": [
    "features_train, features_validation, labels_train, labels_validation = train_test_split(features_train, labels_train, \n",
    "                                                                                        test_size=0.2, \n",
    "                                                                                        random_state=20130810)"
   ]
  },
  {
   "cell_type": "code",
   "execution_count": null,
   "metadata": {},
   "outputs": [],
   "source": [
    "features_train.shape, features_validation.shape"
   ]
  },
  {
   "cell_type": "code",
   "execution_count": null,
   "metadata": {},
   "outputs": [],
   "source": [
    "labels_train.shape, labels_validation.shape"
   ]
  },
  {
   "cell_type": "code",
   "execution_count": null,
   "metadata": {
    "colab": {},
    "colab_type": "code",
    "id": "lKiJbUhQK7GJ"
   },
   "outputs": [],
   "source": [
    "K.clear_session()"
   ]
  },
  {
   "cell_type": "code",
   "execution_count": null,
   "metadata": {
    "colab": {},
    "colab_type": "code",
    "id": "sKSikRAPLDti"
   },
   "outputs": [],
   "source": [
    "model = build(nb_initial_layer=32, dense_layer_lst=[32, 32, 32], dpt_rate=0.1, learning_rate=1e-4)\n",
    "model.summary()"
   ]
  },
  {
   "cell_type": "code",
   "execution_count": null,
   "metadata": {},
   "outputs": [],
   "source": [
    "# We wish to save multiple best models.\n",
    "# This strategy would be useful if we are going to use an ensemble\n",
    "\n",
    "out_file_path='best-keras-runs/' + \\\n",
    "               COURSE_LIST[course_idx] + \\\n",
    "              '-{epoch:02d}-{val_binary_accuracy:.2f}.hdf5'"
   ]
  },
  {
   "cell_type": "code",
   "execution_count": null,
   "metadata": {},
   "outputs": [],
   "source": [
    "#out_file_path='best-keras-runs/' + \\\n",
    "#               COURSE_LIST[course_idx] + \\\n",
    "#              '-best-model.hdf5'"
   ]
  },
  {
   "cell_type": "code",
   "execution_count": null,
   "metadata": {
    "colab": {},
    "colab_type": "code",
    "id": "ip9GBn1KLGEM"
   },
   "outputs": [],
   "source": [
    "model_output = model.fit(features_train, labels_train,\n",
    "                         batch_size=128,\n",
    "                         epochs=100,\n",
    "                         validation_data=[features_validation, labels_validation],\n",
    "                         callbacks=[EarlyStopping(patience=4), \n",
    "                                    ReduceLROnPlateau(patience=4, min_lr=1e-6),\n",
    "                                    ModelCheckpoint(out_file_path, \n",
    "                                                    monitor='val_binary_accuracy',\n",
    "                                                    mode='max',\n",
    "                                                    verbose=1, \n",
    "                                                    save_best_only=True, \n",
    "                                                    save_weights_only=False)])"
   ]
  },
  {
   "cell_type": "code",
   "execution_count": null,
   "metadata": {},
   "outputs": [],
   "source": [
    "plot_loss(model_output.history, COURSE_LIST[course_idx])"
   ]
  },
  {
   "cell_type": "code",
   "execution_count": null,
   "metadata": {},
   "outputs": [],
   "source": [
    "plot_accuracy(model_output.history, COURSE_LIST[course_idx])"
   ]
  },
  {
   "cell_type": "markdown",
   "metadata": {},
   "source": [
    "##### Load the best model and compute metrics"
   ]
  },
  {
   "cell_type": "code",
   "execution_count": null,
   "metadata": {},
   "outputs": [],
   "source": [
    "best_model = load_model('best-keras-runs/HarvardXCS50x2012-33-0.68.hdf5')"
   ]
  },
  {
   "cell_type": "code",
   "execution_count": null,
   "metadata": {},
   "outputs": [],
   "source": [
    "best_model.evaluate(features_train, labels_train, batch_size=128)"
   ]
  },
  {
   "cell_type": "code",
   "execution_count": null,
   "metadata": {},
   "outputs": [],
   "source": [
    "course_metrics['course_name'].append(COURSE_LIST[course_idx])\n",
    "course_metrics['val_binary_accuracy'].append(best_model.evaluate(features_train, labels_train, batch_size=128)[-1])\n",
    "\n",
    "course_metrics['test_accuracy'].append(accuracy_score(best_model.predict_classes(features_test), labels_test))\n",
    "course_metrics['test_f1_score'].append(f1_score(best_model.predict_classes(features_test), labels_test))"
   ]
  },
  {
   "cell_type": "markdown",
   "metadata": {},
   "source": [
    "### 3. ER22x - Justice"
   ]
  },
  {
   "cell_type": "code",
   "execution_count": null,
   "metadata": {},
   "outputs": [],
   "source": [
    "course_idx = 2\n",
    "print(COURSE_LIST[course_idx])"
   ]
  },
  {
   "cell_type": "code",
   "execution_count": null,
   "metadata": {},
   "outputs": [],
   "source": [
    "course_loc = DATA_DIR + COURSE_LIST[course_idx]\n",
    "print(course_loc)"
   ]
  },
  {
   "cell_type": "code",
   "execution_count": null,
   "metadata": {},
   "outputs": [],
   "source": [
    "features_train = pd.read_feather(course_loc + '_features_train.feather').drop('index', axis=1)\n",
    "features_test = pd.read_feather(course_loc + '_features_test.feather').drop('index', axis=1)\n",
    "\n",
    "labels_train = pd.read_feather(course_loc + '_labels_train.feather').drop('index', axis=1)\n",
    "labels_test = pd.read_feather(course_loc + '_labels_test.feather').drop('index', axis=1)"
   ]
  },
  {
   "cell_type": "code",
   "execution_count": null,
   "metadata": {
    "colab": {},
    "colab_type": "code",
    "id": "9XO-dYsVKXxa"
   },
   "outputs": [],
   "source": [
    "features_train = np.array(features_train)\n",
    "features_test = np.array(features_test)\n",
    "\n",
    "labels_train = np.array(labels_train).ravel()\n",
    "labels_test = np.array(labels_test).ravel()"
   ]
  },
  {
   "cell_type": "code",
   "execution_count": null,
   "metadata": {
    "colab": {},
    "colab_type": "code",
    "id": "1KvXXicOKQs9"
   },
   "outputs": [],
   "source": [
    "features_train.shape"
   ]
  },
  {
   "cell_type": "code",
   "execution_count": null,
   "metadata": {
    "colab": {},
    "colab_type": "code",
    "id": "SDvj7aG0KvX7"
   },
   "outputs": [],
   "source": [
    "labels_train.shape"
   ]
  },
  {
   "cell_type": "code",
   "execution_count": null,
   "metadata": {},
   "outputs": [],
   "source": [
    "features_train, features_validation, labels_train, labels_validation = train_test_split(features_train, labels_train, \n",
    "                                                                                        test_size=0.2, \n",
    "                                                                                        random_state=20130810)"
   ]
  },
  {
   "cell_type": "code",
   "execution_count": null,
   "metadata": {},
   "outputs": [],
   "source": [
    "features_train.shape, features_validation.shape"
   ]
  },
  {
   "cell_type": "code",
   "execution_count": null,
   "metadata": {},
   "outputs": [],
   "source": [
    "labels_train.shape, labels_validation.shape"
   ]
  },
  {
   "cell_type": "code",
   "execution_count": null,
   "metadata": {
    "colab": {},
    "colab_type": "code",
    "id": "lKiJbUhQK7GJ"
   },
   "outputs": [],
   "source": [
    "K.clear_session()"
   ]
  },
  {
   "cell_type": "code",
   "execution_count": null,
   "metadata": {
    "colab": {},
    "colab_type": "code",
    "id": "sKSikRAPLDti"
   },
   "outputs": [],
   "source": [
    "model = build(nb_initial_layer=32, dense_layer_lst=[32, 32, 32], dpt_rate=0.1, learning_rate=1e-5)\n",
    "model.summary()"
   ]
  },
  {
   "cell_type": "code",
   "execution_count": null,
   "metadata": {},
   "outputs": [],
   "source": [
    "# We wish to save multiple best models.\n",
    "# This strategy would be useful if we are going to use an ensemble\n",
    "\n",
    "out_file_path='best-keras-runs/' + \\\n",
    "               COURSE_LIST[course_idx] + \\\n",
    "              '-{epoch:02d}-{val_binary_accuracy:.2f}.hdf5'"
   ]
  },
  {
   "cell_type": "code",
   "execution_count": null,
   "metadata": {},
   "outputs": [],
   "source": [
    "#out_file_path='best-keras-runs/' + \\\n",
    "#               COURSE_LIST[course_idx] + \\\n",
    "#              '-best-model.hdf5'"
   ]
  },
  {
   "cell_type": "code",
   "execution_count": null,
   "metadata": {
    "colab": {},
    "colab_type": "code",
    "id": "ip9GBn1KLGEM"
   },
   "outputs": [],
   "source": [
    "model_output = model.fit(features_train, labels_train,\n",
    "                         batch_size=128,\n",
    "                         epochs=100,\n",
    "                         validation_data=[features_validation, labels_validation],\n",
    "                         callbacks=[EarlyStopping(patience=4), \n",
    "                                    ReduceLROnPlateau(patience=4, min_lr=1e-6),\n",
    "                                    ModelCheckpoint(out_file_path, \n",
    "                                                    monitor='val_binary_accuracy',\n",
    "                                                    mode='max',\n",
    "                                                    verbose=1, \n",
    "                                                    save_best_only=True, \n",
    "                                                    save_weights_only=False)])"
   ]
  },
  {
   "cell_type": "code",
   "execution_count": null,
   "metadata": {},
   "outputs": [],
   "source": [
    "plot_loss(model_output.history, COURSE_LIST[course_idx])"
   ]
  },
  {
   "cell_type": "code",
   "execution_count": null,
   "metadata": {},
   "outputs": [],
   "source": [
    "plot_accuracy(model_output.history, COURSE_LIST[course_idx])"
   ]
  },
  {
   "cell_type": "markdown",
   "metadata": {},
   "source": [
    "##### Load the best model and compute metrics"
   ]
  },
  {
   "cell_type": "code",
   "execution_count": null,
   "metadata": {},
   "outputs": [],
   "source": [
    "best_model = load_model('best-keras-runs/HarvardXER22x2013_Spring-18-0.67.hdf5')"
   ]
  },
  {
   "cell_type": "code",
   "execution_count": null,
   "metadata": {},
   "outputs": [],
   "source": [
    "best_model.evaluate(features_train, labels_train, batch_size=128)"
   ]
  },
  {
   "cell_type": "code",
   "execution_count": null,
   "metadata": {},
   "outputs": [],
   "source": [
    "course_metrics['course_name'].append(COURSE_LIST[course_idx])\n",
    "course_metrics['val_binary_accuracy'].append(best_model.evaluate(features_train, labels_train, batch_size=128)[-1])\n",
    "\n",
    "course_metrics['test_accuracy'].append(accuracy_score(best_model.predict_classes(features_test), labels_test))\n",
    "course_metrics['test_f1_score'].append(f1_score(best_model.predict_classes(features_test), labels_test))"
   ]
  },
  {
   "cell_type": "markdown",
   "metadata": {},
   "source": [
    "### 4. PH207x - Health in Numbers: Quantitative Methods in Clinical & Public Health Research"
   ]
  },
  {
   "cell_type": "code",
   "execution_count": null,
   "metadata": {},
   "outputs": [],
   "source": [
    "course_idx = 3\n",
    "print(COURSE_LIST[course_idx])"
   ]
  },
  {
   "cell_type": "code",
   "execution_count": null,
   "metadata": {},
   "outputs": [],
   "source": [
    "course_loc = DATA_DIR + COURSE_LIST[course_idx]\n",
    "print(course_loc)"
   ]
  },
  {
   "cell_type": "code",
   "execution_count": null,
   "metadata": {},
   "outputs": [],
   "source": [
    "features_train = pd.read_feather(course_loc + '_features_train.feather').drop('index', axis=1)\n",
    "features_test = pd.read_feather(course_loc + '_features_test.feather').drop('index', axis=1)\n",
    "\n",
    "labels_train = pd.read_feather(course_loc + '_labels_train.feather').drop('index', axis=1)\n",
    "labels_test = pd.read_feather(course_loc + '_labels_test.feather').drop('index', axis=1)"
   ]
  },
  {
   "cell_type": "code",
   "execution_count": null,
   "metadata": {
    "colab": {},
    "colab_type": "code",
    "id": "9XO-dYsVKXxa"
   },
   "outputs": [],
   "source": [
    "features_train = np.array(features_train)\n",
    "features_test = np.array(features_test)\n",
    "\n",
    "labels_train = np.array(labels_train).ravel()\n",
    "labels_test = np.array(labels_test).ravel()"
   ]
  },
  {
   "cell_type": "code",
   "execution_count": null,
   "metadata": {
    "colab": {},
    "colab_type": "code",
    "id": "1KvXXicOKQs9"
   },
   "outputs": [],
   "source": [
    "features_train.shape"
   ]
  },
  {
   "cell_type": "code",
   "execution_count": null,
   "metadata": {
    "colab": {},
    "colab_type": "code",
    "id": "SDvj7aG0KvX7"
   },
   "outputs": [],
   "source": [
    "labels_train.shape"
   ]
  },
  {
   "cell_type": "code",
   "execution_count": null,
   "metadata": {},
   "outputs": [],
   "source": [
    "features_train, features_validation, labels_train, labels_validation = train_test_split(features_train, labels_train, \n",
    "                                                                                        test_size=0.2, \n",
    "                                                                                        random_state=20130810)"
   ]
  },
  {
   "cell_type": "code",
   "execution_count": null,
   "metadata": {},
   "outputs": [],
   "source": [
    "features_train.shape, features_validation.shape"
   ]
  },
  {
   "cell_type": "code",
   "execution_count": null,
   "metadata": {},
   "outputs": [],
   "source": [
    "labels_train.shape, labels_validation.shape"
   ]
  },
  {
   "cell_type": "code",
   "execution_count": null,
   "metadata": {
    "colab": {},
    "colab_type": "code",
    "id": "lKiJbUhQK7GJ"
   },
   "outputs": [],
   "source": [
    "K.clear_session()"
   ]
  },
  {
   "cell_type": "code",
   "execution_count": null,
   "metadata": {
    "colab": {},
    "colab_type": "code",
    "id": "sKSikRAPLDti"
   },
   "outputs": [],
   "source": [
    "model = build(nb_initial_layer=32, dense_layer_lst=[32, 32, 32], dpt_rate=0.01, learning_rate=1e-4)\n",
    "model.summary()"
   ]
  },
  {
   "cell_type": "code",
   "execution_count": null,
   "metadata": {},
   "outputs": [],
   "source": [
    "# We wish to save multiple best models.\n",
    "# This strategy would be useful if we are going to use an ensemble\n",
    "\n",
    "out_file_path='best-keras-runs/' + \\\n",
    "               COURSE_LIST[course_idx] + \\\n",
    "              '-8-{epoch:02d}-{val_binary_accuracy:.2f}.hdf5'"
   ]
  },
  {
   "cell_type": "code",
   "execution_count": null,
   "metadata": {},
   "outputs": [],
   "source": [
    "#out_file_path='best-keras-runs/' + \\\n",
    "#               COURSE_LIST[course_idx] + \\\n",
    "#              '-best-model.hdf5'"
   ]
  },
  {
   "cell_type": "code",
   "execution_count": null,
   "metadata": {
    "colab": {},
    "colab_type": "code",
    "id": "ip9GBn1KLGEM"
   },
   "outputs": [],
   "source": [
    "model_output = model.fit(features_train, labels_train,\n",
    "                         batch_size=128,\n",
    "                         epochs=100,\n",
    "                         validation_data=[features_validation, labels_validation],\n",
    "                         callbacks=[EarlyStopping(patience=4), \n",
    "                                    ReduceLROnPlateau(patience=4, min_lr=1e-6),\n",
    "                                    ModelCheckpoint(out_file_path, \n",
    "                                                    monitor='val_binary_accuracy',\n",
    "                                                    mode='max',\n",
    "                                                    verbose=1, \n",
    "                                                    save_best_only=True, \n",
    "                                                    save_weights_only=False)])"
   ]
  },
  {
   "cell_type": "code",
   "execution_count": null,
   "metadata": {},
   "outputs": [],
   "source": [
    "plot_loss(model_output.history, COURSE_LIST[course_idx])"
   ]
  },
  {
   "cell_type": "code",
   "execution_count": null,
   "metadata": {},
   "outputs": [],
   "source": [
    "plot_accuracy(model_output.history, COURSE_LIST[course_idx])"
   ]
  },
  {
   "cell_type": "markdown",
   "metadata": {},
   "source": [
    "##### Load the best model and compute metrics"
   ]
  },
  {
   "cell_type": "code",
   "execution_count": null,
   "metadata": {},
   "outputs": [],
   "source": [
    "best_model = load_model('best-keras-runs/HarvardXPH207x2012_Fall-14-0.65.hdf5')"
   ]
  },
  {
   "cell_type": "code",
   "execution_count": null,
   "metadata": {},
   "outputs": [],
   "source": [
    "best_model.evaluate(features_train, labels_train, batch_size=128)"
   ]
  },
  {
   "cell_type": "code",
   "execution_count": null,
   "metadata": {},
   "outputs": [],
   "source": [
    "course_metrics['course_name'].append(COURSE_LIST[course_idx])\n",
    "course_metrics['val_binary_accuracy'].append(best_model.evaluate(features_train, labels_train, batch_size=128)[-1])\n",
    "\n",
    "course_metrics['test_accuracy'].append(accuracy_score(best_model.predict_classes(features_test), labels_test))\n",
    "course_metrics['test_f1_score'].append(f1_score(best_model.predict_classes(features_test), labels_test))"
   ]
  },
  {
   "cell_type": "markdown",
   "metadata": {},
   "source": [
    "### 5. PH278x - Human Health and Global Environmental Change"
   ]
  },
  {
   "cell_type": "code",
   "execution_count": null,
   "metadata": {},
   "outputs": [],
   "source": [
    "course_idx = 4\n",
    "print(COURSE_LIST[course_idx])"
   ]
  },
  {
   "cell_type": "code",
   "execution_count": null,
   "metadata": {},
   "outputs": [],
   "source": [
    "course_loc = DATA_DIR + COURSE_LIST[course_idx]\n",
    "print(course_loc)"
   ]
  },
  {
   "cell_type": "code",
   "execution_count": null,
   "metadata": {},
   "outputs": [],
   "source": [
    "features_train = pd.read_feather(course_loc + '_features_train.feather').drop('index', axis=1)\n",
    "features_test = pd.read_feather(course_loc + '_features_test.feather').drop('index', axis=1)\n",
    "\n",
    "labels_train = pd.read_feather(course_loc + '_labels_train.feather').drop('index', axis=1)\n",
    "labels_test = pd.read_feather(course_loc + '_labels_test.feather').drop('index', axis=1)"
   ]
  },
  {
   "cell_type": "code",
   "execution_count": null,
   "metadata": {
    "colab": {},
    "colab_type": "code",
    "id": "9XO-dYsVKXxa"
   },
   "outputs": [],
   "source": [
    "features_train = np.array(features_train)\n",
    "features_test = np.array(features_test)\n",
    "\n",
    "labels_train = np.array(labels_train).ravel()\n",
    "labels_test = np.array(labels_test).ravel()"
   ]
  },
  {
   "cell_type": "code",
   "execution_count": null,
   "metadata": {
    "colab": {},
    "colab_type": "code",
    "id": "1KvXXicOKQs9"
   },
   "outputs": [],
   "source": [
    "features_train.shape"
   ]
  },
  {
   "cell_type": "code",
   "execution_count": null,
   "metadata": {
    "colab": {},
    "colab_type": "code",
    "id": "SDvj7aG0KvX7"
   },
   "outputs": [],
   "source": [
    "labels_train.shape"
   ]
  },
  {
   "cell_type": "code",
   "execution_count": null,
   "metadata": {},
   "outputs": [],
   "source": [
    "features_train, features_validation, labels_train, labels_validation = train_test_split(features_train, labels_train, \n",
    "                                                                                        test_size=0.2, \n",
    "                                                                                        random_state=20130810)"
   ]
  },
  {
   "cell_type": "code",
   "execution_count": null,
   "metadata": {},
   "outputs": [],
   "source": [
    "features_train.shape, features_validation.shape"
   ]
  },
  {
   "cell_type": "code",
   "execution_count": null,
   "metadata": {},
   "outputs": [],
   "source": [
    "labels_train.shape, labels_validation.shape"
   ]
  },
  {
   "cell_type": "code",
   "execution_count": null,
   "metadata": {
    "colab": {},
    "colab_type": "code",
    "id": "lKiJbUhQK7GJ"
   },
   "outputs": [],
   "source": [
    "K.clear_session()"
   ]
  },
  {
   "cell_type": "code",
   "execution_count": null,
   "metadata": {
    "colab": {},
    "colab_type": "code",
    "id": "sKSikRAPLDti"
   },
   "outputs": [],
   "source": [
    "model = build(nb_initial_layer=32, dense_layer_lst=[32, 32, 32], dpt_rate=0.2, learning_rate=1e-4)\n",
    "model.summary()"
   ]
  },
  {
   "cell_type": "code",
   "execution_count": null,
   "metadata": {},
   "outputs": [],
   "source": [
    "# We wish to save multiple best models.\n",
    "# This strategy would be useful if we are going to use an ensemble\n",
    "\n",
    "out_file_path='best-keras-runs/' + \\\n",
    "               COURSE_LIST[course_idx] + \\\n",
    "              '-6-{epoch:02d}-{val_binary_accuracy:.2f}.hdf5'"
   ]
  },
  {
   "cell_type": "code",
   "execution_count": null,
   "metadata": {},
   "outputs": [],
   "source": [
    "#out_file_path='best-keras-runs/' + \\\n",
    "#               COURSE_LIST[course_idx] + \\\n",
    "#              '-best-model.hdf5'"
   ]
  },
  {
   "cell_type": "code",
   "execution_count": null,
   "metadata": {
    "colab": {},
    "colab_type": "code",
    "id": "ip9GBn1KLGEM"
   },
   "outputs": [],
   "source": [
    "model_output = model.fit(features_train, labels_train,\n",
    "                         batch_size=128,\n",
    "                         epochs=100,\n",
    "                         validation_data=[features_validation, labels_validation],\n",
    "                         callbacks=[EarlyStopping(patience=4), \n",
    "                                    ReduceLROnPlateau(patience=4, min_lr=1e-6),\n",
    "                                    ModelCheckpoint(out_file_path, \n",
    "                                                    monitor='val_binary_accuracy',\n",
    "                                                    mode='max',\n",
    "                                                    verbose=1, \n",
    "                                                    save_best_only=True, \n",
    "                                                    save_weights_only=False)])"
   ]
  },
  {
   "cell_type": "code",
   "execution_count": null,
   "metadata": {},
   "outputs": [],
   "source": [
    "plot_loss(model_output.history, COURSE_LIST[course_idx])"
   ]
  },
  {
   "cell_type": "code",
   "execution_count": null,
   "metadata": {},
   "outputs": [],
   "source": [
    "plot_accuracy(model_output.history, COURSE_LIST[course_idx])"
   ]
  },
  {
   "cell_type": "markdown",
   "metadata": {},
   "source": [
    "##### Load the best model and compute metrics"
   ]
  },
  {
   "cell_type": "code",
   "execution_count": null,
   "metadata": {},
   "outputs": [],
   "source": [
    "best_model = load_model('best-keras-runs/HarvardXPH278x2013_Spring-4-07-0.72.hdf5')"
   ]
  },
  {
   "cell_type": "code",
   "execution_count": null,
   "metadata": {},
   "outputs": [],
   "source": [
    "best_model.evaluate(features_train, labels_train, batch_size=128)"
   ]
  },
  {
   "cell_type": "code",
   "execution_count": null,
   "metadata": {},
   "outputs": [],
   "source": [
    "course_metrics['course_name'].append(COURSE_LIST[course_idx])\n",
    "course_metrics['val_binary_accuracy'].append(best_model.evaluate(features_train, labels_train, batch_size=128)[-1])\n",
    "\n",
    "course_metrics['test_accuracy'].append(accuracy_score(best_model.predict_classes(features_test), labels_test))\n",
    "course_metrics['test_f1_score'].append(f1_score(best_model.predict_classes(features_test), labels_test))"
   ]
  },
  {
   "cell_type": "markdown",
   "metadata": {},
   "source": [
    "### 6. MIT 14.73x - The Challenges of Global Poverty "
   ]
  },
  {
   "cell_type": "code",
   "execution_count": null,
   "metadata": {},
   "outputs": [],
   "source": [
    "course_idx = 5\n",
    "print(COURSE_LIST[course_idx])"
   ]
  },
  {
   "cell_type": "code",
   "execution_count": null,
   "metadata": {},
   "outputs": [],
   "source": [
    "course_loc = DATA_DIR + COURSE_LIST[course_idx]\n",
    "print(course_loc)"
   ]
  },
  {
   "cell_type": "code",
   "execution_count": null,
   "metadata": {},
   "outputs": [],
   "source": [
    "features_train = pd.read_feather(course_loc + '_features_train.feather').drop('index', axis=1)\n",
    "features_test = pd.read_feather(course_loc + '_features_test.feather').drop('index', axis=1)\n",
    "\n",
    "labels_train = pd.read_feather(course_loc + '_labels_train.feather').drop('index', axis=1)\n",
    "labels_test = pd.read_feather(course_loc + '_labels_test.feather').drop('index', axis=1)"
   ]
  },
  {
   "cell_type": "code",
   "execution_count": null,
   "metadata": {
    "colab": {},
    "colab_type": "code",
    "id": "9XO-dYsVKXxa"
   },
   "outputs": [],
   "source": [
    "features_train = np.array(features_train)\n",
    "features_test = np.array(features_test)\n",
    "\n",
    "labels_train = np.array(labels_train).ravel()\n",
    "labels_test = np.array(labels_test).ravel()"
   ]
  },
  {
   "cell_type": "code",
   "execution_count": null,
   "metadata": {
    "colab": {},
    "colab_type": "code",
    "id": "1KvXXicOKQs9"
   },
   "outputs": [],
   "source": [
    "features_train.shape"
   ]
  },
  {
   "cell_type": "code",
   "execution_count": null,
   "metadata": {
    "colab": {},
    "colab_type": "code",
    "id": "SDvj7aG0KvX7"
   },
   "outputs": [],
   "source": [
    "labels_train.shape"
   ]
  },
  {
   "cell_type": "code",
   "execution_count": null,
   "metadata": {},
   "outputs": [],
   "source": [
    "features_train, features_validation, labels_train, labels_validation = train_test_split(features_train, labels_train, \n",
    "                                                                                        test_size=0.2, \n",
    "                                                                                        random_state=20130810)"
   ]
  },
  {
   "cell_type": "code",
   "execution_count": null,
   "metadata": {},
   "outputs": [],
   "source": [
    "features_train.shape, features_validation.shape"
   ]
  },
  {
   "cell_type": "code",
   "execution_count": null,
   "metadata": {},
   "outputs": [],
   "source": [
    "labels_train.shape, labels_validation.shape"
   ]
  },
  {
   "cell_type": "code",
   "execution_count": null,
   "metadata": {
    "colab": {},
    "colab_type": "code",
    "id": "lKiJbUhQK7GJ"
   },
   "outputs": [],
   "source": [
    "K.clear_session()"
   ]
  },
  {
   "cell_type": "code",
   "execution_count": null,
   "metadata": {
    "colab": {},
    "colab_type": "code",
    "id": "sKSikRAPLDti"
   },
   "outputs": [],
   "source": [
    "model = build(nb_initial_layer=64, dense_layer_lst=[32, 32, 32], dpt_rate=0.05, learning_rate=1e-4)\n",
    "model.summary()"
   ]
  },
  {
   "cell_type": "code",
   "execution_count": null,
   "metadata": {},
   "outputs": [],
   "source": [
    "# We wish to save multiple best models.\n",
    "# This strategy would be useful if we are going to use an ensemble\n",
    "\n",
    "out_file_path='best-keras-runs/' + \\\n",
    "               COURSE_LIST[course_idx] + \\\n",
    "              '-8-{epoch:02d}-{val_binary_accuracy:.2f}.hdf5'"
   ]
  },
  {
   "cell_type": "code",
   "execution_count": null,
   "metadata": {},
   "outputs": [],
   "source": [
    "#out_file_path='best-keras-runs/' + \\\n",
    "#               COURSE_LIST[course_idx] + \\\n",
    "#              '-best-model.hdf5'"
   ]
  },
  {
   "cell_type": "code",
   "execution_count": null,
   "metadata": {
    "colab": {},
    "colab_type": "code",
    "id": "ip9GBn1KLGEM"
   },
   "outputs": [],
   "source": [
    "model_output = model.fit(features_train, labels_train,\n",
    "                         batch_size=128,\n",
    "                         epochs=100,\n",
    "                         validation_data=[features_validation, labels_validation],\n",
    "                         callbacks=[EarlyStopping(patience=4), \n",
    "                                    ReduceLROnPlateau(patience=4, min_lr=1e-6),\n",
    "                                    ModelCheckpoint(out_file_path, \n",
    "                                                    monitor='val_binary_accuracy',\n",
    "                                                    mode='max',\n",
    "                                                    verbose=1, \n",
    "                                                    save_best_only=True, \n",
    "                                                    save_weights_only=False)])"
   ]
  },
  {
   "cell_type": "code",
   "execution_count": null,
   "metadata": {},
   "outputs": [],
   "source": [
    "plot_loss(model_output.history, COURSE_LIST[course_idx])"
   ]
  },
  {
   "cell_type": "code",
   "execution_count": null,
   "metadata": {},
   "outputs": [],
   "source": [
    "plot_accuracy(model_output.history, COURSE_LIST[course_idx])"
   ]
  },
  {
   "cell_type": "markdown",
   "metadata": {},
   "source": [
    "##### Load the best model and compute metrics"
   ]
  },
  {
   "cell_type": "code",
   "execution_count": null,
   "metadata": {},
   "outputs": [],
   "source": [
    "best_model = load_model('best-keras-runs/MITx14.73x2013_Spring-8-37-0.63.hdf5')"
   ]
  },
  {
   "cell_type": "code",
   "execution_count": null,
   "metadata": {},
   "outputs": [],
   "source": [
    "best_model.evaluate(features_validation, labels_validation, batch_size=64)"
   ]
  },
  {
   "cell_type": "code",
   "execution_count": null,
   "metadata": {},
   "outputs": [],
   "source": [
    "course_metrics['course_name'].append(COURSE_LIST[course_idx])\n",
    "course_metrics['val_binary_accuracy'].append(best_model.evaluate(features_validation, labels_validation, batch_size=128)[-1])\n",
    "\n",
    "course_metrics['test_accuracy'].append(accuracy_score(best_model.predict_classes(features_test), labels_test))\n",
    "course_metrics['test_f1_score'].append(f1_score(best_model.predict_classes(features_test), labels_test))"
   ]
  },
  {
   "cell_type": "markdown",
   "metadata": {},
   "source": [
    "### 7. MIT 2.01x - Elements of Structures"
   ]
  },
  {
   "cell_type": "code",
   "execution_count": null,
   "metadata": {},
   "outputs": [],
   "source": [
    "course_idx = 6\n",
    "print(COURSE_LIST[course_idx])"
   ]
  },
  {
   "cell_type": "code",
   "execution_count": null,
   "metadata": {},
   "outputs": [],
   "source": [
    "course_loc = DATA_DIR + COURSE_LIST[course_idx]\n",
    "print(course_loc)"
   ]
  },
  {
   "cell_type": "code",
   "execution_count": null,
   "metadata": {},
   "outputs": [],
   "source": [
    "features_train = pd.read_feather(course_loc + '_features_train.feather').drop('index', axis=1)\n",
    "features_test = pd.read_feather(course_loc + '_features_test.feather').drop('index', axis=1)\n",
    "\n",
    "labels_train = pd.read_feather(course_loc + '_labels_train.feather').drop('index', axis=1)\n",
    "labels_test = pd.read_feather(course_loc + '_labels_test.feather').drop('index', axis=1)"
   ]
  },
  {
   "cell_type": "code",
   "execution_count": null,
   "metadata": {
    "colab": {},
    "colab_type": "code",
    "id": "9XO-dYsVKXxa"
   },
   "outputs": [],
   "source": [
    "features_train = np.array(features_train)\n",
    "features_test = np.array(features_test)\n",
    "\n",
    "labels_train = np.array(labels_train).ravel()\n",
    "labels_test = np.array(labels_test).ravel()"
   ]
  },
  {
   "cell_type": "code",
   "execution_count": null,
   "metadata": {
    "colab": {},
    "colab_type": "code",
    "id": "1KvXXicOKQs9"
   },
   "outputs": [],
   "source": [
    "features_train.shape"
   ]
  },
  {
   "cell_type": "code",
   "execution_count": null,
   "metadata": {
    "colab": {},
    "colab_type": "code",
    "id": "SDvj7aG0KvX7"
   },
   "outputs": [],
   "source": [
    "labels_train.shape"
   ]
  },
  {
   "cell_type": "code",
   "execution_count": null,
   "metadata": {},
   "outputs": [],
   "source": [
    "features_train, features_validation, labels_train, labels_validation = train_test_split(features_train, labels_train, \n",
    "                                                                                        test_size=0.2, \n",
    "                                                                                        random_state=20130810)"
   ]
  },
  {
   "cell_type": "code",
   "execution_count": null,
   "metadata": {},
   "outputs": [],
   "source": [
    "features_train.shape, features_validation.shape"
   ]
  },
  {
   "cell_type": "code",
   "execution_count": null,
   "metadata": {},
   "outputs": [],
   "source": [
    "labels_train.shape, labels_validation.shape"
   ]
  },
  {
   "cell_type": "code",
   "execution_count": null,
   "metadata": {
    "colab": {},
    "colab_type": "code",
    "id": "lKiJbUhQK7GJ"
   },
   "outputs": [],
   "source": [
    "K.clear_session()"
   ]
  },
  {
   "cell_type": "code",
   "execution_count": null,
   "metadata": {
    "colab": {},
    "colab_type": "code",
    "id": "sKSikRAPLDti"
   },
   "outputs": [],
   "source": [
    "model = build(nb_initial_layer=64, dense_layer_lst=[32, 32, 32], dpt_rate=0.05, learning_rate=1e-5)\n",
    "model.summary()"
   ]
  },
  {
   "cell_type": "code",
   "execution_count": null,
   "metadata": {},
   "outputs": [],
   "source": [
    "# We wish to save multiple best models.\n",
    "# This strategy would be useful if we are going to use an ensemble\n",
    "\n",
    "out_file_path='best-keras-runs/' + \\\n",
    "               COURSE_LIST[course_idx] + \\\n",
    "              '-11-{epoch:02d}-{val_binary_accuracy:.2f}.hdf5'"
   ]
  },
  {
   "cell_type": "code",
   "execution_count": null,
   "metadata": {},
   "outputs": [],
   "source": [
    "#out_file_path='best-keras-runs/' + \\\n",
    "#               COURSE_LIST[course_idx] + \\\n",
    "#              '-best-model.hdf5'"
   ]
  },
  {
   "cell_type": "code",
   "execution_count": null,
   "metadata": {
    "colab": {},
    "colab_type": "code",
    "id": "ip9GBn1KLGEM"
   },
   "outputs": [],
   "source": [
    "model_output = model.fit(features_train, labels_train,\n",
    "                         batch_size=128,\n",
    "                         epochs=100,\n",
    "                         validation_data=[features_validation, labels_validation],\n",
    "                         callbacks=[EarlyStopping(patience=4), \n",
    "                                    ReduceLROnPlateau(patience=4, min_lr=1e-6),\n",
    "                                    ModelCheckpoint(out_file_path, \n",
    "                                                    monitor='val_binary_accuracy',\n",
    "                                                    mode='max',\n",
    "                                                    verbose=1, \n",
    "                                                    save_best_only=True, \n",
    "                                                    save_weights_only=False)])"
   ]
  },
  {
   "cell_type": "code",
   "execution_count": null,
   "metadata": {},
   "outputs": [],
   "source": [
    "plot_loss(model_output.history, COURSE_LIST[course_idx])"
   ]
  },
  {
   "cell_type": "code",
   "execution_count": null,
   "metadata": {},
   "outputs": [],
   "source": [
    "plot_accuracy(model_output.history, COURSE_LIST[course_idx])"
   ]
  },
  {
   "cell_type": "markdown",
   "metadata": {},
   "source": [
    "##### Load the best model and compute metrics"
   ]
  },
  {
   "cell_type": "code",
   "execution_count": null,
   "metadata": {},
   "outputs": [],
   "source": [
    "best_model = load_model('best-keras-runs/MITx2.01x2013_Spring-11-26-0.66.hdf5')"
   ]
  },
  {
   "cell_type": "code",
   "execution_count": null,
   "metadata": {},
   "outputs": [],
   "source": [
    "best_model.evaluate(features_train, labels_train, batch_size=128)"
   ]
  },
  {
   "cell_type": "code",
   "execution_count": null,
   "metadata": {},
   "outputs": [],
   "source": [
    "course_metrics['course_name'].append(COURSE_LIST[course_idx])\n",
    "course_metrics['val_binary_accuracy'].append(best_model.evaluate(features_validation, labels_validation, batch_size=128)[-1])\n",
    "\n",
    "course_metrics['test_accuracy'].append(accuracy_score(best_model.predict_classes(features_test), labels_test))\n",
    "course_metrics['test_f1_score'].append(f1_score(best_model.predict_classes(features_test), labels_test))"
   ]
  },
  {
   "cell_type": "markdown",
   "metadata": {},
   "source": [
    "### 8. MIT 3.091x (Fall) - Introduction to Solid State Chemistry"
   ]
  },
  {
   "cell_type": "code",
   "execution_count": null,
   "metadata": {},
   "outputs": [],
   "source": [
    "course_idx = 7\n",
    "print(COURSE_LIST[course_idx])"
   ]
  },
  {
   "cell_type": "code",
   "execution_count": null,
   "metadata": {},
   "outputs": [],
   "source": [
    "course_loc = DATA_DIR + COURSE_LIST[course_idx]\n",
    "print(course_loc)"
   ]
  },
  {
   "cell_type": "code",
   "execution_count": null,
   "metadata": {},
   "outputs": [],
   "source": [
    "features_train = pd.read_feather(course_loc + '_features_train.feather').drop('index', axis=1)\n",
    "features_test = pd.read_feather(course_loc + '_features_test.feather').drop('index', axis=1)\n",
    "\n",
    "labels_train = pd.read_feather(course_loc + '_labels_train.feather').drop('index', axis=1)\n",
    "labels_test = pd.read_feather(course_loc + '_labels_test.feather').drop('index', axis=1)"
   ]
  },
  {
   "cell_type": "code",
   "execution_count": null,
   "metadata": {
    "colab": {},
    "colab_type": "code",
    "id": "9XO-dYsVKXxa"
   },
   "outputs": [],
   "source": [
    "features_train = np.array(features_train)\n",
    "features_test = np.array(features_test)\n",
    "\n",
    "labels_train = np.array(labels_train).ravel()\n",
    "labels_test = np.array(labels_test).ravel()"
   ]
  },
  {
   "cell_type": "code",
   "execution_count": null,
   "metadata": {
    "colab": {},
    "colab_type": "code",
    "id": "1KvXXicOKQs9"
   },
   "outputs": [],
   "source": [
    "features_train.shape"
   ]
  },
  {
   "cell_type": "code",
   "execution_count": null,
   "metadata": {
    "colab": {},
    "colab_type": "code",
    "id": "SDvj7aG0KvX7"
   },
   "outputs": [],
   "source": [
    "labels_train.shape"
   ]
  },
  {
   "cell_type": "code",
   "execution_count": null,
   "metadata": {},
   "outputs": [],
   "source": [
    "features_train, features_validation, labels_train, labels_validation = train_test_split(features_train, labels_train, \n",
    "                                                                                        test_size=0.2, \n",
    "                                                                                        random_state=20130810)"
   ]
  },
  {
   "cell_type": "code",
   "execution_count": null,
   "metadata": {},
   "outputs": [],
   "source": [
    "features_train.shape, features_validation.shape"
   ]
  },
  {
   "cell_type": "code",
   "execution_count": null,
   "metadata": {},
   "outputs": [],
   "source": [
    "labels_train.shape, labels_validation.shape"
   ]
  },
  {
   "cell_type": "code",
   "execution_count": null,
   "metadata": {
    "colab": {},
    "colab_type": "code",
    "id": "lKiJbUhQK7GJ"
   },
   "outputs": [],
   "source": [
    "K.clear_session()"
   ]
  },
  {
   "cell_type": "code",
   "execution_count": null,
   "metadata": {
    "colab": {},
    "colab_type": "code",
    "id": "sKSikRAPLDti"
   },
   "outputs": [],
   "source": [
    "model = build(nb_initial_layer=64, dense_layer_lst=[32, 32, 32], dpt_rate=0.01, learning_rate=1e-5)\n",
    "model.summary()"
   ]
  },
  {
   "cell_type": "code",
   "execution_count": null,
   "metadata": {},
   "outputs": [],
   "source": [
    "# We wish to save multiple best models.\n",
    "# This strategy would be useful if we are going to use an ensemble\n",
    "\n",
    "out_file_path='best-keras-runs/' + \\\n",
    "               COURSE_LIST[course_idx] + \\\n",
    "              '-6-{epoch:02d}-{val_binary_accuracy:.2f}.hdf5'"
   ]
  },
  {
   "cell_type": "code",
   "execution_count": null,
   "metadata": {},
   "outputs": [],
   "source": [
    "#out_file_path='best-keras-runs/' + \\\n",
    "#               COURSE_LIST[course_idx] + \\\n",
    "#              '-best-model.hdf5'"
   ]
  },
  {
   "cell_type": "code",
   "execution_count": null,
   "metadata": {
    "colab": {},
    "colab_type": "code",
    "id": "ip9GBn1KLGEM"
   },
   "outputs": [],
   "source": [
    "model_output = model.fit(features_train, labels_train,\n",
    "                         batch_size=128,\n",
    "                         epochs=100,\n",
    "                         validation_data=[features_validation, labels_validation],\n",
    "                         callbacks=[EarlyStopping(patience=4), \n",
    "                                    ReduceLROnPlateau(patience=4, min_lr=1e-6),\n",
    "                                    ModelCheckpoint(out_file_path, \n",
    "                                                    monitor='val_binary_accuracy',\n",
    "                                                    mode='max',\n",
    "                                                    verbose=1, \n",
    "                                                    save_best_only=True, \n",
    "                                                    save_weights_only=False)])"
   ]
  },
  {
   "cell_type": "code",
   "execution_count": null,
   "metadata": {},
   "outputs": [],
   "source": [
    "plot_loss(model_output.history, COURSE_LIST[course_idx])"
   ]
  },
  {
   "cell_type": "code",
   "execution_count": null,
   "metadata": {},
   "outputs": [],
   "source": [
    "plot_accuracy(model_output.history, COURSE_LIST[course_idx])"
   ]
  },
  {
   "cell_type": "markdown",
   "metadata": {},
   "source": [
    "##### Load the best model and compute metrics"
   ]
  },
  {
   "cell_type": "code",
   "execution_count": null,
   "metadata": {},
   "outputs": [],
   "source": [
    "best_model = load_model('best-keras-runs/MITx2.01x2013_Spring-11-26-0.66.hdf5')"
   ]
  },
  {
   "cell_type": "code",
   "execution_count": null,
   "metadata": {},
   "outputs": [],
   "source": [
    "best_model.evaluate(features_train, labels_train, batch_size=128)"
   ]
  },
  {
   "cell_type": "code",
   "execution_count": null,
   "metadata": {},
   "outputs": [],
   "source": [
    "course_metrics['course_name'].append(COURSE_LIST[course_idx])\n",
    "course_metrics['val_binary_accuracy'].append(best_model.evaluate(features_validation, labels_validation, batch_size=128)[-1])\n",
    "\n",
    "course_metrics['test_accuracy'].append(accuracy_score(best_model.predict_classes(features_test), labels_test))\n",
    "course_metrics['test_f1_score'].append(f1_score(best_model.predict_classes(features_test), labels_test))"
   ]
  },
  {
   "cell_type": "markdown",
   "metadata": {},
   "source": [
    "### 9. MIT 3.091x (Spring) - Introduction to Solid State Chemistry "
   ]
  },
  {
   "cell_type": "code",
   "execution_count": null,
   "metadata": {},
   "outputs": [],
   "source": [
    "course_idx = 8\n",
    "print(COURSE_LIST[course_idx])"
   ]
  },
  {
   "cell_type": "code",
   "execution_count": null,
   "metadata": {},
   "outputs": [],
   "source": [
    "course_loc = DATA_DIR + COURSE_LIST[course_idx]\n",
    "print(course_loc)"
   ]
  },
  {
   "cell_type": "code",
   "execution_count": null,
   "metadata": {},
   "outputs": [],
   "source": [
    "features_train = pd.read_feather(course_loc + '_features_train.feather').drop('index', axis=1)\n",
    "features_test = pd.read_feather(course_loc + '_features_test.feather').drop('index', axis=1)\n",
    "\n",
    "labels_train = pd.read_feather(course_loc + '_labels_train.feather').drop('index', axis=1)\n",
    "labels_test = pd.read_feather(course_loc + '_labels_test.feather').drop('index', axis=1)"
   ]
  },
  {
   "cell_type": "code",
   "execution_count": null,
   "metadata": {
    "colab": {},
    "colab_type": "code",
    "id": "9XO-dYsVKXxa"
   },
   "outputs": [],
   "source": [
    "features_train = np.array(features_train)\n",
    "features_test = np.array(features_test)\n",
    "\n",
    "labels_train = np.array(labels_train).ravel()\n",
    "labels_test = np.array(labels_test).ravel()"
   ]
  },
  {
   "cell_type": "code",
   "execution_count": null,
   "metadata": {
    "colab": {},
    "colab_type": "code",
    "id": "1KvXXicOKQs9"
   },
   "outputs": [],
   "source": [
    "features_train.shape"
   ]
  },
  {
   "cell_type": "code",
   "execution_count": null,
   "metadata": {
    "colab": {},
    "colab_type": "code",
    "id": "SDvj7aG0KvX7"
   },
   "outputs": [],
   "source": [
    "labels_train.shape"
   ]
  },
  {
   "cell_type": "code",
   "execution_count": null,
   "metadata": {
    "colab": {},
    "colab_type": "code",
    "id": "lKiJbUhQK7GJ"
   },
   "outputs": [],
   "source": [
    "K.clear_session()"
   ]
  },
  {
   "cell_type": "code",
   "execution_count": null,
   "metadata": {
    "colab": {},
    "colab_type": "code",
    "id": "sKSikRAPLDti"
   },
   "outputs": [],
   "source": [
    "model = build(nb_initial_layer=64, dense_layer_lst=[32, 32, 32], dpt_rate=0.05, learning_rate=1e-2)\n",
    "model.summary()"
   ]
  },
  {
   "cell_type": "code",
   "execution_count": null,
   "metadata": {
    "colab": {},
    "colab_type": "code",
    "id": "ip9GBn1KLGEM"
   },
   "outputs": [],
   "source": [
    "model_output = model.fit(features_train, labels_train,\n",
    "                         batch_size=128,\n",
    "                         epochs=50,\n",
    "                         validation_split=0.2,\n",
    "                         callbacks=[EarlyStopping(patience=4), \n",
    "                                    ReduceLROnPlateau(patience=4, min_lr=1e-6)])"
   ]
  },
  {
   "cell_type": "code",
   "execution_count": null,
   "metadata": {},
   "outputs": [],
   "source": [
    "course_metrics['course_name'].append(COURSE_LIST[course_idx])\n",
    "course_metrics['val_binary_accuracy'].append(model_output.history['val_binary_accuracy'][-1])\n",
    "course_metrics['test_accuracy'].append(accuracy_score(model.predict_classes(features_test), labels_test))\n",
    "course_metrics['test_f1_score'].append(f1_score(model.predict_classes(features_test), labels_test))"
   ]
  },
  {
   "cell_type": "markdown",
   "metadata": {},
   "source": [
    "### 10. MIT 6.002x (Fall) - Circuits and Electronics"
   ]
  },
  {
   "cell_type": "code",
   "execution_count": null,
   "metadata": {},
   "outputs": [],
   "source": [
    "course_idx = 9\n",
    "print(COURSE_LIST[course_idx])"
   ]
  },
  {
   "cell_type": "code",
   "execution_count": null,
   "metadata": {},
   "outputs": [],
   "source": [
    "course_loc = DATA_DIR + COURSE_LIST[course_idx]\n",
    "print(course_loc)"
   ]
  },
  {
   "cell_type": "code",
   "execution_count": null,
   "metadata": {},
   "outputs": [],
   "source": [
    "features_train = pd.read_feather(course_loc + '_features_train.feather').drop('index', axis=1)\n",
    "features_test = pd.read_feather(course_loc + '_features_test.feather').drop('index', axis=1)\n",
    "\n",
    "labels_train = pd.read_feather(course_loc + '_labels_train.feather').drop('index', axis=1)\n",
    "labels_test = pd.read_feather(course_loc + '_labels_test.feather').drop('index', axis=1)"
   ]
  },
  {
   "cell_type": "code",
   "execution_count": null,
   "metadata": {
    "colab": {},
    "colab_type": "code",
    "id": "9XO-dYsVKXxa"
   },
   "outputs": [],
   "source": [
    "features_train = np.array(features_train)\n",
    "features_test = np.array(features_test)\n",
    "\n",
    "labels_train = np.array(labels_train).ravel()\n",
    "labels_test = np.array(labels_test).ravel()"
   ]
  },
  {
   "cell_type": "code",
   "execution_count": null,
   "metadata": {
    "colab": {},
    "colab_type": "code",
    "id": "1KvXXicOKQs9"
   },
   "outputs": [],
   "source": [
    "features_train.shape"
   ]
  },
  {
   "cell_type": "code",
   "execution_count": null,
   "metadata": {
    "colab": {},
    "colab_type": "code",
    "id": "SDvj7aG0KvX7"
   },
   "outputs": [],
   "source": [
    "labels_train.shape"
   ]
  },
  {
   "cell_type": "code",
   "execution_count": null,
   "metadata": {
    "colab": {},
    "colab_type": "code",
    "id": "lKiJbUhQK7GJ"
   },
   "outputs": [],
   "source": [
    "K.clear_session()"
   ]
  },
  {
   "cell_type": "code",
   "execution_count": null,
   "metadata": {
    "colab": {},
    "colab_type": "code",
    "id": "sKSikRAPLDti"
   },
   "outputs": [],
   "source": [
    "model = build(nb_initial_layer=64, dense_layer_lst=[32, 32, 32], dpt_rate=0.05, learning_rate=1e-2)\n",
    "model.summary()"
   ]
  },
  {
   "cell_type": "code",
   "execution_count": null,
   "metadata": {
    "colab": {},
    "colab_type": "code",
    "id": "ip9GBn1KLGEM"
   },
   "outputs": [],
   "source": [
    "model_output = model.fit(features_train, labels_train,\n",
    "                         batch_size=128,\n",
    "                         epochs=50,\n",
    "                         validation_split=0.2,\n",
    "                         callbacks=[EarlyStopping(patience=4), \n",
    "                                    ReduceLROnPlateau(patience=4, min_lr=1e-6)])"
   ]
  },
  {
   "cell_type": "code",
   "execution_count": null,
   "metadata": {},
   "outputs": [],
   "source": [
    "course_metrics['course_name'].append(COURSE_LIST[course_idx])\n",
    "course_metrics['val_binary_accuracy'].append(model_output.history['val_binary_accuracy'][-1])\n",
    "course_metrics['test_accuracy'].append(accuracy_score(model.predict_classes(features_test), labels_test))\n",
    "course_metrics['test_f1_score'].append(f1_score(model.predict_classes(features_test), labels_test))"
   ]
  },
  {
   "cell_type": "markdown",
   "metadata": {},
   "source": [
    "### 11. MIT 6.002x (Spring) - Circuits and Electronics"
   ]
  },
  {
   "cell_type": "code",
   "execution_count": null,
   "metadata": {},
   "outputs": [],
   "source": [
    "course_idx = 10\n",
    "print(COURSE_LIST[course_idx])"
   ]
  },
  {
   "cell_type": "code",
   "execution_count": null,
   "metadata": {},
   "outputs": [],
   "source": [
    "course_loc = DATA_DIR + COURSE_LIST[course_idx]\n",
    "print(course_loc)"
   ]
  },
  {
   "cell_type": "code",
   "execution_count": null,
   "metadata": {},
   "outputs": [],
   "source": [
    "features_train = pd.read_feather(course_loc + '_features_train.feather').drop('index', axis=1)\n",
    "features_test = pd.read_feather(course_loc + '_features_test.feather').drop('index', axis=1)\n",
    "\n",
    "labels_train = pd.read_feather(course_loc + '_labels_train.feather').drop('index', axis=1)\n",
    "labels_test = pd.read_feather(course_loc + '_labels_test.feather').drop('index', axis=1)"
   ]
  },
  {
   "cell_type": "code",
   "execution_count": null,
   "metadata": {
    "colab": {},
    "colab_type": "code",
    "id": "9XO-dYsVKXxa"
   },
   "outputs": [],
   "source": [
    "features_train = np.array(features_train)\n",
    "features_test = np.array(features_test)\n",
    "\n",
    "labels_train = np.array(labels_train).ravel()\n",
    "labels_test = np.array(labels_test).ravel()"
   ]
  },
  {
   "cell_type": "code",
   "execution_count": null,
   "metadata": {
    "colab": {},
    "colab_type": "code",
    "id": "1KvXXicOKQs9"
   },
   "outputs": [],
   "source": [
    "features_train.shape"
   ]
  },
  {
   "cell_type": "code",
   "execution_count": null,
   "metadata": {
    "colab": {},
    "colab_type": "code",
    "id": "SDvj7aG0KvX7"
   },
   "outputs": [],
   "source": [
    "labels_train.shape"
   ]
  },
  {
   "cell_type": "code",
   "execution_count": null,
   "metadata": {
    "colab": {},
    "colab_type": "code",
    "id": "lKiJbUhQK7GJ"
   },
   "outputs": [],
   "source": [
    "K.clear_session()"
   ]
  },
  {
   "cell_type": "code",
   "execution_count": null,
   "metadata": {
    "colab": {},
    "colab_type": "code",
    "id": "sKSikRAPLDti"
   },
   "outputs": [],
   "source": [
    "model = build(nb_initial_layer=64, dense_layer_lst=[32, 32, 32], dpt_rate=0.05, learning_rate=1e-2)\n",
    "model.summary()"
   ]
  },
  {
   "cell_type": "code",
   "execution_count": null,
   "metadata": {
    "colab": {},
    "colab_type": "code",
    "id": "ip9GBn1KLGEM"
   },
   "outputs": [],
   "source": [
    "model_output = model.fit(features_train, labels_train,\n",
    "                         batch_size=128,\n",
    "                         epochs=50,\n",
    "                         validation_split=0.2,\n",
    "                         callbacks=[EarlyStopping(patience=4), \n",
    "                                    ReduceLROnPlateau(patience=4, min_lr=1e-6)])"
   ]
  },
  {
   "cell_type": "code",
   "execution_count": null,
   "metadata": {},
   "outputs": [],
   "source": [
    "course_metrics['course_name'].append(COURSE_LIST[course_idx])\n",
    "course_metrics['val_binary_accuracy'].append(model_output.history['val_binary_accuracy'][-1])\n",
    "course_metrics['test_accuracy'].append(accuracy_score(model.predict_classes(features_test), labels_test))\n",
    "course_metrics['test_f1_score'].append(f1_score(model.predict_classes(features_test), labels_test))"
   ]
  },
  {
   "cell_type": "markdown",
   "metadata": {},
   "source": [
    "### 12. MIT 6.00x (Fall) - Introduction to Computer Science"
   ]
  },
  {
   "cell_type": "code",
   "execution_count": null,
   "metadata": {},
   "outputs": [],
   "source": [
    "course_idx = 11\n",
    "print(COURSE_LIST[course_idx])"
   ]
  },
  {
   "cell_type": "code",
   "execution_count": null,
   "metadata": {},
   "outputs": [],
   "source": [
    "course_loc = DATA_DIR + COURSE_LIST[course_idx]\n",
    "print(course_loc)"
   ]
  },
  {
   "cell_type": "code",
   "execution_count": null,
   "metadata": {},
   "outputs": [],
   "source": [
    "features_train = pd.read_feather(course_loc + '_features_train.feather').drop('index', axis=1)\n",
    "features_test = pd.read_feather(course_loc + '_features_test.feather').drop('index', axis=1)\n",
    "\n",
    "labels_train = pd.read_feather(course_loc + '_labels_train.feather').drop('index', axis=1)\n",
    "labels_test = pd.read_feather(course_loc + '_labels_test.feather').drop('index', axis=1)"
   ]
  },
  {
   "cell_type": "code",
   "execution_count": null,
   "metadata": {
    "colab": {},
    "colab_type": "code",
    "id": "9XO-dYsVKXxa"
   },
   "outputs": [],
   "source": [
    "features_train = np.array(features_train)\n",
    "features_test = np.array(features_test)\n",
    "\n",
    "labels_train = np.array(labels_train).ravel()\n",
    "labels_test = np.array(labels_test).ravel()"
   ]
  },
  {
   "cell_type": "code",
   "execution_count": null,
   "metadata": {
    "colab": {},
    "colab_type": "code",
    "id": "1KvXXicOKQs9"
   },
   "outputs": [],
   "source": [
    "features_train.shape"
   ]
  },
  {
   "cell_type": "code",
   "execution_count": null,
   "metadata": {
    "colab": {},
    "colab_type": "code",
    "id": "SDvj7aG0KvX7"
   },
   "outputs": [],
   "source": [
    "labels_train.shape"
   ]
  },
  {
   "cell_type": "code",
   "execution_count": null,
   "metadata": {
    "colab": {},
    "colab_type": "code",
    "id": "lKiJbUhQK7GJ"
   },
   "outputs": [],
   "source": [
    "K.clear_session()"
   ]
  },
  {
   "cell_type": "code",
   "execution_count": null,
   "metadata": {
    "colab": {},
    "colab_type": "code",
    "id": "sKSikRAPLDti"
   },
   "outputs": [],
   "source": [
    "model = build(nb_initial_layer=64, dense_layer_lst=[32, 32, 32], dpt_rate=0.05, learning_rate=1e-2)\n",
    "model.summary()"
   ]
  },
  {
   "cell_type": "code",
   "execution_count": null,
   "metadata": {
    "colab": {},
    "colab_type": "code",
    "id": "ip9GBn1KLGEM"
   },
   "outputs": [],
   "source": [
    "model_output = model.fit(features_train, labels_train,\n",
    "                         batch_size=128,\n",
    "                         epochs=50,\n",
    "                         validation_split=0.2,\n",
    "                         callbacks=[EarlyStopping(patience=4), \n",
    "                                    ReduceLROnPlateau(patience=4, min_lr=1e-6)])"
   ]
  },
  {
   "cell_type": "code",
   "execution_count": null,
   "metadata": {},
   "outputs": [],
   "source": [
    "course_metrics['course_name'].append(COURSE_LIST[course_idx])\n",
    "course_metrics['val_binary_accuracy'].append(model_output.history['val_binary_accuracy'][-1])\n",
    "course_metrics['test_accuracy'].append(accuracy_score(model.predict_classes(features_test), labels_test))\n",
    "course_metrics['test_f1_score'].append(f1_score(model.predict_classes(features_test), labels_test))"
   ]
  },
  {
   "cell_type": "markdown",
   "metadata": {},
   "source": [
    "### 13. MIT 6.00x (Spring) - Introduction to Computer Science"
   ]
  },
  {
   "cell_type": "code",
   "execution_count": null,
   "metadata": {},
   "outputs": [],
   "source": [
    "course_idx = 12\n",
    "print(COURSE_LIST[course_idx])"
   ]
  },
  {
   "cell_type": "code",
   "execution_count": null,
   "metadata": {},
   "outputs": [],
   "source": [
    "course_loc = DATA_DIR + COURSE_LIST[course_idx]\n",
    "print(course_loc)"
   ]
  },
  {
   "cell_type": "code",
   "execution_count": null,
   "metadata": {},
   "outputs": [],
   "source": [
    "features_train = pd.read_feather(course_loc + '_features_train.feather').drop('index', axis=1)\n",
    "features_test = pd.read_feather(course_loc + '_features_test.feather').drop('index', axis=1)\n",
    "\n",
    "labels_train = pd.read_feather(course_loc + '_labels_train.feather').drop('index', axis=1)\n",
    "labels_test = pd.read_feather(course_loc + '_labels_test.feather').drop('index', axis=1)"
   ]
  },
  {
   "cell_type": "code",
   "execution_count": null,
   "metadata": {
    "colab": {},
    "colab_type": "code",
    "id": "9XO-dYsVKXxa"
   },
   "outputs": [],
   "source": [
    "features_train = np.array(features_train)\n",
    "features_test = np.array(features_test)\n",
    "\n",
    "labels_train = np.array(labels_train).ravel()\n",
    "labels_test = np.array(labels_test).ravel()"
   ]
  },
  {
   "cell_type": "code",
   "execution_count": null,
   "metadata": {
    "colab": {},
    "colab_type": "code",
    "id": "1KvXXicOKQs9"
   },
   "outputs": [],
   "source": [
    "features_train.shape"
   ]
  },
  {
   "cell_type": "code",
   "execution_count": null,
   "metadata": {
    "colab": {},
    "colab_type": "code",
    "id": "SDvj7aG0KvX7"
   },
   "outputs": [],
   "source": [
    "labels_train.shape"
   ]
  },
  {
   "cell_type": "code",
   "execution_count": null,
   "metadata": {
    "colab": {},
    "colab_type": "code",
    "id": "lKiJbUhQK7GJ"
   },
   "outputs": [],
   "source": [
    "K.clear_session()"
   ]
  },
  {
   "cell_type": "code",
   "execution_count": null,
   "metadata": {
    "colab": {},
    "colab_type": "code",
    "id": "sKSikRAPLDti"
   },
   "outputs": [],
   "source": [
    "model = build(nb_initial_layer=64, dense_layer_lst=[32, 32, 32], dpt_rate=0.05, learning_rate=1e-2)\n",
    "model.summary()"
   ]
  },
  {
   "cell_type": "code",
   "execution_count": null,
   "metadata": {
    "colab": {},
    "colab_type": "code",
    "id": "ip9GBn1KLGEM"
   },
   "outputs": [],
   "source": [
    "model_output = model.fit(features_train, labels_train,\n",
    "                         batch_size=128,\n",
    "                         epochs=50,\n",
    "                         validation_split=0.2,\n",
    "                         callbacks=[EarlyStopping(patience=4), \n",
    "                                    ReduceLROnPlateau(patience=4, min_lr=1e-6)])"
   ]
  },
  {
   "cell_type": "code",
   "execution_count": null,
   "metadata": {},
   "outputs": [],
   "source": [
    "course_metrics['course_name'].append(COURSE_LIST[course_idx])\n",
    "course_metrics['val_binary_accuracy'].append(model_output.history['val_binary_accuracy'][-1])\n",
    "course_metrics['test_accuracy'].append(accuracy_score(model.predict_classes(features_test), labels_test))\n",
    "course_metrics['test_f1_score'].append(f1_score(model.predict_classes(features_test), labels_test))"
   ]
  },
  {
   "cell_type": "markdown",
   "metadata": {},
   "source": [
    "### 14. MIT 7.00x - Introduction to Biology - secret of life"
   ]
  },
  {
   "cell_type": "code",
   "execution_count": null,
   "metadata": {},
   "outputs": [],
   "source": [
    "course_idx = 13\n",
    "print(COURSE_LIST[course_idx])"
   ]
  },
  {
   "cell_type": "code",
   "execution_count": null,
   "metadata": {},
   "outputs": [],
   "source": [
    "course_loc = DATA_DIR + COURSE_LIST[course_idx]\n",
    "print(course_loc)"
   ]
  },
  {
   "cell_type": "code",
   "execution_count": null,
   "metadata": {},
   "outputs": [],
   "source": [
    "features_train = pd.read_feather(course_loc + '_features_train.feather').drop('index', axis=1)\n",
    "features_test = pd.read_feather(course_loc + '_features_test.feather').drop('index', axis=1)\n",
    "\n",
    "labels_train = pd.read_feather(course_loc + '_labels_train.feather').drop('index', axis=1)\n",
    "labels_test = pd.read_feather(course_loc + '_labels_test.feather').drop('index', axis=1)"
   ]
  },
  {
   "cell_type": "code",
   "execution_count": null,
   "metadata": {
    "colab": {},
    "colab_type": "code",
    "id": "9XO-dYsVKXxa"
   },
   "outputs": [],
   "source": [
    "features_train = np.array(features_train)\n",
    "features_test = np.array(features_test)\n",
    "\n",
    "labels_train = np.array(labels_train).ravel()\n",
    "labels_test = np.array(labels_test).ravel()"
   ]
  },
  {
   "cell_type": "code",
   "execution_count": null,
   "metadata": {
    "colab": {},
    "colab_type": "code",
    "id": "1KvXXicOKQs9"
   },
   "outputs": [],
   "source": [
    "features_train.shape"
   ]
  },
  {
   "cell_type": "code",
   "execution_count": null,
   "metadata": {
    "colab": {},
    "colab_type": "code",
    "id": "SDvj7aG0KvX7"
   },
   "outputs": [],
   "source": [
    "labels_train.shape"
   ]
  },
  {
   "cell_type": "code",
   "execution_count": null,
   "metadata": {
    "colab": {},
    "colab_type": "code",
    "id": "lKiJbUhQK7GJ"
   },
   "outputs": [],
   "source": [
    "K.clear_session()"
   ]
  },
  {
   "cell_type": "code",
   "execution_count": null,
   "metadata": {
    "colab": {},
    "colab_type": "code",
    "id": "sKSikRAPLDti"
   },
   "outputs": [],
   "source": [
    "model = build(nb_initial_layer=64, dense_layer_lst=[32, 32, 32], dpt_rate=0.05, learning_rate=1e-2)\n",
    "model.summary()"
   ]
  },
  {
   "cell_type": "code",
   "execution_count": null,
   "metadata": {
    "colab": {},
    "colab_type": "code",
    "id": "ip9GBn1KLGEM"
   },
   "outputs": [],
   "source": [
    "model_output = model.fit(features_train, labels_train,\n",
    "                         batch_size=128,\n",
    "                         epochs=50,\n",
    "                         validation_split=0.2,\n",
    "                         callbacks=[EarlyStopping(patience=4), \n",
    "                                    ReduceLROnPlateau(patience=4, min_lr=1e-6)])"
   ]
  },
  {
   "cell_type": "code",
   "execution_count": null,
   "metadata": {},
   "outputs": [],
   "source": [
    "course_metrics['course_name'].append(COURSE_LIST[course_idx])\n",
    "course_metrics['val_binary_accuracy'].append(model_output.history['val_binary_accuracy'][-1])\n",
    "course_metrics['test_accuracy'].append(accuracy_score(model.predict_classes(features_test), labels_test))\n",
    "course_metrics['test_f1_score'].append(f1_score(model.predict_classes(features_test), labels_test))"
   ]
  },
  {
   "cell_type": "markdown",
   "metadata": {},
   "source": [
    "### 15. MIT 8.02x - Electricity and Magnetism"
   ]
  },
  {
   "cell_type": "code",
   "execution_count": null,
   "metadata": {},
   "outputs": [],
   "source": [
    "course_idx = 14\n",
    "print(COURSE_LIST[course_idx])"
   ]
  },
  {
   "cell_type": "code",
   "execution_count": null,
   "metadata": {},
   "outputs": [],
   "source": [
    "course_loc = DATA_DIR + COURSE_LIST[course_idx]\n",
    "print(course_loc)"
   ]
  },
  {
   "cell_type": "code",
   "execution_count": null,
   "metadata": {},
   "outputs": [],
   "source": [
    "features_train = pd.read_feather(course_loc + '_features_train.feather').drop('index', axis=1)\n",
    "features_test = pd.read_feather(course_loc + '_features_test.feather').drop('index', axis=1)\n",
    "\n",
    "labels_train = pd.read_feather(course_loc + '_labels_train.feather').drop('index', axis=1)\n",
    "labels_test = pd.read_feather(course_loc + '_labels_test.feather').drop('index', axis=1)"
   ]
  },
  {
   "cell_type": "code",
   "execution_count": null,
   "metadata": {
    "colab": {},
    "colab_type": "code",
    "id": "9XO-dYsVKXxa"
   },
   "outputs": [],
   "source": [
    "features_train = np.array(features_train)\n",
    "features_test = np.array(features_test)\n",
    "\n",
    "labels_train = np.array(labels_train).ravel()\n",
    "labels_test = np.array(labels_test).ravel()"
   ]
  },
  {
   "cell_type": "code",
   "execution_count": null,
   "metadata": {
    "colab": {},
    "colab_type": "code",
    "id": "1KvXXicOKQs9"
   },
   "outputs": [],
   "source": [
    "features_train.shape"
   ]
  },
  {
   "cell_type": "code",
   "execution_count": null,
   "metadata": {
    "colab": {},
    "colab_type": "code",
    "id": "SDvj7aG0KvX7"
   },
   "outputs": [],
   "source": [
    "labels_train.shape"
   ]
  },
  {
   "cell_type": "code",
   "execution_count": null,
   "metadata": {
    "colab": {},
    "colab_type": "code",
    "id": "lKiJbUhQK7GJ"
   },
   "outputs": [],
   "source": [
    "K.clear_session()"
   ]
  },
  {
   "cell_type": "code",
   "execution_count": null,
   "metadata": {
    "colab": {},
    "colab_type": "code",
    "id": "sKSikRAPLDti"
   },
   "outputs": [],
   "source": [
    "model = build(nb_initial_layer=64, dense_layer_lst=[32, 32, 32], dpt_rate=0.05, learning_rate=1e-2)\n",
    "model.summary()"
   ]
  },
  {
   "cell_type": "code",
   "execution_count": null,
   "metadata": {
    "colab": {},
    "colab_type": "code",
    "id": "ip9GBn1KLGEM"
   },
   "outputs": [],
   "source": [
    "model_output = model.fit(features_train, labels_train,\n",
    "                         batch_size=128,\n",
    "                         epochs=50,\n",
    "                         validation_split=0.2,\n",
    "                         callbacks=[EarlyStopping(patience=4), \n",
    "                                    ReduceLROnPlateau(patience=4, min_lr=1e-6)])"
   ]
  },
  {
   "cell_type": "code",
   "execution_count": null,
   "metadata": {},
   "outputs": [],
   "source": [
    "course_metrics['course_name'].append(COURSE_LIST[course_idx])\n",
    "course_metrics['val_binary_accuracy'].append(model_output.history['val_binary_accuracy'][-1])\n",
    "course_metrics['test_accuracy'].append(accuracy_score(model.predict_classes(features_test), labels_test))\n",
    "course_metrics['test_f1_score'].append(f1_score(model.predict_classes(features_test), labels_test))"
   ]
  },
  {
   "cell_type": "markdown",
   "metadata": {},
   "source": [
    "### 16. MIT 8.MReV - Mechanics Review"
   ]
  },
  {
   "cell_type": "code",
   "execution_count": null,
   "metadata": {},
   "outputs": [],
   "source": [
    "course_idx = 15\n",
    "print(COURSE_LIST[course_idx])"
   ]
  },
  {
   "cell_type": "code",
   "execution_count": null,
   "metadata": {},
   "outputs": [],
   "source": [
    "course_loc = DATA_DIR + COURSE_LIST[course_idx]\n",
    "print(course_loc)"
   ]
  },
  {
   "cell_type": "code",
   "execution_count": null,
   "metadata": {},
   "outputs": [],
   "source": [
    "features_train = pd.read_feather(course_loc + '_features_train.feather').drop('index', axis=1)\n",
    "features_test = pd.read_feather(course_loc + '_features_test.feather').drop('index', axis=1)\n",
    "\n",
    "labels_train = pd.read_feather(course_loc + '_labels_train.feather').drop('index', axis=1)\n",
    "labels_test = pd.read_feather(course_loc + '_labels_test.feather').drop('index', axis=1)"
   ]
  },
  {
   "cell_type": "code",
   "execution_count": null,
   "metadata": {
    "colab": {},
    "colab_type": "code",
    "id": "9XO-dYsVKXxa"
   },
   "outputs": [],
   "source": [
    "features_train = np.array(features_train)\n",
    "features_test = np.array(features_test)\n",
    "\n",
    "labels_train = np.array(labels_train).ravel()\n",
    "labels_test = np.array(labels_test).ravel()"
   ]
  },
  {
   "cell_type": "code",
   "execution_count": null,
   "metadata": {
    "colab": {},
    "colab_type": "code",
    "id": "1KvXXicOKQs9"
   },
   "outputs": [],
   "source": [
    "features_train.shape"
   ]
  },
  {
   "cell_type": "code",
   "execution_count": null,
   "metadata": {
    "colab": {},
    "colab_type": "code",
    "id": "SDvj7aG0KvX7"
   },
   "outputs": [],
   "source": [
    "labels_train.shape"
   ]
  },
  {
   "cell_type": "code",
   "execution_count": null,
   "metadata": {
    "colab": {},
    "colab_type": "code",
    "id": "lKiJbUhQK7GJ"
   },
   "outputs": [],
   "source": [
    "K.clear_session()"
   ]
  },
  {
   "cell_type": "code",
   "execution_count": null,
   "metadata": {
    "colab": {},
    "colab_type": "code",
    "id": "sKSikRAPLDti"
   },
   "outputs": [],
   "source": [
    "model = build(nb_initial_layer=64, dense_layer_lst=[32, 32, 32], dpt_rate=0.05, learning_rate=1e-2)\n",
    "model.summary()"
   ]
  },
  {
   "cell_type": "code",
   "execution_count": null,
   "metadata": {
    "colab": {},
    "colab_type": "code",
    "id": "ip9GBn1KLGEM"
   },
   "outputs": [],
   "source": [
    "model_output = model.fit(features_train, labels_train,\n",
    "                         batch_size=128,\n",
    "                         epochs=50,\n",
    "                         validation_split=0.2,\n",
    "                         callbacks=[EarlyStopping(patience=4), \n",
    "                                    ReduceLROnPlateau(patience=4, min_lr=1e-6)])"
   ]
  },
  {
   "cell_type": "code",
   "execution_count": null,
   "metadata": {},
   "outputs": [],
   "source": [
    "course_metrics['course_name'].append(COURSE_LIST[course_idx])\n",
    "course_metrics['val_binary_accuracy'].append(model_output.history['val_binary_accuracy'][-1])\n",
    "course_metrics['test_accuracy'].append(accuracy_score(model.predict_classes(features_test), labels_test))\n",
    "course_metrics['test_f1_score'].append(f1_score(model.predict_classes(features_test), labels_test))"
   ]
  }
 ],
 "metadata": {
  "accelerator": "GPU",
  "colab": {
   "collapsed_sections": [],
   "name": "2018-06-13_mooc-analysis.ipynb",
   "private_outputs": true,
   "provenance": [],
   "version": "0.3.2"
  },
  "kernelspec": {
   "display_name": "Python 3",
   "language": "python",
   "name": "python3"
  },
  "language_info": {
   "codemirror_mode": {
    "name": "ipython",
    "version": 3
   },
   "file_extension": ".py",
   "mimetype": "text/x-python",
   "name": "python",
   "nbconvert_exporter": "python",
   "pygments_lexer": "ipython3",
   "version": "3.6.5"
  }
 },
 "nbformat": 4,
 "nbformat_minor": 1
}
