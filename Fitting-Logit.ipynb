{
 "cells": [
  {
   "cell_type": "code",
   "execution_count": 1,
   "metadata": {
    "collapsed": true
   },
   "outputs": [],
   "source": [
    "import pandas as pd\n",
    "import numpy as np"
   ]
  },
  {
   "cell_type": "code",
   "execution_count": 12,
   "metadata": {
    "collapsed": true
   },
   "outputs": [],
   "source": [
    "from sklearn.linear_model import LogisticRegressionCV\n",
    "from sklearn.model_selection import train_test_split\n",
    "from sklearn.metrics import cohen_kappa_score, make_scorer\n",
    "\n",
    "from imblearn.over_sampling import SMOTE"
   ]
  },
  {
   "cell_type": "code",
   "execution_count": 13,
   "metadata": {
    "collapsed": true
   },
   "outputs": [],
   "source": [
    "class LogitKappaEstimator:\n",
    "    def __init__(self, name_str, data_df):\n",
    "        self.course_name_ = name_str\n",
    "        self.course_df_ = data_df\n",
    "        self.kappa_train_ = 0.0\n",
    "        self.min_k_train_ = 0.0\n",
    "        self.max_k_train_ = 0.0\n",
    "        self.kappa_test_ = 0.0\n",
    "        self.scores_ = {}\n",
    "    \n",
    "    def compute_kappa(self):\n",
    "        data_clean = pd.get_dummies(self.course_df_)\n",
    "        \n",
    "        labels = np.array(data_clean.engaged)\n",
    "        features = np.array(data_clean.drop('engaged', axis = 1))\n",
    "        \n",
    "        features_train, features_test, labels_train, labels_test = train_test_split(features, labels, \n",
    "                                                                                    train_size = 0.8, \n",
    "                                                                                    random_state = 20130810)\n",
    "    \n",
    "        sm = SMOTE(random_state = 20130810, ratio = 1.0)\n",
    "        features_train_smote, labels_train_smote = sm.fit_sample(features_train, labels_train) \n",
    "        \n",
    "        logit = LogisticRegressionCV(cv = 10, \n",
    "                                     solver = \"saga\",\n",
    "                                     scoring = make_scorer(cohen_kappa_score),\n",
    "                                     n_jobs = 3, \n",
    "                                     random_state = 20130810)\n",
    "        \n",
    "        logit.fit(features_train_smote, labels_train_smote)\n",
    "        \n",
    "        self.scores_ = logit.scores_\n",
    "        "
   ]
  },
  {
   "cell_type": "markdown",
   "metadata": {},
   "source": [
    "### 1. CB22x - The Ancient Greek Hero"
   ]
  },
  {
   "cell_type": "code",
   "execution_count": 14,
   "metadata": {
    "collapsed": true
   },
   "outputs": [],
   "source": [
    "cb22x = pd.read_feather(\"data/HarvardX_CB22x_2013_Spring.feather\")\n",
    "cb22x_logit = LogitKappaEstimator(\"CB22x\", cb22x)"
   ]
  },
  {
   "cell_type": "code",
   "execution_count": null,
   "metadata": {},
   "outputs": [
    {
     "name": "stderr",
     "output_type": "stream",
     "text": [
      "C:\\ProgramData\\Anaconda3\\lib\\site-packages\\sklearn\\model_selection\\_split.py:2010: FutureWarning: From version 0.21, test_size will always complement train_size unless both are specified.\n",
      "  FutureWarning)\n",
      "C:\\ProgramData\\Anaconda3\\lib\\site-packages\\sklearn\\utils\\deprecation.py:75: DeprecationWarning: Function _ratio_float is deprecated; Use a float for 'ratio' is deprecated from version 0.2. The support will be removed in 0.4. Use a dict, str, or a callable instead.\n",
      "  warnings.warn(msg, category=DeprecationWarning)\n",
      "C:\\ProgramData\\Anaconda3\\lib\\site-packages\\sklearn\\linear_model\\sag.py:326: ConvergenceWarning: The max_iter was reached which means the coef_ did not converge\n",
      "  \"the coef_ did not converge\", ConvergenceWarning)\n"
     ]
    }
   ],
   "source": [
    "cb22x_logit.compute_kappa()\n"
   ]
  },
  {
   "cell_type": "markdown",
   "metadata": {},
   "source": [
    "## "
   ]
  }
 ],
 "metadata": {
  "kernelspec": {
   "display_name": "Python 3",
   "language": "python",
   "name": "python3"
  },
  "language_info": {
   "codemirror_mode": {
    "name": "ipython",
    "version": 3
   },
   "file_extension": ".py",
   "mimetype": "text/x-python",
   "name": "python",
   "nbconvert_exporter": "python",
   "pygments_lexer": "ipython3",
   "version": "3.6.3"
  }
 },
 "nbformat": 4,
 "nbformat_minor": 2
}
