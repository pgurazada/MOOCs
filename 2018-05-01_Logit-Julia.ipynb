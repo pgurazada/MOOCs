{
 "cells": [
  {
   "cell_type": "code",
   "execution_count": 5,
   "metadata": {},
   "outputs": [
    {
     "name": "stderr",
     "output_type": "stream",
     "text": [
      "\u001b[1m\u001b[36mINFO: \u001b[39m\u001b[22m\u001b[36mPrecompiling module CSV.\n",
      "\u001b[39m"
     ]
    }
   ],
   "source": [
    "using DataFrames, DataFramesMeta, Feather, GLM, CSV"
   ]
  },
  {
   "cell_type": "code",
   "execution_count": 19,
   "metadata": {},
   "outputs": [
    {
     "data": {
      "text/html": [
       "<table class=\"data-frame\"><thead><tr><th></th><th>course_id</th><th>userid_DI</th><th>registered</th><th>viewed</th><th>explored</th><th>certified</th><th>final_cc_cname_DI</th><th>LoE_DI</th><th>YoB</th><th>gender</th><th>grade</th><th>start_time_DI</th><th>last_event_DI</th><th>nevents</th><th>ndays_act</th><th>nplay_video</th><th>nchapters</th><th>nforum_posts</th><th>roles</th><th>incomplete_flag</th></tr></thead><tbody><tr><th>1</th><td>HarvardX/CB22x/2013_Spring</td><td>MHxPC130442623</td><td>1</td><td>0</td><td>0</td><td>0</td><td>United States</td><td>NA</td><td>NA</td><td>NA</td><td>0.0</td><td>2012-12-19</td><td>2013-11-17</td><td>missing</td><td>9</td><td>missing</td><td>missing</td><td>0</td><td>missing</td><td>1</td></tr><tr><th>2</th><td>HarvardX/CS50x/2012</td><td>MHxPC130442623</td><td>1</td><td>1</td><td>0</td><td>0</td><td>United States</td><td>NA</td><td>NA</td><td>NA</td><td>0.0</td><td>2012-10-15</td><td>missing</td><td>missing</td><td>9</td><td>missing</td><td>1.0</td><td>0</td><td>missing</td><td>1</td></tr><tr><th>3</th><td>HarvardX/CB22x/2013_Spring</td><td>MHxPC130275857</td><td>1</td><td>0</td><td>0</td><td>0</td><td>United States</td><td>NA</td><td>NA</td><td>NA</td><td>0.0</td><td>2013-02-08</td><td>2013-11-17</td><td>missing</td><td>16</td><td>missing</td><td>missing</td><td>0</td><td>missing</td><td>1</td></tr><tr><th>4</th><td>HarvardX/CS50x/2012</td><td>MHxPC130275857</td><td>1</td><td>0</td><td>0</td><td>0</td><td>United States</td><td>NA</td><td>NA</td><td>NA</td><td>0.0</td><td>2012-09-17</td><td>missing</td><td>missing</td><td>16</td><td>missing</td><td>missing</td><td>0</td><td>missing</td><td>1</td></tr><tr><th>5</th><td>HarvardX/ER22x/2013_Spring</td><td>MHxPC130275857</td><td>1</td><td>0</td><td>0</td><td>0</td><td>United States</td><td>NA</td><td>NA</td><td>NA</td><td>0.0</td><td>2012-12-19</td><td>missing</td><td>missing</td><td>16</td><td>missing</td><td>missing</td><td>0</td><td>missing</td><td>1</td></tr><tr><th>6</th><td>HarvardX/PH207x/2012_Fall</td><td>MHxPC130275857</td><td>1</td><td>1</td><td>1</td><td>0</td><td>United States</td><td>NA</td><td>NA</td><td>NA</td><td>0.0</td><td>2012-09-17</td><td>2013-05-23</td><td>502</td><td>16</td><td>50</td><td>12.0</td><td>0</td><td>missing</td><td>missing</td></tr><tr><th>7</th><td>HarvardX/PH278x/2013_Spring</td><td>MHxPC130275857</td><td>1</td><td>0</td><td>0</td><td>0</td><td>United States</td><td>NA</td><td>NA</td><td>NA</td><td>0.0</td><td>2013-02-08</td><td>missing</td><td>missing</td><td>16</td><td>missing</td><td>missing</td><td>0</td><td>missing</td><td>1</td></tr><tr><th>8</th><td>HarvardX/CB22x/2013_Spring</td><td>MHxPC130539455</td><td>1</td><td>1</td><td>0</td><td>0</td><td>France</td><td>NA</td><td>NA</td><td>NA</td><td>0.0</td><td>2013-01-01</td><td>2013-05-14</td><td>42</td><td>6</td><td>missing</td><td>3.0</td><td>0</td><td>missing</td><td>missing</td></tr><tr><th>9</th><td>HarvardX/CB22x/2013_Spring</td><td>MHxPC130088379</td><td>1</td><td>1</td><td>0</td><td>0</td><td>United States</td><td>NA</td><td>NA</td><td>NA</td><td>0.0</td><td>2013-02-18</td><td>2013-03-17</td><td>70</td><td>3</td><td>missing</td><td>3.0</td><td>0</td><td>missing</td><td>missing</td></tr><tr><th>10</th><td>HarvardX/CS50x/2012</td><td>MHxPC130088379</td><td>1</td><td>1</td><td>0</td><td>0</td><td>United States</td><td>NA</td><td>NA</td><td>NA</td><td>0.0</td><td>2012-10-20</td><td>missing</td><td>missing</td><td>12</td><td>missing</td><td>3.0</td><td>0</td><td>missing</td><td>1</td></tr><tr><th>11</th><td>HarvardX/ER22x/2013_Spring</td><td>MHxPC130088379</td><td>1</td><td>1</td><td>0</td><td>0</td><td>United States</td><td>NA</td><td>NA</td><td>NA</td><td>0.0</td><td>2013-02-23</td><td>2013-06-14</td><td>17</td><td>2</td><td>missing</td><td>2.0</td><td>0</td><td>missing</td><td>missing</td></tr><tr><th>12</th><td>HarvardX/ER22x/2013_Spring</td><td>MHxPC130198098</td><td>1</td><td>1</td><td>0</td><td>0</td><td>United States</td><td>NA</td><td>NA</td><td>NA</td><td>0.0</td><td>2013-06-17</td><td>2013-06-17</td><td>32</td><td>1</td><td>missing</td><td>3.0</td><td>0</td><td>missing</td><td>missing</td></tr><tr><th>13</th><td>HarvardX/CB22x/2013_Spring</td><td>MHxPC130024894</td><td>1</td><td>1</td><td>0</td><td>0</td><td>United States</td><td>NA</td><td>NA</td><td>NA</td><td>0.07</td><td>2013-01-24</td><td>2013-08-03</td><td>175</td><td>9</td><td>missing</td><td>7.0</td><td>0</td><td>missing</td><td>missing</td></tr><tr><th>14</th><td>HarvardX/CS50x/2012</td><td>MHxPC130024894</td><td>1</td><td>1</td><td>0</td><td>0</td><td>United States</td><td>NA</td><td>NA</td><td>NA</td><td>0.0</td><td>2013-06-27</td><td>missing</td><td>missing</td><td>2</td><td>missing</td><td>2.0</td><td>0</td><td>missing</td><td>1</td></tr><tr><th>15</th><td>HarvardX/ER22x/2013_Spring</td><td>MHxPC130024894</td><td>1</td><td>1</td><td>0</td><td>0</td><td>United States</td><td>NA</td><td>NA</td><td>NA</td><td>0.0</td><td>2012-12-19</td><td>2013-08-17</td><td>78</td><td>5</td><td>missing</td><td>4.0</td><td>0</td><td>missing</td><td>missing</td></tr><tr><th>16</th><td>HarvardX/PH207x/2012_Fall</td><td>MHxPC130024894</td><td>1</td><td>1</td><td>0</td><td>0</td><td>United States</td><td>NA</td><td>NA</td><td>NA</td><td>0.0</td><td>2012-07-26</td><td>2013-01-16</td><td>75</td><td>14</td><td>5</td><td>2.0</td><td>0</td><td>missing</td><td>missing</td></tr><tr><th>17</th><td>HarvardX/PH278x/2013_Spring</td><td>MHxPC130024894</td><td>1</td><td>1</td><td>0</td><td>0</td><td>United States</td><td>NA</td><td>NA</td><td>NA</td><td>0.0</td><td>2013-07-30</td><td>2013-08-27</td><td>11</td><td>2</td><td>2</td><td>1.0</td><td>0</td><td>missing</td><td>missing</td></tr><tr><th>18</th><td>HarvardX/CS50x/2012</td><td>MHxPC130080986</td><td>1</td><td>1</td><td>0</td><td>0</td><td>United States</td><td>NA</td><td>NA</td><td>NA</td><td>0.0</td><td>2012-10-15</td><td>missing</td><td>missing</td><td>11</td><td>missing</td><td>1.0</td><td>0</td><td>missing</td><td>1</td></tr><tr><th>19</th><td>HarvardX/PH207x/2012_Fall</td><td>MHxPC130080986</td><td>1</td><td>1</td><td>0</td><td>0</td><td>United States</td><td>NA</td><td>NA</td><td>NA</td><td>0.0</td><td>2012-10-25</td><td>2012-12-04</td><td>56</td><td>11</td><td>1</td><td>2.0</td><td>1</td><td>missing</td><td>missing</td></tr><tr><th>20</th><td>HarvardX/CS50x/2012</td><td>MHxPC130063375</td><td>1</td><td>1</td><td>0</td><td>0</td><td>Unknown/Other</td><td>NA</td><td>NA</td><td>NA</td><td>0.0</td><td>2012-10-19</td><td>missing</td><td>missing</td><td>missing</td><td>missing</td><td>1.0</td><td>0</td><td>missing</td><td>1</td></tr><tr><th>21</th><td>HarvardX/CS50x/2012</td><td>MHxPC130094371</td><td>1</td><td>1</td><td>0</td><td>0</td><td>United States</td><td>NA</td><td>NA</td><td>NA</td><td>0.0</td><td>2013-03-03</td><td>2013-03-03</td><td>7</td><td>1</td><td>missing</td><td>2.0</td><td>0</td><td>missing</td><td>missing</td></tr><tr><th>22</th><td>HarvardX/CS50x/2012</td><td>MHxPC130229084</td><td>1</td><td>1</td><td>0</td><td>0</td><td>Mexico</td><td>NA</td><td>NA</td><td>NA</td><td>0.0</td><td>2012-10-15</td><td>missing</td><td>missing</td><td>missing</td><td>missing</td><td>1.0</td><td>0</td><td>missing</td><td>1</td></tr><tr><th>23</th><td>HarvardX/CS50x/2012</td><td>MHxPC130300925</td><td>1</td><td>1</td><td>0</td><td>0</td><td>United States</td><td>NA</td><td>NA</td><td>NA</td><td>0.0</td><td>2012-10-24</td><td>missing</td><td>missing</td><td>2</td><td>missing</td><td>1.0</td><td>0</td><td>missing</td><td>1</td></tr><tr><th>24</th><td>HarvardX/ER22x/2013_Spring</td><td>MHxPC130300925</td><td>1</td><td>1</td><td>0</td><td>0</td><td>United States</td><td>NA</td><td>NA</td><td>NA</td><td>0.0</td><td>2012-12-20</td><td>2013-05-18</td><td>15</td><td>2</td><td>missing</td><td>2.0</td><td>0</td><td>missing</td><td>missing</td></tr><tr><th>25</th><td>HarvardX/CS50x/2012</td><td>MHxPC130417650</td><td>1</td><td>1</td><td>0</td><td>0</td><td>Australia</td><td>NA</td><td>NA</td><td>NA</td><td>0.0</td><td>2012-10-29</td><td>2013-03-04</td><td>1</td><td>1</td><td>missing</td><td>2.0</td><td>0</td><td>missing</td><td>missing</td></tr><tr><th>26</th><td>HarvardX/CS50x/2012</td><td>MHxPC130506580</td><td>1</td><td>0</td><td>0</td><td>0</td><td>United States</td><td>NA</td><td>NA</td><td>NA</td><td>0.0</td><td>2012-09-04</td><td>missing</td><td>missing</td><td>missing</td><td>missing</td><td>missing</td><td>0</td><td>missing</td><td>missing</td></tr><tr><th>27</th><td>HarvardX/CS50x/2012</td><td>MHxPC130298257</td><td>1</td><td>0</td><td>0</td><td>0</td><td>United States</td><td>NA</td><td>NA</td><td>NA</td><td>0.0</td><td>2012-09-05</td><td>missing</td><td>missing</td><td>missing</td><td>missing</td><td>3.0</td><td>0</td><td>missing</td><td>1</td></tr><tr><th>28</th><td>HarvardX/CS50x/2012</td><td>MHxPC130500569</td><td>1</td><td>1</td><td>0</td><td>0</td><td>United States</td><td>NA</td><td>NA</td><td>NA</td><td>0.0</td><td>2012-10-22</td><td>2013-03-30</td><td>6</td><td>1</td><td>missing</td><td>5.0</td><td>0</td><td>missing</td><td>missing</td></tr><tr><th>29</th><td>HarvardX/CS50x/2012</td><td>MHxPC130466479</td><td>1</td><td>1</td><td>0</td><td>0</td><td>Unknown/Other</td><td>NA</td><td>NA</td><td>NA</td><td>0.0</td><td>2013-01-07</td><td>missing</td><td>missing</td><td>missing</td><td>missing</td><td>1.0</td><td>0</td><td>missing</td><td>1</td></tr><tr><th>30</th><td>HarvardX/CB22x/2013_Spring</td><td>MHxPC130340959</td><td>1</td><td>1</td><td>0</td><td>0</td><td>United States</td><td>NA</td><td>NA</td><td>NA</td><td>0.05</td><td>2013-02-11</td><td>2013-04-06</td><td>285</td><td>8</td><td>missing</td><td>4.0</td><td>0</td><td>missing</td><td>missing</td></tr><tr><th>&vellip;</th><td>&vellip;</td><td>&vellip;</td><td>&vellip;</td><td>&vellip;</td><td>&vellip;</td><td>&vellip;</td><td>&vellip;</td><td>&vellip;</td><td>&vellip;</td><td>&vellip;</td><td>&vellip;</td><td>&vellip;</td><td>&vellip;</td><td>&vellip;</td><td>&vellip;</td><td>&vellip;</td><td>&vellip;</td><td>&vellip;</td><td>&vellip;</td><td>&vellip;</td></tr></tbody></table>"
      ],
      "text/plain": [
       "641138×20 DataFrames.DataFrame. Omitted printing of 16 columns\n",
       "│ Row    │ course_id                   │ userid_DI      │ registered │ viewed │\n",
       "├────────┼─────────────────────────────┼────────────────┼────────────┼────────┤\n",
       "│ 1      │ HarvardX/CB22x/2013_Spring  │ MHxPC130442623 │ 1          │ 0      │\n",
       "│ 2      │ HarvardX/CS50x/2012         │ MHxPC130442623 │ 1          │ 1      │\n",
       "│ 3      │ HarvardX/CB22x/2013_Spring  │ MHxPC130275857 │ 1          │ 0      │\n",
       "│ 4      │ HarvardX/CS50x/2012         │ MHxPC130275857 │ 1          │ 0      │\n",
       "│ 5      │ HarvardX/ER22x/2013_Spring  │ MHxPC130275857 │ 1          │ 0      │\n",
       "│ 6      │ HarvardX/PH207x/2012_Fall   │ MHxPC130275857 │ 1          │ 1      │\n",
       "│ 7      │ HarvardX/PH278x/2013_Spring │ MHxPC130275857 │ 1          │ 0      │\n",
       "│ 8      │ HarvardX/CB22x/2013_Spring  │ MHxPC130539455 │ 1          │ 1      │\n",
       "│ 9      │ HarvardX/CB22x/2013_Spring  │ MHxPC130088379 │ 1          │ 1      │\n",
       "│ 10     │ HarvardX/CS50x/2012         │ MHxPC130088379 │ 1          │ 1      │\n",
       "│ 11     │ HarvardX/ER22x/2013_Spring  │ MHxPC130088379 │ 1          │ 1      │\n",
       "⋮\n",
       "│ 641127 │ MITx/6.00x/2013_Spring      │ MHxPC130137331 │ 1          │ 1      │\n",
       "│ 641128 │ MITx/6.002x/2013_Spring     │ MHxPC130271624 │ 1          │ 0      │\n",
       "│ 641129 │ MITx/14.73x/2013_Spring     │ MHxPC130256541 │ 1          │ 1      │\n",
       "│ 641130 │ MITx/6.00x/2013_Spring      │ MHxPC130021638 │ 1          │ 0      │\n",
       "│ 641131 │ MITx/14.73x/2013_Spring     │ MHxPC130591057 │ 1          │ 0      │\n",
       "│ 641132 │ MITx/8.02x/2013_Spring      │ MHxPC130226305 │ 1          │ 0      │\n",
       "│ 641133 │ MITx/6.002x/2013_Spring     │ MHxPC130030805 │ 1          │ 1      │\n",
       "│ 641134 │ MITx/6.00x/2013_Spring      │ MHxPC130184108 │ 1          │ 1      │\n",
       "│ 641135 │ MITx/6.00x/2013_Spring      │ MHxPC130359782 │ 1          │ 0      │\n",
       "│ 641136 │ MITx/6.002x/2013_Spring     │ MHxPC130098513 │ 1          │ 0      │\n",
       "│ 641137 │ MITx/6.00x/2013_Spring      │ MHxPC130098513 │ 1          │ 1      │\n",
       "│ 641138 │ MITx/8.02x/2013_Spring      │ MHxPC130098513 │ 1          │ 0      │"
      ]
     },
     "execution_count": 19,
     "metadata": {},
     "output_type": "execute_result"
    }
   ],
   "source": [
    "mooc_df = CSV.read(\"data\\\\HMXPC13_DI_v2_5-14-14.csv\"; use_mmap = false)"
   ]
  },
  {
   "cell_type": "code",
   "execution_count": 11,
   "metadata": {},
   "outputs": [
    {
     "data": {
      "text/plain": [
       "(641138, 20)"
      ]
     },
     "execution_count": 11,
     "metadata": {},
     "output_type": "execute_result"
    }
   ],
   "source": [
    "nrow(mooc_df), ncol(mooc_df)"
   ]
  },
  {
   "cell_type": "code",
   "execution_count": 84,
   "metadata": {},
   "outputs": [
    {
     "data": {
      "text/html": [
       "<table class=\"data-frame\"><thead><tr><th></th><th>engaged</th><th>dist_launch_date</th><th>gender</th><th>LoE_DI</th><th>YoB</th><th>final_cc_cname_DI</th></tr></thead><tbody><tr><th>1</th><td>0</td><td>84 days</td><td>NA</td><td>NA</td><td>NA</td><td>United States</td></tr><tr><th>2</th><td>0</td><td>33 days</td><td>NA</td><td>NA</td><td>NA</td><td>United States</td></tr><tr><th>3</th><td>1</td><td>71 days</td><td>NA</td><td>NA</td><td>NA</td><td>France</td></tr><tr><th>4</th><td>1</td><td>23 days</td><td>NA</td><td>NA</td><td>NA</td><td>United States</td></tr><tr><th>5</th><td>1</td><td>48 days</td><td>NA</td><td>NA</td><td>NA</td><td>United States</td></tr><tr><th>6</th><td>1</td><td>30 days</td><td>NA</td><td>NA</td><td>NA</td><td>United States</td></tr><tr><th>7</th><td>0</td><td>80 days</td><td>NA</td><td>NA</td><td>NA</td><td>United States</td></tr><tr><th>8</th><td>1</td><td>21 days</td><td>NA</td><td>NA</td><td>NA</td><td>Canada</td></tr><tr><th>9</th><td>1</td><td>83 days</td><td>NA</td><td>NA</td><td>NA</td><td>United States</td></tr><tr><th>10</th><td>0</td><td>-40 days</td><td>NA</td><td>NA</td><td>NA</td><td>United States</td></tr><tr><th>11</th><td>0</td><td>84 days</td><td>NA</td><td>NA</td><td>NA</td><td>United States</td></tr><tr><th>12</th><td>0</td><td>28 days</td><td>NA</td><td>NA</td><td>NA</td><td>Other North &amp; Central Amer., Caribbean</td></tr><tr><th>13</th><td>1</td><td>49 days</td><td>NA</td><td>NA</td><td>NA</td><td>Other South Asia</td></tr><tr><th>14</th><td>0</td><td>44 days</td><td>NA</td><td>NA</td><td>NA</td><td>Canada</td></tr><tr><th>15</th><td>0</td><td>83 days</td><td>NA</td><td>NA</td><td>NA</td><td>United States</td></tr><tr><th>16</th><td>1</td><td>27 days</td><td>NA</td><td>NA</td><td>NA</td><td>United States</td></tr><tr><th>17</th><td>1</td><td>-74 days</td><td>NA</td><td>NA</td><td>NA</td><td>Japan</td></tr><tr><th>18</th><td>1</td><td>-8 days</td><td>NA</td><td>NA</td><td>NA</td><td>Other Africa</td></tr><tr><th>19</th><td>1</td><td>81 days</td><td>NA</td><td>NA</td><td>NA</td><td>United States</td></tr><tr><th>20</th><td>0</td><td>19 days</td><td>NA</td><td>NA</td><td>NA</td><td>Other Europe</td></tr><tr><th>21</th><td>0</td><td>25 days</td><td>NA</td><td>NA</td><td>NA</td><td>Other Middle East/Central Asia</td></tr><tr><th>22</th><td>0</td><td>78 days</td><td>NA</td><td>NA</td><td>NA</td><td>Bangladesh</td></tr><tr><th>23</th><td>1</td><td>82 days</td><td>NA</td><td>NA</td><td>NA</td><td>Germany</td></tr><tr><th>24</th><td>0</td><td>49 days</td><td>NA</td><td>NA</td><td>NA</td><td>Unknown/Other</td></tr><tr><th>25</th><td>0</td><td>42 days</td><td>NA</td><td>NA</td><td>NA</td><td>India</td></tr><tr><th>26</th><td>1</td><td>83 days</td><td>NA</td><td>NA</td><td>NA</td><td>United Kingdom</td></tr><tr><th>27</th><td>1</td><td>84 days</td><td>NA</td><td>NA</td><td>NA</td><td>United States</td></tr><tr><th>28</th><td>0</td><td>82 days</td><td>NA</td><td>NA</td><td>NA</td><td>Greece</td></tr><tr><th>29</th><td>0</td><td>36 days</td><td>NA</td><td>NA</td><td>NA</td><td>Unknown/Other</td></tr><tr><th>30</th><td>0</td><td>83 days</td><td>NA</td><td>NA</td><td>NA</td><td>United States</td></tr><tr><th>&vellip;</th><td>&vellip;</td><td>&vellip;</td><td>&vellip;</td><td>&vellip;</td><td>&vellip;</td><td>&vellip;</td></tr></tbody></table>"
      ],
      "text/plain": [
       "30002×6 DataFrames.DataFrame. Omitted printing of 1 columns\n",
       "│ Row   │ engaged │ dist_launch_date │ gender  │ LoE_DI     │ YoB     │\n",
       "├───────┼─────────┼──────────────────┼─────────┼────────────┼─────────┤\n",
       "│ 1     │ 0       │ 84 days          │ NA      │ NA         │ NA      │\n",
       "│ 2     │ 0       │ 33 days          │ NA      │ NA         │ NA      │\n",
       "│ 3     │ 1       │ 71 days          │ NA      │ NA         │ NA      │\n",
       "│ 4     │ 1       │ 23 days          │ NA      │ NA         │ NA      │\n",
       "│ 5     │ 1       │ 48 days          │ NA      │ NA         │ NA      │\n",
       "│ 6     │ 1       │ 30 days          │ NA      │ NA         │ NA      │\n",
       "│ 7     │ 0       │ 80 days          │ NA      │ NA         │ NA      │\n",
       "│ 8     │ 1       │ 21 days          │ NA      │ NA         │ NA      │\n",
       "│ 9     │ 1       │ 83 days          │ NA      │ NA         │ NA      │\n",
       "│ 10    │ 0       │ -40 days         │ NA      │ NA         │ NA      │\n",
       "│ 11    │ 0       │ 84 days          │ NA      │ NA         │ NA      │\n",
       "⋮\n",
       "│ 29991 │ 0       │ -167 days        │ f       │ Doctorate  │ 1957    │\n",
       "│ 29992 │ 0       │ -167 days        │ m       │ Secondary  │ 1992    │\n",
       "│ 29993 │ 1       │ -167 days        │ f       │ Bachelor's │ 1968    │\n",
       "│ 29994 │ 0       │ -167 days        │ \u001b[90mmissing\u001b[39m │ \u001b[90mmissing\u001b[39m    │ \u001b[90mmissing\u001b[39m │\n",
       "│ 29995 │ 1       │ -167 days        │ f       │ \u001b[90mmissing\u001b[39m    │ \u001b[90mmissing\u001b[39m │\n",
       "│ 29996 │ 0       │ -167 days        │ m       │ Secondary  │ 1992    │\n",
       "│ 29997 │ 1       │ -167 days        │ m       │ Master's   │ 1980    │\n",
       "│ 29998 │ 1       │ -167 days        │ f       │ \u001b[90mmissing\u001b[39m    │ \u001b[90mmissing\u001b[39m │\n",
       "│ 29999 │ 0       │ -167 days        │ m       │ Bachelor's │ 1990    │\n",
       "│ 30000 │ 0       │ -167 days        │ m       │ Secondary  │ 1990    │\n",
       "│ 30001 │ 0       │ -176 days        │ m       │ Master's   │ 1986    │\n",
       "│ 30002 │ 0       │ -176 days        │ \u001b[90mmissing\u001b[39m │ \u001b[90mmissing\u001b[39m    │ \u001b[90mmissing\u001b[39m │"
      ]
     },
     "execution_count": 84,
     "metadata": {},
     "output_type": "execute_result"
    }
   ],
   "source": [
    "@linq cb22x = mooc_df |>\n",
    "                where(:course_id .== \"HarvardX/CB22x/2013_Spring\") |>\n",
    "                select(:registered, :viewed, :explored, :certified, :gender, \n",
    "                       :LoE_DI, :YoB, :final_cc_cname_DI, :start_time_DI) |>\n",
    "                transform(engaged = Int.((:explored .== 1) .| (:certified .== 1) .| (:viewed .== 1)),\n",
    "                          dist_launch_date = Date(\"2013-03-13\") .- :start_time_DI) |>\n",
    "                select(:engaged, :dist_launch_date, :gender, :LoE_DI, :YoB, :final_cc_cname_DI)"
   ]
  },
  {
   "cell_type": "code",
   "execution_count": 86,
   "metadata": {},
   "outputs": [
    {
     "data": {
      "text/html": [
       "<table class=\"data-frame\"><thead><tr><th></th><th>engaged</th><th>registered_before_launch</th><th>registered_after_launch</th><th>age</th><th>male</th><th>country</th><th>education</th></tr></thead><tbody><tr><th>1</th><td>1.0</td><td>24.0</td><td>0.0</td><td>19.0</td><td>1.0</td><td>AS</td><td>SE</td></tr><tr><th>2</th><td>1.0</td><td>53.0</td><td>0.0</td><td>23.0</td><td>1.0</td><td>OT</td><td>BA</td></tr><tr><th>3</th><td>1.0</td><td>0.0</td><td>101.0</td><td>35.0</td><td>1.0</td><td>EU</td><td>MA</td></tr><tr><th>4</th><td>0.0</td><td>84.0</td><td>0.0</td><td>30.0</td><td>1.0</td><td>AS</td><td>BA</td></tr><tr><th>5</th><td>1.0</td><td>81.0</td><td>0.0</td><td>36.0</td><td>1.0</td><td>EU</td><td>MA</td></tr><tr><th>6</th><td>0.0</td><td>78.0</td><td>0.0</td><td>22.0</td><td>0.0</td><td>AS</td><td>BA</td></tr><tr><th>7</th><td>1.0</td><td>1.0</td><td>0.0</td><td>23.0</td><td>1.0</td><td>AS</td><td>BA</td></tr><tr><th>8</th><td>1.0</td><td>50.0</td><td>0.0</td><td>22.0</td><td>1.0</td><td>OT</td><td>SE</td></tr><tr><th>9</th><td>1.0</td><td>41.0</td><td>0.0</td><td>23.0</td><td>1.0</td><td>AS</td><td>BA</td></tr><tr><th>10</th><td>1.0</td><td>37.0</td><td>0.0</td><td>24.0</td><td>1.0</td><td>AS</td><td>BA</td></tr><tr><th>11</th><td>0.0</td><td>79.0</td><td>0.0</td><td>40.0</td><td>1.0</td><td>US</td><td>MA</td></tr><tr><th>12</th><td>1.0</td><td>83.0</td><td>0.0</td><td>19.0</td><td>1.0</td><td>AS</td><td>SE</td></tr><tr><th>13</th><td>0.0</td><td>49.0</td><td>0.0</td><td>22.0</td><td>1.0</td><td>AS</td><td>SE</td></tr><tr><th>14</th><td>0.0</td><td>0.0</td><td>70.0</td><td>30.0</td><td>1.0</td><td>EU</td><td>SE</td></tr><tr><th>15</th><td>0.0</td><td>83.0</td><td>0.0</td><td>25.0</td><td>1.0</td><td>AS</td><td>BA</td></tr><tr><th>16</th><td>1.0</td><td>7.0</td><td>0.0</td><td>22.0</td><td>1.0</td><td>AS</td><td>SE</td></tr><tr><th>17</th><td>0.0</td><td>54.0</td><td>0.0</td><td>31.0</td><td>1.0</td><td>EU</td><td>BA</td></tr><tr><th>18</th><td>1.0</td><td>83.0</td><td>0.0</td><td>20.0</td><td>1.0</td><td>AF</td><td>SE</td></tr><tr><th>19</th><td>1.0</td><td>83.0</td><td>0.0</td><td>30.0</td><td>1.0</td><td>EU</td><td>SE</td></tr><tr><th>20</th><td>1.0</td><td>0.0</td><td>27.0</td><td>21.0</td><td>1.0</td><td>AS</td><td>SE</td></tr><tr><th>21</th><td>0.0</td><td>35.0</td><td>0.0</td><td>34.0</td><td>1.0</td><td>OT</td><td>MA</td></tr><tr><th>22</th><td>0.0</td><td>82.0</td><td>0.0</td><td>25.0</td><td>0.0</td><td>EU</td><td>SE</td></tr><tr><th>23</th><td>0.0</td><td>83.0</td><td>0.0</td><td>32.0</td><td>1.0</td><td>AS</td><td>MA</td></tr><tr><th>24</th><td>0.0</td><td>83.0</td><td>0.0</td><td>21.0</td><td>1.0</td><td>OT</td><td>SE</td></tr><tr><th>25</th><td>1.0</td><td>0.0</td><td>145.0</td><td>25.0</td><td>1.0</td><td>OT</td><td>BA</td></tr><tr><th>26</th><td>0.0</td><td>83.0</td><td>0.0</td><td>21.0</td><td>1.0</td><td>AS</td><td>SE</td></tr><tr><th>27</th><td>0.0</td><td>0.0</td><td>135.0</td><td>23.0</td><td>1.0</td><td>OT</td><td>BA</td></tr><tr><th>28</th><td>1.0</td><td>0.0</td><td>10.0</td><td>36.0</td><td>0.0</td><td>US</td><td>BA</td></tr><tr><th>29</th><td>1.0</td><td>82.0</td><td>0.0</td><td>29.0</td><td>1.0</td><td>EU</td><td>MA</td></tr><tr><th>30</th><td>0.0</td><td>27.0</td><td>0.0</td><td>34.0</td><td>1.0</td><td>OT</td><td>MA</td></tr><tr><th>&vellip;</th><td>&vellip;</td><td>&vellip;</td><td>&vellip;</td><td>&vellip;</td><td>&vellip;</td><td>&vellip;</td><td>&vellip;</td></tr></tbody></table>"
      ],
      "text/plain": [
       "25093×7 DataFrames.DataFrame. Omitted printing of 3 columns\n",
       "│ Row   │ engaged │ registered_before_launch │ registered_after_launch │ age  │\n",
       "├───────┼─────────┼──────────────────────────┼─────────────────────────┼──────┤\n",
       "│ 1     │ 1.0     │ 24.0                     │ 0.0                     │ 19.0 │\n",
       "│ 2     │ 1.0     │ 53.0                     │ 0.0                     │ 23.0 │\n",
       "│ 3     │ 1.0     │ 0.0                      │ 101.0                   │ 35.0 │\n",
       "│ 4     │ 0.0     │ 84.0                     │ 0.0                     │ 30.0 │\n",
       "│ 5     │ 1.0     │ 81.0                     │ 0.0                     │ 36.0 │\n",
       "│ 6     │ 0.0     │ 78.0                     │ 0.0                     │ 22.0 │\n",
       "│ 7     │ 1.0     │ 1.0                      │ 0.0                     │ 23.0 │\n",
       "│ 8     │ 1.0     │ 50.0                     │ 0.0                     │ 22.0 │\n",
       "│ 9     │ 1.0     │ 41.0                     │ 0.0                     │ 23.0 │\n",
       "│ 10    │ 1.0     │ 37.0                     │ 0.0                     │ 24.0 │\n",
       "│ 11    │ 0.0     │ 79.0                     │ 0.0                     │ 40.0 │\n",
       "⋮\n",
       "│ 25082 │ 0.0     │ 0.0                      │ 166.0                   │ 31.0 │\n",
       "│ 25083 │ 0.0     │ 0.0                      │ 167.0                   │ 31.0 │\n",
       "│ 25084 │ 0.0     │ 0.0                      │ 167.0                   │ 65.0 │\n",
       "│ 25085 │ 0.0     │ 0.0                      │ 167.0                   │ 51.0 │\n",
       "│ 25086 │ 0.0     │ 0.0                      │ 167.0                   │ 56.0 │\n",
       "│ 25087 │ 0.0     │ 0.0                      │ 167.0                   │ 21.0 │\n",
       "│ 25088 │ 1.0     │ 0.0                      │ 167.0                   │ 45.0 │\n",
       "│ 25089 │ 0.0     │ 0.0                      │ 167.0                   │ 21.0 │\n",
       "│ 25090 │ 1.0     │ 0.0                      │ 167.0                   │ 33.0 │\n",
       "│ 25091 │ 0.0     │ 0.0                      │ 167.0                   │ 23.0 │\n",
       "│ 25092 │ 0.0     │ 0.0                      │ 167.0                   │ 23.0 │\n",
       "│ 25093 │ 0.0     │ 0.0                      │ 176.0                   │ 27.0 │"
      ]
     },
     "execution_count": 86,
     "metadata": {},
     "output_type": "execute_result"
    }
   ],
   "source": [
    "cb22x_df = Feather.read(\"data\\\\HarvardX_CB22x_2013_Spring.feather\")"
   ]
  },
  {
   "cell_type": "code",
   "execution_count": 90,
   "metadata": {},
   "outputs": [
    {
     "name": "stdout",
     "output_type": "stream",
     "text": [
      "  0.026162 seconds (1.34 k allocations: 9.839 MiB)\n"
     ]
    },
    {
     "data": {
      "text/plain": [
       "StatsModels.DataFrameRegressionModel{GLM.GeneralizedLinearModel{GLM.GlmResp{Array{Float64,1},Distributions.Binomial{Float64},GLM.LogitLink},GLM.DensePredChol{Float64,Base.LinAlg.Cholesky{Float64,Array{Float64,2}}}},Array{Float64,2}}\n",
       "\n",
       "Formula: engaged ~ 1 + registered_before_launch + registered_after_launch + age + male + country + education\n",
       "\n",
       "Coefficients:\n",
       "                            Estimate   Std.Error   z value Pr(>|z|)\n",
       "(Intercept)                0.0934194    0.128929  0.724582   0.4687\n",
       "registered_before_launch  -0.0149767  0.00055376  -27.0455   <1e-99\n",
       "registered_after_launch   0.00152412 0.000364352   4.18309    <1e-4\n",
       "age                        0.0122535  0.00148646   8.24342   <1e-15\n",
       "male                         0.13461   0.0271287   4.96192    <1e-6\n",
       "country: AS                 0.121215    0.124603  0.972809   0.3306\n",
       "country: EU                 0.363258    0.123883   2.93227   0.0034\n",
       "country: OT                -0.917236    0.124854  -7.34647   <1e-12\n",
       "country: US               -0.0317945     0.12345  -0.25755   0.7968\n",
       "education: DO               0.117832    0.075803   1.55446   0.1201\n",
       "education: LS                0.33936   0.0930304   3.64784   0.0003\n",
       "education: MA             -0.0173802   0.0356989 -0.486854   0.6264\n",
       "education: SE               0.052521   0.0343824   1.52756   0.1266\n"
      ]
     },
     "execution_count": 90,
     "metadata": {},
     "output_type": "execute_result"
    }
   ],
   "source": [
    "@time cb22x_logit = glm(@formula(engaged ~ registered_before_launch + registered_after_launch +\n",
    "                                           age + male + country + education), \n",
    "                        cb22x_df, \n",
    "                        Binomial(), \n",
    "                        LogitLink())"
   ]
  },
  {
   "cell_type": "code",
   "execution_count": null,
   "metadata": {
    "collapsed": true
   },
   "outputs": [],
   "source": []
  }
 ],
 "metadata": {
  "kernelspec": {
   "display_name": "Julia 0.6.2",
   "language": "julia",
   "name": "julia-0.6"
  },
  "language_info": {
   "file_extension": ".jl",
   "mimetype": "application/julia",
   "name": "julia",
   "version": "0.6.2"
  }
 },
 "nbformat": 4,
 "nbformat_minor": 2
}
