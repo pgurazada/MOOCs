{
 "cells": [
  {
   "cell_type": "code",
   "execution_count": 1,
   "metadata": {},
   "outputs": [],
   "source": [
    "course_metrics = {'course_name' : [],\n",
    "                  'val_binary_accuracy' : [],\n",
    "                  'test_f1_score' : []}"
   ]
  },
  {
   "cell_type": "markdown",
   "metadata": {
    "colab_type": "text",
    "id": "QzGWkLzTFSgb"
   },
   "source": [
    "### Design the feed-forward neural net"
   ]
  },
  {
   "cell_type": "code",
   "execution_count": 2,
   "metadata": {
    "colab": {},
    "colab_type": "code",
    "id": "xeQCD_c4KS3J"
   },
   "outputs": [],
   "source": [
    "import pandas as pd\n",
    "import numpy as np"
   ]
  },
  {
   "cell_type": "code",
   "execution_count": 3,
   "metadata": {
    "colab": {},
    "colab_type": "code",
    "id": "0z3e7riPFzwD"
   },
   "outputs": [
    {
     "name": "stderr",
     "output_type": "stream",
     "text": [
      "C:\\Users\\kimmcodxb\\Anaconda3\\lib\\site-packages\\h5py\\__init__.py:36: FutureWarning: Conversion of the second argument of issubdtype from `float` to `np.floating` is deprecated. In future, it will be treated as `np.float64 == np.dtype(float).type`.\n",
      "  from ._conv import register_converters as _register_converters\n",
      "Using TensorFlow backend.\n"
     ]
    }
   ],
   "source": [
    "from keras.models import Sequential\n",
    "\n",
    "from keras.layers import Dense, Activation, Dropout\n",
    "\n",
    "from keras.losses import binary_crossentropy\n",
    "\n",
    "from keras.optimizers import RMSprop\n",
    "\n",
    "from keras.metrics import binary_accuracy\n",
    "\n",
    "from keras.callbacks import EarlyStopping, ReduceLROnPlateau\n",
    "\n",
    "from keras import backend as K"
   ]
  },
  {
   "cell_type": "code",
   "execution_count": 4,
   "metadata": {
    "colab": {},
    "colab_type": "code",
    "id": "06_tmFnhOuzi"
   },
   "outputs": [],
   "source": [
    "from sklearn.metrics import f1_score"
   ]
  },
  {
   "cell_type": "code",
   "execution_count": 23,
   "metadata": {
    "colab": {},
    "colab_type": "code",
    "id": "frNXrx_gHk0T"
   },
   "outputs": [],
   "source": [
    "def build(network_type=Sequential, \n",
    "          nb_initial_layer=64,\n",
    "          dense_layer_lst=[64],\n",
    "          nb_final_layer=1,\n",
    "          dp_rate=0.2,\n",
    "          learning_rate=1e-4):\n",
    "    \n",
    "    model = network_type()\n",
    "    \n",
    "    model.add(Dense(nb_initial_layer, input_shape=(features_train.shape[1], )))\n",
    "    model.add(Activation('relu'))\n",
    "    \n",
    "    model.add(Dropout(dp_rate))\n",
    "    \n",
    "    for nb_units in dense_layer_lst:\n",
    "        model.add(Dense(nb_units))\n",
    "        model.add(Activation('relu'))\n",
    "        model.add(Dropout(dp_rate))\n",
    "        \n",
    "    model.add(Dense(nb_final_layer))\n",
    "    model.add(Activation('sigmoid'))\n",
    "    \n",
    "    model.compile(optimizer=RMSprop(lr=learning_rate),\n",
    "                  loss=binary_crossentropy,\n",
    "                  metrics=[binary_accuracy])\n",
    "    \n",
    "    return model"
   ]
  },
  {
   "cell_type": "markdown",
   "metadata": {},
   "source": [
    "### CB22x - Ancient Greek Hero"
   ]
  },
  {
   "cell_type": "code",
   "execution_count": 6,
   "metadata": {},
   "outputs": [],
   "source": [
    "cb22x_features_train = pd.read_feather('processed-final/HarvardXCB22x2013_Spring_features_train.feather')\n",
    "cb22x_features_test = pd.read_feather('processed-final/HarvardXCB22x2013_Spring_features_test.feather')\n",
    "cb22x_labels_train = pd.read_feather('processed-final/HarvardXCB22x2013_Spring_labels_train.feather')\n",
    "cb22x_labels_test = pd.read_feather('processed-final/HarvardXCB22x2013_Spring_labels_test.feather')"
   ]
  },
  {
   "cell_type": "code",
   "execution_count": 7,
   "metadata": {
    "colab": {},
    "colab_type": "code",
    "id": "9XO-dYsVKXxa"
   },
   "outputs": [],
   "source": [
    "features_train, features_test = cb22x_features_train.drop('index', axis=1), cb22x_features_test.drop('index', axis=1)\n",
    "labels_train, labels_test = cb22x_labels_train.drop('index', axis=1), cb22x_labels_test.drop('index', axis=1)"
   ]
  },
  {
   "cell_type": "code",
   "execution_count": 8,
   "metadata": {
    "colab": {},
    "colab_type": "code",
    "id": "9XO-dYsVKXxa"
   },
   "outputs": [],
   "source": [
    "features_train = np.array(features_train)\n",
    "features_test = np.array(features_test)\n",
    "\n",
    "labels_train = np.array(labels_train).ravel()\n",
    "labels_test = np.array(labels_test).ravel()"
   ]
  },
  {
   "cell_type": "code",
   "execution_count": 9,
   "metadata": {
    "colab": {},
    "colab_type": "code",
    "id": "1KvXXicOKQs9"
   },
   "outputs": [
    {
     "data": {
      "text/plain": [
       "(24001, 18)"
      ]
     },
     "execution_count": 9,
     "metadata": {},
     "output_type": "execute_result"
    }
   ],
   "source": [
    "features_train.shape"
   ]
  },
  {
   "cell_type": "code",
   "execution_count": 10,
   "metadata": {
    "colab": {},
    "colab_type": "code",
    "id": "SDvj7aG0KvX7"
   },
   "outputs": [
    {
     "data": {
      "text/plain": [
       "(24001,)"
      ]
     },
     "execution_count": 10,
     "metadata": {},
     "output_type": "execute_result"
    }
   ],
   "source": [
    "labels_train.shape"
   ]
  },
  {
   "cell_type": "code",
   "execution_count": 46,
   "metadata": {
    "colab": {},
    "colab_type": "code",
    "id": "lKiJbUhQK7GJ"
   },
   "outputs": [],
   "source": [
    "K.clear_session()"
   ]
  },
  {
   "cell_type": "code",
   "execution_count": 47,
   "metadata": {
    "colab": {},
    "colab_type": "code",
    "id": "sKSikRAPLDti"
   },
   "outputs": [
    {
     "name": "stdout",
     "output_type": "stream",
     "text": [
      "_________________________________________________________________\n",
      "Layer (type)                 Output Shape              Param #   \n",
      "=================================================================\n",
      "dense_1 (Dense)              (None, 32)                640       \n",
      "_________________________________________________________________\n",
      "activation_1 (Activation)    (None, 32)                0         \n",
      "_________________________________________________________________\n",
      "dropout_1 (Dropout)          (None, 32)                0         \n",
      "_________________________________________________________________\n",
      "dense_2 (Dense)              (None, 32)                1056      \n",
      "_________________________________________________________________\n",
      "activation_2 (Activation)    (None, 32)                0         \n",
      "_________________________________________________________________\n",
      "dropout_2 (Dropout)          (None, 32)                0         \n",
      "_________________________________________________________________\n",
      "dense_3 (Dense)              (None, 32)                1056      \n",
      "_________________________________________________________________\n",
      "activation_3 (Activation)    (None, 32)                0         \n",
      "_________________________________________________________________\n",
      "dropout_3 (Dropout)          (None, 32)                0         \n",
      "_________________________________________________________________\n",
      "dense_4 (Dense)              (None, 32)                1056      \n",
      "_________________________________________________________________\n",
      "activation_4 (Activation)    (None, 32)                0         \n",
      "_________________________________________________________________\n",
      "dropout_4 (Dropout)          (None, 32)                0         \n",
      "_________________________________________________________________\n",
      "dense_5 (Dense)              (None, 1)                 33        \n",
      "_________________________________________________________________\n",
      "activation_5 (Activation)    (None, 1)                 0         \n",
      "=================================================================\n",
      "Total params: 3,841\n",
      "Trainable params: 3,841\n",
      "Non-trainable params: 0\n",
      "_________________________________________________________________\n"
     ]
    }
   ],
   "source": [
    "model = build(nb_initial_layer=32, dense_layer_lst=[32, 32, 32], dp_rate=0.3, learning_rate=1e-5)\n",
    "model.summary()"
   ]
  },
  {
   "cell_type": "code",
   "execution_count": 48,
   "metadata": {
    "colab": {},
    "colab_type": "code",
    "id": "ip9GBn1KLGEM"
   },
   "outputs": [
    {
     "name": "stdout",
     "output_type": "stream",
     "text": [
      "Train on 108556 samples, validate on 27140 samples\n",
      "Epoch 1/20\n",
      "108556/108556 [==============================] - 3s 23us/step - loss: 2.2622 - binary_accuracy: 0.5344 - val_loss: 1.0604 - val_binary_accuracy: 0.6549\n",
      "Epoch 2/20\n",
      "108556/108556 [==============================] - 2s 19us/step - loss: 1.8580 - binary_accuracy: 0.5551 - val_loss: 0.8931 - val_binary_accuracy: 0.6584\n",
      "Epoch 3/20\n",
      "108556/108556 [==============================] - 2s 19us/step - loss: 1.5657 - binary_accuracy: 0.5586 - val_loss: 0.7930 - val_binary_accuracy: 0.6595\n",
      "Epoch 4/20\n",
      "108556/108556 [==============================] - 2s 19us/step - loss: 1.3612 - binary_accuracy: 0.5590 - val_loss: 0.7374 - val_binary_accuracy: 0.6593\n",
      "Epoch 5/20\n",
      "108556/108556 [==============================] - 2s 18us/step - loss: 1.2074 - binary_accuracy: 0.5568 - val_loss: 0.6987 - val_binary_accuracy: 0.6598\n",
      "Epoch 6/20\n",
      "108556/108556 [==============================] - 2s 19us/step - loss: 1.0755 - binary_accuracy: 0.5587 - val_loss: 0.6738 - val_binary_accuracy: 0.6597\n",
      "Epoch 7/20\n",
      "108556/108556 [==============================] - 2s 22us/step - loss: 1.0004 - binary_accuracy: 0.5581 - val_loss: 0.6628 - val_binary_accuracy: 0.6598\n",
      "Epoch 8/20\n",
      "108556/108556 [==============================] - 2s 21us/step - loss: 0.9258 - binary_accuracy: 0.5595 - val_loss: 0.6585 - val_binary_accuracy: 0.6592\n",
      "Epoch 9/20\n",
      "108556/108556 [==============================] - 3s 23us/step - loss: 0.8752 - binary_accuracy: 0.5623 - val_loss: 0.6594 - val_binary_accuracy: 0.6597\n",
      "Epoch 10/20\n",
      "108556/108556 [==============================] - 2s 22us/step - loss: 0.8364 - binary_accuracy: 0.5634 - val_loss: 0.6614 - val_binary_accuracy: 0.6616\n",
      "Epoch 11/20\n",
      "108556/108556 [==============================] - 2s 20us/step - loss: 0.8063 - binary_accuracy: 0.5696 - val_loss: 0.6626 - val_binary_accuracy: 0.6582\n",
      "Epoch 12/20\n",
      "108556/108556 [==============================] - 2s 19us/step - loss: 0.7825 - binary_accuracy: 0.5720 - val_loss: 0.6631 - val_binary_accuracy: 0.6542\n"
     ]
    }
   ],
   "source": [
    "model_output = model.fit(features_train, labels_train,\n",
    "                         batch_size=128,\n",
    "                         epochs=20,\n",
    "                         validation_split=0.2,\n",
    "                         callbacks=[EarlyStopping(patience=4), ReduceLROnPlateau(patience=4, min_lr=1e-6)])"
   ]
  },
  {
   "cell_type": "code",
   "execution_count": 49,
   "metadata": {},
   "outputs": [],
   "source": [
    "course_metrics['course_name'].append('HarvardCB22x_2013_Spring')\n",
    "course_metrics['val_binary_accuracy'].append(model_output.history['val_binary_accuracy'][-1])\n",
    "course_metrics['test_f1_score'].append(f1_score(model.predict_classes(features_test), labels_test))"
   ]
  },
  {
   "cell_type": "markdown",
   "metadata": {
    "colab_type": "text",
    "id": "ANt42YvTLVMR"
   },
   "source": [
    "### CS50x - Introduction to Compute Science I"
   ]
  },
  {
   "cell_type": "code",
   "execution_count": 41,
   "metadata": {
    "colab": {},
    "colab_type": "code",
    "id": "LZqXXYgUKGvn"
   },
   "outputs": [],
   "source": [
    "cs50x_features_train = pd.read_feather('processed-final/HarvardXCS50x2012_features_train.feather')\n",
    "cs50x_features_test = pd.read_feather('processed-final//HarvardXCS50x2012_features_test.feather')\n",
    "cs50x_labels_train = pd.read_feather('processed-final//HarvardXCS50x2012_labels_train.feather')\n",
    "cs50x_labels_test = pd.read_feather('processed-final//HarvardXCS50x2012_labels_test.feather')"
   ]
  },
  {
   "cell_type": "code",
   "execution_count": 42,
   "metadata": {
    "colab": {},
    "colab_type": "code",
    "id": "9XO-dYsVKXxa"
   },
   "outputs": [],
   "source": [
    "features_train, features_test = cs50x_features_train.drop('index', axis=1), cs50x_features_test.drop('index', axis=1)\n",
    "labels_train, labels_test = cs50x_labels_train.drop('index', axis=1), cs50x_labels_test.drop('index', axis=1)\n",
    "\n",
    "features_train = np.array(features_train)\n",
    "features_test = np.array(features_test)\n",
    "\n",
    "labels_train = np.array(labels_train).ravel()\n",
    "labels_test = np.array(labels_test).ravel()"
   ]
  },
  {
   "cell_type": "code",
   "execution_count": 43,
   "metadata": {
    "colab": {},
    "colab_type": "code",
    "id": "1KvXXicOKQs9"
   },
   "outputs": [
    {
     "data": {
      "text/plain": [
       "(135696, 19)"
      ]
     },
     "execution_count": 43,
     "metadata": {},
     "output_type": "execute_result"
    }
   ],
   "source": [
    "features_train.shape"
   ]
  },
  {
   "cell_type": "code",
   "execution_count": 44,
   "metadata": {
    "colab": {},
    "colab_type": "code",
    "id": "SDvj7aG0KvX7"
   },
   "outputs": [
    {
     "data": {
      "text/plain": [
       "(135696,)"
      ]
     },
     "execution_count": 44,
     "metadata": {},
     "output_type": "execute_result"
    }
   ],
   "source": [
    "labels_train.shape"
   ]
  },
  {
   "cell_type": "code",
   "execution_count": 64,
   "metadata": {
    "colab": {},
    "colab_type": "code",
    "id": "lKiJbUhQK7GJ"
   },
   "outputs": [],
   "source": [
    "K.clear_session()"
   ]
  },
  {
   "cell_type": "code",
   "execution_count": 65,
   "metadata": {
    "colab": {},
    "colab_type": "code",
    "id": "sKSikRAPLDti"
   },
   "outputs": [
    {
     "name": "stdout",
     "output_type": "stream",
     "text": [
      "_________________________________________________________________\n",
      "Layer (type)                 Output Shape              Param #   \n",
      "=================================================================\n",
      "dense_1 (Dense)              (None, 32)                640       \n",
      "_________________________________________________________________\n",
      "activation_1 (Activation)    (None, 32)                0         \n",
      "_________________________________________________________________\n",
      "dropout_1 (Dropout)          (None, 32)                0         \n",
      "_________________________________________________________________\n",
      "dense_2 (Dense)              (None, 32)                1056      \n",
      "_________________________________________________________________\n",
      "activation_2 (Activation)    (None, 32)                0         \n",
      "_________________________________________________________________\n",
      "dropout_2 (Dropout)          (None, 32)                0         \n",
      "_________________________________________________________________\n",
      "dense_3 (Dense)              (None, 32)                1056      \n",
      "_________________________________________________________________\n",
      "activation_3 (Activation)    (None, 32)                0         \n",
      "_________________________________________________________________\n",
      "dropout_3 (Dropout)          (None, 32)                0         \n",
      "_________________________________________________________________\n",
      "dense_4 (Dense)              (None, 32)                1056      \n",
      "_________________________________________________________________\n",
      "activation_4 (Activation)    (None, 32)                0         \n",
      "_________________________________________________________________\n",
      "dropout_4 (Dropout)          (None, 32)                0         \n",
      "_________________________________________________________________\n",
      "dense_5 (Dense)              (None, 1)                 33        \n",
      "_________________________________________________________________\n",
      "activation_5 (Activation)    (None, 1)                 0         \n",
      "=================================================================\n",
      "Total params: 3,841\n",
      "Trainable params: 3,841\n",
      "Non-trainable params: 0\n",
      "_________________________________________________________________\n"
     ]
    }
   ],
   "source": [
    "model = build(nb_initial_layer=32, dense_layer_lst=[32, 32, 32], dp_rate=0, learning_rate=1e-5)\n",
    "model.summary()"
   ]
  },
  {
   "cell_type": "code",
   "execution_count": 66,
   "metadata": {
    "colab": {},
    "colab_type": "code",
    "id": "ip9GBn1KLGEM"
   },
   "outputs": [
    {
     "name": "stdout",
     "output_type": "stream",
     "text": [
      "Train on 108556 samples, validate on 27140 samples\n",
      "Epoch 1/100\n",
      "108556/108556 [==============================] - 2s 15us/step - loss: 1.0187 - binary_accuracy: 0.4570 - val_loss: 0.6634 - val_binary_accuracy: 0.6301\n",
      "Epoch 2/100\n",
      "108556/108556 [==============================] - 1s 12us/step - loss: 0.6369 - binary_accuracy: 0.6521 - val_loss: 0.6265 - val_binary_accuracy: 0.6567\n",
      "Epoch 3/100\n",
      "108556/108556 [==============================] - 1s 12us/step - loss: 0.6252 - binary_accuracy: 0.6603 - val_loss: 0.6232 - val_binary_accuracy: 0.6592\n",
      "Epoch 4/100\n",
      "108556/108556 [==============================] - 1s 13us/step - loss: 0.6234 - binary_accuracy: 0.6623 - val_loss: 0.6211 - val_binary_accuracy: 0.6597\n",
      "Epoch 5/100\n",
      "108556/108556 [==============================] - 1s 12us/step - loss: 0.6224 - binary_accuracy: 0.6625 - val_loss: 0.6216 - val_binary_accuracy: 0.6606\n",
      "Epoch 6/100\n",
      "108556/108556 [==============================] - 1s 13us/step - loss: 0.6216 - binary_accuracy: 0.6628 - val_loss: 0.6197 - val_binary_accuracy: 0.6611\n",
      "Epoch 7/100\n",
      "108556/108556 [==============================] - 1s 13us/step - loss: 0.6210 - binary_accuracy: 0.6632 - val_loss: 0.6188 - val_binary_accuracy: 0.6618\n",
      "Epoch 8/100\n",
      "108556/108556 [==============================] - 1s 12us/step - loss: 0.6203 - binary_accuracy: 0.6631 - val_loss: 0.6180 - val_binary_accuracy: 0.6615\n",
      "Epoch 9/100\n",
      "108556/108556 [==============================] - 1s 12us/step - loss: 0.6197 - binary_accuracy: 0.6635 - val_loss: 0.6175 - val_binary_accuracy: 0.6617\n",
      "Epoch 10/100\n",
      "108556/108556 [==============================] - 1s 12us/step - loss: 0.6190 - binary_accuracy: 0.6636 - val_loss: 0.6168 - val_binary_accuracy: 0.6622\n",
      "Epoch 11/100\n",
      "108556/108556 [==============================] - 1s 13us/step - loss: 0.6185 - binary_accuracy: 0.6640 - val_loss: 0.6163 - val_binary_accuracy: 0.6629\n",
      "Epoch 12/100\n",
      "108556/108556 [==============================] - 1s 12us/step - loss: 0.6179 - binary_accuracy: 0.6640 - val_loss: 0.6157 - val_binary_accuracy: 0.6631\n",
      "Epoch 13/100\n",
      "108556/108556 [==============================] - 1s 12us/step - loss: 0.6173 - binary_accuracy: 0.6648 - val_loss: 0.6158 - val_binary_accuracy: 0.6637\n",
      "Epoch 14/100\n",
      "108556/108556 [==============================] - 2s 14us/step - loss: 0.6168 - binary_accuracy: 0.6650 - val_loss: 0.6148 - val_binary_accuracy: 0.6664\n",
      "Epoch 15/100\n",
      "108556/108556 [==============================] - 2s 14us/step - loss: 0.6163 - binary_accuracy: 0.6653 - val_loss: 0.6144 - val_binary_accuracy: 0.6637\n",
      "Epoch 16/100\n",
      "108556/108556 [==============================] - 1s 13us/step - loss: 0.6158 - binary_accuracy: 0.6657 - val_loss: 0.6137 - val_binary_accuracy: 0.6668\n",
      "Epoch 17/100\n",
      "108556/108556 [==============================] - 1s 13us/step - loss: 0.6152 - binary_accuracy: 0.6667 - val_loss: 0.6136 - val_binary_accuracy: 0.6636\n",
      "Epoch 18/100\n",
      "108556/108556 [==============================] - 1s 13us/step - loss: 0.6148 - binary_accuracy: 0.6668 - val_loss: 0.6128 - val_binary_accuracy: 0.6667\n",
      "Epoch 19/100\n",
      "108556/108556 [==============================] - 2s 14us/step - loss: 0.6143 - binary_accuracy: 0.6676 - val_loss: 0.6126 - val_binary_accuracy: 0.6674\n",
      "Epoch 20/100\n",
      "108556/108556 [==============================] - 1s 14us/step - loss: 0.6138 - binary_accuracy: 0.6677 - val_loss: 0.6118 - val_binary_accuracy: 0.6687\n",
      "Epoch 21/100\n",
      "108556/108556 [==============================] - 1s 14us/step - loss: 0.6132 - binary_accuracy: 0.6683 - val_loss: 0.6116 - val_binary_accuracy: 0.6658\n",
      "Epoch 22/100\n",
      "108556/108556 [==============================] - 1s 13us/step - loss: 0.6125 - binary_accuracy: 0.6682 - val_loss: 0.6106 - val_binary_accuracy: 0.6674\n",
      "Epoch 23/100\n",
      "108556/108556 [==============================] - 1s 13us/step - loss: 0.6118 - binary_accuracy: 0.6702 - val_loss: 0.6105 - val_binary_accuracy: 0.6674\n",
      "Epoch 24/100\n",
      "108556/108556 [==============================] - 1s 14us/step - loss: 0.6113 - binary_accuracy: 0.6715 - val_loss: 0.6105 - val_binary_accuracy: 0.6708\n",
      "Epoch 25/100\n",
      "108556/108556 [==============================] - 2s 14us/step - loss: 0.6108 - binary_accuracy: 0.6733 - val_loss: 0.6092 - val_binary_accuracy: 0.6732\n",
      "Epoch 26/100\n",
      "108556/108556 [==============================] - 1s 13us/step - loss: 0.6103 - binary_accuracy: 0.6733 - val_loss: 0.6086 - val_binary_accuracy: 0.6752\n",
      "Epoch 27/100\n",
      "108556/108556 [==============================] - 1s 14us/step - loss: 0.6098 - binary_accuracy: 0.6741 - val_loss: 0.6084 - val_binary_accuracy: 0.6740\n",
      "Epoch 28/100\n",
      "108556/108556 [==============================] - 1s 14us/step - loss: 0.6094 - binary_accuracy: 0.6749 - val_loss: 0.6077 - val_binary_accuracy: 0.6752\n",
      "Epoch 29/100\n",
      "108556/108556 [==============================] - 1s 14us/step - loss: 0.6090 - binary_accuracy: 0.6752 - val_loss: 0.6073 - val_binary_accuracy: 0.6763\n",
      "Epoch 30/100\n",
      "108556/108556 [==============================] - 1s 12us/step - loss: 0.6086 - binary_accuracy: 0.6756 - val_loss: 0.6071 - val_binary_accuracy: 0.6762\n",
      "Epoch 31/100\n",
      "108556/108556 [==============================] - 1s 13us/step - loss: 0.6083 - binary_accuracy: 0.6764 - val_loss: 0.6066 - val_binary_accuracy: 0.6779\n",
      "Epoch 32/100\n",
      "108556/108556 [==============================] - 1s 13us/step - loss: 0.6079 - binary_accuracy: 0.6767 - val_loss: 0.6062 - val_binary_accuracy: 0.6775\n",
      "Epoch 33/100\n",
      "108556/108556 [==============================] - 1s 14us/step - loss: 0.6075 - binary_accuracy: 0.6760 - val_loss: 0.6061 - val_binary_accuracy: 0.6783\n",
      "Epoch 34/100\n",
      "108556/108556 [==============================] - 2s 14us/step - loss: 0.6072 - binary_accuracy: 0.6769 - val_loss: 0.6061 - val_binary_accuracy: 0.6797\n",
      "Epoch 35/100\n",
      "108556/108556 [==============================] - 1s 13us/step - loss: 0.6070 - binary_accuracy: 0.6774 - val_loss: 0.6053 - val_binary_accuracy: 0.6794\n",
      "Epoch 36/100\n",
      "108556/108556 [==============================] - 1s 13us/step - loss: 0.6067 - binary_accuracy: 0.6772 - val_loss: 0.6052 - val_binary_accuracy: 0.6787\n",
      "Epoch 37/100\n",
      "108556/108556 [==============================] - 2s 15us/step - loss: 0.6064 - binary_accuracy: 0.6778 - val_loss: 0.6049 - val_binary_accuracy: 0.6815\n",
      "Epoch 38/100\n",
      "108556/108556 [==============================] - 2s 16us/step - loss: 0.6061 - binary_accuracy: 0.6787 - val_loss: 0.6047 - val_binary_accuracy: 0.6797\n",
      "Epoch 39/100\n",
      "108556/108556 [==============================] - 2s 16us/step - loss: 0.6059 - binary_accuracy: 0.6781 - val_loss: 0.6044 - val_binary_accuracy: 0.6805\n",
      "Epoch 40/100\n",
      "108556/108556 [==============================] - 1s 13us/step - loss: 0.6057 - binary_accuracy: 0.6784 - val_loss: 0.6041 - val_binary_accuracy: 0.6811\n",
      "Epoch 41/100\n",
      "108556/108556 [==============================] - 1s 13us/step - loss: 0.6054 - binary_accuracy: 0.6786 - val_loss: 0.6039 - val_binary_accuracy: 0.6807\n",
      "Epoch 42/100\n",
      "108556/108556 [==============================] - 1s 12us/step - loss: 0.6052 - binary_accuracy: 0.6785 - val_loss: 0.6042 - val_binary_accuracy: 0.6811\n",
      "Epoch 43/100\n",
      "108556/108556 [==============================] - 2s 15us/step - loss: 0.6050 - binary_accuracy: 0.6784 - val_loss: 0.6047 - val_binary_accuracy: 0.6800\n",
      "Epoch 44/100\n",
      "108556/108556 [==============================] - 2s 14us/step - loss: 0.6048 - binary_accuracy: 0.6786 - val_loss: 0.6036 - val_binary_accuracy: 0.6804\n",
      "Epoch 45/100\n",
      "108556/108556 [==============================] - 2s 14us/step - loss: 0.6046 - binary_accuracy: 0.6789 - val_loss: 0.6037 - val_binary_accuracy: 0.6800\n",
      "Epoch 46/100\n",
      "108556/108556 [==============================] - 1s 14us/step - loss: 0.6044 - binary_accuracy: 0.6790 - val_loss: 0.6034 - val_binary_accuracy: 0.6824\n",
      "Epoch 47/100\n",
      "108556/108556 [==============================] - 2s 14us/step - loss: 0.6042 - binary_accuracy: 0.6796 - val_loss: 0.6029 - val_binary_accuracy: 0.6820\n",
      "Epoch 48/100\n",
      "108556/108556 [==============================] - 2s 15us/step - loss: 0.6041 - binary_accuracy: 0.6795 - val_loss: 0.6027 - val_binary_accuracy: 0.6821\n",
      "Epoch 49/100\n",
      "108556/108556 [==============================] - 2s 14us/step - loss: 0.6040 - binary_accuracy: 0.6797 - val_loss: 0.6028 - val_binary_accuracy: 0.6815\n",
      "Epoch 50/100\n"
     ]
    },
    {
     "name": "stdout",
     "output_type": "stream",
     "text": [
      "108556/108556 [==============================] - 1s 12us/step - loss: 0.6038 - binary_accuracy: 0.6795 - val_loss: 0.6023 - val_binary_accuracy: 0.6820\n",
      "Epoch 51/100\n",
      "108556/108556 [==============================] - 1s 12us/step - loss: 0.6036 - binary_accuracy: 0.6801 - val_loss: 0.6027 - val_binary_accuracy: 0.6809\n",
      "Epoch 52/100\n",
      "108556/108556 [==============================] - 1s 11us/step - loss: 0.6035 - binary_accuracy: 0.6797 - val_loss: 0.6022 - val_binary_accuracy: 0.6818\n",
      "Epoch 53/100\n",
      "108556/108556 [==============================] - 1s 13us/step - loss: 0.6033 - binary_accuracy: 0.6804 - val_loss: 0.6021 - val_binary_accuracy: 0.6822\n",
      "Epoch 54/100\n",
      "108556/108556 [==============================] - 1s 12us/step - loss: 0.6032 - binary_accuracy: 0.6799 - val_loss: 0.6020 - val_binary_accuracy: 0.6815\n",
      "Epoch 55/100\n",
      "108556/108556 [==============================] - 1s 11us/step - loss: 0.6030 - binary_accuracy: 0.6804 - val_loss: 0.6025 - val_binary_accuracy: 0.6810\n",
      "Epoch 56/100\n",
      "108556/108556 [==============================] - 1s 11us/step - loss: 0.6030 - binary_accuracy: 0.6800 - val_loss: 0.6015 - val_binary_accuracy: 0.6818\n",
      "Epoch 57/100\n",
      "108556/108556 [==============================] - 1s 11us/step - loss: 0.6028 - binary_accuracy: 0.6799 - val_loss: 0.6015 - val_binary_accuracy: 0.6807\n",
      "Epoch 58/100\n",
      "108556/108556 [==============================] - 1s 13us/step - loss: 0.6027 - binary_accuracy: 0.6802 - val_loss: 0.6012 - val_binary_accuracy: 0.6821\n",
      "Epoch 59/100\n",
      "108556/108556 [==============================] - 1s 11us/step - loss: 0.6025 - binary_accuracy: 0.6807 - val_loss: 0.6015 - val_binary_accuracy: 0.6810\n",
      "Epoch 60/100\n",
      "108556/108556 [==============================] - 1s 11us/step - loss: 0.6024 - binary_accuracy: 0.6800 - val_loss: 0.6024 - val_binary_accuracy: 0.6812\n",
      "Epoch 61/100\n",
      "108556/108556 [==============================] - 1s 13us/step - loss: 0.6023 - binary_accuracy: 0.6807 - val_loss: 0.6013 - val_binary_accuracy: 0.6814\n",
      "Epoch 62/100\n",
      "108556/108556 [==============================] - 2s 15us/step - loss: 0.6022 - binary_accuracy: 0.6805 - val_loss: 0.6010 - val_binary_accuracy: 0.6813\n",
      "Epoch 63/100\n",
      "108556/108556 [==============================] - 2s 15us/step - loss: 0.6020 - binary_accuracy: 0.6808 - val_loss: 0.6013 - val_binary_accuracy: 0.6811\n",
      "Epoch 64/100\n",
      "108556/108556 [==============================] - ETA: 0s - loss: 0.6022 - binary_accuracy: 0.680 - 1s 12us/step - loss: 0.6020 - binary_accuracy: 0.6806 - val_loss: 0.6008 - val_binary_accuracy: 0.6813\n",
      "Epoch 65/100\n",
      "108556/108556 [==============================] - 1s 13us/step - loss: 0.6019 - binary_accuracy: 0.6805 - val_loss: 0.6008 - val_binary_accuracy: 0.6812\n",
      "Epoch 66/100\n",
      "108556/108556 [==============================] - 1s 12us/step - loss: 0.6018 - binary_accuracy: 0.6808 - val_loss: 0.6005 - val_binary_accuracy: 0.6825\n",
      "Epoch 67/100\n",
      "108556/108556 [==============================] - 1s 13us/step - loss: 0.6017 - binary_accuracy: 0.6809 - val_loss: 0.6003 - val_binary_accuracy: 0.6828\n",
      "Epoch 68/100\n",
      "108556/108556 [==============================] - 2s 15us/step - loss: 0.6016 - binary_accuracy: 0.6810 - val_loss: 0.6004 - val_binary_accuracy: 0.6825\n",
      "Epoch 69/100\n",
      "108556/108556 [==============================] - 2s 17us/step - loss: 0.6015 - binary_accuracy: 0.6811 - val_loss: 0.6008 - val_binary_accuracy: 0.6817\n",
      "Epoch 70/100\n",
      "108556/108556 [==============================] - 2s 14us/step - loss: 0.6014 - binary_accuracy: 0.6811 - val_loss: 0.6003 - val_binary_accuracy: 0.6834\n",
      "Epoch 71/100\n",
      "108556/108556 [==============================] - 2s 14us/step - loss: 0.6014 - binary_accuracy: 0.6812 - val_loss: 0.6008 - val_binary_accuracy: 0.6835\n",
      "Epoch 72/100\n",
      "108556/108556 [==============================] - 2s 14us/step - loss: 0.6011 - binary_accuracy: 0.6818 - val_loss: 0.6001 - val_binary_accuracy: 0.6827\n",
      "Epoch 73/100\n",
      "108556/108556 [==============================] - 1s 13us/step - loss: 0.6010 - binary_accuracy: 0.6814 - val_loss: 0.6001 - val_binary_accuracy: 0.6830\n",
      "Epoch 74/100\n",
      "108556/108556 [==============================] - 1s 12us/step - loss: 0.6010 - binary_accuracy: 0.6814 - val_loss: 0.6000 - val_binary_accuracy: 0.6823\n",
      "Epoch 75/100\n",
      "108556/108556 [==============================] - 2s 15us/step - loss: 0.6010 - binary_accuracy: 0.6814 - val_loss: 0.6000 - val_binary_accuracy: 0.6826\n",
      "Epoch 76/100\n",
      "108556/108556 [==============================] - 1s 13us/step - loss: 0.6010 - binary_accuracy: 0.6815 - val_loss: 0.6000 - val_binary_accuracy: 0.6827\n",
      "Epoch 77/100\n",
      "108556/108556 [==============================] - 1s 14us/step - loss: 0.6010 - binary_accuracy: 0.6814 - val_loss: 0.6000 - val_binary_accuracy: 0.6825\n",
      "Epoch 78/100\n",
      "108556/108556 [==============================] - 2s 15us/step - loss: 0.6010 - binary_accuracy: 0.6815 - val_loss: 0.6000 - val_binary_accuracy: 0.6819\n",
      "Epoch 79/100\n",
      "108556/108556 [==============================] - 2s 14us/step - loss: 0.6010 - binary_accuracy: 0.6814 - val_loss: 0.6000 - val_binary_accuracy: 0.6817\n"
     ]
    }
   ],
   "source": [
    "model_output = model.fit(features_train, labels_train,\n",
    "                         batch_size=128,\n",
    "                         epochs=100,\n",
    "                         validation_split=0.2,\n",
    "                         callbacks=[EarlyStopping(patience=4), ReduceLROnPlateau(patience=4, min_lr=1e-6)])"
   ]
  },
  {
   "cell_type": "code",
   "execution_count": 67,
   "metadata": {},
   "outputs": [],
   "source": [
    "course_metrics['course_name'].append('HarvardCB50x_2012')\n",
    "course_metrics['val_binary_accuracy'].append(model_output.history['val_binary_accuracy'][-1])\n",
    "course_metrics['test_f1_score'].append(f1_score(model.predict_classes(features_test), labels_test))"
   ]
  },
  {
   "cell_type": "markdown",
   "metadata": {},
   "source": [
    "### ER22x - Justice"
   ]
  },
  {
   "cell_type": "code",
   "execution_count": 68,
   "metadata": {},
   "outputs": [],
   "source": [
    "er22x_features_train = pd.read_feather('processed-final/HarvardXER22x2013_Spring_features_train.feather')\n",
    "er22x_features_test = pd.read_feather('processed-final/HarvardXER22x2013_Spring_features_test.feather')\n",
    "er22x_labels_train = pd.read_feather('processed-final/HarvardXER22x2013_Spring_labels_train.feather')\n",
    "er22x_labels_test = pd.read_feather('processed-final/HarvardXER22x2013_Spring_labels_test.feather')"
   ]
  },
  {
   "cell_type": "code",
   "execution_count": null,
   "metadata": {},
   "outputs": [],
   "source": [
    "features_train, features_test = er22x_features_train.drop('index', axis=1), er22x_features_test.drop('index', axis=1)\n",
    "labels_train, labels_test = er22x_labels_train.drop('index', axis=1), er22x_labels_test.drop('index', axis=1)"
   ]
  },
  {
   "cell_type": "code",
   "execution_count": null,
   "metadata": {},
   "outputs": [],
   "source": [
    "features_train = np.array(features_train)\n",
    "features_test = np.array(features_test)\n",
    "\n",
    "labels_train = np.array(labels_train).ravel()\n",
    "labels_test = np.array(labels_test).ravel()"
   ]
  }
 ],
 "metadata": {
  "accelerator": "GPU",
  "colab": {
   "collapsed_sections": [],
   "name": "2018-06-13_mooc-analysis.ipynb",
   "private_outputs": true,
   "provenance": [],
   "version": "0.3.2"
  },
  "kernelspec": {
   "display_name": "Python 3",
   "language": "python",
   "name": "python3"
  },
  "language_info": {
   "codemirror_mode": {
    "name": "ipython",
    "version": 3
   },
   "file_extension": ".py",
   "mimetype": "text/x-python",
   "name": "python",
   "nbconvert_exporter": "python",
   "pygments_lexer": "ipython3",
   "version": "3.6.5"
  }
 },
 "nbformat": 4,
 "nbformat_minor": 1
}
